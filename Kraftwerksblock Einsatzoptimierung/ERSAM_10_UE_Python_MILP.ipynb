{
 "cells": [
  {
   "cell_type": "markdown",
   "metadata": {},
   "source": [
    "# UE 10\n"
   ]
  },
  {
   "cell_type": "code",
   "execution_count": 1,
   "metadata": {
    "collapsed": false,
    "jupyter": {
     "outputs_hidden": false
    }
   },
   "outputs": [
    {
     "name": "stdout",
     "output_type": "stream",
     "text": [
      "Hello World!\n"
     ]
    }
   ],
   "source": [
    "print (\"Hello World!\")"
   ]
  },
  {
   "cell_type": "code",
   "execution_count": 2,
   "metadata": {
    "collapsed": true,
    "jupyter": {
     "outputs_hidden": true
    }
   },
   "outputs": [],
   "source": [
    "#Import Packages\n",
    "from gurobipy import *"
   ]
  },
  {
   "cell_type": "markdown",
   "metadata": {},
   "source": [
    "Definition des Modells"
   ]
  },
  {
   "cell_type": "code",
   "execution_count": 3,
   "metadata": {
    "collapsed": true,
    "jupyter": {
     "outputs_hidden": true
    }
   },
   "outputs": [],
   "source": [
    "Kraftwerksmodell = Model(\"Kraftwerkseinsatz\")"
   ]
  },
  {
   "cell_type": "code",
   "execution_count": 4,
   "metadata": {
    "collapsed": true,
    "jupyter": {
     "outputs_hidden": true
    }
   },
   "outputs": [],
   "source": [
    "#Definition der Variablen\n",
    "x1 = Kraftwerksmodell.addVar(vtype=GRB.CONTINUOUS, name=\"Kraftwerkseinsatz 1\")\n",
    "x2 = Kraftwerksmodell.addVar(vtype=GRB.CONTINUOUS, name=\"Kraftwerkseinsatz 2\")\n",
    "x3 = Kraftwerksmodell.addVar(vtype=GRB.BINARY, name=\"Kraftwerk 1 läuft\")\n",
    "x4 = Kraftwerksmodell.addVar(vtype=GRB.BINARY, name=\"Kraftwerk 2 läuft\")\n",
    "z1 = Kraftwerksmodell.addVar(vtype=GRB.BINARY, name=\"Hilfsvariable 1 Kraftwerksprüfung\")\n",
    "z2 = Kraftwerksmodell.addVar(vtype=GRB.BINARY, name=\"Hilfsvariable 2 Kraftwerksprüfung\")"
   ]
  },
  {
   "cell_type": "code",
   "execution_count": 5,
   "metadata": {
    "collapsed": true,
    "jupyter": {
     "outputs_hidden": true
    }
   },
   "outputs": [],
   "source": [
    "BIG = 100000.0"
   ]
  },
  {
   "cell_type": "code",
   "execution_count": 6,
   "metadata": {
    "collapsed": true,
    "jupyter": {
     "outputs_hidden": true
    }
   },
   "outputs": [],
   "source": [
    "#Objective\n",
    "Kraftwerksmodell.setObjective(150*x3+60*x1+80*x2+125*x4, GRB.MINIMIZE)"
   ]
  },
  {
   "cell_type": "code",
   "execution_count": 7,
   "metadata": {
    "collapsed": true,
    "jupyter": {
     "outputs_hidden": true
    }
   },
   "outputs": [],
   "source": [
    "#Definition der Nebenbedingungen\n",
    "#c1 = Kraftwerksmodell.addConstr(x1>=25, \"Minimum KW1\")\n",
    "#c2 = Kraftwerksmodell.addConstr(x2>=15, \"Minimum KW2\")\n",
    "c3 = Kraftwerksmodell.addConstr(x1<=100, \"Maximum KW1\")\n",
    "c4 = Kraftwerksmodell.addConstr(x2<=50, \"Maximum KW2\")\n",
    "#c5 = Kraftwerksmodell.addConstr(x1+x2<=170, \"Maximum gesamt\")\n",
    "c6 = Kraftwerksmodell.addConstr(x1+x2==120, \"Minimum gesamt\")\n",
    "#c7 = Kraftwerksmodell.addConstr(x1>=0, \"Nichtnegativität\")\n",
    "#c8 = Kraftwerksmodell.addConstr(x2>=0, \"Nichtnegativität\")"
   ]
  },
  {
   "cell_type": "code",
   "execution_count": 8,
   "metadata": {
    "collapsed": true,
    "jupyter": {
     "outputs_hidden": true
    }
   },
   "outputs": [],
   "source": [
    "#Definition der Nebenbedingungen \"Prüfung ob Kraftwerk läuft\"\n",
    "c9 = Kraftwerksmodell.addConstr(x1-1<=BIG*(1-z1),\"Prüfung KW1\")\n",
    "c10 = Kraftwerksmodell.addConstr(-x3+1<=BIG*z1,\"Prüfung KW1\")\n",
    "c11 = Kraftwerksmodell.addConstr(x2-1<=BIG*(1-z2),\"Prüfung KW2\")\n",
    "c12 = Kraftwerksmodell.addConstr(-x4+1<=BIG*z2,\"Prüfung KW2\")"
   ]
  },
  {
   "cell_type": "code",
   "execution_count": 9,
   "metadata": {
    "collapsed": false,
    "jupyter": {
     "outputs_hidden": false
    }
   },
   "outputs": [
    {
     "name": "stdout",
     "output_type": "stream",
     "text": [
      "Optimize a model with 7 rows, 6 columns and 12 nonzeros\n",
      "Variable types: 2 continuous, 4 integer (4 binary)\n",
      "Coefficient statistics:\n",
      "  Matrix range     [1e+00, 1e+05]\n",
      "  Objective range  [6e+01, 2e+02]\n",
      "  Bounds range     [1e+00, 1e+00]\n",
      "  RHS range        [1e+00, 1e+05]\n",
      "Presolve removed 7 rows and 6 columns\n",
      "Presolve time: 0.00s\n",
      "Presolve: All rows and columns removed\n",
      "\n",
      "Explored 0 nodes (0 simplex iterations) in 0.02 seconds\n",
      "Thread count was 1 (of 4 available processors)\n",
      "\n",
      "Solution count 1: 7875 \n",
      "\n",
      "Optimal solution found (tolerance 1.00e-04)\n",
      "Best objective 7.875000000000e+03, best bound 7.875000000000e+03, gap 0.0000%\n"
     ]
    }
   ],
   "source": [
    "#Optimierung\n",
    "Kraftwerksmodell.optimize()"
   ]
  },
  {
   "cell_type": "code",
   "execution_count": 101,
   "metadata": {
    "collapsed": false,
    "jupyter": {
     "outputs_hidden": false
    }
   },
   "outputs": [
    {
     "name": "stdout",
     "output_type": "stream",
     "text": [
      "\n",
      "    Variable            X \n",
      "-------------------------\n",
      "Kraftwerkseinsatz 1          100 \n",
      "Kraftwerkseinsatz 2           20 \n",
      "Kraftwerk 1 läuft            1 \n",
      "Kraftwerk 2 läuft            1 \n",
      "7875.0\n"
     ]
    }
   ],
   "source": [
    "Kraftwerksmodell.printAttr('X')\n",
    "print(Kraftwerksmodell.objVal)"
   ]
  },
  {
   "cell_type": "code",
   "execution_count": null,
   "metadata": {
    "collapsed": true,
    "jupyter": {
     "outputs_hidden": true
    }
   },
   "outputs": [],
   "source": []
  }
 ],
 "metadata": {
  "anaconda-cloud": {},
  "kernelspec": {
   "display_name": "Python 3",
   "language": "python",
   "name": "python3"
  },
  "language_info": {
   "codemirror_mode": {
    "name": "ipython",
    "version": 3
   },
   "file_extension": ".py",
   "mimetype": "text/x-python",
   "name": "python",
   "nbconvert_exporter": "python",
   "pygments_lexer": "ipython3",
   "version": "3.7.3"
  }
 },
 "nbformat": 4,
 "nbformat_minor": 4
}
