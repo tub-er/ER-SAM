{
 "cells": [
  {
   "cell_type": "markdown",
   "metadata": {},
   "source": [
    "# UE 10 Strommarktmodell"
   ]
  },
  {
   "cell_type": "code",
   "execution_count": 1,
   "metadata": {},
   "outputs": [],
   "source": [
    "#Import Packages\n",
    "from gurobipy import *\n",
    "import numpy as np\n",
    "import pandas as pd \n",
    "\n",
    "import matplotlib.pyplot as plt"
   ]
  },
  {
   "cell_type": "markdown",
   "metadata": {},
   "source": [
    "## Modell Kraftwerkseinsatz\n"
   ]
  },
  {
   "cell_type": "markdown",
   "metadata": {},
   "source": [
    "#### Grundlegende Parameter der Kraftwerke und der Nachfrage"
   ]
  },
  {
   "cell_type": "code",
   "execution_count": 2,
   "metadata": {
    "scrolled": true
   },
   "outputs": [],
   "source": [
    "#Definition der Parameter des Modells\n",
    "#Nachfrage\n",
    "\n",
    "#Leistung der Kraftwerke\n",
    "\n",
    "\n",
    "#Kosten der Kraftwerke\n",
    "\n"
   ]
  },
  {
   "cell_type": "markdown",
   "metadata": {},
   "source": [
    "#### 1. Weiterentwicklung des Modells: \n",
    "- Zusätzliches berücksichtigen von Kraftwerksemissionen"
   ]
  },
  {
   "cell_type": "code",
   "execution_count": null,
   "metadata": {},
   "outputs": [],
   "source": [
    "#Einfügen von Emissionen (https://www.volker-quaschning.de/datserv/CO2-spez/index.php)\n",
    "#Annahme: Ein Steinkohle und ein Gaskraftwerk\n",
    "\n",
    "#CO2-Kosten für Zertifikate\n"
   ]
  },
  {
   "cell_type": "markdown",
   "metadata": {},
   "source": [
    "#### 2. Weiterentwicklung des Modells: \n",
    "- Erweiterung auf mehrere Perioden mittels der Nachfrage"
   ]
  },
  {
   "cell_type": "code",
   "execution_count": 3,
   "metadata": {},
   "outputs": [],
   "source": [
    "#Definition der Parameter des Modells für mehrere Perioden\n",
    "#Nachfrage\n"
   ]
  },
  {
   "cell_type": "markdown",
   "metadata": {},
   "source": [
    "### Anlegen des Modells"
   ]
  },
  {
   "cell_type": "code",
   "execution_count": 4,
   "metadata": {},
   "outputs": [],
   "source": [
    "#Create Model\n"
   ]
  },
  {
   "cell_type": "markdown",
   "metadata": {},
   "source": [
    "### Add Variables"
   ]
  },
  {
   "cell_type": "code",
   "execution_count": 6,
   "metadata": {},
   "outputs": [],
   "source": [
    "# Definition der Variablen\n",
    "# start with KW1\n",
    "x1 = M.addVar()\n",
    "\n",
    "# continue with KW2\n",
    "x2 = M.addVar()\n"
   ]
  },
  {
   "cell_type": "markdown",
   "metadata": {},
   "source": [
    "#### Zusätzliches berücksichtigen von Kraftwerksemissionen"
   ]
  },
  {
   "cell_type": "code",
   "execution_count": 7,
   "metadata": {},
   "outputs": [],
   "source": [
    "#Variablen für die Emissionen\n",
    "#Gesamt-CO2-emissionen\n",
    "\n",
    "#CO2 Emissionen von Kraftwerk 1 in Periode 1-5\n",
    "\n",
    "#CO2 Emissionen von Kraftwerk 2 in Periode 1-5\n"
   ]
  },
  {
   "cell_type": "markdown",
   "metadata": {},
   "source": [
    "### Add Constraints"
   ]
  },
  {
   "cell_type": "code",
   "execution_count": null,
   "metadata": {},
   "outputs": [],
   "source": [
    "#Definition der Nebenbedingungen\n",
    "\n",
    "#Minimale Leistung der Krafwerke\n",
    "\n",
    "#Maximale Leistung der Krafwerke\n",
    "\n",
    "#Nachfrage\n",
    "\n",
    "#Nichtnegativität\n"
   ]
  },
  {
   "cell_type": "code",
   "execution_count": null,
   "metadata": {},
   "outputs": [],
   "source": [
    "#Definition der Nebenbedingungen für folgende Perioden\n"
   ]
  },
  {
   "cell_type": "markdown",
   "metadata": {},
   "source": [
    "#### Emissionslimit einführen"
   ]
  },
  {
   "cell_type": "code",
   "execution_count": null,
   "metadata": {},
   "outputs": [],
   "source": []
  },
  {
   "cell_type": "markdown",
   "metadata": {},
   "source": [
    "### Set Objective"
   ]
  },
  {
   "cell_type": "code",
   "execution_count": null,
   "metadata": {},
   "outputs": [],
   "source": [
    "#Aufstellen der Zielfunktion\n",
    "#Minimierung der Kosten\n",
    "#Option A) Einperiodige Betrachtung ohne CO2-Emissionen\n",
    "\n",
    "#Option B) Betrachtung über mehrere Perioden\n",
    "\n",
    "# Zusätzliche Berücksichtigung der CO2-Emissionen               \n"
   ]
  },
  {
   "cell_type": "markdown",
   "metadata": {},
   "source": [
    "### Modell optimieren"
   ]
  },
  {
   "cell_type": "code",
   "execution_count": null,
   "metadata": {},
   "outputs": [],
   "source": []
  },
  {
   "cell_type": "markdown",
   "metadata": {},
   "source": [
    "### Ergebnisse auslesen\n"
   ]
  },
  {
   "cell_type": "code",
   "execution_count": null,
   "metadata": {
    "scrolled": true
   },
   "outputs": [],
   "source": [
    "#Attribute verschieden von Null ausgeben lassen\n",
    "M.printAttr('X')"
   ]
  },
  {
   "cell_type": "code",
   "execution_count": null,
   "metadata": {},
   "outputs": [],
   "source": [
    "## get results from Optimization\n",
    "values = []\n",
    "names = []\n",
    "# objVal = M.objVal\n",
    "\n",
    "for v in M.getVars():\n",
    "    values.append(v.X)\n",
    "    names.append(v.VarName)\n",
    "# return values, objVal\n",
    "results = dict(zip(names, values))"
   ]
  },
  {
   "cell_type": "code",
   "execution_count": null,
   "metadata": {},
   "outputs": [],
   "source": [
    "# set dataframe for results\n",
    "ppusage_df = pd.DataFrame(index=np.arange(0,5,1), columns=['usage KW 1', 'usage KW 2'], data={'usage KW 1':values[:5],\n",
    "                                                                                              'usage KW 2':values[5:10]\n",
    "                                                                                             }\n",
    "                         )\n",
    "\n",
    "emissions_df = pd.DataFrame(index=np.arange(0,5,1), columns=['emissions KW 1', 'emissions KW 2'], data={'emissions KW 1':values[11:16],\n",
    "                                                                                                        'emissions KW 2':values[16:]\n",
    "                                                                                                       }\n",
    "                           )"
   ]
  },
  {
   "cell_type": "code",
   "execution_count": null,
   "metadata": {},
   "outputs": [],
   "source": [
    "# visualize results, start with PP usage\n",
    "ppusage_df.plot.area(stacked=True)\n",
    "plt.show()"
   ]
  },
  {
   "cell_type": "code",
   "execution_count": null,
   "metadata": {},
   "outputs": [],
   "source": [
    "# visualize results, continue with emissions\n",
    "emissions_df.plot(stacked=True)\n",
    "plt.show()"
   ]
  }
 ],
 "metadata": {
  "anaconda-cloud": {},
  "kernelspec": {
   "display_name": "Python 3 (ipykernel)",
   "language": "python",
   "name": "python3"
  },
  "language_info": {
   "codemirror_mode": {
    "name": "ipython",
    "version": 3
   },
   "file_extension": ".py",
   "mimetype": "text/x-python",
   "name": "python",
   "nbconvert_exporter": "python",
   "pygments_lexer": "ipython3",
   "version": "3.9.10"
  }
 },
 "nbformat": 4,
 "nbformat_minor": 4
}
