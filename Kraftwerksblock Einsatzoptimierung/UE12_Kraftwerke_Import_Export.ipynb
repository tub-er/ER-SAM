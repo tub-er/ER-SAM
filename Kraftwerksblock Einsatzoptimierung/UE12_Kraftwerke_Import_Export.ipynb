{
 "cells": [
  {
   "cell_type": "markdown",
   "metadata": {},
   "source": [
    "# UE 12\n",
    "## Ziele der Übung: \n",
    "\n",
    "### 1. Weiterentwicklund des Modells wiederholen\n",
    "\n",
    "### 2. Import/Export zu anderen Regionen einbauen \n",
    "---"
   ]
  },
  {
   "cell_type": "markdown",
   "metadata": {},
   "source": [
    "#### Bibliotheken einlesen\n",
    "- numpy: \"Numerical Python\" \n",
    "- pandas: Package for Datahandling\n",
    "- gurobipy: Package for linear optimization\n",
    "- matplotlib.pyplot: Package for plotting Data "
   ]
  },
  {
   "cell_type": "code",
   "execution_count": 175,
   "metadata": {},
   "outputs": [],
   "source": [
    "import numpy as np\n",
    "import pandas as pd\n",
    "import matplotlib.pyplot as plt\n",
    "from gurobipy import *"
   ]
  },
  {
   "cell_type": "markdown",
   "metadata": {},
   "source": [
    "#### 1. Residuallast berechnen\n",
    "- Last und EE-Erzeugung aus .csv-Dateien einlesen\n",
    "- in Dataframe speichern und Zeitstempel erstellen\n",
    "- Residuallast berechnet (Last-EE) und in neuem Dataframe speichern\n",
    "- Residuallast plotten"
   ]
  },
  {
   "cell_type": "markdown",
   "metadata": {},
   "source": [
    "### Last"
   ]
  },
  {
   "cell_type": "code",
   "execution_count": 176,
   "metadata": {},
   "outputs": [
    {
     "data": {
      "text/html": [
       "<div>\n",
       "<style scoped>\n",
       "    .dataframe tbody tr th:only-of-type {\n",
       "        vertical-align: middle;\n",
       "    }\n",
       "\n",
       "    .dataframe tbody tr th {\n",
       "        vertical-align: top;\n",
       "    }\n",
       "\n",
       "    .dataframe thead th {\n",
       "        text-align: right;\n",
       "    }\n",
       "</style>\n",
       "<table border=\"1\" class=\"dataframe\">\n",
       "  <thead>\n",
       "    <tr style=\"text-align: right;\">\n",
       "      <th></th>\n",
       "      <th>Datum</th>\n",
       "      <th>Zeit</th>\n",
       "      <th>Wert in MW</th>\n",
       "    </tr>\n",
       "  </thead>\n",
       "  <tbody>\n",
       "    <tr>\n",
       "      <th>35040</th>\n",
       "      <td>31.12.2015</td>\n",
       "      <td>23:00</td>\n",
       "      <td>1632</td>\n",
       "    </tr>\n",
       "    <tr>\n",
       "      <th>35041</th>\n",
       "      <td>31.12.2015</td>\n",
       "      <td>23:15</td>\n",
       "      <td>1760</td>\n",
       "    </tr>\n",
       "    <tr>\n",
       "      <th>35042</th>\n",
       "      <td>31.12.2015</td>\n",
       "      <td>23:30</td>\n",
       "      <td>1648</td>\n",
       "    </tr>\n",
       "    <tr>\n",
       "      <th>35043</th>\n",
       "      <td>31.12.2015</td>\n",
       "      <td>23:45</td>\n",
       "      <td>1792</td>\n",
       "    </tr>\n",
       "    <tr>\n",
       "      <th>35044</th>\n",
       "      <td>31.12.2015</td>\n",
       "      <td>00:00</td>\n",
       "      <td>1664</td>\n",
       "    </tr>\n",
       "  </tbody>\n",
       "</table>\n",
       "</div>"
      ],
      "text/plain": [
       "            Datum   Zeit  Wert in MW\n",
       "35040  31.12.2015  23:00        1632\n",
       "35041  31.12.2015  23:15        1760\n",
       "35042  31.12.2015  23:30        1648\n",
       "35043  31.12.2015  23:45        1792\n",
       "35044  31.12.2015  00:00        1664"
      ]
     },
     "execution_count": 176,
     "metadata": {},
     "output_type": "execute_result"
    }
   ],
   "source": [
    "# Import csv\n",
    "year = 2015\n",
    "path_load = './Input/Load_'+str(year)+'.csv'\n",
    "#path = './Input/Load_2015.csv'\n",
    "\n",
    "# Read from csv\n",
    "df_load = pd.read_csv(path_load, sep=';', decimal=',')\n",
    "df_load.tail()"
   ]
  },
  {
   "cell_type": "code",
   "execution_count": 177,
   "metadata": {},
   "outputs": [
    {
     "data": {
      "text/html": [
       "<div>\n",
       "<style scoped>\n",
       "    .dataframe tbody tr th:only-of-type {\n",
       "        vertical-align: middle;\n",
       "    }\n",
       "\n",
       "    .dataframe tbody tr th {\n",
       "        vertical-align: top;\n",
       "    }\n",
       "\n",
       "    .dataframe thead th {\n",
       "        text-align: right;\n",
       "    }\n",
       "</style>\n",
       "<table border=\"1\" class=\"dataframe\">\n",
       "  <thead>\n",
       "    <tr style=\"text-align: right;\">\n",
       "      <th></th>\n",
       "      <th>Wert in MW</th>\n",
       "    </tr>\n",
       "    <tr>\n",
       "      <th>Timestamp</th>\n",
       "      <th></th>\n",
       "    </tr>\n",
       "  </thead>\n",
       "  <tbody>\n",
       "    <tr>\n",
       "      <th>2015-01-01 00:00:00+00:00</th>\n",
       "      <td>1664</td>\n",
       "    </tr>\n",
       "    <tr>\n",
       "      <th>2015-01-01 00:15:00+00:00</th>\n",
       "      <td>2224</td>\n",
       "    </tr>\n",
       "    <tr>\n",
       "      <th>2015-01-01 00:30:00+00:00</th>\n",
       "      <td>2064</td>\n",
       "    </tr>\n",
       "    <tr>\n",
       "      <th>2015-01-01 00:45:00+00:00</th>\n",
       "      <td>2224</td>\n",
       "    </tr>\n",
       "    <tr>\n",
       "      <th>2015-01-01 01:00:00+00:00</th>\n",
       "      <td>2144</td>\n",
       "    </tr>\n",
       "  </tbody>\n",
       "</table>\n",
       "</div>"
      ],
      "text/plain": [
       "                           Wert in MW\n",
       "Timestamp                            \n",
       "2015-01-01 00:00:00+00:00        1664\n",
       "2015-01-01 00:15:00+00:00        2224\n",
       "2015-01-01 00:30:00+00:00        2064\n",
       "2015-01-01 00:45:00+00:00        2224\n",
       "2015-01-01 01:00:00+00:00        2144"
      ]
     },
     "execution_count": 177,
     "metadata": {},
     "output_type": "execute_result"
    }
   ],
   "source": [
    "# Create column including date and time\n",
    "df_load['Timestamp'] = df_load['Datum']+\" \"+df_load['Zeit']\n",
    "# Create timestamp from column\n",
    "df_load['Timestamp'] = pd.to_datetime(df_load['Timestamp'], utc='Europe/Berlin')\n",
    "# Set index to timestamp\n",
    "df_load.set_index('Timestamp', inplace=True)\n",
    "# Drop columns Datum and Zeit\n",
    "df_load.drop(['Datum','Zeit'], axis=1, inplace=True)\n",
    "df_load.head()"
   ]
  },
  {
   "cell_type": "markdown",
   "metadata": {},
   "source": [
    "### EE-Erzeugung"
   ]
  },
  {
   "cell_type": "code",
   "execution_count": 178,
   "metadata": {},
   "outputs": [
    {
     "data": {
      "text/html": [
       "<div>\n",
       "<style scoped>\n",
       "    .dataframe tbody tr th:only-of-type {\n",
       "        vertical-align: middle;\n",
       "    }\n",
       "\n",
       "    .dataframe tbody tr th {\n",
       "        vertical-align: top;\n",
       "    }\n",
       "\n",
       "    .dataframe thead th {\n",
       "        text-align: right;\n",
       "    }\n",
       "</style>\n",
       "<table border=\"1\" class=\"dataframe\">\n",
       "  <thead>\n",
       "    <tr style=\"text-align: right;\">\n",
       "      <th></th>\n",
       "      <th>cet_cest_timestamp</th>\n",
       "      <th>actual_Solar</th>\n",
       "      <th>actual_wind</th>\n",
       "    </tr>\n",
       "  </thead>\n",
       "  <tbody>\n",
       "    <tr>\n",
       "      <th>35035</th>\n",
       "      <td>2015-12-31T23:45:00+0100</td>\n",
       "      <td>0.0</td>\n",
       "      <td>607.5</td>\n",
       "    </tr>\n",
       "    <tr>\n",
       "      <th>35036</th>\n",
       "      <td>2016-01-01T00:00:00+0100</td>\n",
       "      <td>0.0</td>\n",
       "      <td>600.9</td>\n",
       "    </tr>\n",
       "    <tr>\n",
       "      <th>35037</th>\n",
       "      <td>2016-01-01T00:15:00+0100</td>\n",
       "      <td>0.0</td>\n",
       "      <td>588.0</td>\n",
       "    </tr>\n",
       "    <tr>\n",
       "      <th>35038</th>\n",
       "      <td>2016-01-01T00:30:00+0100</td>\n",
       "      <td>0.0</td>\n",
       "      <td>579.0</td>\n",
       "    </tr>\n",
       "    <tr>\n",
       "      <th>35039</th>\n",
       "      <td>2016-01-01T00:45:00+0100</td>\n",
       "      <td>0.0</td>\n",
       "      <td>573.3</td>\n",
       "    </tr>\n",
       "  </tbody>\n",
       "</table>\n",
       "</div>"
      ],
      "text/plain": [
       "             cet_cest_timestamp  actual_Solar  actual_wind\n",
       "35035  2015-12-31T23:45:00+0100           0.0        607.5\n",
       "35036  2016-01-01T00:00:00+0100           0.0        600.9\n",
       "35037  2016-01-01T00:15:00+0100           0.0        588.0\n",
       "35038  2016-01-01T00:30:00+0100           0.0        579.0\n",
       "35039  2016-01-01T00:45:00+0100           0.0        573.3"
      ]
     },
     "execution_count": 178,
     "metadata": {},
     "output_type": "execute_result"
    }
   ],
   "source": [
    "# Import csv\n",
    "year = 2015\n",
    "path_EE = './Input/EE_gen_'+str(year)+'.csv'\n",
    "# Read from csv\n",
    "df_EE = pd.read_csv(path_EE, sep=';', decimal=',')\n",
    "df_EE.tail()"
   ]
  },
  {
   "cell_type": "code",
   "execution_count": 179,
   "metadata": {},
   "outputs": [
    {
     "data": {
      "text/html": [
       "<div>\n",
       "<style scoped>\n",
       "    .dataframe tbody tr th:only-of-type {\n",
       "        vertical-align: middle;\n",
       "    }\n",
       "\n",
       "    .dataframe tbody tr th {\n",
       "        vertical-align: top;\n",
       "    }\n",
       "\n",
       "    .dataframe thead th {\n",
       "        text-align: right;\n",
       "    }\n",
       "</style>\n",
       "<table border=\"1\" class=\"dataframe\">\n",
       "  <thead>\n",
       "    <tr style=\"text-align: right;\">\n",
       "      <th></th>\n",
       "      <th>actual_Solar</th>\n",
       "      <th>actual_wind</th>\n",
       "    </tr>\n",
       "    <tr>\n",
       "      <th>cet_cest_timestamp</th>\n",
       "      <th></th>\n",
       "      <th></th>\n",
       "    </tr>\n",
       "  </thead>\n",
       "  <tbody>\n",
       "    <tr>\n",
       "      <th>2015-01-01 00:00:00+00:00</th>\n",
       "      <td>0.0</td>\n",
       "      <td>683.4</td>\n",
       "    </tr>\n",
       "    <tr>\n",
       "      <th>2015-01-01 00:15:00+00:00</th>\n",
       "      <td>0.0</td>\n",
       "      <td>692.7</td>\n",
       "    </tr>\n",
       "    <tr>\n",
       "      <th>2015-01-01 00:30:00+00:00</th>\n",
       "      <td>0.0</td>\n",
       "      <td>692.4</td>\n",
       "    </tr>\n",
       "    <tr>\n",
       "      <th>2015-01-01 00:45:00+00:00</th>\n",
       "      <td>0.0</td>\n",
       "      <td>701.1</td>\n",
       "    </tr>\n",
       "    <tr>\n",
       "      <th>2015-01-01 01:00:00+00:00</th>\n",
       "      <td>0.0</td>\n",
       "      <td>711.3</td>\n",
       "    </tr>\n",
       "  </tbody>\n",
       "</table>\n",
       "</div>"
      ],
      "text/plain": [
       "                           actual_Solar  actual_wind\n",
       "cet_cest_timestamp                                  \n",
       "2015-01-01 00:00:00+00:00           0.0        683.4\n",
       "2015-01-01 00:15:00+00:00           0.0        692.7\n",
       "2015-01-01 00:30:00+00:00           0.0        692.4\n",
       "2015-01-01 00:45:00+00:00           0.0        701.1\n",
       "2015-01-01 01:00:00+00:00           0.0        711.3"
      ]
     },
     "execution_count": 179,
     "metadata": {},
     "output_type": "execute_result"
    }
   ],
   "source": [
    "# Set datetime format\n",
    "df_EE['cet_cest_timestamp'] = pd.to_datetime(df_EE['cet_cest_timestamp'], utc='Europe/Berlin')\n",
    "# Set index\n",
    "df_EE.set_index('cet_cest_timestamp', inplace=True)\n",
    "df_EE.head()"
   ]
  },
  {
   "cell_type": "markdown",
   "metadata": {},
   "source": [
    "### Residuallast"
   ]
  },
  {
   "cell_type": "code",
   "execution_count": 180,
   "metadata": {},
   "outputs": [
    {
     "data": {
      "text/html": [
       "<div>\n",
       "<style scoped>\n",
       "    .dataframe tbody tr th:only-of-type {\n",
       "        vertical-align: middle;\n",
       "    }\n",
       "\n",
       "    .dataframe tbody tr th {\n",
       "        vertical-align: top;\n",
       "    }\n",
       "\n",
       "    .dataframe thead th {\n",
       "        text-align: right;\n",
       "    }\n",
       "</style>\n",
       "<table border=\"1\" class=\"dataframe\">\n",
       "  <thead>\n",
       "    <tr style=\"text-align: right;\">\n",
       "      <th></th>\n",
       "      <th>Residuallast in MW</th>\n",
       "    </tr>\n",
       "  </thead>\n",
       "  <tbody>\n",
       "    <tr>\n",
       "      <th>2015-01-01 00:00:00+00:00</th>\n",
       "      <td>980.6</td>\n",
       "    </tr>\n",
       "    <tr>\n",
       "      <th>2015-01-01 00:00:00+00:00</th>\n",
       "      <td>1492.6</td>\n",
       "    </tr>\n",
       "    <tr>\n",
       "      <th>2015-01-01 00:15:00+00:00</th>\n",
       "      <td>1531.3</td>\n",
       "    </tr>\n",
       "    <tr>\n",
       "      <th>2015-01-01 00:30:00+00:00</th>\n",
       "      <td>1371.6</td>\n",
       "    </tr>\n",
       "    <tr>\n",
       "      <th>2015-01-01 00:45:00+00:00</th>\n",
       "      <td>1522.9</td>\n",
       "    </tr>\n",
       "  </tbody>\n",
       "</table>\n",
       "</div>"
      ],
      "text/plain": [
       "                           Residuallast in MW\n",
       "2015-01-01 00:00:00+00:00               980.6\n",
       "2015-01-01 00:00:00+00:00              1492.6\n",
       "2015-01-01 00:15:00+00:00              1531.3\n",
       "2015-01-01 00:30:00+00:00              1371.6\n",
       "2015-01-01 00:45:00+00:00              1522.9"
      ]
     },
     "execution_count": 180,
     "metadata": {},
     "output_type": "execute_result"
    }
   ],
   "source": [
    "# Create new dataframe\n",
    "df_res_load = pd.DataFrame()\n",
    "df_res_load['Residuallast in MW'] = df_load['Wert in MW'] - df_EE['actual_Solar'] - df_EE['actual_wind']\n",
    "\n",
    "df_res_load.head()"
   ]
  },
  {
   "cell_type": "markdown",
   "metadata": {},
   "source": [
    "### Auswahl einer Woche"
   ]
  },
  {
   "cell_type": "code",
   "execution_count": 181,
   "metadata": {},
   "outputs": [
    {
     "data": {
      "text/html": [
       "<div>\n",
       "<style scoped>\n",
       "    .dataframe tbody tr th:only-of-type {\n",
       "        vertical-align: middle;\n",
       "    }\n",
       "\n",
       "    .dataframe tbody tr th {\n",
       "        vertical-align: top;\n",
       "    }\n",
       "\n",
       "    .dataframe thead th {\n",
       "        text-align: right;\n",
       "    }\n",
       "</style>\n",
       "<table border=\"1\" class=\"dataframe\">\n",
       "  <thead>\n",
       "    <tr style=\"text-align: right;\">\n",
       "      <th></th>\n",
       "      <th>Residuallast in MW</th>\n",
       "    </tr>\n",
       "  </thead>\n",
       "  <tbody>\n",
       "    <tr>\n",
       "      <th>2015-03-02 00:00:00+00:00</th>\n",
       "      <td>1063.350</td>\n",
       "    </tr>\n",
       "    <tr>\n",
       "      <th>2015-03-02 01:00:00+00:00</th>\n",
       "      <td>881.375</td>\n",
       "    </tr>\n",
       "    <tr>\n",
       "      <th>2015-03-02 02:00:00+00:00</th>\n",
       "      <td>748.850</td>\n",
       "    </tr>\n",
       "    <tr>\n",
       "      <th>2015-03-02 03:00:00+00:00</th>\n",
       "      <td>566.025</td>\n",
       "    </tr>\n",
       "    <tr>\n",
       "      <th>2015-03-02 04:00:00+00:00</th>\n",
       "      <td>526.075</td>\n",
       "    </tr>\n",
       "  </tbody>\n",
       "</table>\n",
       "</div>"
      ],
      "text/plain": [
       "                           Residuallast in MW\n",
       "2015-03-02 00:00:00+00:00            1063.350\n",
       "2015-03-02 01:00:00+00:00             881.375\n",
       "2015-03-02 02:00:00+00:00             748.850\n",
       "2015-03-02 03:00:00+00:00             566.025\n",
       "2015-03-02 04:00:00+00:00             526.075"
      ]
     },
     "execution_count": 181,
     "metadata": {},
     "output_type": "execute_result"
    }
   ],
   "source": [
    "# Create new dataframe\n",
    "# Define week\n",
    "week = 10\n",
    "# New dataframe\n",
    "df_res_load_cropped = pd.DataFrame()\n",
    "# mask df_res_load\n",
    "mask = df_res_load.index.week == week\n",
    "# Copy df_res_load where week is 10\n",
    "df_res_load_cropped = df_res_load.loc[mask]\n",
    "# Resample to hourly load\n",
    "df_res_load_cropped = df_res_load_cropped.resample('h').mean()\n",
    "\n",
    "df_res_load_cropped.head()"
   ]
  },
  {
   "cell_type": "markdown",
   "metadata": {},
   "source": [
    "### Residuallast plotten"
   ]
  },
  {
   "cell_type": "code",
   "execution_count": 182,
   "metadata": {},
   "outputs": [
    {
     "name": "stderr",
     "output_type": "stream",
     "text": [
      "C:\\ProgramData\\Anaconda3\\lib\\site-packages\\pandas\\core\\arrays\\datetimes.py:1172: UserWarning: Converting to PeriodArray/Index representation will drop timezone information.\n",
      "  \"will drop timezone information.\", UserWarning)\n"
     ]
    },
    {
     "data": {
      "image/png": "[encoded data removed]",
      "text/plain": [
       "<Figure size 432x288 with 1 Axes>"
      ]
     },
     "metadata": {
      "needs_background": "light"
     },
     "output_type": "display_data"
    }
   ],
   "source": [
    "df_res_load_cropped.plot(kind='line', c='r', style ='-')\n",
    "plt.show()"
   ]
  },
  {
   "cell_type": "markdown",
   "metadata": {},
   "source": [
    "## 2. Modellierung\n",
    "- Kraftwerksparameter aus .csv-Datei einlesen\n",
    "- Modell aufstellen\n",
    "    - Kraftwerksparameter definiern\n",
    "    - Variablen definieren\n",
    "    - Nebenbedingungen einfügen, die durch die Parameter der KW definiert werden\n",
    "        - Maximale Leistung / Minimale Leistung\n",
    "        - Emissionen / CO2-Kosten --> Kosten 0.02 €/kg, Limit 3.500.000.000.000.000 kg_CO2/MWh_el\n",
    "        - Nachfrage\n",
    "        - Start-Up Costs\n",
    "        - Speicher\n",
    "            - in t=0 leer\n",
    "            - max. 200 MWh\n",
    "    - Zielfunktion festlegen"
   ]
  },
  {
   "cell_type": "markdown",
   "metadata": {},
   "source": [
    "### Kraftwerksparameter"
   ]
  },
  {
   "cell_type": "code",
   "execution_count": 622,
   "metadata": {},
   "outputs": [
    {
     "data": {
      "text/html": [
       "<div>\n",
       "<style scoped>\n",
       "    .dataframe tbody tr th:only-of-type {\n",
       "        vertical-align: middle;\n",
       "    }\n",
       "\n",
       "    .dataframe tbody tr th {\n",
       "        vertical-align: top;\n",
       "    }\n",
       "\n",
       "    .dataframe thead th {\n",
       "        text-align: right;\n",
       "    }\n",
       "</style>\n",
       "<table border=\"1\" class=\"dataframe\">\n",
       "  <thead>\n",
       "    <tr style=\"text-align: right;\">\n",
       "      <th></th>\n",
       "      <th>Fuel</th>\n",
       "      <th>Pmax in MW</th>\n",
       "      <th>Pmin in MW</th>\n",
       "      <th>variable costs in EUR/MWh</th>\n",
       "      <th>startup cost in EUR</th>\n",
       "      <th>fix operating cost in EUR/h</th>\n",
       "      <th>Emissionsfaktor kg_CO2/MWh_el</th>\n",
       "    </tr>\n",
       "  </thead>\n",
       "  <tbody>\n",
       "    <tr>\n",
       "      <th>0</th>\n",
       "      <td>Biomass</td>\n",
       "      <td>82</td>\n",
       "      <td>1.00</td>\n",
       "      <td>50</td>\n",
       "      <td>10</td>\n",
       "      <td>4600</td>\n",
       "      <td>0</td>\n",
       "    </tr>\n",
       "    <tr>\n",
       "      <th>1</th>\n",
       "      <td>Gas</td>\n",
       "      <td>1450</td>\n",
       "      <td>1.00</td>\n",
       "      <td>35</td>\n",
       "      <td>280</td>\n",
       "      <td>3800</td>\n",
       "      <td>455</td>\n",
       "    </tr>\n",
       "    <tr>\n",
       "      <th>2</th>\n",
       "      <td>Hard_Coal</td>\n",
       "      <td>1487</td>\n",
       "      <td>223.05</td>\n",
       "      <td>15</td>\n",
       "      <td>420</td>\n",
       "      <td>7000</td>\n",
       "      <td>891</td>\n",
       "    </tr>\n",
       "    <tr>\n",
       "      <th>3</th>\n",
       "      <td>Lignite</td>\n",
       "      <td>1320</td>\n",
       "      <td>264.00</td>\n",
       "      <td>6</td>\n",
       "      <td>420</td>\n",
       "      <td>7800</td>\n",
       "      <td>1225</td>\n",
       "    </tr>\n",
       "    <tr>\n",
       "      <th>4</th>\n",
       "      <td>Uranium</td>\n",
       "      <td>666</td>\n",
       "      <td>219.78</td>\n",
       "      <td>5</td>\n",
       "      <td>10000</td>\n",
       "      <td>11000</td>\n",
       "      <td>0</td>\n",
       "    </tr>\n",
       "    <tr>\n",
       "      <th>5</th>\n",
       "      <td>Oil</td>\n",
       "      <td>135</td>\n",
       "      <td>1.00</td>\n",
       "      <td>38</td>\n",
       "      <td>280</td>\n",
       "      <td>3800</td>\n",
       "      <td>776</td>\n",
       "    </tr>\n",
       "    <tr>\n",
       "      <th>6</th>\n",
       "      <td>Water</td>\n",
       "      <td>146</td>\n",
       "      <td>1.00</td>\n",
       "      <td>0</td>\n",
       "      <td>1</td>\n",
       "      <td>5000</td>\n",
       "      <td>0</td>\n",
       "    </tr>\n",
       "  </tbody>\n",
       "</table>\n",
       "</div>"
      ],
      "text/plain": [
       "        Fuel  Pmax in MW  Pmin in MW  variable costs in EUR/MWh  \\\n",
       "0    Biomass          82        1.00                         50   \n",
       "1        Gas        1450        1.00                         35   \n",
       "2  Hard_Coal        1487      223.05                         15   \n",
       "3    Lignite        1320      264.00                          6   \n",
       "4    Uranium         666      219.78                          5   \n",
       "5        Oil         135        1.00                         38   \n",
       "6      Water         146        1.00                          0   \n",
       "\n",
       "   startup cost in EUR  fix operating cost in EUR/h  \\\n",
       "0                   10                         4600   \n",
       "1                  280                         3800   \n",
       "2                  420                         7000   \n",
       "3                  420                         7800   \n",
       "4                10000                        11000   \n",
       "5                  280                         3800   \n",
       "6                    1                         5000   \n",
       "\n",
       "   Emissionsfaktor kg_CO2/MWh_el  \n",
       "0                              0  \n",
       "1                            455  \n",
       "2                            891  \n",
       "3                           1225  \n",
       "4                              0  \n",
       "5                            776  \n",
       "6                              0  "
      ]
     },
     "execution_count": 622,
     "metadata": {},
     "output_type": "execute_result"
    }
   ],
   "source": [
    "# Define path\n",
    "path_PP = './Input/PP_List.csv'\n",
    "# read csv\n",
    "df_PP = pd.read_csv(path_PP, sep=';', decimal=',')\n",
    "df_PP"
   ]
  },
  {
   "cell_type": "markdown",
   "metadata": {},
   "source": [
    "#### Preis im Ausland"
   ]
  },
  {
   "cell_type": "code",
   "execution_count": 735,
   "metadata": {},
   "outputs": [
    {
     "data": {
      "text/html": [
       "<div>\n",
       "<style scoped>\n",
       "    .dataframe tbody tr th:only-of-type {\n",
       "        vertical-align: middle;\n",
       "    }\n",
       "\n",
       "    .dataframe tbody tr th {\n",
       "        vertical-align: top;\n",
       "    }\n",
       "\n",
       "    .dataframe thead th {\n",
       "        text-align: right;\n",
       "    }\n",
       "</style>\n",
       "<table border=\"1\" class=\"dataframe\">\n",
       "  <thead>\n",
       "    <tr style=\"text-align: right;\">\n",
       "      <th></th>\n",
       "      <th>Price</th>\n",
       "    </tr>\n",
       "    <tr>\n",
       "      <th>timestep</th>\n",
       "      <th></th>\n",
       "    </tr>\n",
       "  </thead>\n",
       "  <tbody>\n",
       "    <tr>\n",
       "      <th>2015-03-02 00:00:00+00:00</th>\n",
       "      <td>12.091896</td>\n",
       "    </tr>\n",
       "    <tr>\n",
       "      <th>2015-03-02 01:00:00+00:00</th>\n",
       "      <td>3.280788</td>\n",
       "    </tr>\n",
       "    <tr>\n",
       "      <th>2015-03-02 02:00:00+00:00</th>\n",
       "      <td>4.000000</td>\n",
       "    </tr>\n",
       "    <tr>\n",
       "      <th>2015-03-02 03:00:00+00:00</th>\n",
       "      <td>4.000000</td>\n",
       "    </tr>\n",
       "    <tr>\n",
       "      <th>2015-03-02 04:00:00+00:00</th>\n",
       "      <td>4.000000</td>\n",
       "    </tr>\n",
       "  </tbody>\n",
       "</table>\n",
       "</div>"
      ],
      "text/plain": [
       "                               Price\n",
       "timestep                            \n",
       "2015-03-02 00:00:00+00:00  12.091896\n",
       "2015-03-02 01:00:00+00:00   3.280788\n",
       "2015-03-02 02:00:00+00:00   4.000000\n",
       "2015-03-02 03:00:00+00:00   4.000000\n",
       "2015-03-02 04:00:00+00:00   4.000000"
      ]
     },
     "execution_count": 735,
     "metadata": {},
     "output_type": "execute_result"
    }
   ],
   "source": []
  },
  {
   "cell_type": "markdown",
   "metadata": {},
   "source": [
    "### Modell erstellen"
   ]
  },
  {
   "cell_type": "code",
   "execution_count": 736,
   "metadata": {},
   "outputs": [],
   "source": [
    "# Create Model\n",
    "M = Model('Unit Commitment')"
   ]
  },
  {
   "cell_type": "markdown",
   "metadata": {},
   "source": [
    "### Parameter"
   ]
  },
  {
   "cell_type": "code",
   "execution_count": 747,
   "metadata": {},
   "outputs": [],
   "source": [
    "# Load\n",
    "load_model = df_res_load_cropped['Residuallast in MW'].copy()\n",
    "\n",
    "# Power Plants\n",
    "PP_model = df_PP.copy()\n",
    "\n",
    "# Pmax\n",
    "P_max = PP_model['Pmax in MW']\n",
    "\n",
    "# Pmin\n",
    "P_min = PP_model['Pmin in MW']\n",
    "\n",
    "# cost\n",
    "cost_var = PP_model['variable costs in EUR/MWh']\n",
    "cost_su = PP_model['startup cost in EUR']\n",
    "cost_fix = PP_model['fix operating cost in EUR/h']\n",
    "\n",
    "# emissions\n",
    "e_factor = PP_model['Emissionsfaktor kg_CO2/MWh_el']\n",
    "e_cost = 0.025 # in EUR/kg\n",
    "e_limit = 3500000000000000 # in kg CO2\n",
    "\n",
    "# Storage\n",
    "S_max = 200 # maximales Speichervolumen in MWh\n",
    "S_0 = 0 #initialer Speicherstand in t=0\n",
    "\n",
    "# Import/Export\n",
    "\n",
    "# Price in other market\n",
    "\n",
    "# Sets for Timesteps and Powerplants\n",
    "T = range(len(df_res_load_cropped))\n",
    "I = range(len(df_PP))"
   ]
  },
  {
   "cell_type": "markdown",
   "metadata": {},
   "source": [
    "### Variablen"
   ]
  },
  {
   "cell_type": "code",
   "execution_count": 748,
   "metadata": {},
   "outputs": [],
   "source": [
    "# Production\n",
    "X = M.addVars(T, I, vtype=GRB.CONTINUOUS, name='Production of PP i in timestep t')\n",
    "\n",
    "# Power Plant Status, 1 = operating, 0 = not operating\n",
    "Y = M.addVars(T, I, vtype=GRB.BINARY, name='Status of PP i in timestep t')\n",
    "\n",
    "# Start-up Status, 1 = start-up, 0 = not start-up\n",
    "SU = M.addVars(T, I, vtype=GRB.BINARY, name='Indicator of PP i is starting up in timestep t')\n",
    "\n",
    "# Emissions (define variable for easier use later on)\n",
    "E = M.addVars(T, I, vtype=GRB.CONTINUOUS, name='Emissions of PP i in timestep t')\n",
    "\n",
    "# Import \n",
    "\n",
    "#Export\n",
    "\n",
    "# Storage\n",
    "S_lvl = M.addVars(T, vtype=GRB.CONTINUOUS, name='Storage level in timestep t')\n",
    "S_in = M.addVars(T, vtype=GRB.CONTINUOUS, name='Added Storage in timestep t')\n",
    "S_out = M.addVars(T, vtype=GRB.CONTINUOUS, name='Storage out in timestep t')"
   ]
  },
  {
   "cell_type": "markdown",
   "metadata": {},
   "source": [
    "### Nebenbedingungen\n",
    "- Maximale und minimale Erzeugung\n",
    "- Start-up Status\n",
    "- Emissionen\n",
    "- Speicher\n",
    "    - Maximaler Speicherstand\n",
    "    - ***NEU***: Bilanz für t=0 (Level_0 = S_0 + S_in_0 - S_out_0)\n",
    "    - Bilanz für jedes t > 0 (Level_t = Level_t-1 + S_in_t - S_out_t)\n",
    "- Deckung der Nachfrage"
   ]
  },
  {
   "cell_type": "code",
   "execution_count": 749,
   "metadata": {},
   "outputs": [],
   "source": [
    "# Erzeugung\n",
    "# Pmax\n",
    "M.addConstrs((X[t,i] <= P_max[i]*Y[t,i] for t in T for i in I), name='Constr 1')\n",
    "# Pmin\n",
    "M.addConstrs((X[t,i] >= P_min[i]*Y[t,i] for t in T for i in I), name='Constr 2')\n",
    "M.update()"
   ]
  },
  {
   "cell_type": "code",
   "execution_count": 750,
   "metadata": {},
   "outputs": [],
   "source": [
    "# Start-up\n",
    "# t = 0 --> alle vorher aus\n",
    "M.addConstrs((SU[0,i] == Y[0,i] for i in I), name='Constr 3')\n",
    "# for t > 0\n",
    "M.addConstrs((SU[t,i] >= Y[t,i]-Y[t-1,i] for t in T for i in I if t>0), name='Constr 4')\n",
    "M.update()"
   ]
  },
  {
   "cell_type": "code",
   "execution_count": 751,
   "metadata": {},
   "outputs": [],
   "source": [
    "# Emission\n",
    "M.addConstrs((E[t,i] == e_factor[i]*X[t,i] for t in T for i in I), name='Constr 5')\n",
    "# Limit\n",
    "M.addConstr((quicksum(E[t,i] for t in T for i in I) <= e_limit), name = \"Constr 6\")\n",
    "M.update()"
   ]
  },
  {
   "cell_type": "code",
   "execution_count": 752,
   "metadata": {},
   "outputs": [],
   "source": [
    "# Speicher\n",
    "# S_max\n",
    "M.addConstrs((S_lvl[t] <= S_max for t in T), name='Constr 7')\n",
    "# t=0\n",
    "M.addConstr((S_lvl[0] == S_0 + S_in[0]-S_out[0]), name='Constr 8')\n",
    "# Bilanz t>0\n",
    "M.addConstrs((S_lvl[t] == S_lvl[t-1]+S_in[t]-S_out[t] for t in T if t>0), name ='Constr 9')\n",
    "M.update()"
   ]
  },
  {
   "cell_type": "code",
   "execution_count": 753,
   "metadata": {},
   "outputs": [],
   "source": [
    "# Import/Export\n"
   ]
  },
  {
   "cell_type": "code",
   "execution_count": 754,
   "metadata": {},
   "outputs": [],
   "source": [
    "# Load\n",
    "M.addConstrs((quicksum(X[t,i] for i in I) + S_out[t] - S_in[t] + Im[t] - Ex[t] >= load_model[t] for t in T), name='Constr 13')\n",
    "M.update()"
   ]
  },
  {
   "cell_type": "markdown",
   "metadata": {},
   "source": [
    "### Zielfunktion"
   ]
  },
  {
   "cell_type": "code",
   "execution_count": 755,
   "metadata": {},
   "outputs": [],
   "source": [
    "M.setObjective(quicksum(X[t,i]*cost_var[i] # Variable Kosten\n",
    "                        + Y[t,i]*cost_fix[i] # Fixkosten, falls produziert wird\n",
    "                        + SU[t,i]*cost_su[i] # Startup Kosten, falls hochgefahren wird\n",
    "                        + E[t,i]*e_cost # Emissionskosten\n",
    "                        + C_Im[t] # Importkosten\n",
    "                        - C_Ex[t] # Exporterlöse\n",
    "                        for i in I for t in T), GRB.MINIMIZE)"
   ]
  },
  {
   "cell_type": "markdown",
   "metadata": {},
   "source": [
    "### Optimierung"
   ]
  },
  {
   "cell_type": "code",
   "execution_count": 756,
   "metadata": {},
   "outputs": [
    {
     "name": "stdout",
     "output_type": "stream",
     "text": [
      "Gurobi Optimizer version 9.0.0 build v9.0.0rc2 (win64)\n",
      "Optimize a model with 11426 rows, 11760 columns and 29888 nonzeros\n",
      "Model fingerprint: 0x39f012fc\n",
      "Variable types: 7056 continuous, 4704 integer (4704 binary)\n",
      "Coefficient statistics:\n",
      "  Matrix range     [1e+00, 1e+03]\n",
      "  Objective range  [3e-02, 1e+04]\n",
      "  Bounds range     [1e+00, 1e+00]\n",
      "  RHS range        [8e+01, 4e+15]\n",
      "Warning: Model contains large rhs\n",
      "         Consider reformulating model or setting NumericFocus parameter\n",
      "         to avoid numerical issues.\n",
      "\n",
      "MIP start from previous solve produced solution with objective 1.22489e+07 (0.17s)\n",
      "MIP start from previous solve produced solution with objective 1.1879e+07 (0.19s)\n",
      "MIP start from previous solve produced solution with objective 1.17498e+07 (0.37s)\n",
      "MIP start from previous solve produced solution with objective 1.17427e+07 (0.49s)\n",
      "MIP start from previous solve produced solution with objective 1.16733e+07 (0.60s)\n",
      "MIP start from previous solve produced solution with objective 1.16659e+07 (0.84s)\n",
      "MIP start from previous solve produced solution with objective 1.16513e+07 (0.97s)\n",
      "Loaded MIP start from previous solve with objective 1.16513e+07\n",
      "\n",
      "Presolve removed 8624 rows and 8689 columns\n",
      "Presolve time: 0.12s\n",
      "Presolved: 2802 rows, 3071 columns, 7809 nonzeros\n",
      "Variable types: 1206 continuous, 1865 integer (1865 binary)\n",
      "\n",
      "Root relaxation: objective 1.139909e+07, 724 iterations, 0.01 seconds\n",
      "\n",
      "    Nodes    |    Current Node    |     Objective Bounds      |     Work\n",
      " Expl Unexpl |  Obj  Depth IntInf | Incumbent    BestBd   Gap | It/Node Time\n",
      "\n",
      "     0     0 1.1399e+07    0  157 1.1651e+07 1.1399e+07  2.16%     -    1s\n",
      "     0     0 1.1555e+07    0  347 1.1651e+07 1.1555e+07  0.83%     -    1s\n",
      "     0     0 1.1559e+07    0  338 1.1651e+07 1.1559e+07  0.79%     -    1s\n",
      "     0     0 1.1559e+07    0  339 1.1651e+07 1.1559e+07  0.79%     -    1s\n",
      "     0     0 1.1623e+07    0  288 1.1651e+07 1.1623e+07  0.25%     -    1s\n",
      "     0     0 1.1631e+07    0  212 1.1651e+07 1.1631e+07  0.17%     -    1s\n",
      "     0     0 1.1631e+07    0  215 1.1651e+07 1.1631e+07  0.17%     -    1s\n",
      "     0     0 1.1646e+07    0  192 1.1651e+07 1.1646e+07  0.05%     -    1s\n",
      "     0     0 1.1648e+07    0  144 1.1651e+07 1.1648e+07  0.03%     -    1s\n",
      "     0     0 1.1648e+07    0  138 1.1651e+07 1.1648e+07  0.03%     -    1s\n",
      "     0     0 1.1648e+07    0  106 1.1651e+07 1.1648e+07  0.03%     -    1s\n",
      "     0     0 1.1649e+07    0  106 1.1651e+07 1.1649e+07  0.02%     -    1s\n",
      "     0     0 1.1649e+07    0  105 1.1651e+07 1.1649e+07  0.02%     -    1s\n",
      "     0     0 1.1649e+07    0   81 1.1651e+07 1.1649e+07  0.02%     -    1s\n",
      "     0     0 1.1650e+07    0   72 1.1651e+07 1.1650e+07  0.02%     -    1s\n",
      "     0     0 1.1650e+07    0   48 1.1651e+07 1.1650e+07  0.01%     -    1s\n",
      "\n",
      "Cutting planes:\n",
      "  Learned: 19\n",
      "  Gomory: 5\n",
      "  Cover: 29\n",
      "  Implied bound: 7\n",
      "  MIR: 22\n",
      "  Flow cover: 53\n",
      "  RLT: 4\n",
      "  Relax-and-lift: 1\n",
      "\n",
      "Explored 1 nodes (3157 simplex iterations) in 2.00 seconds\n",
      "Thread count was 4 (of 4 available processors)\n",
      "\n",
      "Solution count 7: 1.16513e+07 1.16659e+07 1.16733e+07 ... 1.22489e+07\n",
      "\n",
      "Optimal solution found (tolerance 1.00e-04)\n",
      "Best objective 1.165132774458e+07, best bound 1.165047806067e+07, gap 0.0073%\n"
     ]
    }
   ],
   "source": [
    "M.optimize()"
   ]
  },
  {
   "cell_type": "markdown",
   "metadata": {},
   "source": [
    "### Ergebnisse: Produktion"
   ]
  },
  {
   "cell_type": "code",
   "execution_count": 758,
   "metadata": {},
   "outputs": [
    {
     "data": {
      "text/html": [
       "<div>\n",
       "<style scoped>\n",
       "    .dataframe tbody tr th:only-of-type {\n",
       "        vertical-align: middle;\n",
       "    }\n",
       "\n",
       "    .dataframe tbody tr th {\n",
       "        vertical-align: top;\n",
       "    }\n",
       "\n",
       "    .dataframe thead th {\n",
       "        text-align: right;\n",
       "    }\n",
       "</style>\n",
       "<table border=\"1\" class=\"dataframe\">\n",
       "  <thead>\n",
       "    <tr style=\"text-align: right;\">\n",
       "      <th></th>\n",
       "      <th>Biomasse</th>\n",
       "      <th>Gas</th>\n",
       "      <th>Steinkohle</th>\n",
       "      <th>Braunkohle</th>\n",
       "      <th>Uran</th>\n",
       "      <th>Öl</th>\n",
       "      <th>Wasser</th>\n",
       "    </tr>\n",
       "  </thead>\n",
       "  <tbody>\n",
       "    <tr>\n",
       "      <th>2015-03-02 00:00:00+00:00</th>\n",
       "      <td>0.0</td>\n",
       "      <td>331.35</td>\n",
       "      <td>0.0</td>\n",
       "      <td>0.0</td>\n",
       "      <td>666.0</td>\n",
       "      <td>0.0</td>\n",
       "      <td>146.0</td>\n",
       "    </tr>\n",
       "    <tr>\n",
       "      <th>2015-03-02 01:00:00+00:00</th>\n",
       "      <td>0.0</td>\n",
       "      <td>0.00</td>\n",
       "      <td>0.0</td>\n",
       "      <td>0.0</td>\n",
       "      <td>666.0</td>\n",
       "      <td>0.0</td>\n",
       "      <td>146.0</td>\n",
       "    </tr>\n",
       "    <tr>\n",
       "      <th>2015-03-02 02:00:00+00:00</th>\n",
       "      <td>0.0</td>\n",
       "      <td>0.00</td>\n",
       "      <td>0.0</td>\n",
       "      <td>0.0</td>\n",
       "      <td>666.0</td>\n",
       "      <td>0.0</td>\n",
       "      <td>0.0</td>\n",
       "    </tr>\n",
       "    <tr>\n",
       "      <th>2015-03-02 03:00:00+00:00</th>\n",
       "      <td>0.0</td>\n",
       "      <td>0.00</td>\n",
       "      <td>0.0</td>\n",
       "      <td>0.0</td>\n",
       "      <td>666.0</td>\n",
       "      <td>0.0</td>\n",
       "      <td>0.0</td>\n",
       "    </tr>\n",
       "    <tr>\n",
       "      <th>2015-03-02 04:00:00+00:00</th>\n",
       "      <td>0.0</td>\n",
       "      <td>0.00</td>\n",
       "      <td>0.0</td>\n",
       "      <td>0.0</td>\n",
       "      <td>666.0</td>\n",
       "      <td>0.0</td>\n",
       "      <td>0.0</td>\n",
       "    </tr>\n",
       "  </tbody>\n",
       "</table>\n",
       "</div>"
      ],
      "text/plain": [
       "                           Biomasse     Gas  Steinkohle  Braunkohle   Uran  \\\n",
       "2015-03-02 00:00:00+00:00       0.0  331.35         0.0         0.0  666.0   \n",
       "2015-03-02 01:00:00+00:00       0.0    0.00         0.0         0.0  666.0   \n",
       "2015-03-02 02:00:00+00:00       0.0    0.00         0.0         0.0  666.0   \n",
       "2015-03-02 03:00:00+00:00       0.0    0.00         0.0         0.0  666.0   \n",
       "2015-03-02 04:00:00+00:00       0.0    0.00         0.0         0.0  666.0   \n",
       "\n",
       "                            Öl  Wasser  \n",
       "2015-03-02 00:00:00+00:00  0.0   146.0  \n",
       "2015-03-02 01:00:00+00:00  0.0   146.0  \n",
       "2015-03-02 02:00:00+00:00  0.0     0.0  \n",
       "2015-03-02 03:00:00+00:00  0.0     0.0  \n",
       "2015-03-02 04:00:00+00:00  0.0     0.0  "
      ]
     },
     "execution_count": 758,
     "metadata": {},
     "output_type": "execute_result"
    }
   ],
   "source": [
    "# Save production to matrix\n",
    "matrix= []\n",
    "for t in T:\n",
    "    array = []\n",
    "    for i in I:\n",
    "        array.append(X[t,i].X)\n",
    "    matrix.append(array)\n",
    "# Convert matrix to Dataframe\n",
    "Production = pd.DataFrame(matrix)\n",
    "# Rename columns\n",
    "Production.columns = ['Biomasse', 'Gas', 'Steinkohle', 'Braunkohle', 'Uran', 'Öl', 'Wasser']\n",
    "# Set index to timestamp\n",
    "Production.set_index(df_res_load_cropped.index, inplace=True)\n",
    "\n",
    "Production.head()"
   ]
  },
  {
   "cell_type": "code",
   "execution_count": 729,
   "metadata": {},
   "outputs": [
    {
     "data": {
      "image/png": "[encoded data removed]",
      "text/plain": [
       "<Figure size 720x360 with 1 Axes>"
      ]
     },
     "metadata": {
      "needs_background": "light"
     },
     "output_type": "display_data"
    }
   ],
   "source": [
    "fig, ax = plt.subplots(figsize=(10,5))\n",
    "Production.plot.area(ax=ax, stacked=True, linewidth=0)\n",
    "df_res_load_cropped.plot(ax=ax, style='--', c='k')\n",
    "plt.show()"
   ]
  },
  {
   "cell_type": "markdown",
   "metadata": {},
   "source": [
    "### Import/Export"
   ]
  },
  {
   "cell_type": "code",
   "execution_count": 760,
   "metadata": {},
   "outputs": [
    {
     "data": {
      "text/html": [
       "<div>\n",
       "<style scoped>\n",
       "    .dataframe tbody tr th:only-of-type {\n",
       "        vertical-align: middle;\n",
       "    }\n",
       "\n",
       "    .dataframe tbody tr th {\n",
       "        vertical-align: top;\n",
       "    }\n",
       "\n",
       "    .dataframe thead th {\n",
       "        text-align: right;\n",
       "    }\n",
       "</style>\n",
       "<table border=\"1\" class=\"dataframe\">\n",
       "  <thead>\n",
       "    <tr style=\"text-align: right;\">\n",
       "      <th></th>\n",
       "      <th>Import</th>\n",
       "      <th>Export</th>\n",
       "    </tr>\n",
       "  </thead>\n",
       "  <tbody>\n",
       "    <tr>\n",
       "      <th>2015-03-02 00:00:00+00:00</th>\n",
       "      <td>0.000</td>\n",
       "      <td>-80.0000</td>\n",
       "    </tr>\n",
       "    <tr>\n",
       "      <th>2015-03-02 01:00:00+00:00</th>\n",
       "      <td>80.000</td>\n",
       "      <td>-0.0000</td>\n",
       "    </tr>\n",
       "    <tr>\n",
       "      <th>2015-03-02 02:00:00+00:00</th>\n",
       "      <td>72.225</td>\n",
       "      <td>-0.0000</td>\n",
       "    </tr>\n",
       "    <tr>\n",
       "      <th>2015-03-02 03:00:00+00:00</th>\n",
       "      <td>0.000</td>\n",
       "      <td>-0.0000</td>\n",
       "    </tr>\n",
       "    <tr>\n",
       "      <th>2015-03-02 04:00:00+00:00</th>\n",
       "      <td>0.000</td>\n",
       "      <td>-39.9000</td>\n",
       "    </tr>\n",
       "    <tr>\n",
       "      <th>2015-03-02 05:00:00+00:00</th>\n",
       "      <td>0.000</td>\n",
       "      <td>-36.5125</td>\n",
       "    </tr>\n",
       "    <tr>\n",
       "      <th>2015-03-02 06:00:00+00:00</th>\n",
       "      <td>80.000</td>\n",
       "      <td>-0.0000</td>\n",
       "    </tr>\n",
       "    <tr>\n",
       "      <th>2015-03-02 07:00:00+00:00</th>\n",
       "      <td>0.000</td>\n",
       "      <td>-80.0000</td>\n",
       "    </tr>\n",
       "    <tr>\n",
       "      <th>2015-03-02 08:00:00+00:00</th>\n",
       "      <td>0.000</td>\n",
       "      <td>-80.0000</td>\n",
       "    </tr>\n",
       "    <tr>\n",
       "      <th>2015-03-02 09:00:00+00:00</th>\n",
       "      <td>0.000</td>\n",
       "      <td>-80.0000</td>\n",
       "    </tr>\n",
       "    <tr>\n",
       "      <th>2015-03-02 10:00:00+00:00</th>\n",
       "      <td>0.000</td>\n",
       "      <td>-80.0000</td>\n",
       "    </tr>\n",
       "    <tr>\n",
       "      <th>2015-03-02 11:00:00+00:00</th>\n",
       "      <td>0.000</td>\n",
       "      <td>-80.0000</td>\n",
       "    </tr>\n",
       "    <tr>\n",
       "      <th>2015-03-02 12:00:00+00:00</th>\n",
       "      <td>0.000</td>\n",
       "      <td>-80.0000</td>\n",
       "    </tr>\n",
       "    <tr>\n",
       "      <th>2015-03-02 13:00:00+00:00</th>\n",
       "      <td>0.000</td>\n",
       "      <td>-80.0000</td>\n",
       "    </tr>\n",
       "    <tr>\n",
       "      <th>2015-03-02 14:00:00+00:00</th>\n",
       "      <td>0.000</td>\n",
       "      <td>-80.0000</td>\n",
       "    </tr>\n",
       "  </tbody>\n",
       "</table>\n",
       "</div>"
      ],
      "text/plain": [
       "                           Import   Export\n",
       "2015-03-02 00:00:00+00:00   0.000 -80.0000\n",
       "2015-03-02 01:00:00+00:00  80.000  -0.0000\n",
       "2015-03-02 02:00:00+00:00  72.225  -0.0000\n",
       "2015-03-02 03:00:00+00:00   0.000  -0.0000\n",
       "2015-03-02 04:00:00+00:00   0.000 -39.9000\n",
       "2015-03-02 05:00:00+00:00   0.000 -36.5125\n",
       "2015-03-02 06:00:00+00:00  80.000  -0.0000\n",
       "2015-03-02 07:00:00+00:00   0.000 -80.0000\n",
       "2015-03-02 08:00:00+00:00   0.000 -80.0000\n",
       "2015-03-02 09:00:00+00:00   0.000 -80.0000\n",
       "2015-03-02 10:00:00+00:00   0.000 -80.0000\n",
       "2015-03-02 11:00:00+00:00   0.000 -80.0000\n",
       "2015-03-02 12:00:00+00:00   0.000 -80.0000\n",
       "2015-03-02 13:00:00+00:00   0.000 -80.0000\n",
       "2015-03-02 14:00:00+00:00   0.000 -80.0000"
      ]
     },
     "execution_count": 760,
     "metadata": {},
     "output_type": "execute_result"
    }
   ],
   "source": []
  },
  {
   "cell_type": "markdown",
   "metadata": {},
   "source": [
    "### Ergebnisse: Speicher"
   ]
  },
  {
   "cell_type": "code",
   "execution_count": 771,
   "metadata": {},
   "outputs": [
    {
     "data": {
      "text/html": [
       "<div>\n",
       "<style scoped>\n",
       "    .dataframe tbody tr th:only-of-type {\n",
       "        vertical-align: middle;\n",
       "    }\n",
       "\n",
       "    .dataframe tbody tr th {\n",
       "        vertical-align: top;\n",
       "    }\n",
       "\n",
       "    .dataframe thead th {\n",
       "        text-align: right;\n",
       "    }\n",
       "</style>\n",
       "<table border=\"1\" class=\"dataframe\">\n",
       "  <thead>\n",
       "    <tr style=\"text-align: right;\">\n",
       "      <th></th>\n",
       "      <th>S_in</th>\n",
       "      <th>S_out</th>\n",
       "    </tr>\n",
       "  </thead>\n",
       "  <tbody>\n",
       "    <tr>\n",
       "      <th>2015-03-08 19:00:00+00:00</th>\n",
       "      <td>-0.00</td>\n",
       "      <td>0.00</td>\n",
       "    </tr>\n",
       "    <tr>\n",
       "      <th>2015-03-08 20:00:00+00:00</th>\n",
       "      <td>-200.00</td>\n",
       "      <td>0.00</td>\n",
       "    </tr>\n",
       "    <tr>\n",
       "      <th>2015-03-08 21:00:00+00:00</th>\n",
       "      <td>-0.00</td>\n",
       "      <td>200.00</td>\n",
       "    </tr>\n",
       "    <tr>\n",
       "      <th>2015-03-08 22:00:00+00:00</th>\n",
       "      <td>-126.15</td>\n",
       "      <td>0.00</td>\n",
       "    </tr>\n",
       "    <tr>\n",
       "      <th>2015-03-08 23:00:00+00:00</th>\n",
       "      <td>-0.00</td>\n",
       "      <td>126.15</td>\n",
       "    </tr>\n",
       "  </tbody>\n",
       "</table>\n",
       "</div>"
      ],
      "text/plain": [
       "                             S_in   S_out\n",
       "2015-03-08 19:00:00+00:00   -0.00    0.00\n",
       "2015-03-08 20:00:00+00:00 -200.00    0.00\n",
       "2015-03-08 21:00:00+00:00   -0.00  200.00\n",
       "2015-03-08 22:00:00+00:00 -126.15    0.00\n",
       "2015-03-08 23:00:00+00:00   -0.00  126.15"
      ]
     },
     "execution_count": 771,
     "metadata": {},
     "output_type": "execute_result"
    }
   ],
   "source": [
    "# Save Storage to matrix\n",
    "matrix= []\n",
    "\n",
    "for t in T:\n",
    "    array = []\n",
    "    array.append(S_in[t].X)\n",
    "    array.append(S_out[t].X)\n",
    "    matrix.append(array)\n",
    "    \n",
    "# Convert matrix to Dataframe\n",
    "Storage = pd.DataFrame(matrix)\n",
    "# Rename columns\n",
    "Storage.columns = ['S_in', 'S_out']\n",
    "# Set index to timestamp\n",
    "Storage.set_index(df_res_load_cropped.index, inplace=True)\n",
    "# Convert S_in in negative values\n",
    "Storage['S_in'] *= -1 #Storage['S_in']=Storage['S_in']*-1\n",
    "\n",
    "Storage.tail()"
   ]
  },
  {
   "cell_type": "markdown",
   "metadata": {},
   "source": [
    "### Ergebnisse: Gesamt"
   ]
  },
  {
   "cell_type": "code",
   "execution_count": 773,
   "metadata": {},
   "outputs": [
    {
     "data": {
      "text/html": [
       "<div>\n",
       "<style scoped>\n",
       "    .dataframe tbody tr th:only-of-type {\n",
       "        vertical-align: middle;\n",
       "    }\n",
       "\n",
       "    .dataframe tbody tr th {\n",
       "        vertical-align: top;\n",
       "    }\n",
       "\n",
       "    .dataframe thead th {\n",
       "        text-align: right;\n",
       "    }\n",
       "</style>\n",
       "<table border=\"1\" class=\"dataframe\">\n",
       "  <thead>\n",
       "    <tr style=\"text-align: right;\">\n",
       "      <th></th>\n",
       "      <th>Biomasse</th>\n",
       "      <th>Gas</th>\n",
       "      <th>Steinkohle</th>\n",
       "      <th>Braunkohle</th>\n",
       "      <th>Uran</th>\n",
       "      <th>Öl</th>\n",
       "      <th>Wasser</th>\n",
       "      <th>S_in</th>\n",
       "      <th>S_out</th>\n",
       "      <th>Import</th>\n",
       "      <th>Export</th>\n",
       "    </tr>\n",
       "  </thead>\n",
       "  <tbody>\n",
       "    <tr>\n",
       "      <th>2015-03-02 00:00:00+00:00</th>\n",
       "      <td>0.0</td>\n",
       "      <td>331.35</td>\n",
       "      <td>0.0</td>\n",
       "      <td>0.0</td>\n",
       "      <td>666.0</td>\n",
       "      <td>0.0</td>\n",
       "      <td>146.0</td>\n",
       "      <td>-0.000</td>\n",
       "      <td>0.000</td>\n",
       "      <td>0.000</td>\n",
       "      <td>-80.0</td>\n",
       "    </tr>\n",
       "    <tr>\n",
       "      <th>2015-03-02 01:00:00+00:00</th>\n",
       "      <td>0.0</td>\n",
       "      <td>0.00</td>\n",
       "      <td>0.0</td>\n",
       "      <td>0.0</td>\n",
       "      <td>666.0</td>\n",
       "      <td>0.0</td>\n",
       "      <td>146.0</td>\n",
       "      <td>-10.625</td>\n",
       "      <td>0.000</td>\n",
       "      <td>80.000</td>\n",
       "      <td>-0.0</td>\n",
       "    </tr>\n",
       "    <tr>\n",
       "      <th>2015-03-02 02:00:00+00:00</th>\n",
       "      <td>0.0</td>\n",
       "      <td>0.00</td>\n",
       "      <td>0.0</td>\n",
       "      <td>0.0</td>\n",
       "      <td>666.0</td>\n",
       "      <td>0.0</td>\n",
       "      <td>0.0</td>\n",
       "      <td>-0.000</td>\n",
       "      <td>10.625</td>\n",
       "      <td>72.225</td>\n",
       "      <td>-0.0</td>\n",
       "    </tr>\n",
       "    <tr>\n",
       "      <th>2015-03-02 03:00:00+00:00</th>\n",
       "      <td>0.0</td>\n",
       "      <td>0.00</td>\n",
       "      <td>0.0</td>\n",
       "      <td>0.0</td>\n",
       "      <td>666.0</td>\n",
       "      <td>0.0</td>\n",
       "      <td>0.0</td>\n",
       "      <td>-99.975</td>\n",
       "      <td>0.000</td>\n",
       "      <td>0.000</td>\n",
       "      <td>-0.0</td>\n",
       "    </tr>\n",
       "    <tr>\n",
       "      <th>2015-03-02 04:00:00+00:00</th>\n",
       "      <td>0.0</td>\n",
       "      <td>0.00</td>\n",
       "      <td>0.0</td>\n",
       "      <td>0.0</td>\n",
       "      <td>666.0</td>\n",
       "      <td>0.0</td>\n",
       "      <td>0.0</td>\n",
       "      <td>-100.025</td>\n",
       "      <td>0.000</td>\n",
       "      <td>0.000</td>\n",
       "      <td>-39.9</td>\n",
       "    </tr>\n",
       "  </tbody>\n",
       "</table>\n",
       "</div>"
      ],
      "text/plain": [
       "                           Biomasse     Gas  Steinkohle  Braunkohle   Uran  \\\n",
       "2015-03-02 00:00:00+00:00       0.0  331.35         0.0         0.0  666.0   \n",
       "2015-03-02 01:00:00+00:00       0.0    0.00         0.0         0.0  666.0   \n",
       "2015-03-02 02:00:00+00:00       0.0    0.00         0.0         0.0  666.0   \n",
       "2015-03-02 03:00:00+00:00       0.0    0.00         0.0         0.0  666.0   \n",
       "2015-03-02 04:00:00+00:00       0.0    0.00         0.0         0.0  666.0   \n",
       "\n",
       "                            Öl  Wasser     S_in   S_out  Import  Export  \n",
       "2015-03-02 00:00:00+00:00  0.0   146.0   -0.000   0.000   0.000   -80.0  \n",
       "2015-03-02 01:00:00+00:00  0.0   146.0  -10.625   0.000  80.000    -0.0  \n",
       "2015-03-02 02:00:00+00:00  0.0     0.0   -0.000  10.625  72.225    -0.0  \n",
       "2015-03-02 03:00:00+00:00  0.0     0.0  -99.975   0.000   0.000    -0.0  \n",
       "2015-03-02 04:00:00+00:00  0.0     0.0 -100.025   0.000   0.000   -39.9  "
      ]
     },
     "execution_count": 773,
     "metadata": {},
     "output_type": "execute_result"
    }
   ],
   "source": [
    "df_plot = pd.concat([Production, Storage], axis=1)\n",
    "df_plot.head()"
   ]
  },
  {
   "cell_type": "code",
   "execution_count": 767,
   "metadata": {},
   "outputs": [
    {
     "data": {
      "text/html": [
       "<div>\n",
       "<style scoped>\n",
       "    .dataframe tbody tr th:only-of-type {\n",
       "        vertical-align: middle;\n",
       "    }\n",
       "\n",
       "    .dataframe tbody tr th {\n",
       "        vertical-align: top;\n",
       "    }\n",
       "\n",
       "    .dataframe thead th {\n",
       "        text-align: right;\n",
       "    }\n",
       "</style>\n",
       "<table border=\"1\" class=\"dataframe\">\n",
       "  <thead>\n",
       "    <tr style=\"text-align: right;\">\n",
       "      <th></th>\n",
       "      <th>0</th>\n",
       "      <th>Residuallast in MW</th>\n",
       "    </tr>\n",
       "  </thead>\n",
       "  <tbody>\n",
       "    <tr>\n",
       "      <th>2015-03-02 00:00:00+00:00</th>\n",
       "      <td>1063.350</td>\n",
       "      <td>1063.350</td>\n",
       "    </tr>\n",
       "    <tr>\n",
       "      <th>2015-03-02 01:00:00+00:00</th>\n",
       "      <td>881.375</td>\n",
       "      <td>881.375</td>\n",
       "    </tr>\n",
       "    <tr>\n",
       "      <th>2015-03-02 02:00:00+00:00</th>\n",
       "      <td>748.850</td>\n",
       "      <td>748.850</td>\n",
       "    </tr>\n",
       "    <tr>\n",
       "      <th>2015-03-02 03:00:00+00:00</th>\n",
       "      <td>566.025</td>\n",
       "      <td>566.025</td>\n",
       "    </tr>\n",
       "    <tr>\n",
       "      <th>2015-03-02 04:00:00+00:00</th>\n",
       "      <td>526.075</td>\n",
       "      <td>526.075</td>\n",
       "    </tr>\n",
       "  </tbody>\n",
       "</table>\n",
       "</div>"
      ],
      "text/plain": [
       "                                  0  Residuallast in MW\n",
       "2015-03-02 00:00:00+00:00  1063.350            1063.350\n",
       "2015-03-02 01:00:00+00:00   881.375             881.375\n",
       "2015-03-02 02:00:00+00:00   748.850             748.850\n",
       "2015-03-02 03:00:00+00:00   566.025             566.025\n",
       "2015-03-02 04:00:00+00:00   526.075             526.075"
      ]
     },
     "execution_count": 767,
     "metadata": {},
     "output_type": "execute_result"
    }
   ],
   "source": [
    "df_check = pd.concat([df_plot.sum(axis=1), df_res_load_cropped], axis=1)\n",
    "df_check.head()"
   ]
  },
  {
   "cell_type": "code",
   "execution_count": 770,
   "metadata": {},
   "outputs": [
    {
     "data": {
      "image/png": "[encoded data removed]",
      "text/plain": [
       "<Figure size 1080x576 with 1 Axes>"
      ]
     },
     "metadata": {
      "needs_background": "light"
     },
     "output_type": "display_data"
    }
   ],
   "source": [
    "fig, ax = plt.subplots(figsize=(15,8))\n",
    "df_plot.plot.area(ax=ax, stacked=True, linewidth=0)\n",
    "df_res_load_cropped.plot(ax=ax, style='--', c='k')\n",
    "\n",
    "plt.show()"
   ]
  },
  {
   "cell_type": "markdown",
   "metadata": {},
   "source": [
    "### Ergebnisse: Emissionen"
   ]
  },
  {
   "cell_type": "code",
   "execution_count": 768,
   "metadata": {},
   "outputs": [
    {
     "data": {
      "text/html": [
       "<div>\n",
       "<style scoped>\n",
       "    .dataframe tbody tr th:only-of-type {\n",
       "        vertical-align: middle;\n",
       "    }\n",
       "\n",
       "    .dataframe tbody tr th {\n",
       "        vertical-align: top;\n",
       "    }\n",
       "\n",
       "    .dataframe thead th {\n",
       "        text-align: right;\n",
       "    }\n",
       "</style>\n",
       "<table border=\"1\" class=\"dataframe\">\n",
       "  <thead>\n",
       "    <tr style=\"text-align: right;\">\n",
       "      <th></th>\n",
       "      <th>Biomasse</th>\n",
       "      <th>Gas</th>\n",
       "      <th>Steinkohle</th>\n",
       "      <th>Braunkohle</th>\n",
       "      <th>Uran</th>\n",
       "      <th>Öl</th>\n",
       "      <th>Wasser</th>\n",
       "    </tr>\n",
       "  </thead>\n",
       "  <tbody>\n",
       "    <tr>\n",
       "      <th>2015-03-08 19:00:00+00:00</th>\n",
       "      <td>0.0</td>\n",
       "      <td>168111.125</td>\n",
       "      <td>1324917.0</td>\n",
       "      <td>1617000.0</td>\n",
       "      <td>0.0</td>\n",
       "      <td>0.0</td>\n",
       "      <td>0.0</td>\n",
       "    </tr>\n",
       "    <tr>\n",
       "      <th>2015-03-08 20:00:00+00:00</th>\n",
       "      <td>0.0</td>\n",
       "      <td>0.000</td>\n",
       "      <td>1061448.3</td>\n",
       "      <td>1617000.0</td>\n",
       "      <td>0.0</td>\n",
       "      <td>0.0</td>\n",
       "      <td>0.0</td>\n",
       "    </tr>\n",
       "    <tr>\n",
       "      <th>2015-03-08 21:00:00+00:00</th>\n",
       "      <td>0.0</td>\n",
       "      <td>42519.750</td>\n",
       "      <td>1324917.0</td>\n",
       "      <td>0.0</td>\n",
       "      <td>0.0</td>\n",
       "      <td>0.0</td>\n",
       "      <td>0.0</td>\n",
       "    </tr>\n",
       "    <tr>\n",
       "      <th>2015-03-08 22:00:00+00:00</th>\n",
       "      <td>0.0</td>\n",
       "      <td>146157.375</td>\n",
       "      <td>1324917.0</td>\n",
       "      <td>0.0</td>\n",
       "      <td>0.0</td>\n",
       "      <td>0.0</td>\n",
       "      <td>0.0</td>\n",
       "    </tr>\n",
       "    <tr>\n",
       "      <th>2015-03-08 23:00:00+00:00</th>\n",
       "      <td>0.0</td>\n",
       "      <td>0.000</td>\n",
       "      <td>1324917.0</td>\n",
       "      <td>0.0</td>\n",
       "      <td>0.0</td>\n",
       "      <td>0.0</td>\n",
       "      <td>0.0</td>\n",
       "    </tr>\n",
       "  </tbody>\n",
       "</table>\n",
       "</div>"
      ],
      "text/plain": [
       "                           Biomasse         Gas  Steinkohle  Braunkohle  Uran  \\\n",
       "2015-03-08 19:00:00+00:00       0.0  168111.125   1324917.0   1617000.0   0.0   \n",
       "2015-03-08 20:00:00+00:00       0.0       0.000   1061448.3   1617000.0   0.0   \n",
       "2015-03-08 21:00:00+00:00       0.0   42519.750   1324917.0         0.0   0.0   \n",
       "2015-03-08 22:00:00+00:00       0.0  146157.375   1324917.0         0.0   0.0   \n",
       "2015-03-08 23:00:00+00:00       0.0       0.000   1324917.0         0.0   0.0   \n",
       "\n",
       "                            Öl  Wasser  \n",
       "2015-03-08 19:00:00+00:00  0.0     0.0  \n",
       "2015-03-08 20:00:00+00:00  0.0     0.0  \n",
       "2015-03-08 21:00:00+00:00  0.0     0.0  \n",
       "2015-03-08 22:00:00+00:00  0.0     0.0  \n",
       "2015-03-08 23:00:00+00:00  0.0     0.0  "
      ]
     },
     "execution_count": 768,
     "metadata": {},
     "output_type": "execute_result"
    }
   ],
   "source": [
    "# Save production to matrix\n",
    "matrix= []\n",
    "for t in T:\n",
    "    array = []\n",
    "    for i in I:\n",
    "        array.append(E[t,i].X)\n",
    "    matrix.append(array)\n",
    "# Convert matrix to Dataframe\n",
    "Emissionen = pd.DataFrame(matrix)\n",
    "# Rename columns\n",
    "Emissionen.columns = ['Biomasse', 'Gas', 'Steinkohle', 'Braunkohle', 'Uran', 'Öl', 'Wasser']\n",
    "# Set index to timestamp\n",
    "Emissionen.set_index(df_res_load_cropped.index, inplace=True)\n",
    "\n",
    "Emissionen.tail()"
   ]
  },
  {
   "cell_type": "code",
   "execution_count": 769,
   "metadata": {},
   "outputs": [
    {
     "data": {
      "image/png": "[encoded data removed]",
      "text/plain": [
       "<Figure size 432x288 with 1 Axes>"
      ]
     },
     "metadata": {
      "needs_background": "light"
     },
     "output_type": "display_data"
    }
   ],
   "source": [
    "Emissionen.plot(stacked=True)\n",
    "plt.show()"
   ]
  },
  {
   "cell_type": "code",
   "execution_count": null,
   "metadata": {},
   "outputs": [],
   "source": []
  }
 ],
 "metadata": {
  "kernelspec": {
   "display_name": "Python 3 (ipykernel)",
   "language": "python",
   "name": "python3"
  },
  "language_info": {
   "codemirror_mode": {
    "name": "ipython",
    "version": 3
   },
   "file_extension": ".py",
   "mimetype": "text/x-python",
   "name": "python",
   "nbconvert_exporter": "python",
   "pygments_lexer": "ipython3",
   "version": "3.9.10"
  }
 },
 "nbformat": 4,
 "nbformat_minor": 4
}
