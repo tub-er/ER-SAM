{
 "cells": [
  {
   "cell_type": "markdown",
   "metadata": {},
   "source": [
    "\n",
    "## Quick note about Jupyter cells\n",
    "\n",
    "Press **`<Shift> + <Enter>`** to run a cell.\n",
    "\n",
    "When you are editing a cell, you need to re-run the cell by pressing **`<Shift> + <Enter>`**. This will allow changes you made to be available to other cells.\n",
    "\n",
    "Use **`<Enter>`** to make new lines inside a cell you are editing.\n",
    "\n",
    "##### Code cells (choose cell type using the tab below the menu option `Help` )\n",
    "\n",
    "To edit an existing **code** cell, **click** on it.\n",
    "\n",
    "##### Markdown cells\n",
    "\n",
    "To edit an existing **markdown** cell, **double-click** on it.\n",
    "\n",
    "<hr>"
   ]
  },
  {
   "cell_type": "markdown",
   "metadata": {},
   "source": [
    "## Common Jupyter operations\n",
    "\n",
    "Jupyter provides a row of menu options (`File`, `Edit`, `View`, `Insert`, ...) and a row of tool bar icons (disk, plus sign, scissors, 2 files, clipboard and file, up arrow, ...).\n",
    "\n",
    "##### Inserting and removing cells\n",
    "\n",
    "- Use the \"plus sign\" icon to insert a cell below the currently selected cell **or** press B\n",
    "- Use \"Insert\" -> \"Insert Cell Above\" from the menu to insert above **or** press A\n",
    "- press DD to remove a cell\n",
    "\n",
    "##### Clear the output of all cells\n",
    "\n",
    "- Use \"Kernel\" -> \"Restart\" from the menu to restart the kernel\n",
    "    - click on \"clear all outputs & restart\" to have all the output cleared\n",
    "\n"
   ]
  },
  {
   "cell_type": "markdown",
   "metadata": {},
   "source": [
    "## Python objects, basic types, and variables\n",
    "\n",
    "Everything in Python is an **object** and every object in Python has a **type**. Some of the basic types include:\n",
    "\n",
    "- **`int`** (integer; a whole number with no decimal place)\n",
    "  - `10`\n",
    "  - `-3`\n",
    "- **`float`** (float; a number that has a decimal place)\n",
    "  - `7.41`\n",
    "  - `-0.006`\n",
    "- **`str`** (string; a sequence of characters enclosed in single quotes, double quotes, or triple quotes)\n",
    "  - `'this is a string using single quotes'`\n",
    "  - `\"this is a string using double quotes\"`\n",
    "  - `'''this is a triple quoted string using single quotes'''`\n",
    "  - `\"\"\"this is a triple quoted string using double quotes\"\"\"`\n",
    "- **`bool`** (boolean; a binary value that is either true or false)\n",
    "  - `True`\n",
    "  - `False`\n",
    "- **`NoneType`** (a special type representing the absence of a value)\n",
    "  - `None`\n",
    "\n",
    "In Python, a **variable** is a name you specify in your code that maps to a particular **object**, object **instance**, or value.\n",
    "\n",
    "By defining variables, we can refer to things by names that make sense to us. Names for variables can **only** contain letters, underscores (`_`), or numbers (no spaces, dashes, or other characters). Variable names **must** start with a letter or underscore.\n",
    "\n",
    "<hr>"
   ]
  },
  {
   "cell_type": "markdown",
   "metadata": {},
   "source": [
    "# 1. Assigning and printing values"
   ]
  },
  {
   "cell_type": "markdown",
   "metadata": {},
   "source": [
    "##### 1.1 Assign some float and int values to different variables"
   ]
  },
  {
   "cell_type": "code",
   "execution_count": null,
   "metadata": {},
   "outputs": [],
   "source": []
  },
  {
   "cell_type": "markdown",
   "metadata": {},
   "source": [
    "##### 1.2 Use the print() function to print variables. What is the between simply expressing a variable and printing it?\n",
    "**e.g.:** \n",
    "        `num1` **or** `print(num1)`"
   ]
  },
  {
   "cell_type": "code",
   "execution_count": null,
   "metadata": {},
   "outputs": [],
   "source": []
  },
  {
   "cell_type": "markdown",
   "metadata": {},
   "source": [
    "##### 1.3 Determine object types by using the type() function"
   ]
  },
  {
   "cell_type": "code",
   "execution_count": null,
   "metadata": {},
   "outputs": [],
   "source": []
  },
  {
   "cell_type": "markdown",
   "metadata": {},
   "source": [
    "## Basic operators\n",
    "\n",
    "In Python, there are different types of **operators** (special symbols) that operate on different values. Some of the basic operators include:\n",
    "\n",
    "- arithmetic operators\n",
    "  - **`+`** (addition)\n",
    "  - **`-`** (subtraction)\n",
    "  - **`*`** (multiplication)\n",
    "  - **`/`** (division)\n",
    "  - __`**`__ (exponent)\n",
    "- assignment operators\n",
    "  - **`=`** (assign a value)\n",
    "  - **`+=`** (add and re-assign; increment)\n",
    "  - **`-=`** (subtract and re-assign; decrement)\n",
    "  - **`*=`** (multiply and re-assign)\n",
    "- comparison operators (return either `True` or `False`)\n",
    "  - **`==`** (equal to)\n",
    "  - **`!=`** (not equal to)\n",
    "  - **`<`** (less than)\n",
    "  - **`<=`** (less than or equal to)\n",
    "  - **`>`** (greater than)\n",
    "  - **`>=`** (greater than or equal to)\n"
   ]
  },
  {
   "cell_type": "markdown",
   "metadata": {},
   "source": [
    "# 2. Using the basic operators"
   ]
  },
  {
   "cell_type": "markdown",
   "metadata": {},
   "source": [
    "## 2.1 Arithmetic operators"
   ]
  },
  {
   "cell_type": "markdown",
   "metadata": {},
   "source": [
    "##### Addition of variables (you can use your variables from task 1.1)"
   ]
  },
  {
   "cell_type": "code",
   "execution_count": null,
   "metadata": {},
   "outputs": [],
   "source": []
  },
  {
   "cell_type": "markdown",
   "metadata": {},
   "source": [
    "#### Subtraction"
   ]
  },
  {
   "cell_type": "code",
   "execution_count": null,
   "metadata": {},
   "outputs": [],
   "source": []
  },
  {
   "cell_type": "markdown",
   "metadata": {},
   "source": [
    "#### Multiplication"
   ]
  },
  {
   "cell_type": "code",
   "execution_count": null,
   "metadata": {},
   "outputs": [],
   "source": []
  },
  {
   "cell_type": "markdown",
   "metadata": {},
   "source": [
    "#### Division"
   ]
  },
  {
   "cell_type": "code",
   "execution_count": null,
   "metadata": {},
   "outputs": [],
   "source": []
  },
  {
   "cell_type": "markdown",
   "metadata": {},
   "source": [
    "#### Make yourself familiar with the exponent operator"
   ]
  },
  {
   "cell_type": "code",
   "execution_count": null,
   "metadata": {},
   "outputs": [],
   "source": []
  },
  {
   "cell_type": "markdown",
   "metadata": {},
   "source": [
    "## 2.2 Assignment operators"
   ]
  },
  {
   "cell_type": "markdown",
   "metadata": {},
   "source": [
    "#### Increment an existing variable"
   ]
  },
  {
   "cell_type": "code",
   "execution_count": null,
   "metadata": {},
   "outputs": [],
   "source": []
  },
  {
   "cell_type": "markdown",
   "metadata": {},
   "source": [
    "#### Decrement"
   ]
  },
  {
   "cell_type": "code",
   "execution_count": null,
   "metadata": {},
   "outputs": [],
   "source": []
  },
  {
   "cell_type": "markdown",
   "metadata": {},
   "source": [
    "#### Multiply and re-assign"
   ]
  },
  {
   "cell_type": "code",
   "execution_count": null,
   "metadata": {},
   "outputs": [],
   "source": []
  },
  {
   "cell_type": "markdown",
   "metadata": {},
   "source": [
    "#### Divide and re-assign"
   ]
  },
  {
   "cell_type": "code",
   "execution_count": null,
   "metadata": {},
   "outputs": [],
   "source": []
  },
  {
   "cell_type": "markdown",
   "metadata": {},
   "source": [
    "#### Create an mathematical expression with existing variables and assign its value to a new variable"
   ]
  },
  {
   "cell_type": "code",
   "execution_count": null,
   "metadata": {},
   "outputs": [],
   "source": []
  },
  {
   "cell_type": "markdown",
   "metadata": {},
   "source": [
    "## 2.3 Comparison operators"
   ]
  },
  {
   "cell_type": "markdown",
   "metadata": {},
   "source": [
    "#### Check if two expressions are equal to each other"
   ]
  },
  {
   "cell_type": "code",
   "execution_count": null,
   "metadata": {},
   "outputs": [],
   "source": []
  },
  {
   "cell_type": "markdown",
   "metadata": {},
   "source": [
    "#### Check if two expressions are not equal to each other"
   ]
  },
  {
   "cell_type": "code",
   "execution_count": null,
   "metadata": {},
   "outputs": [],
   "source": []
  },
  {
   "cell_type": "markdown",
   "metadata": {},
   "source": [
    "#### Is one expression's value less than the other one's?"
   ]
  },
  {
   "cell_type": "code",
   "execution_count": null,
   "metadata": {},
   "outputs": [],
   "source": []
  },
  {
   "cell_type": "markdown",
   "metadata": {},
   "source": [
    "#### Is one expression's value greater than the other one's?"
   ]
  },
  {
   "cell_type": "code",
   "execution_count": null,
   "metadata": {},
   "outputs": [],
   "source": []
  },
  {
   "cell_type": "markdown",
   "metadata": {},
   "source": [
    "#### Is one expression's value less than or equal to the other one's?"
   ]
  },
  {
   "cell_type": "code",
   "execution_count": null,
   "metadata": {},
   "outputs": [],
   "source": []
  },
  {
   "cell_type": "markdown",
   "metadata": {},
   "source": [
    "#### Is one expression's value greater than or equal to the other one's?"
   ]
  },
  {
   "cell_type": "code",
   "execution_count": null,
   "metadata": {},
   "outputs": [],
   "source": []
  },
  {
   "cell_type": "markdown",
   "metadata": {},
   "source": [
    "#### Determine if two expressions of your choice are True or False"
   ]
  },
  {
   "cell_type": "code",
   "execution_count": null,
   "metadata": {},
   "outputs": [],
   "source": []
  },
  {
   "cell_type": "code",
   "execution_count": null,
   "metadata": {},
   "outputs": [],
   "source": []
  },
  {
   "cell_type": "markdown",
   "metadata": {},
   "source": [
    "#### Assign some string objects to different variables and apply the basic, assignment and comparison operators. Which operators don't apply to string objects?"
   ]
  },
  {
   "cell_type": "code",
   "execution_count": null,
   "metadata": {},
   "outputs": [],
   "source": []
  },
  {
   "cell_type": "code",
   "execution_count": null,
   "metadata": {},
   "outputs": [],
   "source": []
  },
  {
   "cell_type": "code",
   "execution_count": null,
   "metadata": {},
   "outputs": [],
   "source": []
  },
  {
   "cell_type": "code",
   "execution_count": null,
   "metadata": {},
   "outputs": [],
   "source": []
  },
  {
   "cell_type": "code",
   "execution_count": null,
   "metadata": {},
   "outputs": [],
   "source": []
  },
  {
   "cell_type": "markdown",
   "metadata": {},
   "source": [
    "# 3. Basic containers"
   ]
  },
  {
   "cell_type": "markdown",
   "metadata": {},
   "source": [
    "## Basic containers\n",
    "\n",
    "> Note: **mutable** objects can be modified after creation and **immutable** objects cannot.\n",
    "\n",
    "Containers are objects that can be used to group other objects together. The basic container types include:\n",
    "\n",
    "- **`str`** (string: immutable; indexed by integers; items are stored in the order they were added)\n",
    "- **`list`** (list: mutable; indexed by integers; items are stored in the order they were added)\n",
    "- **`dict`** (dictionary: mutable; key-value pairs are indexed by immutable keys; items are NOT stored in the order they were added)\n",
    "\n",
    "When defining lists use commas (,) to separate the individual items. When defining dicts, use a colon (:) to separate keys from values and commas (,) to separate the key-value pairs.\n",
    "\n",
    "Strings and lists are both **sequence types** that can use the `+`, `*`, `+=`, and `*=` operators."
   ]
  },
  {
   "cell_type": "markdown",
   "metadata": {},
   "source": [
    "## 3.1 Assigning"
   ]
  },
  {
   "cell_type": "markdown",
   "metadata": {},
   "source": [
    "#### Assign some containers to different variables (one list and one dictionary)"
   ]
  },
  {
   "cell_type": "code",
   "execution_count": null,
   "metadata": {},
   "outputs": [],
   "source": []
  },
  {
   "cell_type": "markdown",
   "metadata": {},
   "source": [
    "#### Add and re-assign some objects to your list"
   ]
  },
  {
   "cell_type": "code",
   "execution_count": null,
   "metadata": {},
   "outputs": [],
   "source": []
  },
  {
   "cell_type": "markdown",
   "metadata": {},
   "source": [
    "#### Multiply your list"
   ]
  },
  {
   "cell_type": "code",
   "execution_count": null,
   "metadata": {},
   "outputs": [],
   "source": []
  },
  {
   "cell_type": "markdown",
   "metadata": {},
   "source": [
    "#### Try to multiply your dictionary. Does ist work?"
   ]
  },
  {
   "cell_type": "code",
   "execution_count": null,
   "metadata": {},
   "outputs": [],
   "source": []
  },
  {
   "cell_type": "markdown",
   "metadata": {},
   "source": [
    "## Accessing data in containers\n",
    "\n",
    "For strings and dicts, we can use **subscript notation** (square brackets) to access data at an index.\n",
    "\n",
    "- strings are indexed by integers, **starting at 0** for first item\n",
    "  - these sequence types also support accesing a range of items, known as **slicing**\n",
    "  - use **negative indexing** to start at the back of the sequence\n",
    "- dicts are indexed by their keys"
   ]
  },
  {
   "cell_type": "markdown",
   "metadata": {},
   "source": [
    "## 3.2 Accessing data"
   ]
  },
  {
   "cell_type": "markdown",
   "metadata": {},
   "source": [
    "#### Access the first item in a sequence"
   ]
  },
  {
   "cell_type": "code",
   "execution_count": null,
   "metadata": {},
   "outputs": [],
   "source": []
  },
  {
   "cell_type": "markdown",
   "metadata": {},
   "source": [
    "#### Access a range of items in a sequence"
   ]
  },
  {
   "cell_type": "code",
   "execution_count": null,
   "metadata": {},
   "outputs": [],
   "source": []
  },
  {
   "cell_type": "markdown",
   "metadata": {},
   "source": [
    "#### Access an item in a dictionary"
   ]
  },
  {
   "cell_type": "code",
   "execution_count": null,
   "metadata": {},
   "outputs": [],
   "source": []
  },
  {
   "cell_type": "markdown",
   "metadata": {},
   "source": [
    "#### Access an element of a sequence in a dictionary"
   ]
  },
  {
   "cell_type": "code",
   "execution_count": null,
   "metadata": {},
   "outputs": [],
   "source": []
  },
  {
   "cell_type": "markdown",
   "metadata": {},
   "source": [
    "# 4. Python basic iterations"
   ]
  },
  {
   "cell_type": "markdown",
   "metadata": {},
   "source": [
    "## Python \"for loops\"\n",
    "\n",
    "It is easy to **iterate** over a collection of items using a **for loop**. The strings and dictionaries we defined are all **iterable** containers.\n",
    "\n",
    "The for loop will go through the specified container, one item at a time, and provide a temporary variable for the current item. You can use this temporary variable like a normal variable."
   ]
  },
  {
   "cell_type": "markdown",
   "metadata": {},
   "source": [
    "#### Print all the items of your list from task 3.1 by using a for loop"
   ]
  },
  {
   "cell_type": "code",
   "execution_count": null,
   "metadata": {
    "collapsed": true,
    "jupyter": {
     "outputs_hidden": true
    }
   },
   "outputs": [],
   "source": []
  },
  {
   "cell_type": "markdown",
   "metadata": {},
   "source": [
    "## Python \"if statements\" and \"while loops\"\n",
    "\n",
    "Conditional expressions can be used with these two **conditional statements**.\n",
    "\n",
    "The **if statement** allows you to test a condition and perform some actions if the condition evaluates to `True`. You can also provide `elif` and/or `else` clauses to an if statement to take alternative actions if the condition evaluates to `False`.\n",
    "\n",
    "The **while loop** will keep looping until its conditional expression evaluates to `False`.\n",
    "\n",
    "> Note: It is possible to \"loop forever\" when using a while loop with a conditional expression that never evaluates to `False`.\n",
    ">\n",
    "> Note: Since the **for loop** will iterate over a container of items until there are no more, there is no need to specify a \"stop looping\" condition."
   ]
  },
  {
   "cell_type": "markdown",
   "metadata": {},
   "source": [
    "#### Create your own examples of using if statements and while loops"
   ]
  },
  {
   "cell_type": "code",
   "execution_count": null,
   "metadata": {},
   "outputs": [],
   "source": []
  },
  {
   "cell_type": "code",
   "execution_count": null,
   "metadata": {},
   "outputs": [],
   "source": []
  }
 ],
 "metadata": {
  "anaconda-cloud": {},
  "kernelspec": {
   "display_name": "Python 3 (ipykernel)",
   "language": "python",
   "name": "python3"
  },
  "language_info": {
   "codemirror_mode": {
    "name": "ipython",
    "version": 3
   },
   "file_extension": ".py",
   "mimetype": "text/x-python",
   "name": "python",
   "nbconvert_exporter": "python",
   "pygments_lexer": "ipython3",
   "version": "3.9.10"
  }
 },
 "nbformat": 4,
 "nbformat_minor": 4
}
