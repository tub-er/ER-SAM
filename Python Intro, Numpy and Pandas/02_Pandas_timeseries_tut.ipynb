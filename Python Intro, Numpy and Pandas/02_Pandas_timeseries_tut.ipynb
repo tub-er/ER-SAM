{
 "cells": [
  {
   "cell_type": "markdown",
   "metadata": {},
   "source": [
    "# Find the pandas documentation under: https://pandas.pydata.org/\n",
    "\n",
    "# Find a very helpful pandas cheat sheet under: https://pandas.pydata.org/Pandas_Cheat_Sheet.pdf"
   ]
  },
  {
   "cell_type": "markdown",
   "metadata": {
    "collapsed": false,
    "jupyter": {
     "outputs_hidden": false
    }
   },
   "source": [
    "### What did we do last time?\n",
    "\n",
    "- basic Python syntax\n",
    "- variables, operators and assignment\n",
    "- basic data types and containers\n",
    "- functions\n",
    "- loops"
   ]
  },
  {
   "cell_type": "code",
   "execution_count": 62,
   "metadata": {},
   "outputs": [],
   "source": [
    "# %\n",
    "# // \n",
    "# **\n",
    "# += "
   ]
  },
  {
   "cell_type": "code",
   "execution_count": 63,
   "metadata": {
    "collapsed": false,
    "jupyter": {
     "outputs_hidden": false
    },
    "pycharm": {
     "is_executing": true
    }
   },
   "outputs": [
    {
     "name": "stdout",
     "output_type": "stream",
     "text": [
      "2000 is a leap year\n",
      "2010 is not a leap year\n",
      "2020 is a leap year\n",
      "2030 is not a leap year\n",
      "2040 is a leap year\n",
      "2050 is not a leap year\n"
     ]
    }
   ],
   "source": [
    "# we looked at:\n",
    "# - how to define a function, return statement\n",
    "# - how to structure your code with tabs / spaces\n",
    "\n",
    "def is_leap_year(year):\n",
    "    \"\"\"\n",
    "    Check whether a year is a leap year or not\n",
    "    :param year:\n",
    "    :return bool:\n",
    "    \"\"\"\n",
    "    if year % 400 == 0 or (year % 100 != 0) and (year % 4 == 0):\n",
    "        print(f'{year} is a leap year')\n",
    "        return True\n",
    "    else:\n",
    "        print(f'{year} is not a leap year')\n",
    "        return False\n",
    "\n",
    "# - how to create a for loop in Python\n",
    "# - and call a function from each iteration of the loop\n",
    "\n",
    "year_list = [2000, 2010, 2020, 2030, 2040, 2050]\n",
    "for year in year_list:\n",
    "    is_leap_year(year)"
   ]
  },
  {
   "cell_type": "markdown",
   "metadata": {},
   "source": [
    "## Another concept you should know: List comprehensions"
   ]
  },
  {
   "cell_type": "code",
   "execution_count": 64,
   "metadata": {},
   "outputs": [],
   "source": [
    "nums = [1, 2, 3, 4, 5, 6, 20, 33, 100]\n",
    "# simple list comprehension\n",
    "res = [i for i in range(10)]"
   ]
  },
  {
   "cell_type": "code",
   "execution_count": 65,
   "metadata": {},
   "outputs": [
    {
     "name": "stdout",
     "output_type": "stream",
     "text": [
      "2000 is a leap year\n",
      "2010 is not a leap year\n",
      "2020 is a leap year\n",
      "2030 is not a leap year\n",
      "2040 is a leap year\n",
      "2050 is not a leap year\n"
     ]
    }
   ],
   "source": [
    "# running a function inside a list comprehension\n",
    "res = [is_leap_year(i) for i in year_list]\n"
   ]
  },
  {
   "cell_type": "code",
   "execution_count": 66,
   "metadata": {},
   "outputs": [
    {
     "data": {
      "text/plain": [
       "[True, False, True, False, True, False]"
      ]
     },
     "execution_count": 66,
     "metadata": {},
     "output_type": "execute_result"
    }
   ],
   "source": [
    "res"
   ]
  },
  {
   "cell_type": "markdown",
   "metadata": {},
   "source": [
    "#### Write a function that determines if a number is even and apply it to each value in nums. "
   ]
  },
  {
   "cell_type": "code",
   "execution_count": 67,
   "metadata": {},
   "outputs": [],
   "source": [
    "# define the function is even\n",
    "def is_even(num):\n",
    "    return num % 2 == 0"
   ]
  },
  {
   "cell_type": "code",
   "execution_count": 68,
   "metadata": {},
   "outputs": [
    {
     "name": "stdout",
     "output_type": "stream",
     "text": [
      "False\n",
      "True\n",
      "False\n",
      "True\n",
      "False\n",
      "True\n",
      "True\n",
      "False\n",
      "True\n"
     ]
    }
   ],
   "source": [
    "# apply this function to each value in nums using a for loop\n",
    "nums = [1, 2, 3, 4, 5, 6, 20, 33, 100]\n",
    "for i in nums:\n",
    "    print(is_even(i))"
   ]
  },
  {
   "cell_type": "code",
   "execution_count": 69,
   "metadata": {},
   "outputs": [
    {
     "data": {
      "text/plain": [
       "['False ist das Ergebenis für 1',\n",
       " 'True ist das Ergebenis für 2',\n",
       " 'False ist das Ergebenis für 3',\n",
       " 'True ist das Ergebenis für 4',\n",
       " 'False ist das Ergebenis für 5',\n",
       " 'True ist das Ergebenis für 6',\n",
       " 'True ist das Ergebenis für 20',\n",
       " 'False ist das Ergebenis für 33',\n",
       " 'True ist das Ergebenis für 100']"
      ]
     },
     "execution_count": 69,
     "metadata": {},
     "output_type": "execute_result"
    }
   ],
   "source": [
    "# apply this function to each value in nums using a list comprehension\n",
    "[f'{is_even(i)} ist das Ergebenis für {i}' for i in nums]"
   ]
  },
  {
   "cell_type": "markdown",
   "metadata": {},
   "source": [
    "#### More advanced list comprehension"
   ]
  },
  {
   "cell_type": "code",
   "execution_count": 30,
   "metadata": {},
   "outputs": [
    {
     "data": {
      "text/plain": [
       "[1, 2, 3, 4, 5, 6, 20, 33, 0]"
      ]
     },
     "execution_count": 30,
     "metadata": {},
     "output_type": "execute_result"
    }
   ],
   "source": [
    "# list comprehension with if \n",
    "# list comprehension with if else\n",
    "[i if i < 50 else 0 for i in nums]"
   ]
  },
  {
   "cell_type": "code",
   "execution_count": 29,
   "metadata": {},
   "outputs": [
    {
     "data": {
      "text/plain": [
       "[1, 2, 3, 4, 5, 6, 20, 33, 100]"
      ]
     },
     "execution_count": 29,
     "metadata": {},
     "output_type": "execute_result"
    }
   ],
   "source": []
  },
  {
   "cell_type": "code",
   "execution_count": 35,
   "metadata": {},
   "outputs": [
    {
     "data": {
      "text/plain": [
       "{1: False,\n",
       " 2: True,\n",
       " 3: False,\n",
       " 4: True,\n",
       " 5: False,\n",
       " 6: True,\n",
       " 20: True,\n",
       " 33: False,\n",
       " 100: True}"
      ]
     },
     "execution_count": 35,
     "metadata": {},
     "output_type": "execute_result"
    }
   ],
   "source": [
    "# dictionary comprehension\n",
    "res = {num: is_even(num) for num in nums}\n",
    "res"
   ]
  },
  {
   "cell_type": "code",
   "execution_count": null,
   "metadata": {},
   "outputs": [],
   "source": []
  },
  {
   "cell_type": "markdown",
   "metadata": {},
   "source": [
    "# Starting with Pandas"
   ]
  },
  {
   "cell_type": "markdown",
   "metadata": {},
   "source": [
    "### Import packages (numpy, matplotlib and pandas)\n",
    "\n",
    "- Importing a package brings it into the \"namespace\" of your current script\n",
    "- this means you can access its functions as if you defined them previuosly yourself\n",
    "- the **as** keyword allows you to give a package a self-chosen name\n",
    "- for pandas __pd__ is usually used, for numpy we use __np__ and for matplotlib __plt__"
   ]
  },
  {
   "cell_type": "code",
   "execution_count": 38,
   "metadata": {},
   "outputs": [],
   "source": [
    "#import numpy as np\n",
    "import pandas as pd\n",
    "import matplotlib.pyplot as plt"
   ]
  },
  {
   "cell_type": "markdown",
   "metadata": {
    "collapsed": false,
    "jupyter": {
     "outputs_hidden": false
    }
   },
   "source": [
    "#### If a package is not installed on your computer / your current environment you can install it using pip install \"package\"\n",
    "#### In Jupyter we can add a ! before pip, to install directly from the notebook. This will also work in Google Colab!"
   ]
  },
  {
   "cell_type": "code",
   "execution_count": null,
   "metadata": {
    "collapsed": false,
    "jupyter": {
     "outputs_hidden": false
    }
   },
   "outputs": [],
   "source": []
  },
  {
   "cell_type": "markdown",
   "metadata": {},
   "source": [
    "# 1. Read the csv file Messwert_2015.csv and see what the file looks like\n",
    "\n",
    "Making use of the Pandas documentation https://pandas.pydata.org/docs/reference/api/pandas.read_csv.html#pandas.read_csv\n",
    "We can create a simple but very powerful query to get the data from the CSV.\n",
    "\n",
    "We just learned that we can acces pandas functions after import the pandas module as pd by calling:\n",
    "__pd.some_function()__\n",
    "\n",
    "FYI, you can also open a CSV in Jupyter by navigating to it through the sidebar and double clicking it."
   ]
  },
  {
   "cell_type": "code",
   "execution_count": 124,
   "metadata": {},
   "outputs": [],
   "source": [
    "def convert_str_float(x: str):\n",
    "    x = float(x.replace(',', '.'))\n",
    "    return x\n",
    "\n",
    "#convert_str_float('279,5')\n",
    "\n",
    "\n",
    "df = pd.read_csv('Input/Messwertexport_2015.csv', sep=';', \n",
    "                 decimal=',',\n",
    "                 converters={'Wert': convert_str_float},\n",
    "                 parse_dates={'datetime':['[kW]','Attribut']})\n",
    "# Try the following arguments to the pd.read_csv() function\n",
    "# sep: str\n",
    "# decimal: str\n",
    "# usecols: list\n",
    "# dtype: dict\n",
    "# converters: dict\n",
    "# parse_dates: bool / list / dict"
   ]
  },
  {
   "cell_type": "code",
   "execution_count": 122,
   "metadata": {},
   "outputs": [
    {
     "data": {
      "text/plain": [
       "0        278.0\n",
       "1        258.0\n",
       "2        278.0\n",
       "3        268.0\n",
       "4        260.0\n",
       "         ...  \n",
       "35039    204.0\n",
       "35040    220.0\n",
       "35041    206.0\n",
       "35042    224.0\n",
       "35043    208.0\n",
       "Name: Wert, Length: 35044, dtype: float64"
      ]
     },
     "execution_count": 122,
     "metadata": {},
     "output_type": "execute_result"
    }
   ],
   "source": [
    "#df = df['Wert']"
   ]
  },
  {
   "cell_type": "markdown",
   "metadata": {
    "collapsed": false,
    "jupyter": {
     "outputs_hidden": false
    }
   },
   "source": [
    "### Reload the dataframe without our custom converter function"
   ]
  },
  {
   "cell_type": "code",
   "execution_count": null,
   "metadata": {
    "collapsed": false,
    "jupyter": {
     "outputs_hidden": false
    }
   },
   "outputs": [],
   "source": [
    "# convert Wert column to float using astype()\n",
    "# dropna()\n",
    "# fillna()\n",
    "# isna()"
   ]
  },
  {
   "cell_type": "markdown",
   "metadata": {
    "collapsed": false,
    "jupyter": {
     "outputs_hidden": false
    }
   },
   "source": [
    "#### Our data is now in a pandas DataFrame format\n",
    "\n",
    "The primary pandas data structure.\n",
    "\n",
    "A DataFrame is a data structure with labeled axes (rows and columns).\n",
    "\n",
    "Arithmetic operations align on both row and column labels.\n",
    "\n",
    "\" Excel for Python \"\n",
    "\n",
    "[DataFrame documentation](https://pandas.pydata.org/docs/reference/frame.html)"
   ]
  },
  {
   "cell_type": "markdown",
   "metadata": {
    "collapsed": false,
    "jupyter": {
     "outputs_hidden": false
    }
   },
   "source": [
    "# 2. Check out some basic functions of pd.DataFrames"
   ]
  },
  {
   "cell_type": "code",
   "execution_count": 149,
   "metadata": {},
   "outputs": [
    {
     "data": {
      "text/plain": [
       "datetime    2015-07-08 14:00:00\n",
       "Wert                      846.0\n",
       "Name: 20983, dtype: object"
      ]
     },
     "execution_count": 149,
     "metadata": {},
     "output_type": "execute_result"
    }
   ],
   "source": [
    "df.iloc[df['Wert'].idxmax()]"
   ]
  },
  {
   "cell_type": "code",
   "execution_count": 139,
   "metadata": {
    "collapsed": false,
    "jupyter": {
     "outputs_hidden": false
    }
   },
   "outputs": [],
   "source": [
    "# transpose\n",
    "# head()\n",
    "#df.head(9)\n",
    "# whats the difference between loc and iloc?\n",
    "# columns\n",
    "# rows\n",
    "# len()\n",
    "# size / shape\n",
    "# unique()\n",
    "# sum()\n",
    "# min(), max()\n",
    "# idxmin(), idxmax()\n",
    "\n",
    "# info()\n",
    "# describe()"
   ]
  },
  {
   "cell_type": "code",
   "execution_count": null,
   "metadata": {
    "collapsed": false,
    "jupyter": {
     "outputs_hidden": false
    }
   },
   "outputs": [],
   "source": [
    "# Whats the difference between size and shape?\n",
    "# Why do i have to put () behind head, tail, etc. but not behind shape, columns etc.?\n",
    "# Advanced: Why does loc use square brackets?"
   ]
  },
  {
   "cell_type": "markdown",
   "metadata": {
    "collapsed": false,
    "jupyter": {
     "outputs_hidden": false
    }
   },
   "source": [
    "### Use the iloc function to get the 107th row of the dataframe"
   ]
  },
  {
   "cell_type": "code",
   "execution_count": 117,
   "metadata": {
    "collapsed": false,
    "jupyter": {
     "outputs_hidden": false
    }
   },
   "outputs": [
    {
     "data": {
      "text/plain": [
       "datetime    2015-02-01 02:45:00\n",
       "Wert                      268.0\n",
       "Name: 106, dtype: object"
      ]
     },
     "execution_count": 117,
     "metadata": {},
     "output_type": "execute_result"
    }
   ],
   "source": [
    "df.iloc[106, :]"
   ]
  },
  {
   "cell_type": "markdown",
   "metadata": {
    "collapsed": false,
    "jupyter": {
     "outputs_hidden": false
    }
   },
   "source": [
    "### Use the iloc function to get the thrid from last row of the dataframe"
   ]
  },
  {
   "cell_type": "code",
   "execution_count": 127,
   "metadata": {
    "collapsed": false,
    "jupyter": {
     "outputs_hidden": false
    }
   },
   "outputs": [
    {
     "data": {
      "text/plain": [
       "datetime    2015-12-31 23:30:00\n",
       "Wert                      206.0\n",
       "Name: 35041, dtype: object"
      ]
     },
     "execution_count": 127,
     "metadata": {},
     "output_type": "execute_result"
    }
   ],
   "source": [
    "df.iloc[-3, :]"
   ]
  },
  {
   "cell_type": "markdown",
   "metadata": {
    "collapsed": false,
    "jupyter": {
     "outputs_hidden": false
    }
   },
   "source": [
    "### Use the .unique() function to tell the number of unique entries in the column 'Wert'"
   ]
  },
  {
   "cell_type": "code",
   "execution_count": null,
   "metadata": {
    "collapsed": false,
    "jupyter": {
     "outputs_hidden": false
    }
   },
   "outputs": [],
   "source": []
  },
  {
   "cell_type": "markdown",
   "metadata": {
    "collapsed": false,
    "jupyter": {
     "outputs_hidden": false
    }
   },
   "source": [
    "### Whats the sum of all values in the dataframe?"
   ]
  },
  {
   "cell_type": "code",
   "execution_count": null,
   "metadata": {
    "collapsed": false,
    "jupyter": {
     "outputs_hidden": false
    }
   },
   "outputs": [],
   "source": []
  },
  {
   "cell_type": "markdown",
   "metadata": {
    "collapsed": false,
    "jupyter": {
     "outputs_hidden": false
    }
   },
   "source": [
    "### Whats are the maximum and minimum value?"
   ]
  },
  {
   "cell_type": "code",
   "execution_count": null,
   "metadata": {
    "collapsed": false,
    "jupyter": {
     "outputs_hidden": false
    }
   },
   "outputs": [],
   "source": []
  },
  {
   "cell_type": "markdown",
   "metadata": {
    "collapsed": false,
    "jupyter": {
     "outputs_hidden": false
    }
   },
   "source": [
    "### Whats the sum of the rows [200 - 300] (inclusive)"
   ]
  },
  {
   "cell_type": "code",
   "execution_count": 157,
   "metadata": {
    "collapsed": false,
    "jupyter": {
     "outputs_hidden": false
    }
   },
   "outputs": [
    {
     "data": {
      "text/plain": [
       "20983"
      ]
     },
     "execution_count": 157,
     "metadata": {},
     "output_type": "execute_result"
    }
   ],
   "source": [
    "df['Wert']"
   ]
  },
  {
   "cell_type": "markdown",
   "metadata": {
    "collapsed": false,
    "jupyter": {
     "outputs_hidden": false
    }
   },
   "source": [
    "### When we access just one column of a Dataframe, pandas returns a **Series**\n",
    "\n",
    "A pd.Series is a one-dimensional Array with labels. Its like one column or row of a DataFrame.\n",
    "[pd.Series documentation](https://pandas.pydata.org/docs/reference/series.html)\n",
    "\n",
    "We can pretty much do the same things we do with DataFrames with Series as well."
   ]
  },
  {
   "cell_type": "code",
   "execution_count": null,
   "metadata": {
    "collapsed": false,
    "jupyter": {
     "outputs_hidden": false
    }
   },
   "outputs": [],
   "source": []
  },
  {
   "cell_type": "markdown",
   "metadata": {
    "collapsed": false,
    "jupyter": {
     "outputs_hidden": false
    }
   },
   "source": [
    "# 2. Filter DataFrame for the following criteria\n",
    "\n",
    "* values >= 500, 800, 900\n",
    "\n",
    "* datetime >= July"
   ]
  },
  {
   "cell_type": "code",
   "execution_count": 175,
   "metadata": {
    "collapsed": false,
    "jupyter": {
     "outputs_hidden": false
    }
   },
   "outputs": [
    {
     "data": {
      "text/html": [
       "<div>\n",
       "<style scoped>\n",
       "    .dataframe tbody tr th:only-of-type {\n",
       "        vertical-align: middle;\n",
       "    }\n",
       "\n",
       "    .dataframe tbody tr th {\n",
       "        vertical-align: top;\n",
       "    }\n",
       "\n",
       "    .dataframe thead th {\n",
       "        text-align: right;\n",
       "    }\n",
       "</style>\n",
       "<table border=\"1\" class=\"dataframe\">\n",
       "  <thead>\n",
       "    <tr style=\"text-align: right;\">\n",
       "      <th></th>\n",
       "      <th>datetime</th>\n",
       "      <th>Wert</th>\n",
       "    </tr>\n",
       "  </thead>\n",
       "  <tbody>\n",
       "    <tr>\n",
       "      <th>576</th>\n",
       "      <td>2015-07-01 00:15:00</td>\n",
       "      <td>276.0</td>\n",
       "    </tr>\n",
       "    <tr>\n",
       "      <th>577</th>\n",
       "      <td>2015-07-01 00:30:00</td>\n",
       "      <td>258.0</td>\n",
       "    </tr>\n",
       "    <tr>\n",
       "      <th>578</th>\n",
       "      <td>2015-07-01 00:45:00</td>\n",
       "      <td>274.0</td>\n",
       "    </tr>\n",
       "    <tr>\n",
       "      <th>579</th>\n",
       "      <td>2015-07-01 01:00:00</td>\n",
       "      <td>278.0</td>\n",
       "    </tr>\n",
       "    <tr>\n",
       "      <th>580</th>\n",
       "      <td>2015-07-01 01:15:00</td>\n",
       "      <td>246.0</td>\n",
       "    </tr>\n",
       "    <tr>\n",
       "      <th>...</th>\n",
       "      <td>...</td>\n",
       "      <td>...</td>\n",
       "    </tr>\n",
       "    <tr>\n",
       "      <th>32735</th>\n",
       "      <td>2015-07-12 23:00:00</td>\n",
       "      <td>304.0</td>\n",
       "    </tr>\n",
       "    <tr>\n",
       "      <th>32736</th>\n",
       "      <td>2015-07-12 23:15:00</td>\n",
       "      <td>302.0</td>\n",
       "    </tr>\n",
       "    <tr>\n",
       "      <th>32737</th>\n",
       "      <td>2015-07-12 23:30:00</td>\n",
       "      <td>292.0</td>\n",
       "    </tr>\n",
       "    <tr>\n",
       "      <th>32738</th>\n",
       "      <td>2015-07-12 23:45:00</td>\n",
       "      <td>270.0</td>\n",
       "    </tr>\n",
       "    <tr>\n",
       "      <th>32739</th>\n",
       "      <td>2015-07-12 00:00:00</td>\n",
       "      <td>296.0</td>\n",
       "    </tr>\n",
       "  </tbody>\n",
       "</table>\n",
       "<p>2977 rows × 2 columns</p>\n",
       "</div>"
      ],
      "text/plain": [
       "                 datetime   Wert\n",
       "576   2015-07-01 00:15:00  276.0\n",
       "577   2015-07-01 00:30:00  258.0\n",
       "578   2015-07-01 00:45:00  274.0\n",
       "579   2015-07-01 01:00:00  278.0\n",
       "580   2015-07-01 01:15:00  246.0\n",
       "...                   ...    ...\n",
       "32735 2015-07-12 23:00:00  304.0\n",
       "32736 2015-07-12 23:15:00  302.0\n",
       "32737 2015-07-12 23:30:00  292.0\n",
       "32738 2015-07-12 23:45:00  270.0\n",
       "32739 2015-07-12 00:00:00  296.0\n",
       "\n",
       "[2977 rows x 2 columns]"
      ]
     },
     "execution_count": 175,
     "metadata": {},
     "output_type": "execute_result"
    }
   ],
   "source": [
    "df[(df['datetime'] < '2015-08') & (df['datetime'] >= '2015-07')]"
   ]
  },
  {
   "cell_type": "markdown",
   "metadata": {
    "collapsed": false,
    "jupyter": {
     "outputs_hidden": false
    }
   },
   "source": [
    "### Try to filter the DataFrame for your birthday!"
   ]
  },
  {
   "cell_type": "code",
   "execution_count": null,
   "metadata": {
    "collapsed": false,
    "jupyter": {
     "outputs_hidden": false
    },
    "pycharm": {
     "is_executing": true
    }
   },
   "outputs": [],
   "source": []
  },
  {
   "cell_type": "code",
   "execution_count": null,
   "metadata": {
    "collapsed": false,
    "jupyter": {
     "outputs_hidden": false
    }
   },
   "outputs": [],
   "source": [
    "# whats the sum for that day? / the mean, min & max?"
   ]
  },
  {
   "cell_type": "markdown",
   "metadata": {
    "collapsed": false,
    "jp-MarkdownHeadingCollapsed": true,
    "jupyter": {
     "outputs_hidden": false
    }
   },
   "source": [
    "## Working with text data (strings) in dataframes\n",
    "\n",
    "There are some special methods to work with text based data in your dataframe.\n",
    "They can be accessed using the .str accessor. String methods are executed this way for each element in a selected row or column."
   ]
  },
  {
   "cell_type": "code",
   "execution_count": null,
   "metadata": {
    "collapsed": false,
    "jupyter": {
     "outputs_hidden": false
    },
    "pycharm": {
     "is_executing": true
    }
   },
   "outputs": [],
   "source": [
    "# .str.lower()\n",
    "# .str.contains()\n",
    "# .str.split()\n",
    "# .str.get()\n",
    "# .str.replace()"
   ]
  },
  {
   "cell_type": "markdown",
   "metadata": {
    "collapsed": false,
    "jupyter": {
     "outputs_hidden": false
    }
   },
   "source": [
    "The replace() method also works for non string data and can be used like so:"
   ]
  },
  {
   "cell_type": "code",
   "execution_count": null,
   "metadata": {
    "collapsed": false,
    "jupyter": {
     "outputs_hidden": false
    },
    "pycharm": {
     "is_executing": true
    }
   },
   "outputs": [],
   "source": [
    "# replace({})"
   ]
  },
  {
   "cell_type": "markdown",
   "metadata": {
    "collapsed": false,
    "jupyter": {
     "outputs_hidden": false
    }
   },
   "source": [
    "# 3. Let's Try some basic plotting of timeseries data"
   ]
  },
  {
   "cell_type": "code",
   "execution_count": null,
   "metadata": {
    "collapsed": false,
    "jupyter": {
     "outputs_hidden": false
    },
    "pycharm": {
     "is_executing": true
    }
   },
   "outputs": [],
   "source": [
    "# first let's rename the columns\n"
   ]
  },
  {
   "cell_type": "code",
   "execution_count": null,
   "metadata": {
    "collapsed": false,
    "jupyter": {
     "outputs_hidden": false
    }
   },
   "outputs": [],
   "source": [
    "# plot"
   ]
  },
  {
   "cell_type": "code",
   "execution_count": null,
   "metadata": {
    "collapsed": false,
    "jupyter": {
     "outputs_hidden": false
    }
   },
   "outputs": [],
   "source": [
    "# plot with DatetimeIndex"
   ]
  },
  {
   "cell_type": "code",
   "execution_count": null,
   "metadata": {
    "collapsed": false,
    "jupyter": {
     "outputs_hidden": false
    }
   },
   "outputs": [],
   "source": [
    "# plot with DatetimeIndex for just one week in May\n"
   ]
  },
  {
   "cell_type": "markdown",
   "metadata": {
    "collapsed": false,
    "jupyter": {
     "outputs_hidden": false
    }
   },
   "source": [
    "# 4. Resampling timeseries data"
   ]
  },
  {
   "cell_type": "markdown",
   "metadata": {},
   "source": [
    "### Explore the .resample() function to resample your dataframe"
   ]
  },
  {
   "cell_type": "code",
   "execution_count": null,
   "metadata": {
    "pycharm": {
     "is_executing": true
    }
   },
   "outputs": [],
   "source": []
  },
  {
   "cell_type": "markdown",
   "metadata": {},
   "source": [
    "### Make a plot of the daily mean values"
   ]
  },
  {
   "cell_type": "code",
   "execution_count": null,
   "metadata": {
    "pycharm": {
     "is_executing": true
    }
   },
   "outputs": [],
   "source": [
    "# TODO"
   ]
  },
  {
   "cell_type": "markdown",
   "metadata": {},
   "source": [
    "# 5. Evaluation of the electricity consumption\n",
    "\n",
    "    - calculate monthly demand in day (8:00-20:00) except for weekends\n",
    "    - calculate monthly demand in night (20:00-8:00) plus weekends"
   ]
  },
  {
   "cell_type": "markdown",
   "metadata": {},
   "source": [
    "### Apply what you learned!\n",
    "* Use .index.hour and .index.weekday to filter your data for the daily electricity consumption.\n",
    "* Calculate the total monthly electricity consumption during daytime."
   ]
  },
  {
   "cell_type": "code",
   "execution_count": null,
   "metadata": {
    "pycharm": {
     "is_executing": true
    }
   },
   "outputs": [],
   "source": []
  },
  {
   "cell_type": "markdown",
   "metadata": {},
   "source": [
    "### Follow the same process for night time"
   ]
  },
  {
   "cell_type": "code",
   "execution_count": null,
   "metadata": {
    "pycharm": {
     "is_executing": true
    }
   },
   "outputs": [],
   "source": []
  },
  {
   "cell_type": "markdown",
   "metadata": {
    "collapsed": false,
    "jupyter": {
     "outputs_hidden": false
    }
   },
   "source": [
    "### Plot daytime and nighttime daily sums in the same plot"
   ]
  },
  {
   "cell_type": "code",
   "execution_count": null,
   "metadata": {
    "collapsed": false,
    "jupyter": {
     "outputs_hidden": false
    },
    "pycharm": {
     "is_executing": true
    }
   },
   "outputs": [],
   "source": []
  },
  {
   "cell_type": "markdown",
   "metadata": {
    "collapsed": false,
    "jupyter": {
     "outputs_hidden": false
    }
   },
   "source": [
    "# Here is an example of more complicated plotting options to present timeseries data, that you can use for your future timeseries representations!"
   ]
  },
  {
   "cell_type": "code",
   "execution_count": null,
   "metadata": {
    "collapsed": false,
    "jupyter": {
     "outputs_hidden": false
    },
    "pycharm": {
     "is_executing": true
    }
   },
   "outputs": [],
   "source": [
    "# some additional matplotlib tools\n",
    "import matplotlib.colors as mc\n",
    "from matplotlib.cm import ScalarMappable\n",
    "\n",
    "\n",
    "def ts_heatmap(ts, cmap='magma', darkmode=False, unit='', title='', maximum=None):\n",
    "    \"\"\"Plot a heatmap of a timeseries data.\n",
    "    Only works if the dataset has 8760 hours.\n",
    "    And your data should be all positive values.\"\"\"\n",
    "    ts.reset_index(inplace=True, drop=True)\n",
    "    assert(len(ts)==8760)\n",
    "    # subdivide the data into bins for each month\n",
    "    bins=[]\n",
    "    first, last = 0, 0\n",
    "    for days in [31, 28, 31, 30, 31, 30, 31, 31, 30, 31, 30, 31]:\n",
    "        last += days\n",
    "        bins.append(ts[first*24:last*24])\n",
    "        first += days\n",
    "    months = ['Jan', 'Feb', 'Mar', 'Apr', 'May', 'Jun',\n",
    "              'Jul', 'Aug', 'Sep', 'Oct', 'Nov', 'Dec']\n",
    "    if maximum is None:\n",
    "        maximum = ts.max()\n",
    "    def single_plot(data, month, ax):\n",
    "        \"\"\"Plot for one month\"\"\"\n",
    "        xgrid = np.arange(len(data[0]) + 1) + 1\n",
    "        ygrid = np.arange(25)\n",
    "        ax.pcolormesh(xgrid, ygrid, data, cmap=cmap, vmin=0, vmax=maximum)\n",
    "        # invert vertical axis\n",
    "        ax.set_ylim(24, 0)\n",
    "        # Set tick positions for both axes\n",
    "        ax.yaxis.set_ticks([6, 12, 18, 24])\n",
    "        ax.xaxis.set_ticks([10, 20, 30])\n",
    "        # Remove ticks by setting their length to 0\n",
    "        ax.yaxis.set_tick_params(length=0)\n",
    "        ax.xaxis.set_tick_params(length=0)\n",
    "        ax.set_xlabel(month)\n",
    "        # Remove all spines\n",
    "        ax.set_frame_on(False)\n",
    "    if darkmode:\n",
    "        style='dark_background'\n",
    "    else:\n",
    "        style='default'\n",
    "    plt.style.use(style)\n",
    "    plt.rcParams.update({'font.size': 9})\n",
    "    fig, axes = plt.subplots(1, 12, figsize=(12, 4), sharey=True)\n",
    "    for i, b in enumerate(bins):\n",
    "        # Re-arrange temperature values\n",
    "        temp = b.values.reshape(24, len(b)//24, order=\"F\")\n",
    "        # Create the plots for each month\n",
    "        single_plot(temp, months[i], axes[i])\n",
    "    fig.suptitle(title)\n",
    "    # Adjust margin and space between subplots\n",
    "    # Extra space is on the left to add a label\n",
    "    fig.subplots_adjust(left=.05, right=.98, top=.9, hspace=.08, wspace=.04)\n",
    "    # Make some room for the legend in the bottom.\n",
    "    fig.subplots_adjust(bottom=0.2)\n",
    "    # Create a new axis to contain the color bar\n",
    "    # Values are:\n",
    "    # (x coordinate of left border,\n",
    "    #  y coordinate for bottom border,\n",
    "    #  width,\n",
    "    #  height)\n",
    "    cbar_ax = fig.add_axes([0.3, 0.05, 0.4, 0.025])\n",
    "    # Create a normalizer that goes from minimum to maximum value\n",
    "    norm = mc.Normalize(0, maximum)\n",
    "    # Create the colorbar and set it to horizontal\n",
    "    cb = fig.colorbar(\n",
    "        ScalarMappable(norm=norm, cmap=cmap),\n",
    "        cax=cbar_ax, # Pass the new axis\n",
    "        orientation = \"horizontal\"\n",
    "    )\n",
    "    cb.ax.xaxis.set_tick_params(size=0)\n",
    "    cb.set_label(f\"Demand {unit}\")\n",
    "    plt.show()"
   ]
  },
  {
   "cell_type": "code",
   "execution_count": null,
   "metadata": {
    "collapsed": false,
    "jupyter": {
     "outputs_hidden": false
    }
   },
   "outputs": [],
   "source": [
    "data.index=pd.DatetimeIndex(data['datetime'])\n",
    "ts_heatmap(data.resample('H').sum(), cmap='Oranges', unit='kW')"
   ]
  },
  {
   "cell_type": "markdown",
   "metadata": {
    "collapsed": false,
    "jupyter": {
     "outputs_hidden": false
    }
   },
   "source": [
    "## Also find some amazing plots you can create with Python here:\n",
    "\n",
    "[Python Graph Gallery](https://python-graph-gallery.com)"
   ]
  }
 ],
 "metadata": {
  "anaconda-cloud": {},
  "kernelspec": {
   "display_name": "Python 3 (ipykernel)",
   "language": "python",
   "name": "python3"
  },
  "language_info": {
   "codemirror_mode": {
    "name": "ipython",
    "version": 3
   },
   "file_extension": ".py",
   "mimetype": "text/x-python",
   "name": "python",
   "nbconvert_exporter": "python",
   "pygments_lexer": "ipython3",
   "version": "3.9.10"
  }
 },
 "nbformat": 4,
 "nbformat_minor": 4
}
