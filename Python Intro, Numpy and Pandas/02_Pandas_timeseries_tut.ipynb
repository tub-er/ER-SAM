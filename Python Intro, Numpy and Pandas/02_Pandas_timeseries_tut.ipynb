{
 "cells": [
  {
   "cell_type": "markdown",
   "metadata": {},
   "source": [
    "# Find the pandas documentation under: https://pandas.pydata.org/\n",
    "\n",
    "# Find a very helpful pandas cheat sheet under: https://pandas.pydata.org/Pandas_Cheat_Sheet.pdf"
   ]
  },
  {
   "cell_type": "markdown",
   "source": [
    "### What did we do last time?\n",
    "\n",
    "- basic Python syntax\n",
    "- variables, operators and assingment\n",
    "- basic data types and containers\n",
    "- functions\n",
    "- loops"
   ],
   "metadata": {
    "collapsed": false
   },
   "execution_count": 1
  },
  {
   "cell_type": "code",
   "execution_count": null,
   "outputs": [],
   "source": [
    "# we looked at:\n",
    "# - how to define a function, return statement\n",
    "# - how to structure your code with tabs / spaces\n",
    "\n",
    "def is_leap_year(year):\n",
    "    \"\"\"\n",
    "    Check whether a year is a leap year or not\n",
    "    :param year:\n",
    "    :return bool:\n",
    "    \"\"\"\n",
    "    if year % 400 == 0 or (year % 100 != 0) and (year % 4 == 0):\n",
    "        print(f'{year} is a leap year')\n",
    "        return True\n",
    "    else:\n",
    "        print(f'{year} is not a leap year')\n",
    "        return False\n",
    "\n",
    "# - how to create a for loop in Python\n",
    "# - and call a function from each iteration of the loop\n",
    "\n",
    "year_list = [2000, 2010, 2020, 2030, 2040, 2050]\n",
    "for year in year_list:\n",
    "    is_leap_year(year)"
   ],
   "metadata": {
    "collapsed": false,
    "pycharm": {
     "is_executing": true
    }
   }
  },
  {
   "cell_type": "markdown",
   "metadata": {},
   "source": [
    "### Import packages (numpy, matplotlib and pandas)\n",
    "\n",
    "- Importing a package brings it into the \"namespace\" of your current script\n",
    "- this means you can access its functions as if you defined them previuosly yourself\n",
    "- the **as** keyword allows you to give a package a self-chosen name\n",
    "- for pandas __pd__ is usually used, for numpy we use __np__ and for matplotlib __plt__"
   ]
  },
  {
   "cell_type": "code",
   "execution_count": 3,
   "metadata": {},
   "outputs": [],
   "source": [
    "import numpy as np\n",
    "import pandas as pd\n",
    "import matplotlib.pyplot as plt"
   ]
  },
  {
   "cell_type": "markdown",
   "source": [
    "#### If a package is not installed on your computer / your current environment you can install it using pip install \"package\"\n",
    "#### In Jupyter we can add a ! before pip, to install directly from the notebook. This will also work in Google Colab!"
   ],
   "metadata": {
    "collapsed": false
   }
  },
  {
   "cell_type": "code",
   "execution_count": 4,
   "outputs": [
    {
     "name": "stdout",
     "output_type": "stream",
     "text": [
      "Requirement already satisfied: pandas in /Users/jeremiashollnagel/.pyenv/versions/3.9.10/lib/python3.9/site-packages (1.4.0)\r\n",
      "Requirement already satisfied: python-dateutil>=2.8.1 in /Users/jeremiashollnagel/.pyenv/versions/3.9.10/lib/python3.9/site-packages (from pandas) (2.8.2)\r\n",
      "Requirement already satisfied: pytz>=2020.1 in /Users/jeremiashollnagel/.pyenv/versions/3.9.10/lib/python3.9/site-packages (from pandas) (2021.3)\r\n",
      "Requirement already satisfied: numpy>=1.18.5 in /Users/jeremiashollnagel/.pyenv/versions/3.9.10/lib/python3.9/site-packages (from pandas) (1.22.1)\r\n",
      "Requirement already satisfied: six>=1.5 in /Users/jeremiashollnagel/.pyenv/versions/3.9.10/lib/python3.9/site-packages (from python-dateutil>=2.8.1->pandas) (1.16.0)\r\n"
     ]
    }
   ],
   "source": [
    "!pip install pandas"
   ],
   "metadata": {
    "collapsed": false
   }
  },
  {
   "cell_type": "markdown",
   "metadata": {},
   "source": [
    "# 1. Read the csv file Messwert_2015.csv and see what the file looks like\n",
    "\n",
    "Making use of the Pandas documentation https://pandas.pydata.org/docs/reference/api/pandas.read_csv.html#pandas.read_csv\n",
    "We can create a simple but very powerful query to get the data from the CSV.\n",
    "\n",
    "We just learned that we can acces pandas functions after import the pandas module as pd by calling:\n",
    "__pd.some_function()__\n",
    "\n",
    "FYI, you can also open a CSV in Jupyter by navigating to it through the sidebar and double clicking it."
   ]
  },
  {
   "cell_type": "code",
   "execution_count": 5,
   "metadata": {},
   "outputs": [],
   "source": [
    "#pd.read_csv('Input/Messwertexport_2015.csv')\n",
    "# Try the following arguments to the pd.read_csv() function\n",
    "# sep: str\n",
    "# usecols: list\n",
    "# dtype: dict\n",
    "# converters: dict\n",
    "# parse_dates: bool / list / dict"
   ]
  },
  {
   "cell_type": "markdown",
   "source": [
    "### Reload the dataframe without our custom converter function"
   ],
   "metadata": {
    "collapsed": false
   }
  },
  {
   "cell_type": "code",
   "execution_count": 6,
   "outputs": [],
   "source": [
    "# convert Wert column to float using astype()\n",
    "# dropna()\n",
    "# fillna()\n",
    "# isna()"
   ],
   "metadata": {
    "collapsed": false
   }
  },
  {
   "cell_type": "markdown",
   "source": [
    "#### Our data is now in a pandas DataFrame format\n",
    "\n",
    "The primary pandas data structure.\n",
    "\n",
    "A DataFrame is a data structure with labeled axes (rows and columns).\n",
    "\n",
    "Arithmetic operations align on both row and column labels.\n",
    "\n",
    "\" Excel for Python \"\n",
    "\n",
    "[DataFrame documentation](https://pandas.pydata.org/docs/reference/frame.html)"
   ],
   "metadata": {
    "collapsed": false
   }
  },
  {
   "cell_type": "markdown",
   "source": [
    "# 2. Check out some basic functions of pd.DataFrames"
   ],
   "metadata": {
    "collapsed": false
   }
  },
  {
   "cell_type": "code",
   "execution_count": 7,
   "outputs": [],
   "source": [
    "# transpose\n",
    "# head()\n",
    "# tail()\n",
    "# whats the difference between loc and iloc?\n",
    "# columns\n",
    "# rows\n",
    "# len()\n",
    "# size / shape\n",
    "# unique()\n",
    "# sum()\n",
    "# min(), max()\n",
    "# idxmin(), idxmax()\n",
    "\n",
    "# info()\n",
    "# describe()"
   ],
   "metadata": {
    "collapsed": false
   }
  },
  {
   "cell_type": "code",
   "execution_count": 30,
   "outputs": [],
   "source": [
    "# Whats the difference between size and shape?\n",
    "# Why do i have to put () behind head, tail, etc. but not behind shape, columns etc.?\n",
    "# Advanced: Why does loc use square brackets?"
   ],
   "metadata": {
    "collapsed": false
   }
  },
  {
   "cell_type": "markdown",
   "source": [
    "### Use the iloc function to get the 107th row of the dataframe"
   ],
   "metadata": {
    "collapsed": false
   }
  },
  {
   "cell_type": "code",
   "execution_count": 48,
   "outputs": [],
   "source": [],
   "metadata": {
    "collapsed": false
   }
  },
  {
   "cell_type": "markdown",
   "source": [
    "### Use the iloc function to get the thrid from last row of the dataframe"
   ],
   "metadata": {
    "collapsed": false
   }
  },
  {
   "cell_type": "code",
   "execution_count": 7,
   "outputs": [],
   "source": [],
   "metadata": {
    "collapsed": false
   }
  },
  {
   "cell_type": "markdown",
   "source": [
    "### Use the .unique() function to tell the number of unique entries in the column 'Wert'"
   ],
   "metadata": {
    "collapsed": false
   }
  },
  {
   "cell_type": "code",
   "execution_count": 7,
   "outputs": [],
   "source": [],
   "metadata": {
    "collapsed": false
   }
  },
  {
   "cell_type": "markdown",
   "source": [
    "### Whats the sum of all values in the dataframe?"
   ],
   "metadata": {
    "collapsed": false
   }
  },
  {
   "cell_type": "code",
   "execution_count": 7,
   "outputs": [],
   "source": [],
   "metadata": {
    "collapsed": false
   }
  },
  {
   "cell_type": "markdown",
   "source": [
    "### Whats are the maximum and minimum value?"
   ],
   "metadata": {
    "collapsed": false
   }
  },
  {
   "cell_type": "code",
   "execution_count": 7,
   "outputs": [],
   "source": [],
   "metadata": {
    "collapsed": false
   }
  },
  {
   "cell_type": "markdown",
   "source": [
    "### Whats the sum of the rows [200 - 300] (inclusive)"
   ],
   "metadata": {
    "collapsed": false
   }
  },
  {
   "cell_type": "code",
   "execution_count": 7,
   "outputs": [],
   "source": [],
   "metadata": {
    "collapsed": false
   }
  },
  {
   "cell_type": "markdown",
   "source": [
    "### When we access just one column of a Dataframe, pandas returns a **Series**\n",
    "\n",
    "A pd.Series is a one-dimensional Array with labels. Its like one column or row of a DataFrame.\n",
    "[pd.Series documentation](https://pandas.pydata.org/docs/reference/series.html)\n",
    "\n",
    "We can pretty much do the same things we do with DataFrames with Series as well."
   ],
   "metadata": {
    "collapsed": false
   }
  },
  {
   "cell_type": "code",
   "execution_count": 7,
   "outputs": [],
   "source": [],
   "metadata": {
    "collapsed": false
   }
  },
  {
   "cell_type": "markdown",
   "source": [
    "# 2. Filter DataFrame for the following criteria\n",
    "\n",
    "* values >= 500, 800, 900\n",
    "\n",
    "* datetime >= July"
   ],
   "metadata": {
    "collapsed": false
   }
  },
  {
   "cell_type": "code",
   "execution_count": 7,
   "outputs": [],
   "source": [],
   "metadata": {
    "collapsed": false
   }
  },
  {
   "cell_type": "markdown",
   "source": [
    "### Try to filter the DataFrame for your birthday!"
   ],
   "metadata": {
    "collapsed": false
   }
  },
  {
   "cell_type": "code",
   "execution_count": null,
   "outputs": [],
   "source": [],
   "metadata": {
    "collapsed": false,
    "pycharm": {
     "is_executing": true
    }
   }
  },
  {
   "cell_type": "code",
   "execution_count": 8,
   "outputs": [],
   "source": [
    "# whats the sum for that day? / the mean, min & max?"
   ],
   "metadata": {
    "collapsed": false
   }
  },
  {
   "cell_type": "markdown",
   "source": [
    "## Working with text data (strings) in dataframes\n",
    "\n",
    "There are some special methods to work with text based data in your dataframe.\n",
    "They can be accessed using the .str accessor. String methods are executed this way for each element in a selected row or column."
   ],
   "metadata": {
    "collapsed": false
   }
  },
  {
   "cell_type": "code",
   "execution_count": null,
   "outputs": [],
   "source": [
    "# .str.lower()\n",
    "# .str.contains()\n",
    "# .str.split()\n",
    "# .str.get()\n",
    "# .str.replace()"
   ],
   "metadata": {
    "collapsed": false,
    "pycharm": {
     "is_executing": true
    }
   }
  },
  {
   "cell_type": "markdown",
   "source": [
    "The replace() method also works for non string data and can be used like so:"
   ],
   "metadata": {
    "collapsed": false
   }
  },
  {
   "cell_type": "code",
   "execution_count": null,
   "outputs": [],
   "source": [
    "# replace({})"
   ],
   "metadata": {
    "collapsed": false,
    "pycharm": {
     "is_executing": true
    }
   }
  },
  {
   "cell_type": "markdown",
   "source": [
    "# 3. Let's Try some basic plotting of timeseries data"
   ],
   "metadata": {
    "collapsed": false
   }
  },
  {
   "cell_type": "code",
   "execution_count": null,
   "outputs": [],
   "source": [
    "# first let's rename the columns\n"
   ],
   "metadata": {
    "collapsed": false,
    "pycharm": {
     "is_executing": true
    }
   }
  },
  {
   "cell_type": "code",
   "execution_count": 10,
   "outputs": [],
   "source": [
    "# plot"
   ],
   "metadata": {
    "collapsed": false
   }
  },
  {
   "cell_type": "code",
   "execution_count": 11,
   "outputs": [],
   "source": [
    "# plot with DatetimeIndex"
   ],
   "metadata": {
    "collapsed": false
   }
  },
  {
   "cell_type": "code",
   "execution_count": 12,
   "outputs": [],
   "source": [
    "# plot with DatetimeIndex for just one week in May\n"
   ],
   "metadata": {
    "collapsed": false
   }
  },
  {
   "cell_type": "markdown",
   "source": [
    "# 4. Resampling timeseries data"
   ],
   "metadata": {
    "collapsed": false
   }
  },
  {
   "cell_type": "markdown",
   "metadata": {},
   "source": [
    "### Explore the .resample() function to resample your dataframe"
   ]
  },
  {
   "cell_type": "code",
   "execution_count": null,
   "metadata": {
    "pycharm": {
     "is_executing": true
    }
   },
   "outputs": [],
   "source": []
  },
  {
   "cell_type": "markdown",
   "metadata": {},
   "source": [
    "### Make a plot of the daily mean values"
   ]
  },
  {
   "cell_type": "code",
   "execution_count": null,
   "metadata": {
    "pycharm": {
     "is_executing": true
    }
   },
   "outputs": [],
   "source": [
    "# TODO"
   ]
  },
  {
   "cell_type": "markdown",
   "metadata": {},
   "source": [
    "# 5. Evaluation of the electricity consumption\n",
    "\n",
    "    - calculate monthly demand in day (8:00-20:00) except for weekends\n",
    "    - calculate monthly demand in night (20:00-8:00) plus weekends"
   ]
  },
  {
   "cell_type": "markdown",
   "metadata": {},
   "source": [
    "### Apply what you learned!\n",
    "* Use .index.hour and .index.weekday to filter your data for the daily electricity consumption.\n",
    "* Calculate the total monthly electricity consumption during daytime."
   ]
  },
  {
   "cell_type": "code",
   "execution_count": null,
   "metadata": {
    "pycharm": {
     "is_executing": true
    }
   },
   "outputs": [],
   "source": []
  },
  {
   "cell_type": "markdown",
   "metadata": {},
   "source": [
    "### Follow the same process for night time"
   ]
  },
  {
   "cell_type": "code",
   "execution_count": null,
   "metadata": {
    "pycharm": {
     "is_executing": true
    }
   },
   "outputs": [],
   "source": []
  },
  {
   "cell_type": "markdown",
   "source": [
    "### Plot daytime and nighttime daily sums in the same plot"
   ],
   "metadata": {
    "collapsed": false
   }
  },
  {
   "cell_type": "code",
   "execution_count": null,
   "outputs": [],
   "source": [],
   "metadata": {
    "collapsed": false,
    "pycharm": {
     "is_executing": true
    }
   }
  },
  {
   "cell_type": "markdown",
   "source": [
    "# Here is an example of more complicated plotting options to present timeseries data, that you can use for your future timeseries representations!"
   ],
   "metadata": {
    "collapsed": false
   }
  },
  {
   "cell_type": "code",
   "execution_count": null,
   "outputs": [],
   "source": [
    "# some additional matplotlib tools\n",
    "import matplotlib.colors as mc\n",
    "from matplotlib.cm import ScalarMappable\n",
    "\n",
    "\n",
    "def ts_heatmap(ts, cmap='magma', darkmode=False, unit='', title='', maximum=None):\n",
    "    \"\"\"Plot a heatmap of a timeseries data.\n",
    "    Only works if the dataset has 8760 hours.\n",
    "    And your data should be all positive values.\"\"\"\n",
    "    ts.reset_index(inplace=True, drop=True)\n",
    "    assert(len(ts)==8760)\n",
    "    # subdivide the data into bins for each month\n",
    "    bins=[]\n",
    "    first, last = 0, 0\n",
    "    for days in [31, 28, 31, 30, 31, 30, 31, 31, 30, 31, 30, 31]:\n",
    "        last += days\n",
    "        bins.append(ts[first*24:last*24])\n",
    "        first += days\n",
    "    months = ['Jan', 'Feb', 'Mar', 'Apr', 'May', 'Jun',\n",
    "              'Jul', 'Aug', 'Sep', 'Oct', 'Nov', 'Dec']\n",
    "    if maximum is None:\n",
    "        maximum = ts.max()\n",
    "    def single_plot(data, month, ax):\n",
    "        \"\"\"Plot for one month\"\"\"\n",
    "        xgrid = np.arange(len(data[0]) + 1) + 1\n",
    "        ygrid = np.arange(25)\n",
    "        ax.pcolormesh(xgrid, ygrid, data, cmap=cmap, vmin=0, vmax=maximum)\n",
    "        # invert vertical axis\n",
    "        ax.set_ylim(24, 0)\n",
    "        # Set tick positions for both axes\n",
    "        ax.yaxis.set_ticks([6, 12, 18, 24])\n",
    "        ax.xaxis.set_ticks([10, 20, 30])\n",
    "        # Remove ticks by setting their length to 0\n",
    "        ax.yaxis.set_tick_params(length=0)\n",
    "        ax.xaxis.set_tick_params(length=0)\n",
    "        ax.set_xlabel(month)\n",
    "        # Remove all spines\n",
    "        ax.set_frame_on(False)\n",
    "    if darkmode:\n",
    "        style='dark_background'\n",
    "    else:\n",
    "        style='default'\n",
    "    plt.style.use(style)\n",
    "    plt.rcParams.update({'font.size': 9})\n",
    "    fig, axes = plt.subplots(1, 12, figsize=(12, 4), sharey=True)\n",
    "    for i, b in enumerate(bins):\n",
    "        # Re-arrange temperature values\n",
    "        temp = b.values.reshape(24, len(b)//24, order=\"F\")\n",
    "        # Create the plots for each month\n",
    "        single_plot(temp, months[i], axes[i])\n",
    "    fig.suptitle(title)\n",
    "    # Adjust margin and space between subplots\n",
    "    # Extra space is on the left to add a label\n",
    "    fig.subplots_adjust(left=.05, right=.98, top=.9, hspace=.08, wspace=.04)\n",
    "    # Make some room for the legend in the bottom.\n",
    "    fig.subplots_adjust(bottom=0.2)\n",
    "    # Create a new axis to contain the color bar\n",
    "    # Values are:\n",
    "    # (x coordinate of left border,\n",
    "    #  y coordinate for bottom border,\n",
    "    #  width,\n",
    "    #  height)\n",
    "    cbar_ax = fig.add_axes([0.3, 0.05, 0.4, 0.025])\n",
    "    # Create a normalizer that goes from minimum to maximum value\n",
    "    norm = mc.Normalize(0, maximum)\n",
    "    # Create the colorbar and set it to horizontal\n",
    "    cb = fig.colorbar(\n",
    "        ScalarMappable(norm=norm, cmap=cmap),\n",
    "        cax=cbar_ax, # Pass the new axis\n",
    "        orientation = \"horizontal\"\n",
    "    )\n",
    "    cb.ax.xaxis.set_tick_params(size=0)\n",
    "    cb.set_label(f\"Demand {unit}\")\n",
    "    plt.show()"
   ],
   "metadata": {
    "collapsed": false,
    "pycharm": {
     "is_executing": true
    }
   }
  },
  {
   "cell_type": "code",
   "execution_count": 29,
   "outputs": [
    {
     "data": {
      "text/plain": "<Figure size 1200x400 with 13 Axes>",
      "image/png": "[encoded data removed]"
     },
     "metadata": {},
     "output_type": "display_data"
    }
   ],
   "source": [
    "data.index=pd.DatetimeIndex(data['datetime'])\n",
    "ts_heatmap(data.resample('H').sum(), cmap='Oranges', unit='kW')"
   ],
   "metadata": {
    "collapsed": false
   }
  },
  {
   "cell_type": "markdown",
   "source": [
    "## Also find some amazing plots you can create with Python here:\n",
    "\n",
    "[Python Graph Gallery](https://python-graph-gallery.com)"
   ],
   "metadata": {
    "collapsed": false
   }
  }
 ],
 "metadata": {
  "anaconda-cloud": {},
  "kernelspec": {
   "display_name": "Python 3 (ipykernel)",
   "language": "python",
   "name": "python3"
  },
  "language_info": {
   "codemirror_mode": {
    "name": "ipython",
    "version": 3
   },
   "file_extension": ".py",
   "mimetype": "text/x-python",
   "name": "python",
   "nbconvert_exporter": "python",
   "pygments_lexer": "ipython3",
   "version": "3.9.10"
  }
 },
 "nbformat": 4,
 "nbformat_minor": 4
}
