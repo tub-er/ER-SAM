{
 "cells": [
  {
   "cell_type": "markdown",
   "metadata": {
    "collapsed": false,
    "jupyter": {
     "outputs_hidden": false
    }
   },
   "source": [
    "# Find the pandas documentation under: https://pandas.pydata.org/\n",
    "\n",
    "# Find a very helpful pandas cheat sheet under: https://pandas.pydata.org/Pandas_Cheat_Sheet.pdf"
   ]
  },
  {
   "cell_type": "markdown",
   "metadata": {
    "collapsed": false,
    "jupyter": {
     "outputs_hidden": false
    }
   },
   "source": [
    "### What did we do last time?\n",
    "\n",
    "- how to install and import modules\n",
    "- how to load a dataset in pandas\n",
    "- basic pandas functions\n",
    "- dataframes, series and associated functions\n",
    "- timeseries data in Pandas\n",
    "- basic plotting\n",
    "- code snippet for time series heatmap"
   ]
  },
  {
   "cell_type": "markdown",
   "metadata": {
    "collapsed": false,
    "jupyter": {
     "outputs_hidden": false
    }
   },
   "source": [
    "# Now, lets look at a more complicated dataset that we want to analyse\n",
    "\n",
    "What should we do first?"
   ]
  },
  {
   "cell_type": "code",
   "execution_count": null,
   "metadata": {
    "collapsed": false,
    "jupyter": {
     "outputs_hidden": false
    }
   },
   "outputs": [],
   "source": []
  },
  {
   "cell_type": "markdown",
   "metadata": {
    "collapsed": false,
    "jupyter": {
     "outputs_hidden": false
    }
   },
   "source": [
    "### Lets load the dataset\n",
    "\n",
    "You can find it at: Input/2018_11_Veroeff_RegDaten.xlsx"
   ]
  },
  {
   "cell_type": "code",
   "execution_count": 1,
   "metadata": {
    "collapsed": false,
    "jupyter": {
     "outputs_hidden": false
    }
   },
   "outputs": [],
   "source": [
    "# check the documentation for the function to use\n",
    "import pandas as pd\n",
    "test = pd.read_excel('Input/2018_11_Veroeff_RegDaten.xlsx')"
   ]
  },
  {
   "cell_type": "code",
   "execution_count": 2,
   "metadata": {
    "collapsed": false,
    "jupyter": {
     "outputs_hidden": false
    }
   },
   "outputs": [],
   "source": [
    "# What can we do to show the first/last n rows?\n",
    "# How can we see the columns\n",
    "# How can we see the unique entries of one column?\n",
    "# How many unique units are there in the dataset?\n",
    "# How many unique energy sources are there in the dataset"
   ]
  },
  {
   "cell_type": "code",
   "execution_count": 3,
   "metadata": {
    "collapsed": false,
    "jupyter": {
     "outputs_hidden": false
    }
   },
   "outputs": [
    {
     "data": {
      "text/plain": [
       "Index(['Meldedatum', 'Meldegrund', 'Anlagennummer', '1.8 EEG-Anlagenschlüssel',\n",
       "       '3.1 Genehmigungs-datum', '3.2 Genehmigungs-behörde',\n",
       "       '3.3 Genehmigungs-Aktenzeichen', '3.4 Geplantes Inbetriebnahme-datum',\n",
       "       '3.5 Errichtungs-frist', '4.1 Energieträger',\n",
       "       '4.2 Installierte Leistung [kW]',\n",
       "       '4.2.1 Inst. Leistung vor Leistungs-änderung (ohne Flexprämie)',\n",
       "       '4.2.2 Inst. Leistung nach Leistungs-änderung (ohne Flexprämie)',\n",
       "       '4.3 Tatsächliche Inbetrieb-nahme', '4.4 Datum Leistungs-änderung',\n",
       "       '4.5 Stilllegungs-datum', '4.6 Name der Anlage',\n",
       "       '4.7 Strasse bzw. Flurstück', '4.8 Haus-nummer', '4.9 Postleit-zahl',\n",
       "       '4.10 Ort bzw. Gemarkung', 'Gemeinde-schlüssel', '4.11 Bundesland',\n",
       "       'UTM-Zonenwert', 'UTM-East', 'UTM-North',\n",
       "       '4.13 Zugehörigkeit Anlagenpark', '4.13.1  Name des Anlagenparks',\n",
       "       '4.14 Spannungsebene', '4.15 Netzanschlusspunkt',\n",
       "       'Zählpunktbezeichnung', '4.16 Name des Netzbetreibers',\n",
       "       '4.17 Fernsteuerbarkeit durch:', '4.18 Gemeinsame techn. Einrichtung',\n",
       "       '4.19 Inanspruchnahme finanzielle Förderung',\n",
       "       '4.20 Eigenverbrauch geplant', '5.1 Eingesetzte Biomasse',\n",
       "       '5.2 Ausschließlich Biomasse',\n",
       "       '5.3 Flexprämie nach \\n§ 54 EEG 2014 oder \\n§ 50b EEG 2017',\n",
       "       '5.4 Erstmalige Inanspruchnahme Flexprämie',\n",
       "       '5.4.1 Leistungserhöhung Flexprämie',\n",
       "       '5.4.2 Datum Leistungserhöhung Flexprämie',\n",
       "       '5.4.3 Umfang der Leistungserhöhung [kW]',\n",
       "       '5.5 Erstmalig ausschließlich Biomethan',\n",
       "       '5.6 (5.8 in alter Version) Zustimmung gesonderte Veröffentlichung Biomethanstilllegung',\n",
       "       '6.1 KWK-Anlage', '6.2 Thermische Leistung [kW]',\n",
       "       '6.3 Andere Energieträger vor 01.08.2014',\n",
       "       '6.4 Eingesetzte andere Energieträger vor 01.08.2014',\n",
       "       '6.5 Erstmalige Stromerzeugung', '7.1 Windanlagenhersteller',\n",
       "       '7.2 Anlagentyp', '7.3 Nabenhöhe [m]', '7.4 Rotordurch-messer [m]',\n",
       "       '7.5 Repowering', '7.6 Stilllegung gemeldet',\n",
       "       '7.7.1 Mittlere Windge-schwindigkeit [m/s]',\n",
       "       '7.7.2 Formparameter Weibull-Verteilung',\n",
       "       '7.7.3 Skalenparameter Weibull-Verteilung',\n",
       "       '7.7.4 Ertrags-einschätzung [kWh]',\n",
       "       '7.7.5 Ertragseinschätzung/Referenzertrag [%]', '7.8.1 Seelage',\n",
       "       '7.8.2 Wassertiefe [m]', '7.8.3 Küstenentfernung [km]',\n",
       "       '7.9 Pilotwindanlage\\n(neue Spalte seit EEG2017)',\n",
       "       '8.1 Ertüchtigung Wasserkraftanlage', '8.2 Art der Ertüchtigung',\n",
       "       '8.3 Zulassungspflichtige Maßnahme',\n",
       "       '8.4. HöheLeistungs-steigerung [%]', '8.5 Datum der Ertüchtigung',\n",
       "       '9.1 Zuschlagnummer PV-Freifläche',\n",
       "       '9.2 Wie viel Fläche wird durch die PV-Freiflächenanlage in Anspruch genommen? [ha] ',\n",
       "       '9.3 Wie viel der PV-Freifläche ist davon Ackerland? [ha] '],\n",
       "      dtype='object')"
      ]
     },
     "execution_count": 3,
     "metadata": {},
     "output_type": "execute_result"
    }
   ],
   "source": [
    "test.columns"
   ]
  },
  {
   "cell_type": "code",
   "execution_count": 4,
   "metadata": {
    "collapsed": false,
    "jupyter": {
     "outputs_hidden": false
    }
   },
   "outputs": [
    {
     "data": {
      "text/plain": [
       "array(['Biomasse', 'Wasserkraft', 'Wind Land', 'Wind See', 'Grubengas',\n",
       "       'Klärgas', 'Deponiegas', 'Freifläche PV', 'Geothermie', 'Speicher'],\n",
       "      dtype=object)"
      ]
     },
     "execution_count": 4,
     "metadata": {},
     "output_type": "execute_result"
    }
   ],
   "source": [
    "test['4.1 Energieträger'].unique()"
   ]
  },
  {
   "cell_type": "markdown",
   "metadata": {
    "collapsed": false,
    "jupyter": {
     "outputs_hidden": false
    }
   },
   "source": [
    "### Do you remember how to filter a DataFrame?\n",
    "\n",
    "Filter for:\n",
    "* Installed capacity >= 2000 kW\n",
    "* Energy carrier: wind (onshore/offshore)\n",
    "* Energy carrier: contains the word 'gas'"
   ]
  },
  {
   "cell_type": "code",
   "execution_count": null,
   "metadata": {
    "collapsed": false,
    "jupyter": {
     "outputs_hidden": false
    }
   },
   "outputs": [],
   "source": []
  },
  {
   "cell_type": "markdown",
   "metadata": {
    "collapsed": false,
    "jupyter": {
     "outputs_hidden": false
    }
   },
   "source": [
    "### Task: Use the groupby function to clean up the dataframe and retain relevant information only:\n",
    "\n",
    "- Number of units per federal state and energy carrier\n",
    "- Installed capacity per federal state and energy carrier\n"
   ]
  },
  {
   "cell_type": "code",
   "execution_count": 24,
   "metadata": {},
   "outputs": [
    {
     "data": {
      "text/html": [
       "<div>\n",
       "<style scoped>\n",
       "    .dataframe tbody tr th:only-of-type {\n",
       "        vertical-align: middle;\n",
       "    }\n",
       "\n",
       "    .dataframe tbody tr th {\n",
       "        vertical-align: top;\n",
       "    }\n",
       "\n",
       "    .dataframe thead th {\n",
       "        text-align: right;\n",
       "    }\n",
       "</style>\n",
       "<table border=\"1\" class=\"dataframe\">\n",
       "  <thead>\n",
       "    <tr style=\"text-align: right;\">\n",
       "      <th></th>\n",
       "      <th></th>\n",
       "      <th>Anlagennummer</th>\n",
       "      <th>4.2 Installierte Leistung [kW]</th>\n",
       "    </tr>\n",
       "    <tr>\n",
       "      <th>4.1 Energieträger</th>\n",
       "      <th>4.11 Bundesland</th>\n",
       "      <th></th>\n",
       "      <th></th>\n",
       "    </tr>\n",
       "  </thead>\n",
       "  <tbody>\n",
       "    <tr>\n",
       "      <th rowspan=\"5\" valign=\"top\">Biomasse</th>\n",
       "      <th>Ausschließliche Wirtschaftszone (Wind See)</th>\n",
       "      <td>2</td>\n",
       "      <td>400.00</td>\n",
       "    </tr>\n",
       "    <tr>\n",
       "      <th>Baden-Württemberg</th>\n",
       "      <td>537</td>\n",
       "      <td>308094.77</td>\n",
       "    </tr>\n",
       "    <tr>\n",
       "      <th>Bayern</th>\n",
       "      <td>1399</td>\n",
       "      <td>866265.75</td>\n",
       "    </tr>\n",
       "    <tr>\n",
       "      <th>Berlin</th>\n",
       "      <td>10</td>\n",
       "      <td>3193.00</td>\n",
       "    </tr>\n",
       "    <tr>\n",
       "      <th>Brandenburg</th>\n",
       "      <td>163</td>\n",
       "      <td>111887.70</td>\n",
       "    </tr>\n",
       "    <tr>\n",
       "      <th>...</th>\n",
       "      <th>...</th>\n",
       "      <td>...</td>\n",
       "      <td>...</td>\n",
       "    </tr>\n",
       "    <tr>\n",
       "      <th rowspan=\"3\" valign=\"top\">Wind Land</th>\n",
       "      <th>Sachsen-Anhalt</th>\n",
       "      <td>733</td>\n",
       "      <td>1871297.70</td>\n",
       "    </tr>\n",
       "    <tr>\n",
       "      <th>Schleswig-Holstein</th>\n",
       "      <td>1999</td>\n",
       "      <td>4746743.30</td>\n",
       "    </tr>\n",
       "    <tr>\n",
       "      <th>Thüringen</th>\n",
       "      <td>362</td>\n",
       "      <td>930084.60</td>\n",
       "    </tr>\n",
       "    <tr>\n",
       "      <th rowspan=\"2\" valign=\"top\">Wind See</th>\n",
       "      <th>Ausschließliche Wirtschaftszone (Wind See)</th>\n",
       "      <td>1222</td>\n",
       "      <td>6124898.00</td>\n",
       "    </tr>\n",
       "    <tr>\n",
       "      <th>Niedersachsen</th>\n",
       "      <td>46</td>\n",
       "      <td>214170.00</td>\n",
       "    </tr>\n",
       "  </tbody>\n",
       "</table>\n",
       "<p>108 rows × 2 columns</p>\n",
       "</div>"
      ],
      "text/plain": [
       "                                                              Anlagennummer  \\\n",
       "4.1 Energieträger 4.11 Bundesland                                             \n",
       "Biomasse          Ausschließliche Wirtschaftszone (Wind See)              2   \n",
       "                  Baden-Württemberg                                     537   \n",
       "                  Bayern                                               1399   \n",
       "                  Berlin                                                 10   \n",
       "                  Brandenburg                                           163   \n",
       "...                                                                     ...   \n",
       "Wind Land         Sachsen-Anhalt                                        733   \n",
       "                  Schleswig-Holstein                                   1999   \n",
       "                  Thüringen                                             362   \n",
       "Wind See          Ausschließliche Wirtschaftszone (Wind See)           1222   \n",
       "                  Niedersachsen                                          46   \n",
       "\n",
       "                                                              4.2 Installierte Leistung [kW]  \n",
       "4.1 Energieträger 4.11 Bundesland                                                             \n",
       "Biomasse          Ausschließliche Wirtschaftszone (Wind See)                          400.00  \n",
       "                  Baden-Württemberg                                                308094.77  \n",
       "                  Bayern                                                           866265.75  \n",
       "                  Berlin                                                             3193.00  \n",
       "                  Brandenburg                                                      111887.70  \n",
       "...                                                                                      ...  \n",
       "Wind Land         Sachsen-Anhalt                                                  1871297.70  \n",
       "                  Schleswig-Holstein                                              4746743.30  \n",
       "                  Thüringen                                                        930084.60  \n",
       "Wind See          Ausschließliche Wirtschaftszone (Wind See)                      6124898.00  \n",
       "                  Niedersachsen                                                    214170.00  \n",
       "\n",
       "[108 rows x 2 columns]"
      ]
     },
     "execution_count": 24,
     "metadata": {},
     "output_type": "execute_result"
    }
   ],
   "source": [
    "# create one grouped dataset for number of units and one for installed capacity \n",
    "# combine them using pd.concat (make sure to concate along the right axis)\n",
    "# consider using fillna to replace nan values."
   ]
  },
  {
   "cell_type": "code",
   "execution_count": 48,
   "metadata": {},
   "outputs": [],
   "source": [
    "# Now we want to plot the results"
   ]
  },
  {
   "cell_type": "markdown",
   "metadata": {},
   "source": [
    "#### Try to personalize this plot by choosing your own color way, changing the size, renaming the columns, changing the location of the legend and so on..."
   ]
  },
  {
   "cell_type": "code",
   "execution_count": null,
   "metadata": {},
   "outputs": [],
   "source": []
  }
 ],
 "metadata": {
  "kernelspec": {
   "display_name": "Python 3 (ipykernel)",
   "language": "python",
   "name": "python3"
  },
  "language_info": {
   "codemirror_mode": {
    "name": "ipython",
    "version": 3
   },
   "file_extension": ".py",
   "mimetype": "text/x-python",
   "name": "python",
   "nbconvert_exporter": "python",
   "pygments_lexer": "ipython3",
   "version": "3.9.10"
  }
 },
 "nbformat": 4,
 "nbformat_minor": 4
}
