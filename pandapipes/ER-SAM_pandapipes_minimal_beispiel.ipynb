{
 "cells": [
  {
   "cell_type": "markdown",
   "id": "c0e35731",
   "metadata": {},
   "source": [
    "# pandapipes Minimalbeispiel ++"
   ]
  },
  {
   "cell_type": "markdown",
   "id": "6e3d7860",
   "metadata": {},
   "source": [
    "Importiere das Paket pandapipes mit der Kurzbezeichnung \"pipes\""
   ]
  },
  {
   "cell_type": "code",
   "execution_count": null,
   "id": "e0f297da",
   "metadata": {},
   "outputs": [],
   "source": [
    "fill in your own code "
   ]
  },
  {
   "cell_type": "markdown",
   "id": "70cd326e",
   "metadata": {},
   "source": [
    "Eröffne einen leeren Netzcontainer und gib die neue Variable auf dem Bildschirm aus / Create an empty net-container and print the net-datacontainer on the screen."
   ]
  },
  {
   "cell_type": "code",
   "execution_count": null,
   "id": "728493b2",
   "metadata": {},
   "outputs": [],
   "source": []
  },
  {
   "cell_type": "markdown",
   "id": "bd751571",
   "metadata": {},
   "source": [
    "Ergänze/befülle dein Netz mit 3 Knoten und gib das Netz auf dem Bildschirm aus. / Fill your empty net by adding 3 junctions and print the net on the screen."
   ]
  },
  {
   "cell_type": "code",
   "execution_count": null,
   "id": "1640bf13",
   "metadata": {},
   "outputs": [],
   "source": []
  },
  {
   "cell_type": "markdown",
   "id": "1b300f5a",
   "metadata": {},
   "source": [
    "Ergänze/befülle dein Netz mit 1 Rohr (j1-j2) und einem Ventil (j2-j3) und gib dein Netz auf dem Bildschirm aus. / Add a pipe (j1-j2) and a valve (j2-j3) to your network and print it again on the screen."
   ]
  },
  {
   "cell_type": "code",
   "execution_count": null,
   "id": "de10be3c",
   "metadata": {},
   "outputs": [],
   "source": []
  },
  {
   "cell_type": "markdown",
   "id": "eeb288c0",
   "metadata": {},
   "source": [
    "Berechne das Netz / Run the pipeflow"
   ]
  },
  {
   "cell_type": "code",
   "execution_count": null,
   "id": "acfa6ff6",
   "metadata": {},
   "outputs": [],
   "source": []
  },
  {
   "cell_type": "markdown",
   "id": "fb0028a0",
   "metadata": {},
   "source": [
    "Gib alle einzelnen Elemente deines Netze auf dem Bildschirm aus. / Print eacht element group on the screen."
   ]
  },
  {
   "cell_type": "code",
   "execution_count": null,
   "id": "87d952a3",
   "metadata": {},
   "outputs": [],
   "source": []
  },
  {
   "cell_type": "markdown",
   "id": "75ad6069",
   "metadata": {},
   "source": [
    "Erstelle ein Bild deines Netzes mit simple.plot. / Print the network using simple.plot. (may be you have to install packages like igraph first)"
   ]
  },
  {
   "cell_type": "code",
   "execution_count": null,
   "id": "4b7d3d7d",
   "metadata": {},
   "outputs": [],
   "source": []
  }
 ],
 "metadata": {
  "kernelspec": {
   "display_name": "Python 3 (ipykernel)",
   "language": "python",
   "name": "python3"
  },
  "language_info": {
   "codemirror_mode": {
    "name": "ipython",
    "version": 3
   },
   "file_extension": ".py",
   "mimetype": "text/x-python",
   "name": "python",
   "nbconvert_exporter": "python",
   "pygments_lexer": "ipython3",
   "version": "3.11.3"
  }
 },
 "nbformat": 4,
 "nbformat_minor": 5
}
