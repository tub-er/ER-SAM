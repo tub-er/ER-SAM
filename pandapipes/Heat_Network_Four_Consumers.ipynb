{
 "cells": [
  {
   "cell_type": "markdown",
   "id": "375e1513",
   "metadata": {},
   "source": [
    "# Heating network with for heat comsumers (pandapipes Version 0.9.0)"
   ]
  },
  {
   "cell_type": "raw",
   "id": "196b3234",
   "metadata": {},
   "source": [
    "This example shows how to set up and solve a heating network\n"
   ]
  },
  {
   "cell_type": "raw",
   "id": "bed88633",
   "metadata": {},
   "source": [
    "In this example, we will not only calculate the pressure and velocity distribution in the network, but also determine the temperature levels. The pump feeds fluid of a given temperature into the grid. Due to losses, the temperature will fall. The 4 heat exchanger in combination with a flow controler represents a heat consumper which remove more heat from the network. On its way back to the pump, the temperature will fall further, but then rise again because of the warmer return flow from the first heat consumpers."
   ]
  },
  {
   "cell_type": "raw",
   "id": "cf7d4edb",
   "metadata": {},
   "source": [
    "The network is based on the topology of a district heating grid, where the fluid returns to the pump after the consumers (heat exchangers) have been supplied."
   ]
  },
  {
   "cell_type": "raw",
   "id": "4d004c1a",
   "metadata": {},
   "source": [
    "To set up this network, at first, the pandapipes package has to be imported. Additionally, a net container is created and, at the same time, water as a fluid is chosen."
   ]
  },
  {
   "cell_type": "code",
   "execution_count": null,
   "id": "f441de12",
   "metadata": {},
   "outputs": [],
   "source": [
    "import pandapipes as pp\n",
    "\n",
    "# create empty net\n",
    "net = pp.create_empty_network(fluid =\"water\")"
   ]
  },
  {
   "cell_type": "raw",
   "id": "66870dc7",
   "metadata": {},
   "source": [
    "Note that the flow of the example network flows in a closed loop. We start building up the network with the junctions connected to the circulation pump j11 for the flow and j00 for the return flow. Note that the numbers are abitary and can be chosen as you like. "
   ]
  },
  {
   "cell_type": "code",
   "execution_count": null,
   "id": "5de82e86",
   "metadata": {},
   "outputs": [],
   "source": [
    "j11 = pp.create_junction(net, pn_bar=5, tfluid_k=293.15, name=\"junction 11\")\n",
    "j00 = pp.create_junction(net, pn_bar=5, tfluid_k=293.15, name=\"junction 00\")"
   ]
  },
  {
   "cell_type": "raw",
   "id": "a892382c",
   "metadata": {},
   "source": [
    "Then we add the junction j2, j3, j4 which are the the flow junction for the heat consumpers. Then we add the junction j5, j6, j7, and j0 "
   ]
  },
  {
   "cell_type": "code",
   "execution_count": null,
   "id": "1552998b",
   "metadata": {},
   "outputs": [],
   "source": [
    "j1 = pp.create_junction(net, pn_bar=5, tfluid_k=293.15, name=\"junction 1\")\n",
    "j2 = pp.create_junction(net, pn_bar=5, tfluid_k=293.15, name=\"junction 2\")\n",
    "j3 = pp.create_junction(net, pn_bar=5, tfluid_k=293.15, name=\"junction 3\")\n",
    "j4 = pp.create_junction(net, pn_bar=5, tfluid_k=293.15, name=\"junction 4\")\n",
    "j5 = pp.create_junction(net, pn_bar=5, tfluid_k=293.15, name=\"junction 5\")\n",
    "j6 = pp.create_junction(net, pn_bar=5, tfluid_k=293.15, name=\"junction 6\")\n",
    "j7 = pp.create_junction(net, pn_bar=5, tfluid_k=293.15, name=\"junction 7\")\n",
    "j0 = pp.create_junction(net, pn_bar=5, tfluid_k=293.15, name=\"junction 0\")"
   ]
  },
  {
   "cell_type": "raw",
   "id": "d4940753",
   "metadata": {},
   "source": [
    "Each heat consumper has to elements which need to be connected via a junction. Therefore we need to creat four more junctions. The numbers are chosen to be the numbers of the junctions of the heat consumer connected to the heat network."
   ]
  },
  {
   "cell_type": "code",
   "execution_count": null,
   "id": "f63a7443",
   "metadata": {},
   "outputs": [],
   "source": [
    "j10 = pp.create_junction(net, pn_bar=5, tfluid_k=293.15, name=\"junction 27\")\n",
    "j27 = pp.create_junction(net, pn_bar=5, tfluid_k=293.15, name=\"junction 27\")\n",
    "j36 = pp.create_junction(net, pn_bar=5, tfluid_k=293.15, name=\"junction 27\")\n",
    "j45 = pp.create_junction(net, pn_bar=5, tfluid_k=293.15, name=\"junction 27\")"
   ]
  },
  {
   "cell_type": "raw",
   "id": "e8eb3b68",
   "metadata": {},
   "source": [
    "Now, the pump will be created. Note that we use the Circulation Pump Pressure in this example, which is different from the Circulation Pump Mass component used in the \"cicular flow\" example."
   ]
  },
  {
   "cell_type": "code",
   "execution_count": null,
   "id": "f6104681",
   "metadata": {},
   "outputs": [],
   "source": [
    "pp.create_circ_pump_const_pressure(net, return_junction=j00, flow_junction=j11, p_flow_bar=5, plift_bar=0.7, t_flow_k=273.15+80)"
   ]
  },
  {
   "cell_type": "raw",
   "id": "001b4359",
   "metadata": {},
   "source": [
    "In the next step we add for heat consumpers. Each of them consists of a flow controler and a heat exchanger. In the next version of pandapipes this will be replaced by a new element the \"heat consumper\". But in this old version we to combine this two elements for decent heat consumer component."
   ]
  },
  {
   "cell_type": "code",
   "execution_count": null,
   "id": "11ee0328",
   "metadata": {},
   "outputs": [],
   "source": [
    "# 1. Heat consumer\n",
    "pp.create_flow_control(net, from_junction=j1, to_junction=j10, controlled_mdot_kg_per_s=5, diameter_m=200e-3)\n",
    "pp.create_heat_exchanger(net, from_junction=j10, to_junction=j0, diameter_m=200e-3, qext_w = 100000)\n",
    "# 2. Heat consumer\n",
    "pp.create_flow_control(net, from_junction=j2, to_junction=j27, controlled_mdot_kg_per_s=5, diameter_m=200e-3)\n",
    "pp.create_heat_exchanger(net, from_junction=j27, to_junction=j7, diameter_m=200e-3, qext_w = 100000)\n",
    "\n",
    "# 3. Heat consumer \n",
    "pp.create_flow_control(net, from_junction=j3, to_junction=j36, controlled_mdot_kg_per_s=5, diameter_m=200e-3)\n",
    "pp.create_heat_exchanger(net, from_junction=j36, to_junction=j6, diameter_m=200e-3, qext_w = 100000)\n",
    "\n",
    "# 4. Heat consumer \n",
    "pp.create_flow_control(net, from_junction=j4, to_junction=j45, controlled_mdot_kg_per_s=5, diameter_m=200e-3)\n",
    "pp.create_heat_exchanger(net, from_junction=j45, to_junction=j5, diameter_m=200e-3, qext_w = 100000)"
   ]
  },
  {
   "cell_type": "raw",
   "id": "87bbdc31",
   "metadata": {},
   "source": [
    "The missing elements are the pipes. Which will be created next. We start at the pump junction following the flow from consumer to consumer and then back on the return flow to the pump. (see Figure)"
   ]
  },
  {
   "cell_type": "code",
   "execution_count": null,
   "id": "cd84392e",
   "metadata": {},
   "outputs": [],
   "source": [
    "# from pump \"flow\" to first consumer\n",
    "pp.create_pipe_from_parameters(net, from_junction=j11, to_junction=j1, length_km=1,              \n",
    "                              diameter_m=200e-3, k_mm=.1, alpha_w_per_m2k=5, sections = 5, text_k=283)\n",
    "\n",
    "# from 1. consumer to 2.consumer \"flow\"\n",
    "pp.create_pipe_from_parameters(net, from_junction=j1, to_junction=j2, length_km=1,\n",
    "                              diameter_m=200e-3, k_mm=.1, alpha_w_per_m2k=5, sections = 5, text_k=283)\n",
    "\n",
    "# from 2. consumer to 3.consumer \"flow\"\n",
    "pp.create_pipe_from_parameters(net, from_junction=j2, to_junction=j3, length_km=1,\n",
    "                               diameter_m=200e-3, k_mm=.1, alpha_w_per_m2k=5, sections = 5, text_k=283)\n",
    "\n",
    "# from 3. consumer to 4.consumer \"flow\"\n",
    "pp.create_pipe_from_parameters(net, from_junction=j3, to_junction=j4, length_km=1,\n",
    "                              diameter_m=200e-3, k_mm=.1, alpha_w_per_m2k=5, sections = 5, text_k=283)\n",
    "\n",
    "# from 4. consumer to 3.consumer \"return flow\"\n",
    "pp.create_pipe_from_parameters(net, from_junction=j5, to_junction=j6, length_km=1,\n",
    "                              diameter_m=200e-3, k_mm=.1, alpha_w_per_m2k=5, sections = 5, text_k=283)\n",
    "\n",
    "# from 3. consumer to 2.consumer \"return flow\"\n",
    "pp.create_pipe_from_parameters(net, from_junction=j6, to_junction=j7, length_km=1,\n",
    "                               diameter_m=200e-3, k_mm=.1, alpha_w_per_m2k=5, sections = 5, text_k=283)\n",
    "\n",
    "# from 2.consumer to 1.consumer \"return flow\"\n",
    "pp.create_pipe_from_parameters(net, from_junction=j7, to_junction=j0, length_km=1,\n",
    "                               diameter_m=200e-3, k_mm=.1, alpha_w_per_m2k=5, sections = 5, text_k=283)\n",
    "\n",
    "# from 1.consumer to pump return flow\n",
    "pp.create_pipe_from_parameters(net, from_junction=j0, to_junction=j00, length_km=1,             \n",
    "                              diameter_m=200e-3, k_mm=.1, alpha_w_per_m2k=5, sections = 5, text_k=283)"
   ]
  },
  {
   "cell_type": "raw",
   "id": "eb7724f4",
   "metadata": {},
   "source": [
    "Now it is time to run the pipeflow."
   ]
  },
  {
   "cell_type": "code",
   "execution_count": null,
   "id": "d02e3a0f",
   "metadata": {},
   "outputs": [],
   "source": [
    "pp.pipeflow(net, mode='all')"
   ]
  },
  {
   "cell_type": "raw",
   "id": "1b467003",
   "metadata": {},
   "source": [
    "By default, only the pressure and velocity distribution is calculated by the pipeflow function. If the mode-parameter is set to \"all\", the heat transfer calculation is started automatically after the hydraulics computation. Computed mass flows are used as an input for the temperature calculation. After the computation, you can check the results for junctions and pipes:"
   ]
  },
  {
   "cell_type": "code",
   "execution_count": null,
   "id": "4045c2b6",
   "metadata": {},
   "outputs": [],
   "source": [
    "net.res_junction"
   ]
  },
  {
   "cell_type": "code",
   "execution_count": null,
   "id": "6eeef3fe",
   "metadata": {},
   "outputs": [],
   "source": [
    "net.res_pipe"
   ]
  }
 ],
 "metadata": {
  "kernelspec": {
   "display_name": "Python 3 (ipykernel)",
   "language": "python",
   "name": "python3"
  },
  "language_info": {
   "codemirror_mode": {
    "name": "ipython",
    "version": 3
   },
   "file_extension": ".py",
   "mimetype": "text/x-python",
   "name": "python",
   "nbconvert_exporter": "python",
   "pygments_lexer": "ipython3",
   "version": "3.11.3"
  }
 },
 "nbformat": 4,
 "nbformat_minor": 5
}
