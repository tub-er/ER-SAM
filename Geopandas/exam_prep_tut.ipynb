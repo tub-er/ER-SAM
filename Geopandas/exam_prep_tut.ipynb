{
 "cells": [
  {
   "cell_type": "markdown",
   "id": "829ee3e4-bec3-4b99-b67f-e744f5db223c",
   "metadata": {},
   "source": [
    "# Geopandas Excercise and repetition and exam preview"
   ]
  },
  {
   "cell_type": "markdown",
   "id": "7669f3fd-27bc-47cf-8672-67840d792814",
   "metadata": {},
   "source": [
    "#### Find the pandas documentation under https://pandas.pydata.org/docs/\n",
    "#### Find the geopandas documentation under: http://geopandas.org/index.html\n",
    "\n",
    "#### CheatSheet: https://pandas.pydata.org/Pandas_Cheat_Sheet.pdf"
   ]
  },
  {
   "cell_type": "markdown",
   "id": "f0ba4258-d457-4ef0-9056-96035fcdcba2",
   "metadata": {},
   "source": [
    "### Geopandas review"
   ]
  },
  {
   "cell_type": "code",
   "execution_count": 1,
   "id": "6725bed8-546e-4423-9fae-f2f80d5f603a",
   "metadata": {},
   "outputs": [],
   "source": [
    "# first some imports\n",
    "import pandas as pd\n",
    "import geopandas as gpd\n",
    "import matplotlib.pyplot as plt"
   ]
  },
  {
   "cell_type": "code",
   "execution_count": 2,
   "id": "882618e5-9b29-45f0-ac83-a9b3d680fe95",
   "metadata": {},
   "outputs": [],
   "source": [
    "# We are again using the NUTS3 dataset from last week\n",
    "nuts_gdf = gpd.read_file(r\"Input\\NUTS_RG_01M_2016_3035_LEVL_3.geojson\")"
   ]
  },
  {
   "cell_type": "markdown",
   "id": "d593a795-54cb-4cd9-a167-ebe6d6ecab9f",
   "metadata": {},
   "source": [
    "#### Do you remember how to get the first and last rows of a dataframe / geodataframe?"
   ]
  },
  {
   "cell_type": "code",
   "execution_count": null,
   "id": "428d58a1-6482-47e4-9667-f31af46344b5",
   "metadata": {
    "scrolled": true
   },
   "outputs": [],
   "source": []
  },
  {
   "cell_type": "code",
   "execution_count": null,
   "id": "4fa4b4a7-b42d-4875-816e-bcbe827e610c",
   "metadata": {},
   "outputs": [],
   "source": []
  },
  {
   "cell_type": "markdown",
   "id": "c4551930-bf1d-4657-aefa-d47bbba62510",
   "metadata": {},
   "source": [
    "#### Let's review filtering a dataframe"
   ]
  },
  {
   "cell_type": "code",
   "execution_count": 1,
   "id": "39acc9af-0d10-452e-90e4-798034832d0a",
   "metadata": {},
   "outputs": [],
   "source": [
    "# Find every region with the CNTR_CODE 'UK'\n"
   ]
  },
  {
   "cell_type": "code",
   "execution_count": 2,
   "id": "97e7832d-2114-4fbd-8757-c8c06e753107",
   "metadata": {},
   "outputs": [],
   "source": [
    "# Find every region with CNTR_CODE 'DE' or 'FR'\n"
   ]
  },
  {
   "cell_type": "code",
   "execution_count": 3,
   "id": "6c389f31-1ffe-4f20-a0a4-2fe5cef3edc1",
   "metadata": {},
   "outputs": [],
   "source": [
    "# chained comparison"
   ]
  },
  {
   "cell_type": "markdown",
   "id": "02d019ef-cfe1-46b0-8735-76a95fd5e176",
   "metadata": {},
   "source": [
    "#### Which function should you use to find the individual country codes?"
   ]
  },
  {
   "cell_type": "code",
   "execution_count": null,
   "id": "c629a137-42ee-4d6d-964e-5dfb766f71a7",
   "metadata": {},
   "outputs": [],
   "source": []
  },
  {
   "cell_type": "markdown",
   "id": "c90e3bbd-526b-4bc1-95ca-988a0d04d0f3",
   "metadata": {},
   "source": [
    "#### How many different NUTS levels are in the dataset?"
   ]
  },
  {
   "cell_type": "code",
   "execution_count": null,
   "id": "c58cd156-fdd5-474c-bb97-f784b9d0f86c",
   "metadata": {},
   "outputs": [],
   "source": []
  },
  {
   "cell_type": "markdown",
   "id": "c8d79bb4-1444-4798-b348-2dfde92d2258",
   "metadata": {},
   "source": [
    "#### How can you check which coordinate reference system your dataset is using? How can you change it to Lon/Lat format?"
   ]
  },
  {
   "cell_type": "code",
   "execution_count": null,
   "id": "f9a32984-6437-402a-8ccd-5c743153cd3d",
   "metadata": {},
   "outputs": [],
   "source": []
  },
  {
   "cell_type": "code",
   "execution_count": null,
   "id": "a916ec05-119c-40ef-9535-cb966be2f473",
   "metadata": {},
   "outputs": [],
   "source": []
  },
  {
   "cell_type": "markdown",
   "id": "ea37944f-573c-4781-9894-901bd8b81328",
   "metadata": {},
   "source": [
    "#### Do you remember how to plot the NUTS regions for Germany?"
   ]
  },
  {
   "cell_type": "code",
   "execution_count": null,
   "id": "e3c744f6-7500-4fac-aea0-42252ef94667",
   "metadata": {},
   "outputs": [],
   "source": []
  },
  {
   "cell_type": "markdown",
   "id": "c4d05780-1c0e-44e3-a0ab-d97ec4883421",
   "metadata": {},
   "source": [
    "#### Save the German NUTS regions in a variable 'de_gdf'"
   ]
  },
  {
   "cell_type": "code",
   "execution_count": null,
   "id": "ac7dd27e-63b6-4122-af80-7f31ff18ac67",
   "metadata": {},
   "outputs": [],
   "source": []
  },
  {
   "cell_type": "code",
   "execution_count": 14,
   "id": "c4b088bd-c52d-4ab9-9d15-74402d9c4e64",
   "metadata": {},
   "outputs": [
    {
     "data": {
      "text/plain": [
       "EU28    512379225\n",
       "EU27    508273732\n",
       "BE       11398589\n",
       "BE1       1205492\n",
       "BE10      1205492\n",
       "Name: population, dtype: int32"
      ]
     },
     "execution_count": 14,
     "metadata": {},
     "output_type": "execute_result"
    }
   ],
   "source": [
    "# get the population data once more\n",
    "csv = pd.read_csv('Input/demo_r_pjangrp3_1_Data.csv'\n",
    "                  , sep=',', encoding='iso-8859-1')\n",
    "csv = csv[csv['SEX'] == 'Insgesamt' ]\n",
    "# tidy up, convert to integer values\n",
    "pop = pd.Series(csv['Value'].values, index=csv['GEO'].values)\n",
    "pop = pop.apply(lambda x: x.replace('.',''))\n",
    "pop = pop[pop != ':']\n",
    "pop = pop.astype(int)\n",
    "pop.name = 'population'\n",
    "pop.head()"
   ]
  },
  {
   "cell_type": "markdown",
   "id": "777af03f-0482-4553-b089-766fe1303384",
   "metadata": {},
   "source": [
    "#### Align indices of the two datasets"
   ]
  },
  {
   "cell_type": "code",
   "execution_count": null,
   "id": "f48365bb-047c-43fa-a0fe-7ede2c72f102",
   "metadata": {},
   "outputs": [],
   "source": []
  },
  {
   "cell_type": "markdown",
   "id": "9ca45c90-e219-4005-a8f7-9d5ab3ab0f7e",
   "metadata": {},
   "source": [
    "#### Add the populaion column to the de_gdf"
   ]
  },
  {
   "cell_type": "code",
   "execution_count": null,
   "id": "d0d7a7b6-47e1-420b-9850-49b772d3c239",
   "metadata": {},
   "outputs": [],
   "source": []
  },
  {
   "cell_type": "code",
   "execution_count": 4,
   "id": "27b6787a-b1e9-4c60-aa17-f0ce85aecd6e",
   "metadata": {},
   "outputs": [],
   "source": [
    "# try the explore function to show a interactive version of your data \n",
    "# remember that you might have to install folium:\n",
    "# !pip install folium"
   ]
  },
  {
   "cell_type": "code",
   "execution_count": null,
   "id": "840d4cee-b30b-4fc6-a681-08ef6ea14d6f",
   "metadata": {},
   "outputs": [],
   "source": []
  },
  {
   "cell_type": "markdown",
   "id": "63ee9eae-d3fd-4418-8f97-0942c6b02ca9",
   "metadata": {},
   "source": [
    "## Pandas review"
   ]
  },
  {
   "cell_type": "markdown",
   "id": "c54bd975-4529-4cdb-b70d-ec3ed554f183",
   "metadata": {},
   "source": [
    "#### Load the Anlagenregister you already worked with in the pandas tutorial"
   ]
  },
  {
   "cell_type": "code",
   "execution_count": 5,
   "id": "cbdc99de-588f-4b8f-9844-c459929893cb",
   "metadata": {},
   "outputs": [],
   "source": [
    "# !pip install openpyxl"
   ]
  },
  {
   "cell_type": "code",
   "execution_count": 20,
   "id": "c4731cc5-cb38-4431-ba47-8bb3f5371e34",
   "metadata": {},
   "outputs": [],
   "source": [
    "anlagen = pd.read_excel('Input/2018_11_Veroeff_RegDaten.xlsx')"
   ]
  },
  {
   "cell_type": "code",
   "execution_count": null,
   "id": "a098caa9-c2a0-4a27-ba63-5ac418051655",
   "metadata": {
    "scrolled": true
   },
   "outputs": [],
   "source": []
  },
  {
   "cell_type": "markdown",
   "id": "57a00713-2b9c-4883-b1bc-cbc99192ffba",
   "metadata": {},
   "source": [
    "#### Check the columns of the dataset"
   ]
  },
  {
   "cell_type": "code",
   "execution_count": null,
   "id": "b850916f-6461-45fc-a0ac-22869e0c887b",
   "metadata": {},
   "outputs": [],
   "source": []
  },
  {
   "cell_type": "markdown",
   "id": "e3cbc277-26dc-4d21-8b34-ddaae07b7e7b",
   "metadata": {},
   "source": [
    "#### Find the min, max, mean, sum of thermal power (6.2 Thermische Leistung [kW])"
   ]
  },
  {
   "cell_type": "code",
   "execution_count": null,
   "id": "5b8e9fff-5d6f-4de5-a2cf-4301de065772",
   "metadata": {},
   "outputs": [],
   "source": []
  },
  {
   "cell_type": "markdown",
   "id": "65476613-b44a-4a26-9f14-ca40c13adf30",
   "metadata": {},
   "source": [
    "#### Find the mean / sum of thermal power grouped by by energy carrier (4.1 Energieträger) using .groupby()"
   ]
  },
  {
   "cell_type": "code",
   "execution_count": null,
   "id": "984d1731-c12b-4a92-bd54-eb6cca9b5274",
   "metadata": {},
   "outputs": [],
   "source": []
  },
  {
   "cell_type": "code",
   "execution_count": null,
   "id": "44d009b6-3a99-4075-9c31-5b74ddc7a6a2",
   "metadata": {},
   "outputs": [],
   "source": []
  },
  {
   "cell_type": "markdown",
   "id": "4f7b9a7f-1bb7-4d81-b533-c03f62499766",
   "metadata": {},
   "source": [
    "#### Plot your results using a suitable chart type \n",
    "(remember you can use .plot.line() / .plot.scatter() / .plot.bar() / .plot.hist() / ...)"
   ]
  },
  {
   "cell_type": "code",
   "execution_count": null,
   "id": "92745566-126c-4f58-9185-f2f6aac66e17",
   "metadata": {},
   "outputs": [],
   "source": []
  },
  {
   "cell_type": "markdown",
   "id": "23e9490d-b347-4355-b683-9bc8e06293b3",
   "metadata": {},
   "source": [
    "#### How can you add a label to your y-axis?"
   ]
  },
  {
   "cell_type": "code",
   "execution_count": null,
   "id": "7be392ef-5e3f-4af5-9d87-36ea8279a777",
   "metadata": {},
   "outputs": [],
   "source": []
  },
  {
   "cell_type": "markdown",
   "id": "204418b4-ddd6-4788-9474-d8610bf288ba",
   "metadata": {},
   "source": [
    "#### Do the same for the installed capacity ('4.2 Installierte Leistung [kW]') by date of installation ('4.3 Tatsächliche Inbetrieb-nahme')"
   ]
  },
  {
   "cell_type": "code",
   "execution_count": null,
   "id": "21c7cd90-97f9-4f74-a06c-9c90e963aaef",
   "metadata": {},
   "outputs": [],
   "source": [
    "anlagen['4.3 Tatsächliche Inbetrieb-nahme'].describe()  # some incorrect data (installation date 2107)"
   ]
  },
  {
   "cell_type": "code",
   "execution_count": 29,
   "id": "244c5716-3767-44e1-aa66-0938a28c0c50",
   "metadata": {},
   "outputs": [],
   "source": [
    "# you should only run this once!\n",
    "anlagen.drop(anlagen['4.3 Tatsächliche Inbetrieb-nahme'].idxmax(), inplace=True)  # drop the row with that date"
   ]
  },
  {
   "cell_type": "code",
   "execution_count": null,
   "id": "307611bf-f876-400c-8d90-5688ed0742b0",
   "metadata": {},
   "outputs": [],
   "source": []
  },
  {
   "cell_type": "markdown",
   "id": "f05bbff0-50ab-4738-a16d-a51dba3b3910",
   "metadata": {},
   "source": [
    "#### Do you remember the pivot table function? Create a table with date of installation as rows and energy carrier as columns. Sum the values for installed capacity."
   ]
  },
  {
   "cell_type": "code",
   "execution_count": 6,
   "id": "52b5b745-fa99-4124-b753-61fbced844d4",
   "metadata": {
    "scrolled": true
   },
   "outputs": [],
   "source": [
    "\n",
    "# Don't worry about the NaN values - for one date usually only one unit is installed"
   ]
  },
  {
   "cell_type": "markdown",
   "id": "0fefb13d-fee8-4c6d-bf13-844136366dcd",
   "metadata": {},
   "source": [
    "#### Plot the results for 2018. Use a stacked area plot."
   ]
  },
  {
   "cell_type": "code",
   "execution_count": null,
   "id": "217c33a1-c1fa-4635-8718-5f474e3ba33f",
   "metadata": {},
   "outputs": [],
   "source": []
  },
  {
   "cell_type": "markdown",
   "id": "3b4ef6b6-388e-47cb-a46d-1cf598c1123d",
   "metadata": {},
   "source": [
    "### Time for questions before the exam!"
   ]
  },
  {
   "cell_type": "code",
   "execution_count": 33,
   "id": "78f80c52-4e94-4edb-be8c-153ddf269d69",
   "metadata": {},
   "outputs": [],
   "source": [
    "# Lade nochmal alle Lösungen hoch\n",
    "# In der Klausur ist kein Internet oder ChatGPT erlaubt \n",
    "# Stattdessen könnt ihr das ausgeruckte \"cheat-sheet\" mitnehmen\n",
    "# Aufgabe: Aus einer großen Tabelle Informationen herausfiltern und in plots abbilden.\n",
    "# Eventuell auch Zeitreihen - resample und filtern nochmal anschauen!"
   ]
  },
  {
   "cell_type": "markdown",
   "id": "52aef5ae-7d9b-4595-8cc0-4c24f21723d2",
   "metadata": {
    "jp-MarkdownHeadingCollapsed": true
   },
   "source": [
    "### Voluntary homework (will not be part of the exam): create a GeoDataFrame from scratch & use geo-operations on two GeoDataFrames"
   ]
  },
  {
   "cell_type": "markdown",
   "id": "2e230bf6-b055-45bf-88d0-7305ce00977c",
   "metadata": {},
   "source": [
    "#### Create a geodataframe from a dataframe with coordinates\n",
    "Note how you can create a dataframe yourself from a dictionary!\n",
    "This works for pandas and geopandas. However geopandas needs a geometry column. "
   ]
  },
  {
   "cell_type": "code",
   "execution_count": 34,
   "id": "0263b003-dd55-40c5-9d54-87ba4dc39b68",
   "metadata": {},
   "outputs": [
    {
     "data": {
      "text/html": [
       "<div>\n",
       "<style scoped>\n",
       "    .dataframe tbody tr th:only-of-type {\n",
       "        vertical-align: middle;\n",
       "    }\n",
       "\n",
       "    .dataframe tbody tr th {\n",
       "        vertical-align: top;\n",
       "    }\n",
       "\n",
       "    .dataframe thead th {\n",
       "        text-align: right;\n",
       "    }\n",
       "</style>\n",
       "<table border=\"1\" class=\"dataframe\">\n",
       "  <thead>\n",
       "    <tr style=\"text-align: right;\">\n",
       "      <th></th>\n",
       "      <th>City</th>\n",
       "      <th>Latitude</th>\n",
       "      <th>Longitude</th>\n",
       "    </tr>\n",
       "  </thead>\n",
       "  <tbody>\n",
       "    <tr>\n",
       "      <th>0</th>\n",
       "      <td>Berlin</td>\n",
       "      <td>52.52</td>\n",
       "      <td>13.41</td>\n",
       "    </tr>\n",
       "    <tr>\n",
       "      <th>1</th>\n",
       "      <td>München</td>\n",
       "      <td>48.14</td>\n",
       "      <td>11.58</td>\n",
       "    </tr>\n",
       "    <tr>\n",
       "      <th>2</th>\n",
       "      <td>Frankfurt</td>\n",
       "      <td>50.11</td>\n",
       "      <td>8.68</td>\n",
       "    </tr>\n",
       "    <tr>\n",
       "      <th>3</th>\n",
       "      <td>Köln</td>\n",
       "      <td>50.94</td>\n",
       "      <td>6.95</td>\n",
       "    </tr>\n",
       "    <tr>\n",
       "      <th>4</th>\n",
       "      <td>Hamburg</td>\n",
       "      <td>53.55</td>\n",
       "      <td>9.99</td>\n",
       "    </tr>\n",
       "  </tbody>\n",
       "</table>\n",
       "</div>"
      ],
      "text/plain": [
       "        City Latitude Longitude\n",
       "0     Berlin    52.52     13.41\n",
       "1    München    48.14     11.58\n",
       "2  Frankfurt    50.11      8.68\n",
       "3       Köln    50.94      6.95\n",
       "4    Hamburg    53.55      9.99"
      ]
     },
     "execution_count": 34,
     "metadata": {},
     "output_type": "execute_result"
    }
   ],
   "source": [
    "# first we define some simple dataset\n",
    "cities_df = pd.DataFrame(\n",
    "    {\n",
    "        \"City\": [\"Berlin\", \"München\", \"Frankfurt\", \"Köln\", \"Hamburg\"],\n",
    "        \"Latitude\": ['52.52', '48.14', '50.11', '50.94', '53.55'],\n",
    "        \"Longitude\": ['13.41', '11.58', '8.68', '6.95', '9.99'],\n",
    "    }\n",
    ")\n",
    "cities_df"
   ]
  },
  {
   "cell_type": "markdown",
   "id": "cd924bca-9a9b-4be7-8936-78de21a65d5e",
   "metadata": {},
   "source": [
    "#### Is this a dataframe or geodataframe?"
   ]
  },
  {
   "cell_type": "code",
   "execution_count": 35,
   "id": "c1b35e85-bcf6-4f9e-8f6f-429c6bb3eece",
   "metadata": {},
   "outputs": [
    {
     "data": {
      "text/plain": [
       "pandas.core.frame.DataFrame"
      ]
     },
     "execution_count": 35,
     "metadata": {},
     "output_type": "execute_result"
    }
   ],
   "source": [
    "type(cities_df)"
   ]
  },
  {
   "cell_type": "markdown",
   "id": "0b0753fb-775c-4aee-9044-2d43088860fa",
   "metadata": {},
   "source": [
    "#### Now lets use the longitude and latitude columns to create a geometry column\n",
    "For this purpose geopandas offers the points_from_xy() function.\n",
    ")"
   ]
  },
  {
   "cell_type": "code",
   "execution_count": 36,
   "id": "6d03cc9a-1a02-4e91-a615-d4d0b90b44a9",
   "metadata": {},
   "outputs": [
    {
     "data": {
      "image/png": "[encoded data removed]",
      "text/plain": [
       "<Figure size 640x480 with 1 Axes>"
      ]
     },
     "metadata": {},
     "output_type": "display_data"
    },
    {
     "data": {
      "text/plain": [
       "geopandas.geodataframe.GeoDataFrame"
      ]
     },
     "execution_count": 36,
     "metadata": {},
     "output_type": "execute_result"
    }
   ],
   "source": [
    "cities_gdf = gpd.GeoDataFrame(\n",
    "    cities_df, geometry=gpd.points_from_xy(cities_df.Longitude, cities_df.Latitude), crs=\"EPSG:4326\"\n",
    ")\n",
    "cities_gdf.plot()\n",
    "plt.show()\n",
    "type(cities_gdf)"
   ]
  },
  {
   "cell_type": "markdown",
   "id": "cf9019a8-616f-4b79-ab7e-097382d7358e",
   "metadata": {},
   "source": [
    "#### Why did we choose CRS=EPSG:4326?"
   ]
  },
  {
   "cell_type": "code",
   "execution_count": 7,
   "id": "f4bf7c4d-7e65-4853-bb3a-1da852023c11",
   "metadata": {
    "scrolled": true
   },
   "outputs": [],
   "source": [
    "# gdf.crs  # our coordinates are in Longitude and Latitude - therefore 4326 is he correct coordinate reference system!"
   ]
  },
  {
   "cell_type": "markdown",
   "id": "f96ee2c6-0d95-4bbc-9df6-1e1efdae3bf0",
   "metadata": {},
   "source": [
    "#### Task: Find the NUTS regions containing our five cities - using the geodata\n",
    "- There are different ways to do this. For example you can use a nested for loop to check for each point individually. \n",
    "- check out the geom.within(geom2) and geom.contains(gemo2) functions in geopandas! Which one would help in your situation?\n",
    "- Feel free to use Google/Documentation/ChatGPT!\n",
    "- Also, don't forget to recheck the CRS of both geodataframes\n",
    "- When you were able to do it, verify your results by plotting in one figure the cities and the corresponding regions. Style your plots with colors etc. to visualize the results well. "
   ]
  },
  {
   "cell_type": "code",
   "execution_count": null,
   "id": "16cc7d49-7d4a-463a-accb-c231c6119c00",
   "metadata": {},
   "outputs": [],
   "source": [
    "# remember the syntax for plotting two or more datasets in one figure\n",
    "# fig, ax = plt.subplots(figsize=(5,5))\n",
    "# ...plot(ax=ax)\n",
    "# ...plot(ax=ax)\n",
    "# plt.show()"
   ]
  },
  {
   "cell_type": "code",
   "execution_count": null,
   "id": "bcb83900-7376-4a0f-8250-239a0065c05e",
   "metadata": {},
   "outputs": [],
   "source": [
    "# first we need to make both geodataframes use the same CRS\n",
    "# lets reproject the cities \n",
    "cities_gdf.to_crs(3035, inplace=True)"
   ]
  },
  {
   "cell_type": "code",
   "execution_count": null,
   "id": "78349707-6cba-44ef-b029-5998421ff8c4",
   "metadata": {},
   "outputs": [],
   "source": [
    "# checking which point corresponds to which region\n",
    "# Option 1: geom.contains(geom2) for geom in ...\n",
    "# Option 2: gpd.sjoin(points, regions, op = 'within')\n",
    "# Option 3: bare loops ?"
   ]
  },
  {
   "cell_type": "code",
   "execution_count": null,
   "id": "95302720-cf66-42da-87c6-74b3e8321e34",
   "metadata": {},
   "outputs": [],
   "source": []
  }
 ],
 "metadata": {
  "kernelspec": {
   "display_name": "Python 3 (ipykernel)",
   "language": "python",
   "name": "python3"
  },
  "language_info": {
   "codemirror_mode": {
    "name": "ipython",
    "version": 3
   },
   "file_extension": ".py",
   "mimetype": "text/x-python",
   "name": "python",
   "nbconvert_exporter": "python",
   "pygments_lexer": "ipython3",
   "version": "3.12.0"
  }
 },
 "nbformat": 4,
 "nbformat_minor": 5
}
