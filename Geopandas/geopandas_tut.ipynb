{
 "cells": [
  {
   "cell_type": "markdown",
   "metadata": {},
   "source": [
    "# UE09 Geopandas\n",
    "\n",
    "#### Find the pandas documentation under: http://geopandas.org/index.html\n",
    "\n",
    "#### Find a helpful tutorial under: https://github.com/jorisvandenbossche/geopandas-tutorial\n"
   ]
  },
  {
   "cell_type": "code",
   "execution_count": null,
   "metadata": {},
   "outputs": [],
   "source": [
    "# author: \n",
    "# date: \n",
    "# content: "
   ]
  },
  {
   "cell_type": "markdown",
   "metadata": {},
   "source": [
    "## Topic Overview: GIS\n",
    "**Definition:** \"A GIS is a system of hardware, software and procedures to facilitate the management, manipulation, analysis, modelling, representation and display of georeferenced data to solve complex problems regarding planning and management of resources\" (National Centre of Geographic Information and Analysis, 1990) This implicates that in a group of maps of the same territory a given location has the same coordinates in all the maps.\n",
    "\n",
    "![Layers](./Input/fig_1_capas_gis.jpg)\n",
    "\n",
    "Imgage: https://geopaisa.blog/2017/03/08/que-es-un-sig/ <br>\n",
    "Source: http://www.geogra.uah.es/patxi/gisweb/GISModule/GISTheory.pdf\n"
   ]
  },
  {
   "cell_type": "code",
   "execution_count": null,
   "metadata": {},
   "outputs": [],
   "source": [
    "pip install mapclassify"
   ]
  },
  {
   "cell_type": "markdown",
   "metadata": {},
   "source": [
    "### Import packages (numpy, matplotlib and pandas)"
   ]
  },
  {
   "cell_type": "code",
   "execution_count": 2,
   "metadata": {},
   "outputs": [],
   "source": [
    "import numpy as np\n",
    "import pandas as pd\n",
    "import geopandas as gpd\n",
    "import matplotlib.pyplot as plt"
   ]
  },
  {
   "cell_type": "markdown",
   "metadata": {},
   "source": [
    "## Geospatial data\n",
    "Geospatial data is often available from specific GIS file formats or data stores, like ESRI shapefiles, GeoJSON files, geopackage files, PostGIS (PostgreSQL) database, ... We can use the GeoPandas library to read many of those GIS file formats.\n",
    "\n",
    "download gejson file from eurostat:\n",
    "https://ec.europa.eu/eurostat/de/web/gisco/geodata/reference-data/administrative-units-statistical-units/nuts <br>"
   ]
  },
  {
   "cell_type": "code",
   "execution_count": 66,
   "metadata": {},
   "outputs": [],
   "source": [
    "# https://ec.europa.eu/eurostat/cache/GISCO/distribution/v2/nuts/download/ref-nuts-2016-60m.geojson.zip"
   ]
  },
  {
   "cell_type": "code",
   "execution_count": 13,
   "metadata": {},
   "outputs": [],
   "source": [
    "# read the .geojson-file and assign it to a new variable. The result is a geodataframe\n"
   ]
  },
  {
   "cell_type": "markdown",
   "metadata": {},
   "source": [
    "### GeoDataFrame\n",
    "A GeoDataFrame is a tabular data structure that contains a **GeoSeries**. <br>\n",
    "\n",
    "The most important property of a GeoDataFrame is that it always has one GeoSeries, which is referred to as the GeoDataFrame’s **“geometry”**. \n",
    "\n",
    "The other columns are the **attributes** that describe each of the geometries.\n",
    "\n",
    "Such a GeoDataFrame is just like a pandas DataFrame, but with some additional functionality for working with geospatial data:\n",
    "- A .geometry attribute that always returns the column with the geometry information (returning a GeoSeries). The column name itself does not necessarily need to be 'geometry', but it will always be accessible as the .geometry attribute.\n",
    "- It has some extra methods for working with spatial data (area, distance, buffer, intersection, ...)"
   ]
  },
  {
   "cell_type": "markdown",
   "metadata": {},
   "source": [
    "### GeoSeries\n",
    "\n",
    "A GeoSeries is essentially a vector where each entry in the vector is a set of shapes. An entry may consist of only one shape (like a single polygon) or multiple shapes that are meant to be thought of as one observation (like the many polygons that make up the State of Hawaii or a country like Indonesia).\n",
    "\n",
    "geopandas has three basic classes of geometric objects:\n",
    "\n",
    "    Points / Multi-Points\n",
    "\n",
    "    Lines / Multi-Lines\n",
    "\n",
    "    Polygons / Multi-Polygons"
   ]
  },
  {
   "cell_type": "markdown",
   "metadata": {},
   "source": [
    "#### Take a look at the GeoDataFrame. Which column contains GeoSeries?"
   ]
  },
  {
   "cell_type": "code",
   "execution_count": null,
   "metadata": {},
   "outputs": [],
   "source": []
  },
  {
   "cell_type": "markdown",
   "metadata": {},
   "source": [
    "#### Plot the GeoDataFrame. "
   ]
  },
  {
   "cell_type": "code",
   "execution_count": null,
   "metadata": {},
   "outputs": [],
   "source": []
  },
  {
   "cell_type": "markdown",
   "metadata": {},
   "source": [
    "#### Plot Germany. "
   ]
  },
  {
   "cell_type": "code",
   "execution_count": 14,
   "metadata": {},
   "outputs": [],
   "source": [
    "# find countries\n"
   ]
  },
  {
   "cell_type": "code",
   "execution_count": 15,
   "metadata": {},
   "outputs": [],
   "source": [
    "# plot Germany\n"
   ]
  },
  {
   "cell_type": "markdown",
   "metadata": {},
   "source": [
    "#### Import a new GeoDataFrame with airport locations"
   ]
  },
  {
   "cell_type": "code",
   "execution_count": 12,
   "metadata": {},
   "outputs": [],
   "source": [
    "# from: https://ec.europa.eu/eurostat/de/web/gisco/geodata/reference-data/transport-networks\n",
    " airports = gpd.read_file(\"./SHAPE/AIRP_PT_2013.shp\")"
   ]
  },
  {
   "cell_type": "markdown",
   "metadata": {},
   "source": [
    "#### Take a look at the DataFrame and plot it."
   ]
  },
  {
   "cell_type": "code",
   "execution_count": null,
   "metadata": {},
   "outputs": [],
   "source": []
  },
  {
   "cell_type": "markdown",
   "metadata": {},
   "source": [
    "#### Find "
   ]
  },
  {
   "cell_type": "code",
   "execution_count": 16,
   "metadata": {},
   "outputs": [],
   "source": [
    "# find airports in Germany\n",
    "# plot them\n"
   ]
  },
  {
   "cell_type": "markdown",
   "metadata": {},
   "source": [
    "#### Plot both Dataframes in the same plot. Each DataFrame represents a layer."
   ]
  },
  {
   "cell_type": "code",
   "execution_count": null,
   "metadata": {},
   "outputs": [],
   "source": []
  },
  {
   "cell_type": "markdown",
   "metadata": {},
   "source": [
    "#### We need to align the reference coordinate systems of both dataframes\n",
    "Access the reference coordinate system of the Dataframes with the help of the .crs attribute"
   ]
  },
  {
   "cell_type": "code",
   "execution_count": null,
   "metadata": {},
   "outputs": [],
   "source": []
  },
  {
   "cell_type": "markdown",
   "metadata": {},
   "source": [
    "#### Transform the coordinate systems with the help of the .to_crs() function."
   ]
  },
  {
   "cell_type": "code",
   "execution_count": null,
   "metadata": {},
   "outputs": [],
   "source": []
  },
  {
   "cell_type": "markdown",
   "metadata": {},
   "source": [
    "#### Plot both Dataframes in the same plot again."
   ]
  },
  {
   "cell_type": "code",
   "execution_count": null,
   "metadata": {},
   "outputs": [],
   "source": []
  },
  {
   "cell_type": "markdown",
   "metadata": {},
   "source": [
    "## Part 2: Add additional data to the GeoDataFrame - Population"
   ]
  },
  {
   "cell_type": "code",
   "execution_count": 338,
   "metadata": {},
   "outputs": [
    {
     "data": {
      "text/html": [
       "<div>\n",
       "<style scoped>\n",
       "    .dataframe tbody tr th:only-of-type {\n",
       "        vertical-align: middle;\n",
       "    }\n",
       "\n",
       "    .dataframe tbody tr th {\n",
       "        vertical-align: top;\n",
       "    }\n",
       "\n",
       "    .dataframe thead th {\n",
       "        text-align: right;\n",
       "    }\n",
       "</style>\n",
       "<table border=\"1\" class=\"dataframe\">\n",
       "  <thead>\n",
       "    <tr style=\"text-align: right;\">\n",
       "      <th></th>\n",
       "      <th>TIME</th>\n",
       "      <th>GEO</th>\n",
       "      <th>SEX</th>\n",
       "      <th>UNIT</th>\n",
       "      <th>AGE</th>\n",
       "      <th>Value</th>\n",
       "      <th>Flag and Footnotes</th>\n",
       "    </tr>\n",
       "  </thead>\n",
       "  <tbody>\n",
       "    <tr>\n",
       "      <th>0</th>\n",
       "      <td>2018</td>\n",
       "      <td>EU28</td>\n",
       "      <td>Insgesamt</td>\n",
       "      <td>Anzahl</td>\n",
       "      <td>Insgesamt</td>\n",
       "      <td>512.379.225</td>\n",
       "      <td>NaN</td>\n",
       "    </tr>\n",
       "    <tr>\n",
       "      <th>3</th>\n",
       "      <td>2018</td>\n",
       "      <td>EU27</td>\n",
       "      <td>Insgesamt</td>\n",
       "      <td>Anzahl</td>\n",
       "      <td>Insgesamt</td>\n",
       "      <td>508.273.732</td>\n",
       "      <td>NaN</td>\n",
       "    </tr>\n",
       "    <tr>\n",
       "      <th>6</th>\n",
       "      <td>2018</td>\n",
       "      <td>BE</td>\n",
       "      <td>Insgesamt</td>\n",
       "      <td>Anzahl</td>\n",
       "      <td>Insgesamt</td>\n",
       "      <td>11.398.589</td>\n",
       "      <td>NaN</td>\n",
       "    </tr>\n",
       "    <tr>\n",
       "      <th>9</th>\n",
       "      <td>2018</td>\n",
       "      <td>BE1</td>\n",
       "      <td>Insgesamt</td>\n",
       "      <td>Anzahl</td>\n",
       "      <td>Insgesamt</td>\n",
       "      <td>1.205.492</td>\n",
       "      <td>NaN</td>\n",
       "    </tr>\n",
       "    <tr>\n",
       "      <th>12</th>\n",
       "      <td>2018</td>\n",
       "      <td>BE10</td>\n",
       "      <td>Insgesamt</td>\n",
       "      <td>Anzahl</td>\n",
       "      <td>Insgesamt</td>\n",
       "      <td>1.205.492</td>\n",
       "      <td>NaN</td>\n",
       "    </tr>\n",
       "  </tbody>\n",
       "</table>\n",
       "</div>"
      ],
      "text/plain": [
       "    TIME   GEO        SEX    UNIT        AGE        Value  Flag and Footnotes\n",
       "0   2018  EU28  Insgesamt  Anzahl  Insgesamt  512.379.225                 NaN\n",
       "3   2018  EU27  Insgesamt  Anzahl  Insgesamt  508.273.732                 NaN\n",
       "6   2018    BE  Insgesamt  Anzahl  Insgesamt   11.398.589                 NaN\n",
       "9   2018   BE1  Insgesamt  Anzahl  Insgesamt    1.205.492                 NaN\n",
       "12  2018  BE10  Insgesamt  Anzahl  Insgesamt    1.205.492                 NaN"
      ]
     },
     "execution_count": 338,
     "metadata": {},
     "output_type": "execute_result"
    }
   ],
   "source": [
    "# read Data about pooulation\n",
    "csv = pd.read_csv('./demo_r_pjangrp3_1_Data.csv', sep=',', encoding='iso-8859-1')\n",
    "csv = csv[csv['SEX'] == 'Insgesamt' ]\n",
    "csv.head()"
   ]
  },
  {
   "cell_type": "code",
   "execution_count": 339,
   "metadata": {},
   "outputs": [
    {
     "data": {
      "text/plain": [
       "EU28    512379225\n",
       "EU27    508273732\n",
       "BE       11398589\n",
       "BE1       1205492\n",
       "BE10      1205492\n",
       "Name: population, dtype: int64"
      ]
     },
     "execution_count": 339,
     "metadata": {},
     "output_type": "execute_result"
    }
   ],
   "source": [
    "# tidy up, convert to integer values\n",
    "pop = pd.Series(csv['Value'].values, index=csv['GEO'].values)\n",
    "pop = pop.apply(lambda x: x.replace('.',''))\n",
    "pop = pop[ pop != ':' ]\n",
    "pop = pop.astype(np.int64)\n",
    "pop.name = 'population'\n",
    "pop.head()"
   ]
  },
  {
   "cell_type": "markdown",
   "metadata": {},
   "source": [
    "#### When joining DataFrames it can be very helpful if both use the same index\n",
    "Look at GeoDataFrame and set the column \"NUTS_ID\" as the index"
   ]
  },
  {
   "cell_type": "code",
   "execution_count": null,
   "metadata": {},
   "outputs": [],
   "source": []
  },
  {
   "cell_type": "code",
   "execution_count": 341,
   "metadata": {},
   "outputs": [],
   "source": [
    "# filter population for country = Germany\n",
    "# popDE = pop.loc[geoDE.index]"
   ]
  },
  {
   "cell_type": "markdown",
   "metadata": {},
   "source": [
    "#### Join the two DataFrames together"
   ]
  },
  {
   "cell_type": "code",
   "execution_count": null,
   "metadata": {},
   "outputs": [],
   "source": []
  },
  {
   "cell_type": "code",
   "execution_count": null,
   "metadata": {},
   "outputs": [],
   "source": []
  },
  {
   "cell_type": "markdown",
   "metadata": {},
   "source": [
    "#### Create a new column for population per km² and fill it "
   ]
  },
  {
   "cell_type": "code",
   "execution_count": null,
   "metadata": {},
   "outputs": [],
   "source": []
  },
  {
   "cell_type": "markdown",
   "metadata": {},
   "source": [
    "#### Plot the new map"
   ]
  },
  {
   "cell_type": "code",
   "execution_count": null,
   "metadata": {},
   "outputs": [],
   "source": []
  },
  {
   "cell_type": "markdown",
   "metadata": {},
   "source": [
    "#### Suitable coloring depends on the dataset.\n",
    "\n",
    "Look at the histogram of the poulation"
   ]
  },
  {
   "cell_type": "code",
   "execution_count": null,
   "metadata": {},
   "outputs": [],
   "source": []
  },
  {
   "cell_type": "markdown",
   "metadata": {},
   "source": [
    "#### Different schemes can be selected in the plot() function "
   ]
  },
  {
   "cell_type": "code",
   "execution_count": null,
   "metadata": {},
   "outputs": [],
   "source": []
  }
 ],
 "metadata": {
  "kernelspec": {
   "display_name": "Python 3 (ipykernel)",
   "language": "python",
   "name": "python3"
  },
  "language_info": {
   "codemirror_mode": {
    "name": "ipython",
    "version": 3
   },
   "file_extension": ".py",
   "mimetype": "text/x-python",
   "name": "python",
   "nbconvert_exporter": "python",
   "pygments_lexer": "ipython3",
   "version": "3.9.10"
  }
 },
 "nbformat": 4,
 "nbformat_minor": 4
}
