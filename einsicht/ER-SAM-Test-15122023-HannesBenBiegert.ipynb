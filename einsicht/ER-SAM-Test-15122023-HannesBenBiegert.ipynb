{
 "metadata": {
  "kernelspec": {
   "display_name": "Python 3 (ipykernel)",
   "language": "python",
   "name": "python3"
  },
  "language_info": {
   "name": "python",
   "version": "3.10.12",
   "mimetype": "text/x-python",
   "codemirror_mode": {
    "name": "ipython",
    "version": 3
   },
   "pygments_lexer": "ipython3",
   "nbconvert_exporter": "python",
   "file_extension": ".py"
  }
 },
 "nbformat_minor": 5,
 "nbformat": 4,
 "cells": [
  {
   "cell_type": "markdown",
   "source": [
    "# ER-SAM Test vom 15.12.2023"
   ],
   "metadata": {},
   "id": "534d85bb-06da-413e-8cd4-555c1b47fb1c"
  },
  {
   "cell_type": "markdown",
   "source": [
    "#### Bitte schreiben Sie Ihren Namen und Ihre Matrikelnummer in die folgende Zelle:"
   ],
   "metadata": {},
   "id": "1d973bc8-d3d9-43f7-9ff5-61d732490d62"
  },
  {
   "cell_type": "code",
   "source": [
    "# Name:\n",
    "# Matriculation number: "
   ],
   "metadata": {},
   "execution_count": 1,
   "outputs": [],
   "id": "e70a1169-7be7-409f-83ca-f99a042220bd"
  },
  {
   "cell_type": "markdown",
   "source": [
    "#### Durchführung\n",
    "Der Python-Teil des Tests beinhaltet 20 Punkte.\n",
    "\n",
    "Sie erhalten zusätzlich Zeit, um die Excel und Python Aufgaben herunterzuladen, zu öffnen und schließlich wieder bei ISIS hochzuladen. \n",
    "\n",
    "Bitte bearbeiten Sie alle Aufgaben in den dafür vorgesehenen Zellen bzw. fügen Sie wenn nötig zusätzliche Zellen an den entsprechenden Stellen ein. Lassen Sie die Aufgabenstellungen bitte so stehen wie sie sind. \n",
    "\n",
    "In Python und Pandas gibt es häufig unterschiedliche Wege eine Aufgabe zu lösen. Sie sind daher in der Wahl des Lösungswegs frei. \n",
    "\n",
    "Nachdem Sie alle Fragen beantwortet haben, vergewissern Sie sich bitte, dass alle Outputs sichtbar sind bzw. alle Zellen ausgeführt wurden. Dann nutzen Sie bitte den Download Button oben um das Notebook herunterzuladen und laden Sie die .ipynb Datei so wie sie ist auf ISIS hoch. Danach würden wir Sie bitten die Datei von Ihren privaten PCs zu löschen. \n",
    "\n",
    "Viel Erfolg!"
   ],
   "metadata": {},
   "id": "50c3ebe3-8c08-4059-9249-f8de4b7c3819"
  },
  {
   "cell_type": "code",
   "source": [
    "# Gegebenenfalls müssen Sie noch pandas etc. installieren... \n",
    "# !pip install pandas\n",
    "# !pip install geopandas\n",
    "# !pip install matplotlib\n",
    "# !pip install openpyxl\n",
    "# Importieren Sie pandas und matplotlib\n",
    "import pandas as pd\n",
    "import geopandas as gpd\n",
    "import matplotlib.pyplot as plt"
   ],
   "metadata": {
    "tags": [],
    "scrolled": true,
    "trusted": true
   },
   "execution_count": 4,
   "outputs": [],
   "id": "2ed64f0b-e8bf-476c-af6a-d2730c6c5b80"
  },
  {
   "cell_type": "markdown",
   "source": [
    "### Aufgabe 1: Relevante Daten aus einem Datensatz auslesen und darstellen. [12P]"
   ],
   "metadata": {},
   "id": "5de44db6-dbe3-4f7f-b663-f7b198aae78a"
  },
  {
   "cell_type": "markdown",
   "source": [
    "##### Laden Sie das \"Anlagenregister\" (\"2018_09_Veroeff_RegDaten.csv\" im \"input\" Ordner) in einen Pandas Dataframe"
   ],
   "metadata": {},
   "id": "98ea2174-ed77-41ab-9edb-b26ad3e730bc"
  },
  {
   "cell_type": "code",
   "source": [
    "# Datenimport - nicht abwandeln\n",
    "df = pd.read_excel('input/2018_11_Veroeff_RegDaten.xlsx')"
   ],
   "metadata": {
    "trusted": true,
    "tags": []
   },
   "execution_count": 2,
   "outputs": [],
   "id": "234091b6-6ded-4737-9e25-300b7c6c4e52"
  },
  {
   "cell_type": "markdown",
   "source": [
    "##### a) [3P] Ermitteln Sie die Summe, den Mittelwert und das Maximum der installierten Leistung für jeden Energieträger.\n",
    "Spalten: '4.1 Energieträger', '4.2 Installierte Leistung [kW]'"
   ],
   "metadata": {
    "tags": []
   },
   "id": "a07f807f-e125-4585-8c75-10fd77e04e54"
  },
  {
   "cell_type": "code",
   "source": [
    "df"
   ],
   "metadata": {
    "trusted": true,
    "tags": []
   },
   "execution_count": 3,
   "outputs": [
    {
     "execution_count": 3,
     "output_type": "execute_result",
     "data": {
      "text/plain": "      Meldedatum                                      Meldegrund  \\\n0     2014-08-07  Erstmalige Inanspruchnahme Flexibilitätsprämie   \n1     2014-08-12  Erstmalige Inanspruchnahme Flexibilitätsprämie   \n2     2014-08-13                                  Inbetriebnahme   \n3     2014-08-13  Erstmalige Inanspruchnahme Flexibilitätsprämie   \n4     2014-08-14                                  Inbetriebnahme   \n...          ...                                             ...   \n22380 2018-11-30               Verlängerung der Anfangsvergütung   \n22381 2018-11-30  Erstmalige Inanspruchnahme Flexibilitätsprämie   \n22382 2018-11-30                                  Inbetriebnahme   \n22383 2018-11-30               Verlängerung der Anfangsvergütung   \n22384 2018-11-30                                  Inbetriebnahme   \n\n        Anlagennummer           1.8 EEG-Anlagenschlüssel  \\\n0      A8717175168023  E2187801S120000000000022166200001   \n1      A7538358802104  E2104101S160000000000037934700001   \n2      A3217442210103  E2104101S000000000000063901400001   \n3      A9393173813098  E21865011000000000100002866200001   \n4      A6528756510139  E2325401HRA0000000SNWDE0000100007   \n...               ...                                ...   \n22380  A8736610240131  E2079303S120000000000020976800002   \n22381  A8758440240259                                NaN   \n22382  A9195160162529                                NaN   \n22383  A9382890240171  E4045001ALTENTREPTOW0126004500000   \n22384  A9429550240161                                NaN   \n\n      3.1 Genehmigungs-datum                  3.2 Genehmigungs-behörde  \\\n0                 2011-06-16                              LK Oldenburg   \n1                        NaT                                       NaN   \n2                 2011-12-20          Landratsamt Berchtesgadener Land   \n3                 2006-01-02                                 RP Kassel   \n4                 2013-03-12                      Landratsamt Bayreuth   \n...                      ...                                       ...   \n22380                    NaT                                       NaN   \n22381                    NaT                                       NaN   \n22382             2017-03-07  Landkreis Osnabrück FD6 Immissionsschutz   \n22383                    NaT                                       NaN   \n22384             2018-09-18                     Landkreis Wesermarsch   \n\n      3.3 Genehmigungs-Aktenzeichen 3.4 Geplantes Inbetriebnahme-datum  \\\n0                         946-11-06                                NaN   \n1                               NaN                                NaN   \n2               322.0/6430.02-40046                2014-08-11 00:00:00   \n3                  DE06 633 0015 11                2014-12-01 00:00:00   \n4                         4/44-1705                2014-08-12 00:00:00   \n...                             ...                                ...   \n22380                           NaN                                NaN   \n22381                           NaN                                NaN   \n22382               FD6-11-03177-16                2018-04-01 00:00:00   \n22383                           NaN                                NaN   \n22384        63-52.10 / 00403-18-01                2018-11-30 00:00:00   \n\n      3.5 Errichtungs-frist 4.1 Energieträger  ...  \\\n0                       NaT          Biomasse  ...   \n1                       NaT          Biomasse  ...   \n2                       NaT       Wasserkraft  ...   \n3                       NaT          Biomasse  ...   \n4                       NaT         Wind Land  ...   \n...                     ...               ...  ...   \n22380                   NaT         Wind Land  ...   \n22381                   NaT          Biomasse  ...   \n22382            2020-04-07         Wind Land  ...   \n22383                   NaT         Wind Land  ...   \n22384                   NaT         Wind Land  ...   \n\n       7.8.3 Küstenentfernung [km]  \\\n0                              NaN   \n1                              NaN   \n2                              NaN   \n3                              NaN   \n4                              NaN   \n...                            ...   \n22380                          NaN   \n22381                          NaN   \n22382                          NaN   \n22383                          NaN   \n22384                          NaN   \n\n       7.9 Pilotwindanlage\\n(neue Spalte seit EEG2017)  \\\n0                                                  NaN   \n1                                                  NaN   \n2                                                  NaN   \n3                                                  NaN   \n4                                                  NaN   \n...                                                ...   \n22380                                             Nein   \n22381                                              NaN   \n22382                                             Nein   \n22383                                             Nein   \n22384                                             Nein   \n\n       8.1 Ertüchtigung Wasserkraftanlage 8.2 Art der Ertüchtigung  \\\n0                                     NaN                      NaN   \n1                                     NaN                      NaN   \n2                                    Nein                      NaN   \n3                                     NaN                      NaN   \n4                                     NaN                      NaN   \n...                                   ...                      ...   \n22380                                 NaN                      NaN   \n22381                                 NaN                      NaN   \n22382                                 NaN                      NaN   \n22383                                 NaN                      NaN   \n22384                                 NaN                      NaN   \n\n      8.3 Zulassungspflichtige Maßnahme 8.4. HöheLeistungs-steigerung [%]  \\\n0                                   NaN                               NaN   \n1                                   NaN                               NaN   \n2                                   NaN                               NaN   \n3                                   NaN                               NaN   \n4                                   NaN                               NaN   \n...                                 ...                               ...   \n22380                               NaN                               NaN   \n22381                               NaN                               NaN   \n22382                               NaN                               NaN   \n22383                               NaN                               NaN   \n22384                               NaN                               NaN   \n\n       8.5 Datum der Ertüchtigung 9.1 Zuschlagnummer PV-Freifläche  \\\n0                             NaT                              NaN   \n1                             NaT                              NaN   \n2                             NaT                              NaN   \n3                             NaT                              NaN   \n4                             NaT                              NaN   \n...                           ...                              ...   \n22380                         NaT                              NaN   \n22381                         NaT                              NaN   \n22382                         NaT                              NaN   \n22383                         NaT                              NaN   \n22384                         NaT                              NaN   \n\n      9.2 Wie viel Fläche wird durch die PV-Freiflächenanlage in Anspruch genommen? [ha]   \\\n0                                                    NaN                                    \n1                                                    NaN                                    \n2                                                    NaN                                    \n3                                                    NaN                                    \n4                                                    NaN                                    \n...                                                  ...                                    \n22380                                                NaN                                    \n22381                                                NaN                                    \n22382                                                NaN                                    \n22383                                                NaN                                    \n22384                                                NaN                                    \n\n      9.3 Wie viel der PV-Freifläche ist davon Ackerland? [ha]   \n0                                                    NaN         \n1                                                    NaN         \n2                                                    NaN         \n3                                                    NaN         \n4                                                    NaN         \n...                                                  ...         \n22380                                                NaN         \n22381                                                NaN         \n22382                                                NaN         \n22383                                                NaN         \n22384                                                NaN         \n\n[22385 rows x 73 columns]",
      "text/html": "<div>\n<style scoped>\n    .dataframe tbody tr th:only-of-type {\n        vertical-align: middle;\n    }\n\n    .dataframe tbody tr th {\n        vertical-align: top;\n    }\n\n    .dataframe thead th {\n        text-align: right;\n    }\n</style>\n<table border=\"1\" class=\"dataframe\">\n  <thead>\n    <tr style=\"text-align: right;\">\n      <th></th>\n      <th>Meldedatum</th>\n      <th>Meldegrund</th>\n      <th>Anlagennummer</th>\n      <th>1.8 EEG-Anlagenschlüssel</th>\n      <th>3.1 Genehmigungs-datum</th>\n      <th>3.2 Genehmigungs-behörde</th>\n      <th>3.3 Genehmigungs-Aktenzeichen</th>\n      <th>3.4 Geplantes Inbetriebnahme-datum</th>\n      <th>3.5 Errichtungs-frist</th>\n      <th>4.1 Energieträger</th>\n      <th>...</th>\n      <th>7.8.3 Küstenentfernung [km]</th>\n      <th>7.9 Pilotwindanlage\\n(neue Spalte seit EEG2017)</th>\n      <th>8.1 Ertüchtigung Wasserkraftanlage</th>\n      <th>8.2 Art der Ertüchtigung</th>\n      <th>8.3 Zulassungspflichtige Maßnahme</th>\n      <th>8.4. HöheLeistungs-steigerung [%]</th>\n      <th>8.5 Datum der Ertüchtigung</th>\n      <th>9.1 Zuschlagnummer PV-Freifläche</th>\n      <th>9.2 Wie viel Fläche wird durch die PV-Freiflächenanlage in Anspruch genommen? [ha]</th>\n      <th>9.3 Wie viel der PV-Freifläche ist davon Ackerland? [ha]</th>\n    </tr>\n  </thead>\n  <tbody>\n    <tr>\n      <th>0</th>\n      <td>2014-08-07</td>\n      <td>Erstmalige Inanspruchnahme Flexibilitätsprämie</td>\n      <td>A8717175168023</td>\n      <td>E2187801S120000000000022166200001</td>\n      <td>2011-06-16</td>\n      <td>LK Oldenburg</td>\n      <td>946-11-06</td>\n      <td>NaN</td>\n      <td>NaT</td>\n      <td>Biomasse</td>\n      <td>...</td>\n      <td>NaN</td>\n      <td>NaN</td>\n      <td>NaN</td>\n      <td>NaN</td>\n      <td>NaN</td>\n      <td>NaN</td>\n      <td>NaT</td>\n      <td>NaN</td>\n      <td>NaN</td>\n      <td>NaN</td>\n    </tr>\n    <tr>\n      <th>1</th>\n      <td>2014-08-12</td>\n      <td>Erstmalige Inanspruchnahme Flexibilitätsprämie</td>\n      <td>A7538358802104</td>\n      <td>E2104101S160000000000037934700001</td>\n      <td>NaT</td>\n      <td>NaN</td>\n      <td>NaN</td>\n      <td>NaN</td>\n      <td>NaT</td>\n      <td>Biomasse</td>\n      <td>...</td>\n      <td>NaN</td>\n      <td>NaN</td>\n      <td>NaN</td>\n      <td>NaN</td>\n      <td>NaN</td>\n      <td>NaN</td>\n      <td>NaT</td>\n      <td>NaN</td>\n      <td>NaN</td>\n      <td>NaN</td>\n    </tr>\n    <tr>\n      <th>2</th>\n      <td>2014-08-13</td>\n      <td>Inbetriebnahme</td>\n      <td>A3217442210103</td>\n      <td>E2104101S000000000000063901400001</td>\n      <td>2011-12-20</td>\n      <td>Landratsamt Berchtesgadener Land</td>\n      <td>322.0/6430.02-40046</td>\n      <td>2014-08-11 00:00:00</td>\n      <td>NaT</td>\n      <td>Wasserkraft</td>\n      <td>...</td>\n      <td>NaN</td>\n      <td>NaN</td>\n      <td>Nein</td>\n      <td>NaN</td>\n      <td>NaN</td>\n      <td>NaN</td>\n      <td>NaT</td>\n      <td>NaN</td>\n      <td>NaN</td>\n      <td>NaN</td>\n    </tr>\n    <tr>\n      <th>3</th>\n      <td>2014-08-13</td>\n      <td>Erstmalige Inanspruchnahme Flexibilitätsprämie</td>\n      <td>A9393173813098</td>\n      <td>E21865011000000000100002866200001</td>\n      <td>2006-01-02</td>\n      <td>RP Kassel</td>\n      <td>DE06 633 0015 11</td>\n      <td>2014-12-01 00:00:00</td>\n      <td>NaT</td>\n      <td>Biomasse</td>\n      <td>...</td>\n      <td>NaN</td>\n      <td>NaN</td>\n      <td>NaN</td>\n      <td>NaN</td>\n      <td>NaN</td>\n      <td>NaN</td>\n      <td>NaT</td>\n      <td>NaN</td>\n      <td>NaN</td>\n      <td>NaN</td>\n    </tr>\n    <tr>\n      <th>4</th>\n      <td>2014-08-14</td>\n      <td>Inbetriebnahme</td>\n      <td>A6528756510139</td>\n      <td>E2325401HRA0000000SNWDE0000100007</td>\n      <td>2013-03-12</td>\n      <td>Landratsamt Bayreuth</td>\n      <td>4/44-1705</td>\n      <td>2014-08-12 00:00:00</td>\n      <td>NaT</td>\n      <td>Wind Land</td>\n      <td>...</td>\n      <td>NaN</td>\n      <td>NaN</td>\n      <td>NaN</td>\n      <td>NaN</td>\n      <td>NaN</td>\n      <td>NaN</td>\n      <td>NaT</td>\n      <td>NaN</td>\n      <td>NaN</td>\n      <td>NaN</td>\n    </tr>\n    <tr>\n      <th>...</th>\n      <td>...</td>\n      <td>...</td>\n      <td>...</td>\n      <td>...</td>\n      <td>...</td>\n      <td>...</td>\n      <td>...</td>\n      <td>...</td>\n      <td>...</td>\n      <td>...</td>\n      <td>...</td>\n      <td>...</td>\n      <td>...</td>\n      <td>...</td>\n      <td>...</td>\n      <td>...</td>\n      <td>...</td>\n      <td>...</td>\n      <td>...</td>\n      <td>...</td>\n      <td>...</td>\n    </tr>\n    <tr>\n      <th>22380</th>\n      <td>2018-11-30</td>\n      <td>Verlängerung der Anfangsvergütung</td>\n      <td>A8736610240131</td>\n      <td>E2079303S120000000000020976800002</td>\n      <td>NaT</td>\n      <td>NaN</td>\n      <td>NaN</td>\n      <td>NaN</td>\n      <td>NaT</td>\n      <td>Wind Land</td>\n      <td>...</td>\n      <td>NaN</td>\n      <td>Nein</td>\n      <td>NaN</td>\n      <td>NaN</td>\n      <td>NaN</td>\n      <td>NaN</td>\n      <td>NaT</td>\n      <td>NaN</td>\n      <td>NaN</td>\n      <td>NaN</td>\n    </tr>\n    <tr>\n      <th>22381</th>\n      <td>2018-11-30</td>\n      <td>Erstmalige Inanspruchnahme Flexibilitätsprämie</td>\n      <td>A8758440240259</td>\n      <td>NaN</td>\n      <td>NaT</td>\n      <td>NaN</td>\n      <td>NaN</td>\n      <td>NaN</td>\n      <td>NaT</td>\n      <td>Biomasse</td>\n      <td>...</td>\n      <td>NaN</td>\n      <td>NaN</td>\n      <td>NaN</td>\n      <td>NaN</td>\n      <td>NaN</td>\n      <td>NaN</td>\n      <td>NaT</td>\n      <td>NaN</td>\n      <td>NaN</td>\n      <td>NaN</td>\n    </tr>\n    <tr>\n      <th>22382</th>\n      <td>2018-11-30</td>\n      <td>Inbetriebnahme</td>\n      <td>A9195160162529</td>\n      <td>NaN</td>\n      <td>2017-03-07</td>\n      <td>Landkreis Osnabrück FD6 Immissionsschutz</td>\n      <td>FD6-11-03177-16</td>\n      <td>2018-04-01 00:00:00</td>\n      <td>2020-04-07</td>\n      <td>Wind Land</td>\n      <td>...</td>\n      <td>NaN</td>\n      <td>Nein</td>\n      <td>NaN</td>\n      <td>NaN</td>\n      <td>NaN</td>\n      <td>NaN</td>\n      <td>NaT</td>\n      <td>NaN</td>\n      <td>NaN</td>\n      <td>NaN</td>\n    </tr>\n    <tr>\n      <th>22383</th>\n      <td>2018-11-30</td>\n      <td>Verlängerung der Anfangsvergütung</td>\n      <td>A9382890240171</td>\n      <td>E4045001ALTENTREPTOW0126004500000</td>\n      <td>NaT</td>\n      <td>NaN</td>\n      <td>NaN</td>\n      <td>NaN</td>\n      <td>NaT</td>\n      <td>Wind Land</td>\n      <td>...</td>\n      <td>NaN</td>\n      <td>Nein</td>\n      <td>NaN</td>\n      <td>NaN</td>\n      <td>NaN</td>\n      <td>NaN</td>\n      <td>NaT</td>\n      <td>NaN</td>\n      <td>NaN</td>\n      <td>NaN</td>\n    </tr>\n    <tr>\n      <th>22384</th>\n      <td>2018-11-30</td>\n      <td>Inbetriebnahme</td>\n      <td>A9429550240161</td>\n      <td>NaN</td>\n      <td>2018-09-18</td>\n      <td>Landkreis Wesermarsch</td>\n      <td>63-52.10 / 00403-18-01</td>\n      <td>2018-11-30 00:00:00</td>\n      <td>NaT</td>\n      <td>Wind Land</td>\n      <td>...</td>\n      <td>NaN</td>\n      <td>Nein</td>\n      <td>NaN</td>\n      <td>NaN</td>\n      <td>NaN</td>\n      <td>NaN</td>\n      <td>NaT</td>\n      <td>NaN</td>\n      <td>NaN</td>\n      <td>NaN</td>\n    </tr>\n  </tbody>\n</table>\n<p>22385 rows × 73 columns</p>\n</div>"
     },
     "metadata": {}
    }
   ],
   "id": "0a1623e7-5fcd-48a1-8dfa-fb835bf6e032"
  },
  {
   "cell_type": "code",
   "source": [
    "df['4.1 Energieträger'].unique()"
   ],
   "metadata": {
    "trusted": true,
    "tags": []
   },
   "execution_count": 8,
   "outputs": [
    {
     "execution_count": 8,
     "output_type": "execute_result",
     "data": {
      "text/plain": "array(['Biomasse', 'Wasserkraft', 'Wind Land', 'Wind See', 'Grubengas',\n       'Klärgas', 'Deponiegas', 'Freifläche PV', 'Geothermie', 'Speicher'],\n      dtype=object)"
     },
     "metadata": {}
    }
   ],
   "id": "0dd836a5-63ae-4ab0-bb2c-051d5c3a0b9a"
  },
  {
   "cell_type": "code",
   "source": [
    "biomasse = df(df['4.1 Energieträger']==\"Biomasse\")\n",
    "wasser = df(df['4.1 Energieträger']==\"Wasserkraft\")\n",
    "windland = df(df['4.1 Energieträger']==\"Wind Land\")\n",
    "windsee  = df(df['4.1 Energieträger']==\"Wind See\")\n",
    "grubengas = df(df['4.1 Energieträger']==\"Grubengas\")\n",
    "depniegas  = df(df['4.1 Energieträger']==\"Deponiegas\")\n",
    "pvfrei = df(df['4.1 Energieträger']==\"Freifläche PV\")\n",
    "geo =  df(df['4.1 Energieträger']==\"Geothermie\")\n",
    "speicher = df(df['4.1 Energieträger']==\"Speicher\")\n"
   ],
   "metadata": {
    "trusted": true,
    "tags": []
   },
   "execution_count": 9,
   "outputs": [
    {
     "traceback": [
      "\u001B[0;31m---------------------------------------------------------------------------\u001B[0m",
      "\u001B[0;31mTypeError\u001B[0m                                 Traceback (most recent call last)",
      "Cell \u001B[0;32mIn[9], line 1\u001B[0m\n\u001B[0;32m----> 1\u001B[0m biomasse \u001B[38;5;241m=\u001B[39m \u001B[43mdf\u001B[49m\u001B[43m(\u001B[49m\u001B[43mdf\u001B[49m\u001B[43m[\u001B[49m\u001B[38;5;124;43m'\u001B[39;49m\u001B[38;5;124;43m4.1 Energieträger\u001B[39;49m\u001B[38;5;124;43m'\u001B[39;49m\u001B[43m]\u001B[49m\u001B[38;5;241;43m==\u001B[39;49m\u001B[38;5;124;43m\"\u001B[39;49m\u001B[38;5;124;43mBiomasse\u001B[39;49m\u001B[38;5;124;43m\"\u001B[39;49m\u001B[43m)\u001B[49m\n\u001B[1;32m      2\u001B[0m wasser \u001B[38;5;241m=\u001B[39m df(df[\u001B[38;5;124m'\u001B[39m\u001B[38;5;124m4.1 Energieträger\u001B[39m\u001B[38;5;124m'\u001B[39m]\u001B[38;5;241m==\u001B[39m\u001B[38;5;124m\"\u001B[39m\u001B[38;5;124mWasserkraft\u001B[39m\u001B[38;5;124m\"\u001B[39m)\n\u001B[1;32m      3\u001B[0m windland \u001B[38;5;241m=\u001B[39m df(df[\u001B[38;5;124m'\u001B[39m\u001B[38;5;124m4.1 Energieträger\u001B[39m\u001B[38;5;124m'\u001B[39m]\u001B[38;5;241m==\u001B[39m\u001B[38;5;124m\"\u001B[39m\u001B[38;5;124mWind Land\u001B[39m\u001B[38;5;124m\"\u001B[39m)\n",
      "\u001B[0;31mTypeError\u001B[0m: 'DataFrame' object is not callable"
     ],
     "ename": "TypeError",
     "evalue": "'DataFrame' object is not callable",
     "output_type": "error"
    }
   ],
   "id": "2ad64e93-e717-42e4-b886-6b74b1d0cc94"
  },
  {
   "cell_type": "code",
   "source": [],
   "metadata": {
    "trusted": true,
    "tags": []
   },
   "execution_count": 5,
   "outputs": [
    {
     "traceback": [
      "\u001B[0;31m---------------------------------------------------------------------------\u001B[0m",
      "\u001B[0;31mTypeError\u001B[0m                                 Traceback (most recent call last)",
      "Cell \u001B[0;32mIn[5], line 1\u001B[0m\n\u001B[0;32m----> 1\u001B[0m biomasse \u001B[38;5;241m=\u001B[39m \u001B[43mdf\u001B[49m\u001B[43m(\u001B[49m\u001B[43mdf\u001B[49m\u001B[43m[\u001B[49m\u001B[38;5;124;43m'\u001B[39;49m\u001B[38;5;124;43m4.1 Energieträger\u001B[39;49m\u001B[38;5;124;43m'\u001B[39;49m\u001B[43m]\u001B[49m\u001B[38;5;241;43m==\u001B[39;49m\u001B[38;5;124;43m\"\u001B[39;49m\u001B[38;5;124;43mBiomasse\u001B[39;49m\u001B[38;5;124;43m\"\u001B[39;49m\u001B[43m)\u001B[49m\n",
      "\u001B[0;31mTypeError\u001B[0m: 'DataFrame' object is not callable"
     ],
     "ename": "TypeError",
     "evalue": "'DataFrame' object is not callable",
     "output_type": "error"
    }
   ],
   "id": "93b7c55a-0be5-40a9-ad5a-daf14686f2c8"
  },
  {
   "cell_type": "code",
   "source": [
    "#sum\n",
    "biomasse.groupby('4.2 Installierte Leistung [kW]').sum()\n",
    "wasser.groupby('4.2 Installierte Leistung [kW]').sum()\n",
    "windland.groupby('4.2 Installierte Leistung [kW]').sum()\n",
    "windsee.groupby('4.2 Installierte Leistung [kW]').sum()\n",
    "grubengas.groupby('4.2 Installierte Leistung [kW]').sum()\n",
    "geponiegas.groupby('4.2 Installierte Leistung [kW]').sum()\n",
    "pvfrei.groupby('4.2 Installierte Leistung [kW]').sum()\n",
    "geo.groupby('4.2 Installierte Leistung [kW]').sum()\n",
    "speicher.groupby('4.2 Installierte Leistung [kW]').sum()\n"
   ],
   "metadata": {
    "trusted": true,
    "tags": []
   },
   "execution_count": 4,
   "outputs": [
    {
     "traceback": [
      "\u001B[0;31m---------------------------------------------------------------------------\u001B[0m",
      "\u001B[0;31mTypeError\u001B[0m                                 Traceback (most recent call last)",
      "Cell \u001B[0;32mIn[4], line 2\u001B[0m\n\u001B[1;32m      1\u001B[0m \u001B[38;5;66;03m# Summe\u001B[39;00m\n\u001B[0;32m----> 2\u001B[0m \u001B[43mdf\u001B[49m\u001B[38;5;241;43m.\u001B[39;49m\u001B[43mgroupby\u001B[49m\u001B[43m(\u001B[49m\u001B[38;5;124;43m'\u001B[39;49m\u001B[38;5;124;43m4.1 Energieträger\u001B[39;49m\u001B[38;5;124;43m'\u001B[39;49m\u001B[43m)\u001B[49m\u001B[38;5;241;43m.\u001B[39;49m\u001B[43msum\u001B[49m\u001B[43m(\u001B[49m\u001B[43m)\u001B[49m\n",
      "File \u001B[0;32m/srv/conda/envs/notebook/lib/python3.10/site-packages/pandas/core/groupby/groupby.py:3063\u001B[0m, in \u001B[0;36mGroupBy.sum\u001B[0;34m(self, numeric_only, min_count, engine, engine_kwargs)\u001B[0m\n\u001B[1;32m   3058\u001B[0m \u001B[38;5;28;01melse\u001B[39;00m:\n\u001B[1;32m   3059\u001B[0m     \u001B[38;5;66;03m# If we are grouping on categoricals we want unobserved categories to\u001B[39;00m\n\u001B[1;32m   3060\u001B[0m     \u001B[38;5;66;03m# return zero, rather than the default of NaN which the reindexing in\u001B[39;00m\n\u001B[1;32m   3061\u001B[0m     \u001B[38;5;66;03m# _agg_general() returns. GH #31422\u001B[39;00m\n\u001B[1;32m   3062\u001B[0m     \u001B[38;5;28;01mwith\u001B[39;00m com\u001B[38;5;241m.\u001B[39mtemp_setattr(\u001B[38;5;28mself\u001B[39m, \u001B[38;5;124m\"\u001B[39m\u001B[38;5;124mobserved\u001B[39m\u001B[38;5;124m\"\u001B[39m, \u001B[38;5;28;01mTrue\u001B[39;00m):\n\u001B[0;32m-> 3063\u001B[0m         result \u001B[38;5;241m=\u001B[39m \u001B[38;5;28;43mself\u001B[39;49m\u001B[38;5;241;43m.\u001B[39;49m\u001B[43m_agg_general\u001B[49m\u001B[43m(\u001B[49m\n\u001B[1;32m   3064\u001B[0m \u001B[43m            \u001B[49m\u001B[43mnumeric_only\u001B[49m\u001B[38;5;241;43m=\u001B[39;49m\u001B[43mnumeric_only\u001B[49m\u001B[43m,\u001B[49m\n\u001B[1;32m   3065\u001B[0m \u001B[43m            \u001B[49m\u001B[43mmin_count\u001B[49m\u001B[38;5;241;43m=\u001B[39;49m\u001B[43mmin_count\u001B[49m\u001B[43m,\u001B[49m\n\u001B[1;32m   3066\u001B[0m \u001B[43m            \u001B[49m\u001B[43malias\u001B[49m\u001B[38;5;241;43m=\u001B[39;49m\u001B[38;5;124;43m\"\u001B[39;49m\u001B[38;5;124;43msum\u001B[39;49m\u001B[38;5;124;43m\"\u001B[39;49m\u001B[43m,\u001B[49m\n\u001B[1;32m   3067\u001B[0m \u001B[43m            \u001B[49m\u001B[43mnpfunc\u001B[49m\u001B[38;5;241;43m=\u001B[39;49m\u001B[43mnp\u001B[49m\u001B[38;5;241;43m.\u001B[39;49m\u001B[43msum\u001B[49m\u001B[43m,\u001B[49m\n\u001B[1;32m   3068\u001B[0m \u001B[43m        \u001B[49m\u001B[43m)\u001B[49m\n\u001B[1;32m   3070\u001B[0m     \u001B[38;5;28;01mreturn\u001B[39;00m \u001B[38;5;28mself\u001B[39m\u001B[38;5;241m.\u001B[39m_reindex_output(result, fill_value\u001B[38;5;241m=\u001B[39m\u001B[38;5;241m0\u001B[39m)\n",
      "File \u001B[0;32m/srv/conda/envs/notebook/lib/python3.10/site-packages/pandas/core/groupby/groupby.py:1839\u001B[0m, in \u001B[0;36mGroupBy._agg_general\u001B[0;34m(self, numeric_only, min_count, alias, npfunc)\u001B[0m\n\u001B[1;32m   1830\u001B[0m \u001B[38;5;129m@final\u001B[39m\n\u001B[1;32m   1831\u001B[0m \u001B[38;5;28;01mdef\u001B[39;00m \u001B[38;5;21m_agg_general\u001B[39m(\n\u001B[1;32m   1832\u001B[0m     \u001B[38;5;28mself\u001B[39m,\n\u001B[0;32m   (...)\u001B[0m\n\u001B[1;32m   1837\u001B[0m     npfunc: Callable,\n\u001B[1;32m   1838\u001B[0m ):\n\u001B[0;32m-> 1839\u001B[0m     result \u001B[38;5;241m=\u001B[39m \u001B[38;5;28;43mself\u001B[39;49m\u001B[38;5;241;43m.\u001B[39;49m\u001B[43m_cython_agg_general\u001B[49m\u001B[43m(\u001B[49m\n\u001B[1;32m   1840\u001B[0m \u001B[43m        \u001B[49m\u001B[43mhow\u001B[49m\u001B[38;5;241;43m=\u001B[39;49m\u001B[43malias\u001B[49m\u001B[43m,\u001B[49m\n\u001B[1;32m   1841\u001B[0m \u001B[43m        \u001B[49m\u001B[43malt\u001B[49m\u001B[38;5;241;43m=\u001B[39;49m\u001B[43mnpfunc\u001B[49m\u001B[43m,\u001B[49m\n\u001B[1;32m   1842\u001B[0m \u001B[43m        \u001B[49m\u001B[43mnumeric_only\u001B[49m\u001B[38;5;241;43m=\u001B[39;49m\u001B[43mnumeric_only\u001B[49m\u001B[43m,\u001B[49m\n\u001B[1;32m   1843\u001B[0m \u001B[43m        \u001B[49m\u001B[43mmin_count\u001B[49m\u001B[38;5;241;43m=\u001B[39;49m\u001B[43mmin_count\u001B[49m\u001B[43m,\u001B[49m\n\u001B[1;32m   1844\u001B[0m \u001B[43m    \u001B[49m\u001B[43m)\u001B[49m\n\u001B[1;32m   1845\u001B[0m     \u001B[38;5;28;01mreturn\u001B[39;00m result\u001B[38;5;241m.\u001B[39m__finalize__(\u001B[38;5;28mself\u001B[39m\u001B[38;5;241m.\u001B[39mobj, method\u001B[38;5;241m=\u001B[39m\u001B[38;5;124m\"\u001B[39m\u001B[38;5;124mgroupby\u001B[39m\u001B[38;5;124m\"\u001B[39m)\n",
      "File \u001B[0;32m/srv/conda/envs/notebook/lib/python3.10/site-packages/pandas/core/groupby/groupby.py:1929\u001B[0m, in \u001B[0;36mGroupBy._cython_agg_general\u001B[0;34m(self, how, alt, numeric_only, min_count, **kwargs)\u001B[0m\n\u001B[1;32m   1926\u001B[0m     result \u001B[38;5;241m=\u001B[39m \u001B[38;5;28mself\u001B[39m\u001B[38;5;241m.\u001B[39m_agg_py_fallback(how, values, ndim\u001B[38;5;241m=\u001B[39mdata\u001B[38;5;241m.\u001B[39mndim, alt\u001B[38;5;241m=\u001B[39malt)\n\u001B[1;32m   1927\u001B[0m     \u001B[38;5;28;01mreturn\u001B[39;00m result\n\u001B[0;32m-> 1929\u001B[0m new_mgr \u001B[38;5;241m=\u001B[39m \u001B[43mdata\u001B[49m\u001B[38;5;241;43m.\u001B[39;49m\u001B[43mgrouped_reduce\u001B[49m\u001B[43m(\u001B[49m\u001B[43marray_func\u001B[49m\u001B[43m)\u001B[49m\n\u001B[1;32m   1930\u001B[0m res \u001B[38;5;241m=\u001B[39m \u001B[38;5;28mself\u001B[39m\u001B[38;5;241m.\u001B[39m_wrap_agged_manager(new_mgr)\n\u001B[1;32m   1931\u001B[0m out \u001B[38;5;241m=\u001B[39m \u001B[38;5;28mself\u001B[39m\u001B[38;5;241m.\u001B[39m_wrap_aggregated_output(res)\n",
      "File \u001B[0;32m/srv/conda/envs/notebook/lib/python3.10/site-packages/pandas/core/internals/managers.py:1431\u001B[0m, in \u001B[0;36mBlockManager.grouped_reduce\u001B[0;34m(self, func)\u001B[0m\n\u001B[1;32m   1429\u001B[0m             result_blocks \u001B[38;5;241m=\u001B[39m extend_blocks(applied, result_blocks)\n\u001B[1;32m   1430\u001B[0m     \u001B[38;5;28;01melse\u001B[39;00m:\n\u001B[0;32m-> 1431\u001B[0m         applied \u001B[38;5;241m=\u001B[39m \u001B[43mblk\u001B[49m\u001B[38;5;241;43m.\u001B[39;49m\u001B[43mapply\u001B[49m\u001B[43m(\u001B[49m\u001B[43mfunc\u001B[49m\u001B[43m)\u001B[49m\n\u001B[1;32m   1432\u001B[0m         result_blocks \u001B[38;5;241m=\u001B[39m extend_blocks(applied, result_blocks)\n\u001B[1;32m   1434\u001B[0m \u001B[38;5;28;01mif\u001B[39;00m \u001B[38;5;28mlen\u001B[39m(result_blocks) \u001B[38;5;241m==\u001B[39m \u001B[38;5;241m0\u001B[39m:\n",
      "File \u001B[0;32m/srv/conda/envs/notebook/lib/python3.10/site-packages/pandas/core/internals/blocks.py:366\u001B[0m, in \u001B[0;36mBlock.apply\u001B[0;34m(self, func, **kwargs)\u001B[0m\n\u001B[1;32m    360\u001B[0m \u001B[38;5;129m@final\u001B[39m\n\u001B[1;32m    361\u001B[0m \u001B[38;5;28;01mdef\u001B[39;00m \u001B[38;5;21mapply\u001B[39m(\u001B[38;5;28mself\u001B[39m, func, \u001B[38;5;241m*\u001B[39m\u001B[38;5;241m*\u001B[39mkwargs) \u001B[38;5;241m-\u001B[39m\u001B[38;5;241m>\u001B[39m \u001B[38;5;28mlist\u001B[39m[Block]:\n\u001B[1;32m    362\u001B[0m \u001B[38;5;250m    \u001B[39m\u001B[38;5;124;03m\"\"\"\u001B[39;00m\n\u001B[1;32m    363\u001B[0m \u001B[38;5;124;03m    apply the function to my values; return a block if we are not\u001B[39;00m\n\u001B[1;32m    364\u001B[0m \u001B[38;5;124;03m    one\u001B[39;00m\n\u001B[1;32m    365\u001B[0m \u001B[38;5;124;03m    \"\"\"\u001B[39;00m\n\u001B[0;32m--> 366\u001B[0m     result \u001B[38;5;241m=\u001B[39m \u001B[43mfunc\u001B[49m\u001B[43m(\u001B[49m\u001B[38;5;28;43mself\u001B[39;49m\u001B[38;5;241;43m.\u001B[39;49m\u001B[43mvalues\u001B[49m\u001B[43m,\u001B[49m\u001B[43m \u001B[49m\u001B[38;5;241;43m*\u001B[39;49m\u001B[38;5;241;43m*\u001B[39;49m\u001B[43mkwargs\u001B[49m\u001B[43m)\u001B[49m\n\u001B[1;32m    368\u001B[0m     result \u001B[38;5;241m=\u001B[39m maybe_coerce_values(result)\n\u001B[1;32m    369\u001B[0m     \u001B[38;5;28;01mreturn\u001B[39;00m \u001B[38;5;28mself\u001B[39m\u001B[38;5;241m.\u001B[39m_split_op_result(result)\n",
      "File \u001B[0;32m/srv/conda/envs/notebook/lib/python3.10/site-packages/pandas/core/groupby/groupby.py:1905\u001B[0m, in \u001B[0;36mGroupBy._cython_agg_general.<locals>.array_func\u001B[0;34m(values)\u001B[0m\n\u001B[1;32m   1903\u001B[0m \u001B[38;5;28;01mdef\u001B[39;00m \u001B[38;5;21marray_func\u001B[39m(values: ArrayLike) \u001B[38;5;241m-\u001B[39m\u001B[38;5;241m>\u001B[39m ArrayLike:\n\u001B[1;32m   1904\u001B[0m     \u001B[38;5;28;01mtry\u001B[39;00m:\n\u001B[0;32m-> 1905\u001B[0m         result \u001B[38;5;241m=\u001B[39m \u001B[38;5;28;43mself\u001B[39;49m\u001B[38;5;241;43m.\u001B[39;49m\u001B[43mgrouper\u001B[49m\u001B[38;5;241;43m.\u001B[39;49m\u001B[43m_cython_operation\u001B[49m\u001B[43m(\u001B[49m\n\u001B[1;32m   1906\u001B[0m \u001B[43m            \u001B[49m\u001B[38;5;124;43m\"\u001B[39;49m\u001B[38;5;124;43maggregate\u001B[39;49m\u001B[38;5;124;43m\"\u001B[39;49m\u001B[43m,\u001B[49m\n\u001B[1;32m   1907\u001B[0m \u001B[43m            \u001B[49m\u001B[43mvalues\u001B[49m\u001B[43m,\u001B[49m\n\u001B[1;32m   1908\u001B[0m \u001B[43m            \u001B[49m\u001B[43mhow\u001B[49m\u001B[43m,\u001B[49m\n\u001B[1;32m   1909\u001B[0m \u001B[43m            \u001B[49m\u001B[43maxis\u001B[49m\u001B[38;5;241;43m=\u001B[39;49m\u001B[43mdata\u001B[49m\u001B[38;5;241;43m.\u001B[39;49m\u001B[43mndim\u001B[49m\u001B[43m \u001B[49m\u001B[38;5;241;43m-\u001B[39;49m\u001B[43m \u001B[49m\u001B[38;5;241;43m1\u001B[39;49m\u001B[43m,\u001B[49m\n\u001B[1;32m   1910\u001B[0m \u001B[43m            \u001B[49m\u001B[43mmin_count\u001B[49m\u001B[38;5;241;43m=\u001B[39;49m\u001B[43mmin_count\u001B[49m\u001B[43m,\u001B[49m\n\u001B[1;32m   1911\u001B[0m \u001B[43m            \u001B[49m\u001B[38;5;241;43m*\u001B[39;49m\u001B[38;5;241;43m*\u001B[39;49m\u001B[43mkwargs\u001B[49m\u001B[43m,\u001B[49m\n\u001B[1;32m   1912\u001B[0m \u001B[43m        \u001B[49m\u001B[43m)\u001B[49m\n\u001B[1;32m   1913\u001B[0m     \u001B[38;5;28;01mexcept\u001B[39;00m \u001B[38;5;167;01mNotImplementedError\u001B[39;00m:\n\u001B[1;32m   1914\u001B[0m         \u001B[38;5;66;03m# generally if we have numeric_only=False\u001B[39;00m\n\u001B[1;32m   1915\u001B[0m         \u001B[38;5;66;03m# and non-applicable functions\u001B[39;00m\n\u001B[1;32m   1916\u001B[0m         \u001B[38;5;66;03m# try to python agg\u001B[39;00m\n\u001B[1;32m   1917\u001B[0m         \u001B[38;5;66;03m# TODO: shouldn't min_count matter?\u001B[39;00m\n\u001B[1;32m   1918\u001B[0m         \u001B[38;5;66;03m# TODO: avoid special casing SparseArray here\u001B[39;00m\n\u001B[1;32m   1919\u001B[0m         \u001B[38;5;28;01mif\u001B[39;00m how \u001B[38;5;129;01min\u001B[39;00m [\u001B[38;5;124m\"\u001B[39m\u001B[38;5;124many\u001B[39m\u001B[38;5;124m\"\u001B[39m, \u001B[38;5;124m\"\u001B[39m\u001B[38;5;124mall\u001B[39m\u001B[38;5;124m\"\u001B[39m] \u001B[38;5;129;01mand\u001B[39;00m \u001B[38;5;28misinstance\u001B[39m(values, SparseArray):\n",
      "File \u001B[0;32m/srv/conda/envs/notebook/lib/python3.10/site-packages/pandas/core/groupby/ops.py:816\u001B[0m, in \u001B[0;36mBaseGrouper._cython_operation\u001B[0;34m(self, kind, values, how, axis, min_count, **kwargs)\u001B[0m\n\u001B[1;32m    814\u001B[0m ids, _, _ \u001B[38;5;241m=\u001B[39m \u001B[38;5;28mself\u001B[39m\u001B[38;5;241m.\u001B[39mgroup_info\n\u001B[1;32m    815\u001B[0m ngroups \u001B[38;5;241m=\u001B[39m \u001B[38;5;28mself\u001B[39m\u001B[38;5;241m.\u001B[39mngroups\n\u001B[0;32m--> 816\u001B[0m \u001B[38;5;28;01mreturn\u001B[39;00m \u001B[43mcy_op\u001B[49m\u001B[38;5;241;43m.\u001B[39;49m\u001B[43mcython_operation\u001B[49m\u001B[43m(\u001B[49m\n\u001B[1;32m    817\u001B[0m \u001B[43m    \u001B[49m\u001B[43mvalues\u001B[49m\u001B[38;5;241;43m=\u001B[39;49m\u001B[43mvalues\u001B[49m\u001B[43m,\u001B[49m\n\u001B[1;32m    818\u001B[0m \u001B[43m    \u001B[49m\u001B[43maxis\u001B[49m\u001B[38;5;241;43m=\u001B[39;49m\u001B[43maxis\u001B[49m\u001B[43m,\u001B[49m\n\u001B[1;32m    819\u001B[0m \u001B[43m    \u001B[49m\u001B[43mmin_count\u001B[49m\u001B[38;5;241;43m=\u001B[39;49m\u001B[43mmin_count\u001B[49m\u001B[43m,\u001B[49m\n\u001B[1;32m    820\u001B[0m \u001B[43m    \u001B[49m\u001B[43mcomp_ids\u001B[49m\u001B[38;5;241;43m=\u001B[39;49m\u001B[43mids\u001B[49m\u001B[43m,\u001B[49m\n\u001B[1;32m    821\u001B[0m \u001B[43m    \u001B[49m\u001B[43mngroups\u001B[49m\u001B[38;5;241;43m=\u001B[39;49m\u001B[43mngroups\u001B[49m\u001B[43m,\u001B[49m\n\u001B[1;32m    822\u001B[0m \u001B[43m    \u001B[49m\u001B[38;5;241;43m*\u001B[39;49m\u001B[38;5;241;43m*\u001B[39;49m\u001B[43mkwargs\u001B[49m\u001B[43m,\u001B[49m\n\u001B[1;32m    823\u001B[0m \u001B[43m\u001B[49m\u001B[43m)\u001B[49m\n",
      "File \u001B[0;32m/srv/conda/envs/notebook/lib/python3.10/site-packages/pandas/core/groupby/ops.py:526\u001B[0m, in \u001B[0;36mWrappedCythonOp.cython_operation\u001B[0;34m(self, values, axis, min_count, comp_ids, ngroups, **kwargs)\u001B[0m\n\u001B[1;32m    522\u001B[0m \u001B[38;5;28mself\u001B[39m\u001B[38;5;241m.\u001B[39m_validate_axis(axis, values)\n\u001B[1;32m    524\u001B[0m \u001B[38;5;28;01mif\u001B[39;00m \u001B[38;5;129;01mnot\u001B[39;00m \u001B[38;5;28misinstance\u001B[39m(values, np\u001B[38;5;241m.\u001B[39mndarray):\n\u001B[1;32m    525\u001B[0m     \u001B[38;5;66;03m# i.e. ExtensionArray\u001B[39;00m\n\u001B[0;32m--> 526\u001B[0m     \u001B[38;5;28;01mreturn\u001B[39;00m \u001B[43mvalues\u001B[49m\u001B[38;5;241;43m.\u001B[39;49m\u001B[43m_groupby_op\u001B[49m\u001B[43m(\u001B[49m\n\u001B[1;32m    527\u001B[0m \u001B[43m        \u001B[49m\u001B[43mhow\u001B[49m\u001B[38;5;241;43m=\u001B[39;49m\u001B[38;5;28;43mself\u001B[39;49m\u001B[38;5;241;43m.\u001B[39;49m\u001B[43mhow\u001B[49m\u001B[43m,\u001B[49m\n\u001B[1;32m    528\u001B[0m \u001B[43m        \u001B[49m\u001B[43mhas_dropped_na\u001B[49m\u001B[38;5;241;43m=\u001B[39;49m\u001B[38;5;28;43mself\u001B[39;49m\u001B[38;5;241;43m.\u001B[39;49m\u001B[43mhas_dropped_na\u001B[49m\u001B[43m,\u001B[49m\n\u001B[1;32m    529\u001B[0m \u001B[43m        \u001B[49m\u001B[43mmin_count\u001B[49m\u001B[38;5;241;43m=\u001B[39;49m\u001B[43mmin_count\u001B[49m\u001B[43m,\u001B[49m\n\u001B[1;32m    530\u001B[0m \u001B[43m        \u001B[49m\u001B[43mngroups\u001B[49m\u001B[38;5;241;43m=\u001B[39;49m\u001B[43mngroups\u001B[49m\u001B[43m,\u001B[49m\n\u001B[1;32m    531\u001B[0m \u001B[43m        \u001B[49m\u001B[43mids\u001B[49m\u001B[38;5;241;43m=\u001B[39;49m\u001B[43mcomp_ids\u001B[49m\u001B[43m,\u001B[49m\n\u001B[1;32m    532\u001B[0m \u001B[43m        \u001B[49m\u001B[38;5;241;43m*\u001B[39;49m\u001B[38;5;241;43m*\u001B[39;49m\u001B[43mkwargs\u001B[49m\u001B[43m,\u001B[49m\n\u001B[1;32m    533\u001B[0m \u001B[43m    \u001B[49m\u001B[43m)\u001B[49m\n\u001B[1;32m    535\u001B[0m \u001B[38;5;28;01mreturn\u001B[39;00m \u001B[38;5;28mself\u001B[39m\u001B[38;5;241m.\u001B[39m_cython_op_ndim_compat(\n\u001B[1;32m    536\u001B[0m     values,\n\u001B[1;32m    537\u001B[0m     min_count\u001B[38;5;241m=\u001B[39mmin_count,\n\u001B[0;32m   (...)\u001B[0m\n\u001B[1;32m    541\u001B[0m     \u001B[38;5;241m*\u001B[39m\u001B[38;5;241m*\u001B[39mkwargs,\n\u001B[1;32m    542\u001B[0m )\n",
      "File \u001B[0;32m/srv/conda/envs/notebook/lib/python3.10/site-packages/pandas/core/arrays/datetimelike.py:1637\u001B[0m, in \u001B[0;36mDatetimeLikeArrayMixin._groupby_op\u001B[0;34m(self, how, has_dropped_na, min_count, ngroups, ids, **kwargs)\u001B[0m\n\u001B[1;32m   1634\u001B[0m \u001B[38;5;28;01mif\u001B[39;00m dtype\u001B[38;5;241m.\u001B[39mkind \u001B[38;5;241m==\u001B[39m \u001B[38;5;124m\"\u001B[39m\u001B[38;5;124mM\u001B[39m\u001B[38;5;124m\"\u001B[39m:\n\u001B[1;32m   1635\u001B[0m     \u001B[38;5;66;03m# Adding/multiplying datetimes is not valid\u001B[39;00m\n\u001B[1;32m   1636\u001B[0m     \u001B[38;5;28;01mif\u001B[39;00m how \u001B[38;5;129;01min\u001B[39;00m [\u001B[38;5;124m\"\u001B[39m\u001B[38;5;124msum\u001B[39m\u001B[38;5;124m\"\u001B[39m, \u001B[38;5;124m\"\u001B[39m\u001B[38;5;124mprod\u001B[39m\u001B[38;5;124m\"\u001B[39m, \u001B[38;5;124m\"\u001B[39m\u001B[38;5;124mcumsum\u001B[39m\u001B[38;5;124m\"\u001B[39m, \u001B[38;5;124m\"\u001B[39m\u001B[38;5;124mcumprod\u001B[39m\u001B[38;5;124m\"\u001B[39m, \u001B[38;5;124m\"\u001B[39m\u001B[38;5;124mvar\u001B[39m\u001B[38;5;124m\"\u001B[39m, \u001B[38;5;124m\"\u001B[39m\u001B[38;5;124mskew\u001B[39m\u001B[38;5;124m\"\u001B[39m]:\n\u001B[0;32m-> 1637\u001B[0m         \u001B[38;5;28;01mraise\u001B[39;00m \u001B[38;5;167;01mTypeError\u001B[39;00m(\u001B[38;5;124mf\u001B[39m\u001B[38;5;124m\"\u001B[39m\u001B[38;5;124mdatetime64 type does not support \u001B[39m\u001B[38;5;132;01m{\u001B[39;00mhow\u001B[38;5;132;01m}\u001B[39;00m\u001B[38;5;124m operations\u001B[39m\u001B[38;5;124m\"\u001B[39m)\n\u001B[1;32m   1638\u001B[0m     \u001B[38;5;28;01mif\u001B[39;00m how \u001B[38;5;129;01min\u001B[39;00m [\u001B[38;5;124m\"\u001B[39m\u001B[38;5;124many\u001B[39m\u001B[38;5;124m\"\u001B[39m, \u001B[38;5;124m\"\u001B[39m\u001B[38;5;124mall\u001B[39m\u001B[38;5;124m\"\u001B[39m]:\n\u001B[1;32m   1639\u001B[0m         \u001B[38;5;66;03m# GH#34479\u001B[39;00m\n\u001B[1;32m   1640\u001B[0m         warnings\u001B[38;5;241m.\u001B[39mwarn(\n\u001B[1;32m   1641\u001B[0m             \u001B[38;5;124mf\u001B[39m\u001B[38;5;124m\"\u001B[39m\u001B[38;5;124m'\u001B[39m\u001B[38;5;132;01m{\u001B[39;00mhow\u001B[38;5;132;01m}\u001B[39;00m\u001B[38;5;124m'\u001B[39m\u001B[38;5;124m with datetime64 dtypes is deprecated and will raise in a \u001B[39m\u001B[38;5;124m\"\u001B[39m\n\u001B[1;32m   1642\u001B[0m             \u001B[38;5;124mf\u001B[39m\u001B[38;5;124m\"\u001B[39m\u001B[38;5;124mfuture version. Use (obj != pd.Timestamp(0)).\u001B[39m\u001B[38;5;132;01m{\u001B[39;00mhow\u001B[38;5;132;01m}\u001B[39;00m\u001B[38;5;124m() instead.\u001B[39m\u001B[38;5;124m\"\u001B[39m,\n\u001B[1;32m   1643\u001B[0m             \u001B[38;5;167;01mFutureWarning\u001B[39;00m,\n\u001B[1;32m   1644\u001B[0m             stacklevel\u001B[38;5;241m=\u001B[39mfind_stack_level(),\n\u001B[1;32m   1645\u001B[0m         )\n",
      "\u001B[0;31mTypeError\u001B[0m: datetime64 type does not support sum operations"
     ],
     "ename": "TypeError",
     "evalue": "datetime64 type does not support sum operations",
     "output_type": "error"
    }
   ],
   "id": "eeb5beb3-308f-4e54-9ca6-0a3cb5010d42"
  },
  {
   "cell_type": "code",
   "source": [
    "# Mittelwert\n",
    "biomasse.groupby('4.2 Installierte Leistung [kW]').mean()\n",
    "wasser.groupby('4.2 Installierte Leistung [kW]').mean()\n",
    "windland.groupby('4.2 Installierte Leistung [kW]').mean()\n",
    "windsee.groupby('4.2 Installierte Leistung [kW]').mean()\n",
    "grubengas.groupby('4.2 Installierte Leistung [kW]').mean()\n",
    "geponiegas.groupby('4.2 Installierte Leistung [kW]').mean()\n",
    "pvfrei.groupby('4.2 Installierte Leistung [kW]').mean()\n",
    "geo.groupby('4.2 Installierte Leistung [kW]').mean()\n",
    "speicher.groupby('4.2 Installierte Leistung [kW]').mean()\n",
    "\n"
   ],
   "metadata": {},
   "execution_count": 5,
   "outputs": [],
   "id": "98d66c10-da44-4167-952b-d89e8b81132b"
  },
  {
   "cell_type": "code",
   "source": [
    "# Maximum\n",
    "biomasse.groupby('4.2 Installierte Leistung [kW]').max()\n",
    "wasser.groupby('4.2 Installierte Leistung [kW]').max()\n",
    "windland.groupby('4.2 Installierte Leistung [kW]').max()\n",
    "windsee.groupby('4.2 Installierte Leistung [kW]').max()\n",
    "grubengas.groupby('4.2 Installierte Leistung [kW]').max()\n",
    "geponiegas.groupby('4.2 Installierte Leistung [kW]').max()\n",
    "pvfrei.groupby('4.2 Installierte Leistung [kW]').max()\n",
    "geo.groupby('4.2 Installierte Leistung [kW]').max()\n",
    "speicher.groupby('4.2 Installierte Leistung [kW]').max()\n"
   ],
   "metadata": {},
   "execution_count": 6,
   "outputs": [],
   "id": "5c289723-7117-45a0-841e-786747cbda67"
  },
  {
   "cell_type": "markdown",
   "source": [
    "##### b) [3P] Ermitteln Sie die Summe, den Mittelwert und das Maximum der installierten Leistung für jedes Bundesland.\n",
    "Spalten: '4.11 Bundesland', '4.2 Installierte Leistung [kW]'"
   ],
   "metadata": {},
   "id": "8399612a-023f-4fda-84cd-3f816ba04822"
  },
  {
   "cell_type": "code",
   "source": [
    "df['4.11 Bundesland'].unique()"
   ],
   "metadata": {
    "trusted": true,
    "tags": []
   },
   "execution_count": 10,
   "outputs": [
    {
     "execution_count": 10,
     "output_type": "execute_result",
     "data": {
      "text/plain": "array(['Niedersachsen', 'Bayern', 'Hessen', 'Nordrhein-Westfalen',\n       'Schleswig-Holstein', 'Mecklenburg-Vorpommern', 'Rheinland-Pfalz',\n       'Thüringen', 'Sachsen-Anhalt', 'Sachsen', 'Brandenburg',\n       'Saarland', 'Baden-Württemberg', 'Hamburg',\n       'Ausschließliche Wirtschaftszone (Wind See)', 'Berlin', 'Bremen',\n       nan], dtype=object)"
     },
     "metadata": {}
    }
   ],
   "id": "4173fab7-71ab-4633-8f2b-b8ba474f8893"
  },
  {
   "cell_type": "code",
   "source": [
    "niedersachsen = df(df['4.11 Bundesland']==\"Niedersachsen\")\n",
    "bayern = df(df['4.11 Bundesland']==\"Bayern\")\n",
    "hessen = df(df['4.11 Bundesland']==\"Hessen\")\n",
    "#...\n"
   ],
   "metadata": {},
   "execution_count": null,
   "outputs": [],
   "id": "2651c40d-88ab-4bdc-b22f-163c245a600d"
  },
  {
   "cell_type": "code",
   "source": [
    "# Summe\n",
    "niedersachsen.groupby('4.2 Installierte Leistung [kW]').sum()\n",
    "bayern.groupby('4.2 Installierte Leistung [kW]').sum()\n",
    "hessen.groupby('4.2 Installierte Leistung [kW]').sum()\n",
    "#...\n"
   ],
   "metadata": {},
   "execution_count": 7,
   "outputs": [],
   "id": "da60f9c7-7700-4e9c-b7ab-6815b2a55b4f"
  },
  {
   "cell_type": "code",
   "source": [
    "# Mittelwert\n",
    "niedersachsen.groupby('4.2 Installierte Leistung [kW]').mean()\n",
    "bayern.groupby('4.2 Installierte Leistung [kW]').mean()\n",
    "hessen.groupby('4.2 Installierte Leistung [kW]').mean()\n",
    "# ...\n"
   ],
   "metadata": {},
   "execution_count": 8,
   "outputs": [],
   "id": "f0a45d2d-021d-4874-9582-6b36b68b12b8"
  },
  {
   "cell_type": "code",
   "source": [
    "# Maximum\n",
    "niedersachsen.groupby('4.2 Installierte Leistung [kW]').max()\n",
    "bayern.groupby('4.2 Installierte Leistung [kW]').max()\n",
    "hessen.groupby('4.2 Installierte Leistung [kW]').max()\n",
    "#...\n"
   ],
   "metadata": {},
   "execution_count": 9,
   "outputs": [],
   "id": "7a469425-e8b7-443f-ba7b-9bb8bd6f024f"
  },
  {
   "cell_type": "markdown",
   "source": [
    "##### c) [6P] Ermitteln Sie den prozentualen Anteil der Fläche für PV-Anlagen, die auf Ackerland stehen. Unterscheiden Sie hierbei nach Bundesländern. Stellen Sie Ihre Ergebnisse (Anteil Ackerfläche PV / Fläche PV pro Bundesland) in einem Balkendiagramm dar (plot.bar()). \n",
    "Die folgenden Spalten sind für die Aufgabe relevant:\n",
    "- '9.2 Wie viel Fläche wird durch die PV-Freiflächenanlage in Anspruch genommen? [ha] '\n",
    "- '9.3 Wie viel der PV-Freifläche ist davon Ackerland? [ha] '\n",
    "- '4.11 Bundesland'"
   ],
   "metadata": {
    "tags": []
   },
   "id": "3934fc2b-81db-43d2-b2fd-970c70491ab3"
  },
  {
   "cell_type": "code",
   "source": [
    "# PV-Fläche pro Bundesland \n",
    "pv_niedersachse=niedersachsen.groupby('9.2 Wie viel Fläche wird durch die PV-Freiflächenanlage in Anspruch genommen? [ha] ').sum()\n",
    "pv_bayern=bayern.groupby('9.2 Wie viel Fläche wird durch die PV-Freiflächenanlage in Anspruch genommen? [ha] ').sum()\n",
    "pv_hessen=hessen.groupby('9.2 Wie viel Fläche wird durch die PV-Freiflächenanlage in Anspruch genommen? [ha] ').sum()"
   ],
   "metadata": {},
   "execution_count": 10,
   "outputs": [],
   "id": "fedac823-ac69-4a34-8443-86bdedda3368"
  },
  {
   "cell_type": "code",
   "source": [
    "# PV-Ackerland pro Bundesland \n",
    "pv_niedersachse=niedersachsen.groupby('9.3 Wie viel der PV-Freifläche ist davon Ackerland? [ha] ').sum()\n",
    "pv_bayern=bayern.groupby('9.3 Wie viel der PV-Freifläche ist davon Ackerland? [ha] ').sum()\n",
    "pv_hessen=hessen.groupby('9.3 Wie viel der PV-Freifläche ist davon Ackerland? [ha] ').sum()"
   ],
   "metadata": {},
   "execution_count": 11,
   "outputs": [],
   "id": "2cbee9c7-1250-4dda-a33b-7de195cbf917"
  },
  {
   "cell_type": "code",
   "source": [
    "# prozentualer Anteil\n"
   ],
   "metadata": {},
   "execution_count": 12,
   "outputs": [],
   "id": "9747f6e8-7b29-452c-8c3f-bde388d6b69e"
  },
  {
   "cell_type": "code",
   "source": [
    "# Balkendiagramm\n",
    "pvprobundesland.plot.hist()"
   ],
   "metadata": {},
   "execution_count": 13,
   "outputs": [],
   "id": "47431bfa-e6ee-4a72-a054-5448132a6509"
  },
  {
   "cell_type": "markdown",
   "source": [
    "### Aufgabe 2: Zeitreihendaten umwandeln und darstellen. [4P]"
   ],
   "metadata": {},
   "id": "3a7abf67-e1e8-47e2-8147-d62fe7f75c25"
  },
  {
   "cell_type": "markdown",
   "source": [
    "##### Laden Sie das Lastprofil (\"Messwertexport_2015.csv\" im 'input' Ordner) in einen Pandas Dataframe. Nutzen Sie dafür den vorgegebenen Code."
   ],
   "metadata": {
    "tags": []
   },
   "id": "5135c7b1-df6b-4c2f-807e-185b875783eb"
  },
  {
   "cell_type": "code",
   "source": [
    "# Datenimport - nicht abwandeln\n",
    "ts_df = pd.read_csv('input/Messwertexport_2015.csv', sep=';', \n",
    "                      decimal=',',parse_dates={'datetime':['[kW]','Attribut']})\n",
    "ts_df.set_index(pd.DatetimeIndex(ts_df.datetime), inplace=True)\n",
    "ts_df.drop(columns=['datetime'], inplace=True)"
   ],
   "metadata": {},
   "execution_count": 14,
   "outputs": [],
   "id": "5e10b4c9-2ccd-4357-bb53-25d6e1baa816"
  },
  {
   "cell_type": "markdown",
   "source": [
    "##### a) [1P] Die Daten liegen in viertelstündlichen Werten vor. Wandeln Sie sie in stündliche Werte mithilfe der resample Funktion um, wobei Sie die Werte aufsummieren. Speichern sie die neue Zeitreihe in einer Variable."
   ],
   "metadata": {},
   "id": "f36e5259-18e6-4081-9b2d-068c43a05c28"
  },
  {
   "cell_type": "code",
   "source": [
    "ts_df_new = "
   ],
   "metadata": {},
   "execution_count": null,
   "outputs": [],
   "id": "3a2ce07f-f1fa-42b0-ab83-e8d1616c95e1"
  },
  {
   "cell_type": "markdown",
   "source": [
    "##### b) [1P] Stellen Sie die Ergebnisse in einem Diagramm dar. (x-Achse = DatetimeIndex, y-Achse = Messwert in kW)"
   ],
   "metadata": {},
   "id": "e38e4151-66a6-4f20-9c82-f2da23b8226a"
  },
  {
   "cell_type": "code",
   "source": [
    "ts_df_new.plot.hist(x=\"Datetimeindex\", y=\"Messwert in kW\")"
   ],
   "metadata": {},
   "execution_count": null,
   "outputs": [],
   "id": "440ecc56-453f-4b3c-8c10-ae09960d354c"
  },
  {
   "cell_type": "markdown",
   "source": [
    "##### c) [1P] Wandeln Sie nun die vorher erzeugten Stundenwerte in Tageswerte um. Verwenden Sie dabei das Maximum."
   ],
   "metadata": {},
   "id": "0e7a4726-13f9-45e1-9884-ffc9c47a64a3"
  },
  {
   "cell_type": "code",
   "source": [],
   "metadata": {},
   "execution_count": null,
   "outputs": [],
   "id": "6f0235db-4076-4edd-8d41-e0abf04b179b"
  },
  {
   "cell_type": "markdown",
   "source": [
    "##### d) [1P] Stellen Sie nun auch die maximalen Tageswerte in einem Diagramm dar."
   ],
   "metadata": {},
   "id": "f9c6d14f-e0a2-4856-930d-5131dd565ea9"
  },
  {
   "cell_type": "code",
   "source": [
    "tageswert.max().hist()"
   ],
   "metadata": {},
   "execution_count": null,
   "outputs": [],
   "id": "0703b3cc-22a5-4919-8321-fcfe70eec341"
  },
  {
   "cell_type": "markdown",
   "source": [
    "#### Aufgabe 3: Geodaten und Koordinatensysteme [4P]"
   ],
   "metadata": {},
   "id": "74119150-6ecf-4e09-b884-fd3d8cfae326"
  },
  {
   "cell_type": "markdown",
   "source": [
    "##### Laden Sie nun den Geodatensatz mit den NUTS-Regionen Europas ('NUTS_RG_01M_2016_3035_LEVL_3.geojson' im 'input' Ordner)"
   ],
   "metadata": {
    "tags": []
   },
   "id": "070af873-de81-4e9a-a9a8-6d3952d91398"
  },
  {
   "cell_type": "code",
   "source": [
    "# Datenimport - bitte nicht abwandeln\n",
    "gdf = gpd.read_file('input/NUTS_RG_01M_2016_3035_LEVL_3.geojson')"
   ],
   "metadata": {
    "trusted": true,
    "tags": []
   },
   "execution_count": 1,
   "outputs": [
    {
     "traceback": [
      "\u001B[0;31m---------------------------------------------------------------------------\u001B[0m",
      "\u001B[0;31mNameError\u001B[0m                                 Traceback (most recent call last)",
      "Cell \u001B[0;32mIn[1], line 2\u001B[0m\n\u001B[1;32m      1\u001B[0m \u001B[38;5;66;03m# Datenimport - bitte nicht abwandeln\u001B[39;00m\n\u001B[0;32m----> 2\u001B[0m gdf \u001B[38;5;241m=\u001B[39m \u001B[43mgpd\u001B[49m\u001B[38;5;241m.\u001B[39mread_file(\u001B[38;5;124m'\u001B[39m\u001B[38;5;124minput/NUTS_RG_01M_2016_3035_LEVL_3.geojson\u001B[39m\u001B[38;5;124m'\u001B[39m)\n",
      "\u001B[0;31mNameError\u001B[0m: name 'gpd' is not defined"
     ],
     "ename": "NameError",
     "evalue": "name 'gpd' is not defined",
     "output_type": "error"
    }
   ],
   "id": "4ae09e4f-7bc1-42e4-8233-694612ba837a"
  },
  {
   "cell_type": "markdown",
   "source": [
    "##### a) [1P] In welchem Korrdinatensystem liegen die Daten vor?"
   ],
   "metadata": {},
   "id": "113e8771-1e84-43e6-9204-c5e4ab103fda"
  },
  {
   "cell_type": "code",
   "source": [
    "gdf.crs"
   ],
   "metadata": {
    "trusted": true,
    "tags": []
   },
   "execution_count": 2,
   "outputs": [
    {
     "traceback": [
      "\u001B[0;31m---------------------------------------------------------------------------\u001B[0m",
      "\u001B[0;31mNameError\u001B[0m                                 Traceback (most recent call last)",
      "Cell \u001B[0;32mIn[2], line 1\u001B[0m\n\u001B[0;32m----> 1\u001B[0m \u001B[43mgdf\u001B[49m\u001B[38;5;241m.\u001B[39mcrs\n",
      "\u001B[0;31mNameError\u001B[0m: name 'gdf' is not defined"
     ],
     "ename": "NameError",
     "evalue": "name 'gdf' is not defined",
     "output_type": "error"
    }
   ],
   "id": "3f85f323-070c-4d9a-88a1-b4c6d2eee1a5"
  },
  {
   "cell_type": "markdown",
   "source": [
    "##### b) [1P] Wandeln Sie die Koordinaten in Längen- und Breitengrade um (EPSG:4326) und speichern Sie das Ergebnis in einer Variable. "
   ],
   "metadata": {},
   "id": "8f37a76f-c358-4133-ade7-11924a23875f"
  },
  {
   "cell_type": "code",
   "source": [],
   "metadata": {},
   "execution_count": null,
   "outputs": [],
   "id": "24552041-c2a2-4053-be6a-66e2e2391115"
  },
  {
   "cell_type": "markdown",
   "source": [
    "##### c) [1P] Filtern Sie die Daten nach Italien und Österreich (IT, AT)"
   ],
   "metadata": {},
   "id": "80752de6-c397-4469-8703-88afc6d16e9e"
  },
  {
   "cell_type": "code",
   "source": [
    " it_at = gdf(gdf['CNTR_CODE']==\"AT\"|['CNTR_CODE']==\"IT\")"
   ],
   "metadata": {
    "trusted": true,
    "tags": []
   },
   "execution_count": 3,
   "outputs": [
    {
     "traceback": [
      "\u001B[0;31m---------------------------------------------------------------------------\u001B[0m",
      "\u001B[0;31mNameError\u001B[0m                                 Traceback (most recent call last)",
      "Cell \u001B[0;32mIn[3], line 1\u001B[0m\n\u001B[0;32m----> 1\u001B[0m it_at \u001B[38;5;241m=\u001B[39m \u001B[43mgdf\u001B[49m(gdf[\u001B[38;5;124m'\u001B[39m\u001B[38;5;124mCNTR_CODE\u001B[39m\u001B[38;5;124m'\u001B[39m]\u001B[38;5;241m==\u001B[39m\u001B[38;5;124m\"\u001B[39m\u001B[38;5;124mAT\u001B[39m\u001B[38;5;124m\"\u001B[39m\u001B[38;5;241m|\u001B[39mgdf[\u001B[38;5;124m'\u001B[39m\u001B[38;5;124mCNTR_CODE\u001B[39m\u001B[38;5;124m'\u001B[39m]\u001B[38;5;241m==\u001B[39m\u001B[38;5;124m\"\u001B[39m\u001B[38;5;124mIT\u001B[39m\u001B[38;5;124m\"\u001B[39m)\n",
      "\u001B[0;31mNameError\u001B[0m: name 'gdf' is not defined"
     ],
     "ename": "NameError",
     "evalue": "name 'gdf' is not defined",
     "output_type": "error"
    }
   ],
   "id": "216e1e89-2947-4396-8072-3cf0fd832274"
  },
  {
   "cell_type": "markdown",
   "source": [
    "##### d) [1P] Zeigen Sie die Geodaten für die beiden Länder als Karte an. "
   ],
   "metadata": {
    "tags": []
   },
   "id": "b885d08b-c856-4c4b-9ead-9e7972feb980"
  },
  {
   "cell_type": "code",
   "source": [
    "it_at.plot()"
   ],
   "metadata": {},
   "execution_count": null,
   "outputs": [],
   "id": "1ab73c14-2ecc-4028-a0ac-cdf4d5c8edf2"
  },
  {
   "cell_type": "markdown",
   "source": [
    "### Bitte nutzen Sie den Binder Download Button oben um das Jupyter Notebook (.ipynb Datei) zu speichern und laden Sie es anschließend bei ISIS hoch"
   ],
   "metadata": {},
   "id": "0ef61c52-38c9-4601-916e-e0c9f7fd4583"
  }
 ]
}
