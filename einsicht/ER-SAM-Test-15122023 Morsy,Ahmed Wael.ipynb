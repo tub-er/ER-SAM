{
 "cells": [
  {
   "cell_type": "markdown",
   "id": "534d85bb-06da-413e-8cd4-555c1b47fb1c",
   "metadata": {},
   "source": [
    "# ER-SAM Test vom 15.12.2023"
   ]
  },
  {
   "cell_type": "markdown",
   "id": "1d973bc8-d3d9-43f7-9ff5-61d732490d62",
   "metadata": {},
   "source": [
    "#### Bitte schreiben Sie Ihren Namen und Ihre Matrikelnummer in die folgende Zelle:"
   ]
  },
  {
   "cell_type": "code",
   "execution_count": 1,
   "id": "e70a1169-7be7-409f-83ca-f99a042220bd",
   "metadata": {},
   "outputs": [],
   "source": [
    "# Name:\n",
    "# Matriculation number: "
   ]
  },
  {
   "cell_type": "markdown",
   "id": "50c3ebe3-8c08-4059-9249-f8de4b7c3819",
   "metadata": {},
   "source": [
    "#### Durchführung\n",
    "Der Python-Teil des Tests beinhaltet 20 Punkte.\n",
    "\n",
    "Sie erhalten zusätzlich Zeit, um die Excel und Python Aufgaben herunterzuladen, zu öffnen und schließlich wieder bei ISIS hochzuladen. \n",
    "\n",
    "Bitte bearbeiten Sie alle Aufgaben in den dafür vorgesehenen Zellen bzw. fügen Sie wenn nötig zusätzliche Zellen an den entsprechenden Stellen ein. Lassen Sie die Aufgabenstellungen bitte so stehen wie sie sind. \n",
    "\n",
    "In Python und Pandas gibt es häufig unterschiedliche Wege eine Aufgabe zu lösen. Sie sind daher in der Wahl des Lösungswegs frei. \n",
    "\n",
    "Nachdem Sie alle Fragen beantwortet haben, vergewissern Sie sich bitte, dass alle Outputs sichtbar sind bzw. alle Zellen ausgeführt wurden. Dann nutzen Sie bitte den Download Button oben um das Notebook herunterzuladen und laden Sie die .ipynb Datei so wie sie ist auf ISIS hoch. Danach würden wir Sie bitten die Datei von Ihren privaten PCs zu löschen. \n",
    "\n",
    "Viel Erfolg!"
   ]
  },
  {
   "cell_type": "code",
   "execution_count": 1,
   "id": "2ed64f0b-e8bf-476c-af6a-d2730c6c5b80",
   "metadata": {
    "scrolled": true,
    "tags": []
   },
   "outputs": [],
   "source": [
    "# Gegebenenfalls müssen Sie noch pandas etc. installieren... \n",
    "# !pip install pandas\n",
    "# !pip install geopandas\n",
    "# !pip install matplotlib\n",
    "# !pip install openpyxl\n",
    "# Importieren Sie pandas und matplotlib\n",
    "import pandas as pd\n",
    "import geopandas as gpd\n",
    "import matplotlib.pyplot as plt"
   ]
  },
  {
   "cell_type": "markdown",
   "id": "5de44db6-dbe3-4f7f-b663-f7b198aae78a",
   "metadata": {},
   "source": [
    "### Aufgabe 1: Relevante Daten aus einem Datensatz auslesen und darstellen. [12P]"
   ]
  },
  {
   "cell_type": "markdown",
   "id": "98ea2174-ed77-41ab-9edb-b26ad3e730bc",
   "metadata": {},
   "source": [
    "##### Laden Sie das \"Anlagenregister\" (\"2018_09_Veroeff_RegDaten.csv\" im \"input\" Ordner) in einen Pandas Dataframe"
   ]
  },
  {
   "cell_type": "code",
   "execution_count": 8,
   "id": "234091b6-6ded-4737-9e25-300b7c6c4e52",
   "metadata": {
    "tags": []
   },
   "outputs": [],
   "source": [
    "# Datenimport - nicht abwandeln\n",
    "df = pd.read_excel('input/2018_11_Veroeff_RegDaten.xlsx')"
   ]
  },
  {
   "cell_type": "markdown",
   "id": "a07f807f-e125-4585-8c75-10fd77e04e54",
   "metadata": {
    "tags": []
   },
   "source": [
    "##### a) [3P] Ermitteln Sie die Summe, den Mittelwert und das Maximum der installierten Leistung für jeden Energieträger.\n",
    "Spalten: '4.1 Energieträger', '4.2 Installierte Leistung [kW]'"
   ]
  },
  {
   "cell_type": "code",
   "execution_count": 9,
   "id": "eeb5beb3-308f-4e54-9ca6-0a3cb5010d42",
   "metadata": {
    "tags": []
   },
   "outputs": [
    {
     "data": {
      "text/plain": [
       "4.1 Energieträger\n",
       "Biomasse         3.326356e+06\n",
       "Deponiegas       2.302803e+04\n",
       "Freifläche PV    1.879727e+06\n",
       "Geothermie       1.333950e+04\n",
       "Grubengas        6.015300e+04\n",
       "Klärgas          4.997480e+04\n",
       "Speicher         1.037178e+04\n",
       "Wasserkraft      2.746664e+05\n",
       "Wind Land        3.084679e+07\n",
       "Wind See         6.339068e+06\n",
       "Name: 4.2 Installierte Leistung [kW], dtype: float64"
      ]
     },
     "execution_count": 9,
     "metadata": {},
     "output_type": "execute_result"
    }
   ],
   "source": [
    "# Summe\n",
    "# Summe\n",
    "df.groupby('4.1 Energieträger')['4.2 Installierte Leistung [kW]'].sum()\n"
   ]
  },
  {
   "cell_type": "code",
   "execution_count": 10,
   "id": "98d66c10-da44-4167-952b-d89e8b81132b",
   "metadata": {
    "tags": []
   },
   "outputs": [
    {
     "data": {
      "text/plain": [
       "4.1 Energieträger\n",
       "Biomasse          662.225049\n",
       "Deponiegas        479.750583\n",
       "Freifläche PV    2195.942894\n",
       "Geothermie       3334.875000\n",
       "Grubengas        2615.347826\n",
       "Klärgas           434.563478\n",
       "Speicher            6.568576\n",
       "Wasserkraft       233.559905\n",
       "Wind Land        2509.296905\n",
       "Wind See         4999.264984\n",
       "Name: 4.2 Installierte Leistung [kW], dtype: float64"
      ]
     },
     "execution_count": 10,
     "metadata": {},
     "output_type": "execute_result"
    }
   ],
   "source": [
    "# Mittelwert\n",
    "# Mittelwert\n",
    "df.groupby('4.1 Energieträger')['4.2 Installierte Leistung [kW]'].mean()\n"
   ]
  },
  {
   "cell_type": "code",
   "execution_count": 11,
   "id": "5c289723-7117-45a0-841e-786747cbda67",
   "metadata": {
    "tags": []
   },
   "outputs": [
    {
     "data": {
      "text/plain": [
       "4.1 Energieträger\n",
       "Biomasse         22000.0\n",
       "Deponiegas        3463.0\n",
       "Freifläche PV    10000.0\n",
       "Geothermie        5500.0\n",
       "Grubengas         6790.0\n",
       "Klärgas           8877.0\n",
       "Speicher           120.0\n",
       "Wasserkraft      12600.0\n",
       "Wind Land         8000.0\n",
       "Wind See          8300.0\n",
       "Name: 4.2 Installierte Leistung [kW], dtype: float64"
      ]
     },
     "execution_count": 11,
     "metadata": {},
     "output_type": "execute_result"
    }
   ],
   "source": [
    "# Maximum\n",
    "# Maximum\n",
    "df.groupby('4.1 Energieträger')['4.2 Installierte Leistung [kW]'].max()\n"
   ]
  },
  {
   "cell_type": "markdown",
   "id": "8399612a-023f-4fda-84cd-3f816ba04822",
   "metadata": {},
   "source": [
    "##### b) [3P] Ermitteln Sie die Summe, den Mittelwert und das Maximum der installierten Leistung für jedes Bundesland.\n",
    "Spalten: '4.11 Bundesland', '4.2 Installierte Leistung [kW]'"
   ]
  },
  {
   "cell_type": "code",
   "execution_count": 13,
   "id": "da60f9c7-7700-4e9c-b7ab-6815b2a55b4f",
   "metadata": {
    "tags": []
   },
   "outputs": [
    {
     "data": {
      "text/plain": [
       "4.11 Bundesland\n",
       "Ausschließliche Wirtschaftszone (Wind See)    6125298.000\n",
       "Baden-Württemberg                             1699925.706\n",
       "Bayern                                        3321343.051\n",
       "Berlin                                          13922.255\n",
       "Brandenburg                                   3968717.880\n",
       "Bremen                                         120525.540\n",
       "Hamburg                                         97050.000\n",
       "Hessen                                        1814921.620\n",
       "Mecklenburg-Vorpommern                        2304371.420\n",
       "Niedersachsen                                 7363749.263\n",
       "Nordrhein-Westfalen                           3919106.164\n",
       "Rheinland-Pfalz                               2572833.425\n",
       "Saarland                                       385242.615\n",
       "Sachsen                                        619434.470\n",
       "Sachsen-Anhalt                                2272294.510\n",
       "Schleswig-Holstein                            5105215.010\n",
       "Thüringen                                     1066390.021\n",
       "Name: 4.2 Installierte Leistung [kW], dtype: float64"
      ]
     },
     "execution_count": 13,
     "metadata": {},
     "output_type": "execute_result"
    }
   ],
   "source": [
    "# Summe\n",
    "# Summe\n",
    "df.groupby('4.11 Bundesland')['4.2 Installierte Leistung [kW]'].sum()"
   ]
  },
  {
   "cell_type": "code",
   "execution_count": 14,
   "id": "f0a45d2d-021d-4874-9582-6b36b68b12b8",
   "metadata": {
    "tags": []
   },
   "outputs": [
    {
     "data": {
      "text/plain": [
       "4.11 Bundesland\n",
       "Ausschließliche Wirtschaftszone (Wind See)    5004.328431\n",
       "Baden-Württemberg                             1071.832097\n",
       "Bayern                                        1041.173370\n",
       "Berlin                                         272.985392\n",
       "Brandenburg                                   2318.176332\n",
       "Bremen                                        2739.216818\n",
       "Hamburg                                       1427.205882\n",
       "Hessen                                        1753.547459\n",
       "Mecklenburg-Vorpommern                        2281.555861\n",
       "Niedersachsen                                 1860.002340\n",
       "Nordrhein-Westfalen                           1584.117285\n",
       "Rheinland-Pfalz                               2152.998682\n",
       "Saarland                                      2334.803727\n",
       "Sachsen                                       1219.359193\n",
       "Sachsen-Anhalt                                2176.527308\n",
       "Schleswig-Holstein                            2001.260294\n",
       "Thüringen                                     1894.120819\n",
       "Name: 4.2 Installierte Leistung [kW], dtype: float64"
      ]
     },
     "execution_count": 14,
     "metadata": {},
     "output_type": "execute_result"
    }
   ],
   "source": [
    "# Mittelwert\n",
    "# Mittelwert\n",
    "df.groupby('4.11 Bundesland')['4.2 Installierte Leistung [kW]'].mean()\n"
   ]
  },
  {
   "cell_type": "code",
   "execution_count": 15,
   "id": "7a469425-e8b7-443f-ba7b-9bb8bd6f024f",
   "metadata": {
    "tags": []
   },
   "outputs": [
    {
     "data": {
      "text/plain": [
       "4.11 Bundesland\n",
       "Ausschließliche Wirtschaftszone (Wind See)     8300.00\n",
       "Baden-Württemberg                              8100.00\n",
       "Bayern                                        12600.00\n",
       "Berlin                                         3370.00\n",
       "Brandenburg                                   10000.00\n",
       "Bremen                                         8000.00\n",
       "Hamburg                                        3370.00\n",
       "Hessen                                         6233.37\n",
       "Mecklenburg-Vorpommern                         9999.51\n",
       "Niedersachsen                                 22000.00\n",
       "Nordrhein-Westfalen                            9180.00\n",
       "Rheinland-Pfalz                                9974.64\n",
       "Saarland                                       4998.60\n",
       "Sachsen                                        9998.00\n",
       "Sachsen-Anhalt                                20000.00\n",
       "Schleswig-Holstein                             9974.64\n",
       "Thüringen                                      7250.10\n",
       "Name: 4.2 Installierte Leistung [kW], dtype: float64"
      ]
     },
     "execution_count": 15,
     "metadata": {},
     "output_type": "execute_result"
    }
   ],
   "source": [
    "# Maximum\n",
    "# Maximum\n",
    "df.groupby('4.11 Bundesland')['4.2 Installierte Leistung [kW]'].max()\n",
    "\n"
   ]
  },
  {
   "cell_type": "markdown",
   "id": "3934fc2b-81db-43d2-b2fd-970c70491ab3",
   "metadata": {
    "tags": []
   },
   "source": [
    "##### c) [6P] Ermitteln Sie den prozentualen Anteil der Fläche für PV-Anlagen, die auf Ackerland stehen. Unterscheiden Sie hierbei nach Bundesländern. Stellen Sie Ihre Ergebnisse (Anteil Ackerfläche PV / Fläche PV pro Bundesland) in einem Balkendiagramm dar (plot.bar()). \n",
    "Die folgenden Spalten sind für die Aufgabe relevant:\n",
    "- '9.2 Wie viel Fläche wird durch die PV-Freiflächenanlage in Anspruch genommen? [ha] '\n",
    "- '9.3 Wie viel der PV-Freifläche ist davon Ackerland? [ha] '\n",
    "- '4.11 Bundesland'"
   ]
  },
  {
   "cell_type": "code",
   "execution_count": 16,
   "id": "fedac823-ac69-4a34-8443-86bdedda3368",
   "metadata": {
    "tags": []
   },
   "outputs": [
    {
     "data": {
      "text/plain": [
       "4.11 Bundesland\n",
       "Ausschließliche Wirtschaftszone (Wind See)      0.0000\n",
       "Baden-Württemberg                              79.4344\n",
       "Bayern                                        646.5088\n",
       "Berlin                                          0.0000\n",
       "Brandenburg                                   566.0130\n",
       "Bremen                                          0.0000\n",
       "Hamburg                                         0.0000\n",
       "Hessen                                         56.1178\n",
       "Mecklenburg-Vorpommern                        381.9845\n",
       "Niedersachsen                                  68.3158\n",
       "Nordrhein-Westfalen                            11.3985\n",
       "Rheinland-Pfalz                               130.1753\n",
       "Saarland                                       38.9700\n",
       "Sachsen                                       104.1805\n",
       "Sachsen-Anhalt                                356.0716\n",
       "Schleswig-Holstein                            100.6300\n",
       "Thüringen                                     133.7047\n",
       "Name: 9.2 Wie viel Fläche wird durch die PV-Freiflächenanlage in Anspruch genommen? [ha] , dtype: float64"
      ]
     },
     "execution_count": 16,
     "metadata": {},
     "output_type": "execute_result"
    }
   ],
   "source": [
    "# PV-Fläche pro Bundesland \n",
    "# PV-Fläche pro Bundesland \n",
    "df.groupby('4.11 Bundesland')['9.2 Wie viel Fläche wird durch die PV-Freiflächenanlage in Anspruch genommen? [ha] '].sum()"
   ]
  },
  {
   "cell_type": "code",
   "execution_count": 17,
   "id": "2cbee9c7-1250-4dda-a33b-7de195cbf917",
   "metadata": {
    "tags": []
   },
   "outputs": [
    {
     "data": {
      "text/plain": [
       "4.11 Bundesland\n",
       "Ausschließliche Wirtschaftszone (Wind See)      0.0000\n",
       "Baden-Württemberg                              22.2300\n",
       "Bayern                                        505.0346\n",
       "Berlin                                          0.0000\n",
       "Brandenburg                                   172.8931\n",
       "Bremen                                          0.0000\n",
       "Hamburg                                         0.0000\n",
       "Hessen                                         17.5517\n",
       "Mecklenburg-Vorpommern                         96.0500\n",
       "Niedersachsen                                  15.2998\n",
       "Nordrhein-Westfalen                             1.9500\n",
       "Rheinland-Pfalz                                46.5154\n",
       "Saarland                                       22.5900\n",
       "Sachsen                                         3.5874\n",
       "Sachsen-Anhalt                                 39.6434\n",
       "Schleswig-Holstein                             83.2100\n",
       "Thüringen                                       4.3600\n",
       "Name: 9.3 Wie viel der PV-Freifläche ist davon Ackerland? [ha] , dtype: float64"
      ]
     },
     "execution_count": 17,
     "metadata": {},
     "output_type": "execute_result"
    }
   ],
   "source": [
    "# PV-Ackerland pro Bundesland \n",
    "# PV-Ackerland pro Bundesland \n",
    "df.groupby('4.11 Bundesland')['9.3 Wie viel der PV-Freifläche ist davon Ackerland? [ha] '].sum()\n"
   ]
  },
  {
   "cell_type": "code",
   "execution_count": 18,
   "id": "0c76222f-d34d-41ce-99d3-50e816d06313",
   "metadata": {
    "tags": []
   },
   "outputs": [
    {
     "data": {
      "text/plain": [
       "4.11 Bundesland\n",
       "Ausschließliche Wirtschaftszone (Wind See)         NaN\n",
       "Baden-Württemberg                             0.279854\n",
       "Bayern                                        0.781172\n",
       "Berlin                                             NaN\n",
       "Brandenburg                                   0.305458\n",
       "Bremen                                             NaN\n",
       "Hamburg                                            NaN\n",
       "Hessen                                        0.312765\n",
       "Mecklenburg-Vorpommern                        0.251450\n",
       "Niedersachsen                                 0.223957\n",
       "Nordrhein-Westfalen                           0.171075\n",
       "Rheinland-Pfalz                               0.357329\n",
       "Saarland                                      0.579677\n",
       "Sachsen                                       0.034434\n",
       "Sachsen-Anhalt                                0.111335\n",
       "Schleswig-Holstein                            0.826891\n",
       "Thüringen                                     0.032609\n",
       "dtype: float64"
      ]
     },
     "execution_count": 18,
     "metadata": {},
     "output_type": "execute_result"
    }
   ],
   "source": [
    "# prozentualer Anteil\n",
    "df.groupby('4.11 Bundesland')['9.3 Wie viel der PV-Freifläche ist davon Ackerland? [ha] '].sum() / df.groupby('4.11 Bundesland')['9.2 Wie viel Fläche wird durch die PV-Freiflächenanlage in Anspruch genommen? [ha] '].sum()"
   ]
  },
  {
   "cell_type": "code",
   "execution_count": 21,
   "id": "9747f6e8-7b29-452c-8c3f-bde388d6b69e",
   "metadata": {
    "tags": []
   },
   "outputs": [
    {
     "data": {
      "text/plain": [
       "4.11 Bundesland\n",
       "Ausschließliche Wirtschaftszone (Wind See)         NaN\n",
       "Baden-Württemberg                             0.279854\n",
       "Bayern                                        0.781172\n",
       "Berlin                                             NaN\n",
       "Brandenburg                                   0.305458\n",
       "Bremen                                             NaN\n",
       "Hamburg                                            NaN\n",
       "Hessen                                        0.312765\n",
       "Mecklenburg-Vorpommern                        0.251450\n",
       "Niedersachsen                                 0.223957\n",
       "Nordrhein-Westfalen                           0.171075\n",
       "Rheinland-Pfalz                               0.357329\n",
       "Saarland                                      0.579677\n",
       "Sachsen                                       0.034434\n",
       "Sachsen-Anhalt                                0.111335\n",
       "Schleswig-Holstein                            0.826891\n",
       "Thüringen                                     0.032609\n",
       "dtype: float64"
      ]
     },
     "execution_count": 21,
     "metadata": {},
     "output_type": "execute_result"
    }
   ],
   "source": [
    "# prozentualer Anteil\n",
    "df.groupby('4.11 Bundesland')['9.3 Wie viel der PV-Freifläche ist davon Ackerland? [ha] '].sum() / df.groupby('4.11 Bundesland')['9.2 Wie viel Fläche wird durch die PV-Freiflächenanlage in Anspruch genommen? [ha] '].sum()"
   ]
  },
  {
   "cell_type": "code",
   "execution_count": 20,
   "id": "47431bfa-e6ee-4a72-a054-5448132a6509",
   "metadata": {
    "tags": []
   },
   "outputs": [
    {
     "data": {
      "text/plain": [
       "<Axes: xlabel='4.11 Bundesland'>"
      ]
     },
     "execution_count": 20,
     "metadata": {},
     "output_type": "execute_result"
    },
    {
     "data": {
      "image/png": "[encoded data removed]",
      "text/plain": [
       "<Figure size 640x480 with 1 Axes>"
      ]
     },
     "metadata": {},
     "output_type": "display_data"
    }
   ],
   "source": [
    "# Balkendiagramm\n",
    "# Balkendiagramm\n",
    "\n",
    "(df.groupby('4.11 Bundesland')['9.3 Wie viel der PV-Freifläche ist davon Ackerland? [ha] '].sum() / df.groupby('4.11 Bundesland')['9.2 Wie viel Fläche wird durch die PV-Freiflächenanlage in Anspruch genommen? [ha] '].sum()).plot.bar(stacked=True)\n",
    "\n",
    "\n"
   ]
  },
  {
   "cell_type": "markdown",
   "id": "3a7abf67-e1e8-47e2-8147-d62fe7f75c25",
   "metadata": {},
   "source": [
    "### Aufgabe 2: Zeitreihendaten umwandeln und darstellen. [4P]"
   ]
  },
  {
   "cell_type": "markdown",
   "id": "5135c7b1-df6b-4c2f-807e-185b875783eb",
   "metadata": {
    "tags": []
   },
   "source": [
    "##### Laden Sie das Lastprofil (\"Messwertexport_2015.csv\" im 'input' Ordner) in einen Pandas Dataframe. Nutzen Sie dafür den vorgegebenen Code."
   ]
  },
  {
   "cell_type": "code",
   "execution_count": 14,
   "id": "5e10b4c9-2ccd-4357-bb53-25d6e1baa816",
   "metadata": {},
   "outputs": [],
   "source": [
    "# Datenimport - nicht abwandeln\n",
    "ts_df = pd.read_csv('input/Messwertexport_2015.csv', sep=';', \n",
    "                      decimal=',',parse_dates={'datetime':['[kW]','Attribut']})\n",
    "ts_df.set_index(pd.DatetimeIndex(ts_df.datetime), inplace=True)\n",
    "ts_df.drop(columns=['datetime'], inplace=True)"
   ]
  },
  {
   "cell_type": "markdown",
   "id": "f36e5259-18e6-4081-9b2d-068c43a05c28",
   "metadata": {},
   "source": [
    "##### a) [1P] Die Daten liegen in viertelstündlichen Werten vor. Wandeln Sie sie in stündliche Werte mithilfe der resample Funktion um, wobei Sie die Werte aufsummieren. Speichern sie die neue Zeitreihe in einer Variable."
   ]
  },
  {
   "cell_type": "code",
   "execution_count": null,
   "id": "3a2ce07f-f1fa-42b0-ab83-e8d1616c95e1",
   "metadata": {},
   "outputs": [],
   "source": [
    "stunden_df = ts_df.resample('H').sum()\n",
    "stunden_df"
   ]
  },
  {
   "cell_type": "markdown",
   "id": "e38e4151-66a6-4f20-9c82-f2da23b8226a",
   "metadata": {},
   "source": [
    "##### b) [1P] Stellen Sie die Ergebnisse in einem Diagramm dar. (x-Achse = DatetimeIndex, y-Achse = Messwert in kW)"
   ]
  },
  {
   "cell_type": "code",
   "execution_count": null,
   "id": "440ecc56-453f-4b3c-8c10-ae09960d354c",
   "metadata": {},
   "outputs": [],
   "source": [
    "stunden_df.plot(ylabel = 'Messwert in kW', xlabel ='DatetimeIndex' )"
   ]
  },
  {
   "cell_type": "code",
   "execution_count": null,
   "id": "14f3209f-2a62-437d-9ed3-fb93829dc07c",
   "metadata": {},
   "outputs": [],
   "source": [
    "stunden_df.plot()"
   ]
  },
  {
   "cell_type": "markdown",
   "id": "0e7a4726-13f9-45e1-9884-ffc9c47a64a3",
   "metadata": {},
   "source": [
    "##### c) [1P] Wandeln Sie nun die vorher erzeugten Stundenwerte in Tageswerte um. Verwenden Sie dabei das Maximum."
   ]
  },
  {
   "cell_type": "code",
   "execution_count": null,
   "id": "6f0235db-4076-4edd-8d41-e0abf04b179b",
   "metadata": {},
   "outputs": [],
   "source": [
    "ts_df.resample('D').max()"
   ]
  },
  {
   "cell_type": "markdown",
   "id": "f9c6d14f-e0a2-4856-930d-5131dd565ea9",
   "metadata": {},
   "source": [
    "##### d) [1P] Stellen Sie nun auch die maximalen Tageswerte in einem Diagramm dar."
   ]
  },
  {
   "cell_type": "code",
   "execution_count": null,
   "id": "0703b3cc-22a5-4919-8321-fcfe70eec341",
   "metadata": {},
   "outputs": [],
   "source": [
    "ts_df.resample('D').max().plot(ylabel = 'Messwert in kW', xlabel ='DatetimeIndex' )"
   ]
  },
  {
   "cell_type": "markdown",
   "id": "74119150-6ecf-4e09-b884-fd3d8cfae326",
   "metadata": {},
   "source": [
    "#### Aufgabe 3: Geodaten und Koordinatensysteme [4P]"
   ]
  },
  {
   "cell_type": "markdown",
   "id": "070af873-de81-4e9a-a9a8-6d3952d91398",
   "metadata": {
    "tags": []
   },
   "source": [
    "##### Laden Sie nun den Geodatensatz mit den NUTS-Regionen Europas ('NUTS_RG_01M_2016_3035_LEVL_3.geojson' im 'input' Ordner)"
   ]
  },
  {
   "cell_type": "code",
   "execution_count": 2,
   "id": "4ae09e4f-7bc1-42e4-8233-694612ba837a",
   "metadata": {
    "tags": []
   },
   "outputs": [],
   "source": [
    "# Datenimport - bitte nicht abwandeln\n",
    "gdf = gpd.read_file('input/NUTS_RG_01M_2016_3035_LEVL_3.geojson')"
   ]
  },
  {
   "cell_type": "markdown",
   "id": "113e8771-1e84-43e6-9204-c5e4ab103fda",
   "metadata": {},
   "source": [
    "##### a) [1P] In welchem Korrdinatensystem liegen die Daten vor?"
   ]
  },
  {
   "cell_type": "code",
   "execution_count": 3,
   "id": "3f85f323-070c-4d9a-88a1-b4c6d2eee1a5",
   "metadata": {
    "tags": []
   },
   "outputs": [
    {
     "data": {
      "text/plain": [
       "<Projected CRS: EPSG:3035>\n",
       "Name: ETRS89-extended / LAEA Europe\n",
       "Axis Info [cartesian]:\n",
       "- Y[north]: Northing (metre)\n",
       "- X[east]: Easting (metre)\n",
       "Area of Use:\n",
       "- name: Europe - European Union (EU) countries and candidates. Europe - onshore and offshore: Albania; Andorra; Austria; Belgium; Bosnia and Herzegovina; Bulgaria; Croatia; Cyprus; Czechia; Denmark; Estonia; Faroe Islands; Finland; France; Germany; Gibraltar; Greece; Hungary; Iceland; Ireland; Italy; Kosovo; Latvia; Liechtenstein; Lithuania; Luxembourg; Malta; Monaco; Montenegro; Netherlands; North Macedonia; Norway including Svalbard and Jan Mayen; Poland; Portugal including Madeira and Azores; Romania; San Marino; Serbia; Slovakia; Slovenia; Spain including Canary Islands; Sweden; Switzerland; Türkiye (Turkey); United Kingdom (UK) including Channel Islands and Isle of Man; Vatican City State.\n",
       "- bounds: (-35.58, 24.6, 44.83, 84.73)\n",
       "Coordinate Operation:\n",
       "- name: Europe Equal Area 2001\n",
       "- method: Lambert Azimuthal Equal Area\n",
       "Datum: European Terrestrial Reference System 1989 ensemble\n",
       "- Ellipsoid: GRS 1980\n",
       "- Prime Meridian: Greenwich"
      ]
     },
     "execution_count": 3,
     "metadata": {},
     "output_type": "execute_result"
    }
   ],
   "source": [
    "gdf.crs"
   ]
  },
  {
   "cell_type": "markdown",
   "id": "8f37a76f-c358-4133-ade7-11924a23875f",
   "metadata": {},
   "source": [
    "##### b) [1P] Wandeln Sie die Koordinaten in Längen- und Breitengrade um (EPSG:4326) und speichern Sie das Ergebnis in einer Variable. "
   ]
  },
  {
   "cell_type": "code",
   "execution_count": 4,
   "id": "24552041-c2a2-4053-be6a-66e2e2391115",
   "metadata": {
    "tags": []
   },
   "outputs": [],
   "source": [
    " gdf.to_crs(4326, inplace=True)"
   ]
  },
  {
   "cell_type": "markdown",
   "id": "80752de6-c397-4469-8703-88afc6d16e9e",
   "metadata": {},
   "source": [
    "##### c) [1P] Filtern Sie die Daten nach Italien und Österreich (IT, AT)"
   ]
  },
  {
   "cell_type": "code",
   "execution_count": 6,
   "id": "216e1e89-2947-4396-8072-3cf0fd832274",
   "metadata": {
    "tags": []
   },
   "outputs": [
    {
     "data": {
      "text/html": [
       "<div>\n",
       "<style scoped>\n",
       "    .dataframe tbody tr th:only-of-type {\n",
       "        vertical-align: middle;\n",
       "    }\n",
       "\n",
       "    .dataframe tbody tr th {\n",
       "        vertical-align: top;\n",
       "    }\n",
       "\n",
       "    .dataframe thead th {\n",
       "        text-align: right;\n",
       "    }\n",
       "</style>\n",
       "<table border=\"1\" class=\"dataframe\">\n",
       "  <thead>\n",
       "    <tr style=\"text-align: right;\">\n",
       "      <th></th>\n",
       "      <th>id</th>\n",
       "      <th>CNTR_CODE</th>\n",
       "      <th>NUTS_NAME</th>\n",
       "      <th>LEVL_CODE</th>\n",
       "      <th>FID</th>\n",
       "      <th>NUTS_ID</th>\n",
       "      <th>geometry</th>\n",
       "    </tr>\n",
       "  </thead>\n",
       "  <tbody>\n",
       "    <tr>\n",
       "      <th>1</th>\n",
       "      <td>AT314</td>\n",
       "      <td>AT</td>\n",
       "      <td>Steyr-Kirchdorf</td>\n",
       "      <td>3</td>\n",
       "      <td>AT314</td>\n",
       "      <td>AT314</td>\n",
       "      <td>POLYGON ((14.48276 48.10563, 14.46977 48.10002...</td>\n",
       "    </tr>\n",
       "    <tr>\n",
       "      <th>2</th>\n",
       "      <td>AT315</td>\n",
       "      <td>AT</td>\n",
       "      <td>Traunviertel</td>\n",
       "      <td>3</td>\n",
       "      <td>AT315</td>\n",
       "      <td>AT315</td>\n",
       "      <td>POLYGON ((13.75402 48.11806, 13.75764 48.11234...</td>\n",
       "    </tr>\n",
       "    <tr>\n",
       "      <th>26</th>\n",
       "      <td>AT321</td>\n",
       "      <td>AT</td>\n",
       "      <td>Lungau</td>\n",
       "      <td>3</td>\n",
       "      <td>AT321</td>\n",
       "      <td>AT321</td>\n",
       "      <td>POLYGON ((13.86438 47.25170, 13.86787 47.24571...</td>\n",
       "    </tr>\n",
       "    <tr>\n",
       "      <th>27</th>\n",
       "      <td>AT322</td>\n",
       "      <td>AT</td>\n",
       "      <td>Pinzgau-Pongau</td>\n",
       "      <td>3</td>\n",
       "      <td>AT322</td>\n",
       "      <td>AT322</td>\n",
       "      <td>POLYGON ((12.69580 47.68223, 12.71502 47.67674...</td>\n",
       "    </tr>\n",
       "    <tr>\n",
       "      <th>28</th>\n",
       "      <td>AT323</td>\n",
       "      <td>AT</td>\n",
       "      <td>Salzburg und Umgebung</td>\n",
       "      <td>3</td>\n",
       "      <td>AT323</td>\n",
       "      <td>AT323</td>\n",
       "      <td>POLYGON ((13.30382 48.00782, 13.30366 48.00400...</td>\n",
       "    </tr>\n",
       "    <tr>\n",
       "      <th>...</th>\n",
       "      <td>...</td>\n",
       "      <td>...</td>\n",
       "      <td>...</td>\n",
       "      <td>...</td>\n",
       "      <td>...</td>\n",
       "      <td>...</td>\n",
       "      <td>...</td>\n",
       "    </tr>\n",
       "    <tr>\n",
       "      <th>1180</th>\n",
       "      <td>ITG14</td>\n",
       "      <td>IT</td>\n",
       "      <td>Agrigento</td>\n",
       "      <td>3</td>\n",
       "      <td>ITG14</td>\n",
       "      <td>ITG14</td>\n",
       "      <td>MULTIPOLYGON (((13.73253 37.68297, 13.76105 37...</td>\n",
       "    </tr>\n",
       "    <tr>\n",
       "      <th>1181</th>\n",
       "      <td>ITG15</td>\n",
       "      <td>IT</td>\n",
       "      <td>Caltanissetta</td>\n",
       "      <td>3</td>\n",
       "      <td>ITG15</td>\n",
       "      <td>ITG15</td>\n",
       "      <td>MULTIPOLYGON (((14.13505 37.61670, 14.16311 37...</td>\n",
       "    </tr>\n",
       "    <tr>\n",
       "      <th>1183</th>\n",
       "      <td>ITC33</td>\n",
       "      <td>IT</td>\n",
       "      <td>Genova</td>\n",
       "      <td>3</td>\n",
       "      <td>ITC33</td>\n",
       "      <td>ITC33</td>\n",
       "      <td>MULTIPOLYGON (((9.20299 44.61348, 9.20839 44.6...</td>\n",
       "    </tr>\n",
       "    <tr>\n",
       "      <th>1184</th>\n",
       "      <td>ITC34</td>\n",
       "      <td>IT</td>\n",
       "      <td>La Spezia</td>\n",
       "      <td>3</td>\n",
       "      <td>ITC34</td>\n",
       "      <td>ITC34</td>\n",
       "      <td>MULTIPOLYGON (((9.68673 44.36592, 9.69241 44.3...</td>\n",
       "    </tr>\n",
       "    <tr>\n",
       "      <th>1185</th>\n",
       "      <td>ITC41</td>\n",
       "      <td>IT</td>\n",
       "      <td>Varese</td>\n",
       "      <td>3</td>\n",
       "      <td>ITC41</td>\n",
       "      <td>ITC41</td>\n",
       "      <td>POLYGON ((8.91215 45.83045, 8.90797 45.82831, ...</td>\n",
       "    </tr>\n",
       "  </tbody>\n",
       "</table>\n",
       "<p>145 rows × 7 columns</p>\n",
       "</div>"
      ],
      "text/plain": [
       "         id CNTR_CODE              NUTS_NAME  LEVL_CODE    FID NUTS_ID  \\\n",
       "1     AT314        AT        Steyr-Kirchdorf          3  AT314   AT314   \n",
       "2     AT315        AT           Traunviertel          3  AT315   AT315   \n",
       "26    AT321        AT                 Lungau          3  AT321   AT321   \n",
       "27    AT322        AT         Pinzgau-Pongau          3  AT322   AT322   \n",
       "28    AT323        AT  Salzburg und Umgebung          3  AT323   AT323   \n",
       "...     ...       ...                    ...        ...    ...     ...   \n",
       "1180  ITG14        IT              Agrigento          3  ITG14   ITG14   \n",
       "1181  ITG15        IT          Caltanissetta          3  ITG15   ITG15   \n",
       "1183  ITC33        IT                 Genova          3  ITC33   ITC33   \n",
       "1184  ITC34        IT              La Spezia          3  ITC34   ITC34   \n",
       "1185  ITC41        IT                 Varese          3  ITC41   ITC41   \n",
       "\n",
       "                                               geometry  \n",
       "1     POLYGON ((14.48276 48.10563, 14.46977 48.10002...  \n",
       "2     POLYGON ((13.75402 48.11806, 13.75764 48.11234...  \n",
       "26    POLYGON ((13.86438 47.25170, 13.86787 47.24571...  \n",
       "27    POLYGON ((12.69580 47.68223, 12.71502 47.67674...  \n",
       "28    POLYGON ((13.30382 48.00782, 13.30366 48.00400...  \n",
       "...                                                 ...  \n",
       "1180  MULTIPOLYGON (((13.73253 37.68297, 13.76105 37...  \n",
       "1181  MULTIPOLYGON (((14.13505 37.61670, 14.16311 37...  \n",
       "1183  MULTIPOLYGON (((9.20299 44.61348, 9.20839 44.6...  \n",
       "1184  MULTIPOLYGON (((9.68673 44.36592, 9.69241 44.3...  \n",
       "1185  POLYGON ((8.91215 45.83045, 8.90797 45.82831, ...  \n",
       "\n",
       "[145 rows x 7 columns]"
      ]
     },
     "execution_count": 6,
     "metadata": {},
     "output_type": "execute_result"
    }
   ],
   "source": [
    "gdf[(gdf.CNTR_CODE == 'IT') | (gdf.CNTR_CODE == 'AT')] "
   ]
  },
  {
   "cell_type": "markdown",
   "id": "b885d08b-c856-4c4b-9ead-9e7972feb980",
   "metadata": {
    "tags": []
   },
   "source": [
    "##### d) [1P] Zeigen Sie die Geodaten für die beiden Länder als Karte an. "
   ]
  },
  {
   "cell_type": "code",
   "execution_count": 7,
   "id": "1ab73c14-2ecc-4028-a0ac-cdf4d5c8edf2",
   "metadata": {
    "tags": []
   },
   "outputs": [
    {
     "data": {
      "text/plain": [
       "<Axes: >"
      ]
     },
     "execution_count": 7,
     "metadata": {},
     "output_type": "execute_result"
    },
    {
     "data": {
      "image/png": "[encoded data removed]",
      "text/plain": [
       "<Figure size 640x480 with 1 Axes>"
      ]
     },
     "metadata": {},
     "output_type": "display_data"
    }
   ],
   "source": [
    "gdf[(gdf.CNTR_CODE == 'IT') | (gdf.CNTR_CODE == 'AT')] .plot()"
   ]
  },
  {
   "cell_type": "code",
   "execution_count": 12,
   "id": "f3cd97bc-9267-4cf2-b9fe-95ed52abdf6e",
   "metadata": {
    "tags": []
   },
   "outputs": [
    {
     "ename": "ImportError",
     "evalue": "The 'folium', 'matplotlib' and 'mapclassify' packages are required for 'explore()'. You can install them using 'conda install -c conda-forge folium matplotlib mapclassify' or 'pip install folium matplotlib mapclassify'.",
     "output_type": "error",
     "traceback": [
      "\u001b[0;31m---------------------------------------------------------------------------\u001b[0m",
      "\u001b[0;31mModuleNotFoundError\u001b[0m                       Traceback (most recent call last)",
      "File \u001b[0;32m/srv/conda/envs/notebook/lib/python3.10/site-packages/geopandas/explore.py:280\u001b[0m, in \u001b[0;36m_explore\u001b[0;34m(df, column, cmap, color, m, tiles, attr, tooltip, popup, highlight, categorical, legend, scheme, k, vmin, vmax, width, height, categories, classification_kwds, control_scale, marker_type, marker_kwds, style_kwds, highlight_kwds, missing_kwds, tooltip_kwds, popup_kwds, legend_kwds, map_kwds, **kwargs)\u001b[0m\n\u001b[1;32m    279\u001b[0m \u001b[38;5;28;01mtry\u001b[39;00m:\n\u001b[0;32m--> 280\u001b[0m     \u001b[38;5;28;01mimport\u001b[39;00m \u001b[38;5;21;01mbranca\u001b[39;00m \u001b[38;5;28;01mas\u001b[39;00m \u001b[38;5;21;01mbc\u001b[39;00m\n\u001b[1;32m    281\u001b[0m     \u001b[38;5;28;01mimport\u001b[39;00m \u001b[38;5;21;01mfolium\u001b[39;00m\n",
      "\u001b[0;31mModuleNotFoundError\u001b[0m: No module named 'branca'",
      "\nDuring handling of the above exception, another exception occurred:\n",
      "\u001b[0;31mImportError\u001b[0m                               Traceback (most recent call last)",
      "Cell \u001b[0;32mIn[12], line 1\u001b[0m\n\u001b[0;32m----> 1\u001b[0m \u001b[43mgdf\u001b[49m\u001b[38;5;241;43m.\u001b[39;49m\u001b[43mexplore\u001b[49m\u001b[43m(\u001b[49m\u001b[43m)\u001b[49m\n",
      "File \u001b[0;32m/srv/conda/envs/notebook/lib/python3.10/site-packages/geopandas/geodataframe.py:2113\u001b[0m, in \u001b[0;36mGeoDataFrame.explore\u001b[0;34m(self, *args, **kwargs)\u001b[0m\n\u001b[1;32m   2111\u001b[0m \u001b[38;5;129m@doc\u001b[39m(_explore)\n\u001b[1;32m   2112\u001b[0m \u001b[38;5;28;01mdef\u001b[39;00m \u001b[38;5;21mexplore\u001b[39m(\u001b[38;5;28mself\u001b[39m, \u001b[38;5;241m*\u001b[39margs, \u001b[38;5;241m*\u001b[39m\u001b[38;5;241m*\u001b[39mkwargs):\n\u001b[0;32m-> 2113\u001b[0m     \u001b[38;5;28;01mreturn\u001b[39;00m \u001b[43m_explore\u001b[49m\u001b[43m(\u001b[49m\u001b[38;5;28;43mself\u001b[39;49m\u001b[43m,\u001b[49m\u001b[43m \u001b[49m\u001b[38;5;241;43m*\u001b[39;49m\u001b[43margs\u001b[49m\u001b[43m,\u001b[49m\u001b[43m \u001b[49m\u001b[38;5;241;43m*\u001b[39;49m\u001b[38;5;241;43m*\u001b[39;49m\u001b[43mkwargs\u001b[49m\u001b[43m)\u001b[49m\n",
      "File \u001b[0;32m/srv/conda/envs/notebook/lib/python3.10/site-packages/geopandas/explore.py:296\u001b[0m, in \u001b[0;36m_explore\u001b[0;34m(df, column, cmap, color, m, tiles, attr, tooltip, popup, highlight, categorical, legend, scheme, k, vmin, vmax, width, height, categories, classification_kwds, control_scale, marker_type, marker_kwds, style_kwds, highlight_kwds, missing_kwds, tooltip_kwds, popup_kwds, legend_kwds, map_kwds, **kwargs)\u001b[0m\n\u001b[1;32m    293\u001b[0m         \u001b[38;5;28;01mfrom\u001b[39;00m \u001b[38;5;21;01mmatplotlib\u001b[39;00m \u001b[38;5;28;01mimport\u001b[39;00m cm\n\u001b[1;32m    295\u001b[0m \u001b[38;5;28;01mexcept\u001b[39;00m (\u001b[38;5;167;01mImportError\u001b[39;00m, \u001b[38;5;167;01mModuleNotFoundError\u001b[39;00m):\n\u001b[0;32m--> 296\u001b[0m     \u001b[38;5;28;01mraise\u001b[39;00m \u001b[38;5;167;01mImportError\u001b[39;00m(\n\u001b[1;32m    297\u001b[0m         \u001b[38;5;124m\"\u001b[39m\u001b[38;5;124mThe \u001b[39m\u001b[38;5;124m'\u001b[39m\u001b[38;5;124mfolium\u001b[39m\u001b[38;5;124m'\u001b[39m\u001b[38;5;124m, \u001b[39m\u001b[38;5;124m'\u001b[39m\u001b[38;5;124mmatplotlib\u001b[39m\u001b[38;5;124m'\u001b[39m\u001b[38;5;124m and \u001b[39m\u001b[38;5;124m'\u001b[39m\u001b[38;5;124mmapclassify\u001b[39m\u001b[38;5;124m'\u001b[39m\u001b[38;5;124m packages are required for \u001b[39m\u001b[38;5;124m\"\u001b[39m\n\u001b[1;32m    298\u001b[0m         \u001b[38;5;124m\"\u001b[39m\u001b[38;5;124m'\u001b[39m\u001b[38;5;124mexplore()\u001b[39m\u001b[38;5;124m'\u001b[39m\u001b[38;5;124m. You can install them using \u001b[39m\u001b[38;5;124m\"\u001b[39m\n\u001b[1;32m    299\u001b[0m         \u001b[38;5;124m\"\u001b[39m\u001b[38;5;124m'\u001b[39m\u001b[38;5;124mconda install -c conda-forge folium matplotlib mapclassify\u001b[39m\u001b[38;5;124m'\u001b[39m\u001b[38;5;124m \u001b[39m\u001b[38;5;124m\"\u001b[39m\n\u001b[1;32m    300\u001b[0m         \u001b[38;5;124m\"\u001b[39m\u001b[38;5;124mor \u001b[39m\u001b[38;5;124m'\u001b[39m\u001b[38;5;124mpip install folium matplotlib mapclassify\u001b[39m\u001b[38;5;124m'\u001b[39m\u001b[38;5;124m.\u001b[39m\u001b[38;5;124m\"\u001b[39m\n\u001b[1;32m    301\u001b[0m     )\n\u001b[1;32m    303\u001b[0m \u001b[38;5;66;03m# xyservices is an optional dependency\u001b[39;00m\n\u001b[1;32m    304\u001b[0m \u001b[38;5;28;01mtry\u001b[39;00m:\n",
      "\u001b[0;31mImportError\u001b[0m: The 'folium', 'matplotlib' and 'mapclassify' packages are required for 'explore()'. You can install them using 'conda install -c conda-forge folium matplotlib mapclassify' or 'pip install folium matplotlib mapclassify'."
     ]
    }
   ],
   "source": [
    "gdf.explore()"
   ]
  },
  {
   "cell_type": "markdown",
   "id": "0ef61c52-38c9-4601-916e-e0c9f7fd4583",
   "metadata": {},
   "source": [
    "### Bitte nutzen Sie den Binder Download Button oben um das Jupyter Notebook (.ipynb Datei) zu speichern und laden Sie es anschließend bei ISIS hoch"
   ]
  }
 ],
 "metadata": {
  "kernelspec": {
   "display_name": "Python 3 (ipykernel)",
   "language": "python",
   "name": "python3"
  },
  "language_info": {
   "codemirror_mode": {
    "name": "ipython",
    "version": 3
   },
   "file_extension": ".py",
   "mimetype": "text/x-python",
   "name": "python",
   "nbconvert_exporter": "python",
   "pygments_lexer": "ipython3",
   "version": "3.10.12"
  }
 },
 "nbformat": 4,
 "nbformat_minor": 5
}
