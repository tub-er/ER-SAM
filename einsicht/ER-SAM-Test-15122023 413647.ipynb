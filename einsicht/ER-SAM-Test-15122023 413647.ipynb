{
 "metadata": {
  "kernelspec": {
   "display_name": "Python 3 (ipykernel)",
   "language": "python",
   "name": "python3"
  },
  "language_info": {
   "name": "python",
   "version": "3.10.12",
   "mimetype": "text/x-python",
   "codemirror_mode": {
    "name": "ipython",
    "version": 3
   },
   "pygments_lexer": "ipython3",
   "nbconvert_exporter": "python",
   "file_extension": ".py"
  }
 },
 "nbformat_minor": 5,
 "nbformat": 4,
 "cells": [
  {
   "cell_type": "markdown",
   "source": [
    "# ER-SAM Test vom 15.12.2023"
   ],
   "metadata": {},
   "id": "534d85bb-06da-413e-8cd4-555c1b47fb1c"
  },
  {
   "cell_type": "markdown",
   "source": [
    "#### Bitte schreiben Sie Ihren Namen und Ihre Matrikelnummer in die folgende Zelle:"
   ],
   "metadata": {},
   "id": "1d973bc8-d3d9-43f7-9ff5-61d732490d62"
  },
  {
   "cell_type": "code",
   "source": [
    "# Name:Azande Sandisile Centane \n",
    "# Matriculation number: 413647"
   ],
   "metadata": {},
   "execution_count": 1,
   "outputs": [],
   "id": "e70a1169-7be7-409f-83ca-f99a042220bd"
  },
  {
   "cell_type": "markdown",
   "source": [
    "#### Durchführung\n",
    "Der Python-Teil des Tests beinhaltet 20 Punkte.\n",
    "\n",
    "Sie erhalten zusätzlich Zeit, um die Excel und Python Aufgaben herunterzuladen, zu öffnen und schließlich wieder bei ISIS hochzuladen. \n",
    "\n",
    "Bitte bearbeiten Sie alle Aufgaben in den dafür vorgesehenen Zellen bzw. fügen Sie wenn nötig zusätzliche Zellen an den entsprechenden Stellen ein. Lassen Sie die Aufgabenstellungen bitte so stehen wie sie sind. \n",
    "\n",
    "In Python und Pandas gibt es häufig unterschiedliche Wege eine Aufgabe zu lösen. Sie sind daher in der Wahl des Lösungswegs frei. \n",
    "\n",
    "Nachdem Sie alle Fragen beantwortet haben, vergewissern Sie sich bitte, dass alle Outputs sichtbar sind bzw. alle Zellen ausgeführt wurden. Dann nutzen Sie bitte den Download Button oben um das Notebook herunterzuladen und laden Sie die .ipynb Datei so wie sie ist auf ISIS hoch. Danach würden wir Sie bitten die Datei von Ihren privaten PCs zu löschen. \n",
    "\n",
    "Viel Erfolg!"
   ],
   "metadata": {},
   "id": "50c3ebe3-8c08-4059-9249-f8de4b7c3819"
  },
  {
   "cell_type": "code",
   "source": [
    "# Gegebenenfalls müssen Sie noch pandas etc. installieren... \n",
    "# !pip install pandas\n",
    "# !pip install geopandas\n",
    "# !pip install matplotlib\n",
    "# !pip install openpyxl\n",
    "# Importieren Sie pandas und matplotlib\n",
    "import pandas as pd\n",
    "import geopandas as gpd\n",
    "import matplotlib.pyplot as plt\n",
    "!pip install openpyxl\n",
    "!pip install folium"
   ],
   "metadata": {
    "tags": [],
    "scrolled": true,
    "trusted": true
   },
   "execution_count": 66,
   "outputs": [
    {
     "name": "stdout",
     "text": "Requirement already satisfied: openpyxl in /srv/conda/envs/notebook/lib/python3.10/site-packages (3.1.2)\nRequirement already satisfied: et-xmlfile in /srv/conda/envs/notebook/lib/python3.10/site-packages (from openpyxl) (1.1.0)\nCollecting folium\n  Obtaining dependency information for folium from https://files.pythonhosted.org/packages/18/09/8569904c8ce5679cc02826d98de633c07abcd2443a23181e5f71ff9dacbc/folium-0.15.1-py2.py3-none-any.whl.metadata\n  Downloading folium-0.15.1-py2.py3-none-any.whl.metadata (3.4 kB)\nCollecting branca>=0.6.0 (from folium)\n  Obtaining dependency information for branca>=0.6.0 from https://files.pythonhosted.org/packages/2f/e7/603b136221de923055716d23e3047da71f92e0d8ba2c4517ce49a54fe768/branca-0.7.0-py3-none-any.whl.metadata\n  Downloading branca-0.7.0-py3-none-any.whl.metadata (1.5 kB)\nRequirement already satisfied: jinja2>=2.9 in /srv/conda/envs/notebook/lib/python3.10/site-packages (from folium) (3.1.2)\nRequirement already satisfied: numpy in /srv/conda/envs/notebook/lib/python3.10/site-packages (from folium) (1.26.2)\nRequirement already satisfied: requests in /srv/conda/envs/notebook/lib/python3.10/site-packages (from folium) (2.31.0)\nCollecting xyzservices (from folium)\n  Obtaining dependency information for xyzservices from https://files.pythonhosted.org/packages/82/c3/e06dfa46464cce3eda4b86df8847cab99d9bc545c76807ee689545187a4c/xyzservices-2023.10.1-py3-none-any.whl.metadata\n  Downloading xyzservices-2023.10.1-py3-none-any.whl.metadata (4.0 kB)\nRequirement already satisfied: MarkupSafe>=2.0 in /srv/conda/envs/notebook/lib/python3.10/site-packages (from jinja2>=2.9->folium) (2.1.3)\nRequirement already satisfied: charset-normalizer<4,>=2 in /srv/conda/envs/notebook/lib/python3.10/site-packages (from requests->folium) (3.3.0)\nRequirement already satisfied: idna<4,>=2.5 in /srv/conda/envs/notebook/lib/python3.10/site-packages (from requests->folium) (3.4)\nRequirement already satisfied: urllib3<3,>=1.21.1 in /srv/conda/envs/notebook/lib/python3.10/site-packages (from requests->folium) (2.0.6)\nRequirement already satisfied: certifi>=2017.4.17 in /srv/conda/envs/notebook/lib/python3.10/site-packages (from requests->folium) (2023.7.22)\nDownloading folium-0.15.1-py2.py3-none-any.whl (97 kB)\n\u001B[2K   \u001B[90m━━━━━━━━━━━━━━━━━━━━━━━━━━━━━━━━━━━━━━━━\u001B[0m \u001B[32m97.0/97.0 kB\u001B[0m \u001B[31m1.9 MB/s\u001B[0m eta \u001B[36m0:00:00\u001B[0ma \u001B[36m0:00:01\u001B[0m\n\u001B[?25hDownloading branca-0.7.0-py3-none-any.whl (25 kB)\nDownloading xyzservices-2023.10.1-py3-none-any.whl (56 kB)\n\u001B[2K   \u001B[90m━━━━━━━━━━━━━━━━━━━━━━━━━━━━━━━━━━━━━━━━\u001B[0m \u001B[32m56.3/56.3 kB\u001B[0m \u001B[31m9.6 MB/s\u001B[0m eta \u001B[36m0:00:00\u001B[0m\n\u001B[?25hInstalling collected packages: xyzservices, branca, folium\nSuccessfully installed branca-0.7.0 folium-0.15.1 xyzservices-2023.10.1\n",
     "output_type": "stream"
    }
   ],
   "id": "2ed64f0b-e8bf-476c-af6a-d2730c6c5b80"
  },
  {
   "cell_type": "markdown",
   "source": [
    "### Aufgabe 1: Relevante Daten aus einem Datensatz auslesen und darstellen. [12P]"
   ],
   "metadata": {},
   "id": "5de44db6-dbe3-4f7f-b663-f7b198aae78a"
  },
  {
   "cell_type": "markdown",
   "source": [
    "##### Laden Sie das \"Anlagenregister\" (\"2018_09_Veroeff_RegDaten.csv\" im \"input\" Ordner) in einen Pandas Dataframe"
   ],
   "metadata": {},
   "id": "98ea2174-ed77-41ab-9edb-b26ad3e730bc"
  },
  {
   "cell_type": "code",
   "source": [
    "# Datenimport - nicht abwandeln\n",
    "df = pd.read_excel('input/2018_11_Veroeff_RegDaten.xlsx')"
   ],
   "metadata": {
    "trusted": true,
    "tags": []
   },
   "execution_count": 6,
   "outputs": [],
   "id": "234091b6-6ded-4737-9e25-300b7c6c4e52"
  },
  {
   "cell_type": "markdown",
   "source": [
    "##### a) [3P] Ermitteln Sie die Summe, den Mittelwert und das Maximum der installierten Leistung für jeden Energieträger.\n",
    "Spalten: '4.1 Energieträger', '4.2 Installierte Leistung [kW]'"
   ],
   "metadata": {
    "tags": []
   },
   "id": "a07f807f-e125-4585-8c75-10fd77e04e54"
  },
  {
   "cell_type": "code",
   "source": [
    "# Summe\n",
    "df['4.2 Installierte Leistung [kW]'].sum()"
   ],
   "metadata": {
    "trusted": true,
    "tags": []
   },
   "execution_count": 22,
   "outputs": [
    {
     "execution_count": 22,
     "output_type": "execute_result",
     "data": {
      "text/plain": "42823471.95"
     },
     "metadata": {}
    }
   ],
   "id": "eeb5beb3-308f-4e54-9ca6-0a3cb5010d42"
  },
  {
   "cell_type": "code",
   "source": [
    "# Mittelwert\n",
    "df[ '4.2 Installierte Leistung [kW]'].mean()"
   ],
   "metadata": {
    "trusted": true,
    "tags": []
   },
   "execution_count": 27,
   "outputs": [
    {
     "execution_count": 27,
     "output_type": "execute_result",
     "data": {
      "text/plain": "1913.0431963368328"
     },
     "metadata": {}
    }
   ],
   "id": "98d66c10-da44-4167-952b-d89e8b81132b"
  },
  {
   "cell_type": "code",
   "source": [
    "# Maximum\n",
    "df[ '4.2 Installierte Leistung [kW]'].max()"
   ],
   "metadata": {
    "trusted": true,
    "tags": []
   },
   "execution_count": 28,
   "outputs": [
    {
     "execution_count": 28,
     "output_type": "execute_result",
     "data": {
      "text/plain": "22000.0"
     },
     "metadata": {}
    }
   ],
   "id": "5c289723-7117-45a0-841e-786747cbda67"
  },
  {
   "cell_type": "markdown",
   "source": [
    "##### b) [3P] Ermitteln Sie die Summe, den Mittelwert und das Maximum der installierten Leistung für jedes Bundesland.\n",
    "Spalten: '4.11 Bundesland', '4.2 Installierte Leistung [kW]'"
   ],
   "metadata": {},
   "id": "8399612a-023f-4fda-84cd-3f816ba04822"
  },
  {
   "cell_type": "code",
   "source": [
    "# Summe\n",
    "df['4.2 Installierte Leistung [kW]'].sum('4.11 Bundesland')"
   ],
   "metadata": {
    "trusted": true,
    "tags": []
   },
   "execution_count": 31,
   "outputs": [
    {
     "traceback": [
      "\u001B[0;31m---------------------------------------------------------------------------\u001B[0m",
      "\u001B[0;31mTypeError\u001B[0m                                 Traceback (most recent call last)",
      "Cell \u001B[0;32mIn[31], line 2\u001B[0m\n\u001B[1;32m      1\u001B[0m \u001B[38;5;66;03m# Summe\u001B[39;00m\n\u001B[0;32m----> 2\u001B[0m \u001B[43mdf\u001B[49m\u001B[43m[\u001B[49m\u001B[38;5;124;43m'\u001B[39;49m\u001B[38;5;124;43m4.2 Installierte Leistung [kW]\u001B[39;49m\u001B[38;5;124;43m'\u001B[39;49m\u001B[43m]\u001B[49m\u001B[38;5;241;43m.\u001B[39;49m\u001B[43msum\u001B[49m\u001B[43m(\u001B[49m\u001B[43mx\u001B[49m\u001B[38;5;241;43m=\u001B[39;49m\u001B[38;5;124;43m'\u001B[39;49m\u001B[38;5;124;43m4.11 Bundesland\u001B[39;49m\u001B[38;5;124;43m'\u001B[39;49m\u001B[43m)\u001B[49m\n",
      "File \u001B[0;32m/srv/conda/envs/notebook/lib/python3.10/site-packages/pandas/core/series.py:6204\u001B[0m, in \u001B[0;36mSeries.sum\u001B[0;34m(self, axis, skipna, numeric_only, min_count, **kwargs)\u001B[0m\n\u001B[1;32m   6195\u001B[0m \u001B[38;5;129m@doc\u001B[39m(make_doc(\u001B[38;5;124m\"\u001B[39m\u001B[38;5;124msum\u001B[39m\u001B[38;5;124m\"\u001B[39m, ndim\u001B[38;5;241m=\u001B[39m\u001B[38;5;241m1\u001B[39m))\n\u001B[1;32m   6196\u001B[0m \u001B[38;5;28;01mdef\u001B[39;00m \u001B[38;5;21msum\u001B[39m(\n\u001B[1;32m   6197\u001B[0m     \u001B[38;5;28mself\u001B[39m,\n\u001B[0;32m   (...)\u001B[0m\n\u001B[1;32m   6202\u001B[0m     \u001B[38;5;241m*\u001B[39m\u001B[38;5;241m*\u001B[39mkwargs,\n\u001B[1;32m   6203\u001B[0m ):\n\u001B[0;32m-> 6204\u001B[0m     \u001B[38;5;28;01mreturn\u001B[39;00m \u001B[43mNDFrame\u001B[49m\u001B[38;5;241;43m.\u001B[39;49m\u001B[43msum\u001B[49m\u001B[43m(\u001B[49m\u001B[38;5;28;43mself\u001B[39;49m\u001B[43m,\u001B[49m\u001B[43m \u001B[49m\u001B[43maxis\u001B[49m\u001B[43m,\u001B[49m\u001B[43m \u001B[49m\u001B[43mskipna\u001B[49m\u001B[43m,\u001B[49m\u001B[43m \u001B[49m\u001B[43mnumeric_only\u001B[49m\u001B[43m,\u001B[49m\u001B[43m \u001B[49m\u001B[43mmin_count\u001B[49m\u001B[43m,\u001B[49m\u001B[43m \u001B[49m\u001B[38;5;241;43m*\u001B[39;49m\u001B[38;5;241;43m*\u001B[39;49m\u001B[43mkwargs\u001B[49m\u001B[43m)\u001B[49m\n",
      "File \u001B[0;32m/srv/conda/envs/notebook/lib/python3.10/site-packages/pandas/core/generic.py:12078\u001B[0m, in \u001B[0;36mNDFrame.sum\u001B[0;34m(self, axis, skipna, numeric_only, min_count, **kwargs)\u001B[0m\n\u001B[1;32m  12070\u001B[0m \u001B[38;5;28;01mdef\u001B[39;00m \u001B[38;5;21msum\u001B[39m(\n\u001B[1;32m  12071\u001B[0m     \u001B[38;5;28mself\u001B[39m,\n\u001B[1;32m  12072\u001B[0m     axis: Axis \u001B[38;5;241m|\u001B[39m \u001B[38;5;28;01mNone\u001B[39;00m \u001B[38;5;241m=\u001B[39m \u001B[38;5;241m0\u001B[39m,\n\u001B[0;32m   (...)\u001B[0m\n\u001B[1;32m  12076\u001B[0m     \u001B[38;5;241m*\u001B[39m\u001B[38;5;241m*\u001B[39mkwargs,\n\u001B[1;32m  12077\u001B[0m ):\n\u001B[0;32m> 12078\u001B[0m     \u001B[38;5;28;01mreturn\u001B[39;00m \u001B[38;5;28;43mself\u001B[39;49m\u001B[38;5;241;43m.\u001B[39;49m\u001B[43m_min_count_stat_function\u001B[49m\u001B[43m(\u001B[49m\n\u001B[1;32m  12079\u001B[0m \u001B[43m        \u001B[49m\u001B[38;5;124;43m\"\u001B[39;49m\u001B[38;5;124;43msum\u001B[39;49m\u001B[38;5;124;43m\"\u001B[39;49m\u001B[43m,\u001B[49m\u001B[43m \u001B[49m\u001B[43mnanops\u001B[49m\u001B[38;5;241;43m.\u001B[39;49m\u001B[43mnansum\u001B[49m\u001B[43m,\u001B[49m\u001B[43m \u001B[49m\u001B[43maxis\u001B[49m\u001B[43m,\u001B[49m\u001B[43m \u001B[49m\u001B[43mskipna\u001B[49m\u001B[43m,\u001B[49m\u001B[43m \u001B[49m\u001B[43mnumeric_only\u001B[49m\u001B[43m,\u001B[49m\u001B[43m \u001B[49m\u001B[43mmin_count\u001B[49m\u001B[43m,\u001B[49m\u001B[43m \u001B[49m\u001B[38;5;241;43m*\u001B[39;49m\u001B[38;5;241;43m*\u001B[39;49m\u001B[43mkwargs\u001B[49m\n\u001B[1;32m  12080\u001B[0m \u001B[43m    \u001B[49m\u001B[43m)\u001B[49m\n",
      "File \u001B[0;32m/srv/conda/envs/notebook/lib/python3.10/site-packages/pandas/core/generic.py:12043\u001B[0m, in \u001B[0;36mNDFrame._min_count_stat_function\u001B[0;34m(self, name, func, axis, skipna, numeric_only, min_count, **kwargs)\u001B[0m\n\u001B[1;32m  12031\u001B[0m \u001B[38;5;129m@final\u001B[39m\n\u001B[1;32m  12032\u001B[0m \u001B[38;5;28;01mdef\u001B[39;00m \u001B[38;5;21m_min_count_stat_function\u001B[39m(\n\u001B[1;32m  12033\u001B[0m     \u001B[38;5;28mself\u001B[39m,\n\u001B[0;32m   (...)\u001B[0m\n\u001B[1;32m  12040\u001B[0m     \u001B[38;5;241m*\u001B[39m\u001B[38;5;241m*\u001B[39mkwargs,\n\u001B[1;32m  12041\u001B[0m ):\n\u001B[1;32m  12042\u001B[0m     \u001B[38;5;28;01massert\u001B[39;00m name \u001B[38;5;129;01min\u001B[39;00m [\u001B[38;5;124m\"\u001B[39m\u001B[38;5;124msum\u001B[39m\u001B[38;5;124m\"\u001B[39m, \u001B[38;5;124m\"\u001B[39m\u001B[38;5;124mprod\u001B[39m\u001B[38;5;124m\"\u001B[39m], name\n\u001B[0;32m> 12043\u001B[0m     \u001B[43mnv\u001B[49m\u001B[38;5;241;43m.\u001B[39;49m\u001B[43mvalidate_func\u001B[49m\u001B[43m(\u001B[49m\u001B[43mname\u001B[49m\u001B[43m,\u001B[49m\u001B[43m \u001B[49m\u001B[43m(\u001B[49m\u001B[43m)\u001B[49m\u001B[43m,\u001B[49m\u001B[43m \u001B[49m\u001B[43mkwargs\u001B[49m\u001B[43m)\u001B[49m\n\u001B[1;32m  12045\u001B[0m     validate_bool_kwarg(skipna, \u001B[38;5;124m\"\u001B[39m\u001B[38;5;124mskipna\u001B[39m\u001B[38;5;124m\"\u001B[39m, none_allowed\u001B[38;5;241m=\u001B[39m\u001B[38;5;28;01mFalse\u001B[39;00m)\n\u001B[1;32m  12047\u001B[0m     \u001B[38;5;28;01mif\u001B[39;00m axis \u001B[38;5;129;01mis\u001B[39;00m \u001B[38;5;28;01mNone\u001B[39;00m:\n",
      "File \u001B[0;32m/srv/conda/envs/notebook/lib/python3.10/site-packages/pandas/compat/numpy/function.py:416\u001B[0m, in \u001B[0;36mvalidate_func\u001B[0;34m(fname, args, kwargs)\u001B[0m\n\u001B[1;32m    413\u001B[0m     \u001B[38;5;28;01mreturn\u001B[39;00m validate_stat_func(args, kwargs, fname\u001B[38;5;241m=\u001B[39mfname)\n\u001B[1;32m    415\u001B[0m validation_func \u001B[38;5;241m=\u001B[39m _validation_funcs[fname]\n\u001B[0;32m--> 416\u001B[0m \u001B[38;5;28;01mreturn\u001B[39;00m \u001B[43mvalidation_func\u001B[49m\u001B[43m(\u001B[49m\u001B[43margs\u001B[49m\u001B[43m,\u001B[49m\u001B[43m \u001B[49m\u001B[43mkwargs\u001B[49m\u001B[43m)\u001B[49m\n",
      "File \u001B[0;32m/srv/conda/envs/notebook/lib/python3.10/site-packages/pandas/compat/numpy/function.py:88\u001B[0m, in \u001B[0;36mCompatValidator.__call__\u001B[0;34m(self, args, kwargs, fname, max_fname_arg_count, method)\u001B[0m\n\u001B[1;32m     86\u001B[0m     validate_kwargs(fname, kwargs, \u001B[38;5;28mself\u001B[39m\u001B[38;5;241m.\u001B[39mdefaults)\n\u001B[1;32m     87\u001B[0m \u001B[38;5;28;01melif\u001B[39;00m method \u001B[38;5;241m==\u001B[39m \u001B[38;5;124m\"\u001B[39m\u001B[38;5;124mboth\u001B[39m\u001B[38;5;124m\"\u001B[39m:\n\u001B[0;32m---> 88\u001B[0m     \u001B[43mvalidate_args_and_kwargs\u001B[49m\u001B[43m(\u001B[49m\n\u001B[1;32m     89\u001B[0m \u001B[43m        \u001B[49m\u001B[43mfname\u001B[49m\u001B[43m,\u001B[49m\u001B[43m \u001B[49m\u001B[43margs\u001B[49m\u001B[43m,\u001B[49m\u001B[43m \u001B[49m\u001B[43mkwargs\u001B[49m\u001B[43m,\u001B[49m\u001B[43m \u001B[49m\u001B[43mmax_fname_arg_count\u001B[49m\u001B[43m,\u001B[49m\u001B[43m \u001B[49m\u001B[38;5;28;43mself\u001B[39;49m\u001B[38;5;241;43m.\u001B[39;49m\u001B[43mdefaults\u001B[49m\n\u001B[1;32m     90\u001B[0m \u001B[43m    \u001B[49m\u001B[43m)\u001B[49m\n\u001B[1;32m     91\u001B[0m \u001B[38;5;28;01melse\u001B[39;00m:\n\u001B[1;32m     92\u001B[0m     \u001B[38;5;28;01mraise\u001B[39;00m \u001B[38;5;167;01mValueError\u001B[39;00m(\u001B[38;5;124mf\u001B[39m\u001B[38;5;124m\"\u001B[39m\u001B[38;5;124minvalid validation method \u001B[39m\u001B[38;5;124m'\u001B[39m\u001B[38;5;132;01m{\u001B[39;00mmethod\u001B[38;5;132;01m}\u001B[39;00m\u001B[38;5;124m'\u001B[39m\u001B[38;5;124m\"\u001B[39m)\n",
      "File \u001B[0;32m/srv/conda/envs/notebook/lib/python3.10/site-packages/pandas/util/_validators.py:223\u001B[0m, in \u001B[0;36mvalidate_args_and_kwargs\u001B[0;34m(fname, args, kwargs, max_fname_arg_count, compat_args)\u001B[0m\n\u001B[1;32m    218\u001B[0m         \u001B[38;5;28;01mraise\u001B[39;00m \u001B[38;5;167;01mTypeError\u001B[39;00m(\n\u001B[1;32m    219\u001B[0m             \u001B[38;5;124mf\u001B[39m\u001B[38;5;124m\"\u001B[39m\u001B[38;5;132;01m{\u001B[39;00mfname\u001B[38;5;132;01m}\u001B[39;00m\u001B[38;5;124m() got multiple values for keyword argument \u001B[39m\u001B[38;5;124m'\u001B[39m\u001B[38;5;132;01m{\u001B[39;00mkey\u001B[38;5;132;01m}\u001B[39;00m\u001B[38;5;124m'\u001B[39m\u001B[38;5;124m\"\u001B[39m\n\u001B[1;32m    220\u001B[0m         )\n\u001B[1;32m    222\u001B[0m kwargs\u001B[38;5;241m.\u001B[39mupdate(args_dict)\n\u001B[0;32m--> 223\u001B[0m \u001B[43mvalidate_kwargs\u001B[49m\u001B[43m(\u001B[49m\u001B[43mfname\u001B[49m\u001B[43m,\u001B[49m\u001B[43m \u001B[49m\u001B[43mkwargs\u001B[49m\u001B[43m,\u001B[49m\u001B[43m \u001B[49m\u001B[43mcompat_args\u001B[49m\u001B[43m)\u001B[49m\n",
      "File \u001B[0;32m/srv/conda/envs/notebook/lib/python3.10/site-packages/pandas/util/_validators.py:164\u001B[0m, in \u001B[0;36mvalidate_kwargs\u001B[0;34m(fname, kwargs, compat_args)\u001B[0m\n\u001B[1;32m    142\u001B[0m \u001B[38;5;250m\u001B[39m\u001B[38;5;124;03m\"\"\"\u001B[39;00m\n\u001B[1;32m    143\u001B[0m \u001B[38;5;124;03mChecks whether parameters passed to the **kwargs argument in a\u001B[39;00m\n\u001B[1;32m    144\u001B[0m \u001B[38;5;124;03mfunction `fname` are valid parameters as specified in `*compat_args`\u001B[39;00m\n\u001B[0;32m   (...)\u001B[0m\n\u001B[1;32m    161\u001B[0m \u001B[38;5;124;03mmap to the default values specified in `compat_args`\u001B[39;00m\n\u001B[1;32m    162\u001B[0m \u001B[38;5;124;03m\"\"\"\u001B[39;00m\n\u001B[1;32m    163\u001B[0m kwds \u001B[38;5;241m=\u001B[39m kwargs\u001B[38;5;241m.\u001B[39mcopy()\n\u001B[0;32m--> 164\u001B[0m \u001B[43m_check_for_invalid_keys\u001B[49m\u001B[43m(\u001B[49m\u001B[43mfname\u001B[49m\u001B[43m,\u001B[49m\u001B[43m \u001B[49m\u001B[43mkwargs\u001B[49m\u001B[43m,\u001B[49m\u001B[43m \u001B[49m\u001B[43mcompat_args\u001B[49m\u001B[43m)\u001B[49m\n\u001B[1;32m    165\u001B[0m _check_for_default_values(fname, kwds, compat_args)\n",
      "File \u001B[0;32m/srv/conda/envs/notebook/lib/python3.10/site-packages/pandas/util/_validators.py:138\u001B[0m, in \u001B[0;36m_check_for_invalid_keys\u001B[0;34m(fname, kwargs, compat_args)\u001B[0m\n\u001B[1;32m    136\u001B[0m \u001B[38;5;28;01mif\u001B[39;00m diff:\n\u001B[1;32m    137\u001B[0m     bad_arg \u001B[38;5;241m=\u001B[39m \u001B[38;5;28mnext\u001B[39m(\u001B[38;5;28miter\u001B[39m(diff))\n\u001B[0;32m--> 138\u001B[0m     \u001B[38;5;28;01mraise\u001B[39;00m \u001B[38;5;167;01mTypeError\u001B[39;00m(\u001B[38;5;124mf\u001B[39m\u001B[38;5;124m\"\u001B[39m\u001B[38;5;132;01m{\u001B[39;00mfname\u001B[38;5;132;01m}\u001B[39;00m\u001B[38;5;124m() got an unexpected keyword argument \u001B[39m\u001B[38;5;124m'\u001B[39m\u001B[38;5;132;01m{\u001B[39;00mbad_arg\u001B[38;5;132;01m}\u001B[39;00m\u001B[38;5;124m'\u001B[39m\u001B[38;5;124m\"\u001B[39m)\n",
      "\u001B[0;31mTypeError\u001B[0m: sum() got an unexpected keyword argument 'x'"
     ],
     "ename": "TypeError",
     "evalue": "sum() got an unexpected keyword argument 'x'",
     "output_type": "error"
    }
   ],
   "id": "da60f9c7-7700-4e9c-b7ab-6815b2a55b4f"
  },
  {
   "cell_type": "code",
   "source": [
    "# Mittelwert\n"
   ],
   "metadata": {},
   "execution_count": 8,
   "outputs": [],
   "id": "f0a45d2d-021d-4874-9582-6b36b68b12b8"
  },
  {
   "cell_type": "code",
   "source": [
    "# Maximum\n"
   ],
   "metadata": {},
   "execution_count": 9,
   "outputs": [],
   "id": "7a469425-e8b7-443f-ba7b-9bb8bd6f024f"
  },
  {
   "cell_type": "markdown",
   "source": [
    "##### c) [6P] Ermitteln Sie den prozentualen Anteil der Fläche für PV-Anlagen, die auf Ackerland stehen. Unterscheiden Sie hierbei nach Bundesländern. Stellen Sie Ihre Ergebnisse (Anteil Ackerfläche PV / Fläche PV pro Bundesland) in einem Balkendiagramm dar (plot.bar()). \n",
    "Die folgenden Spalten sind für die Aufgabe relevant:\n",
    "- '9.2 Wie viel Fläche wird durch die PV-Freiflächenanlage in Anspruch genommen? [ha] '\n",
    "- '9.3 Wie viel der PV-Freifläche ist davon Ackerland? [ha] '\n",
    "- '4.11 Bundesland'"
   ],
   "metadata": {
    "tags": []
   },
   "id": "3934fc2b-81db-43d2-b2fd-970c70491ab3"
  },
  {
   "cell_type": "code",
   "source": [
    "# PV-Fläche pro Bundesland \n"
   ],
   "metadata": {},
   "execution_count": 10,
   "outputs": [],
   "id": "fedac823-ac69-4a34-8443-86bdedda3368"
  },
  {
   "cell_type": "code",
   "source": [
    "# PV-Ackerland pro Bundesland \n"
   ],
   "metadata": {},
   "execution_count": 11,
   "outputs": [],
   "id": "2cbee9c7-1250-4dda-a33b-7de195cbf917"
  },
  {
   "cell_type": "code",
   "source": [
    "# prozentualer Anteil\n"
   ],
   "metadata": {},
   "execution_count": 12,
   "outputs": [],
   "id": "9747f6e8-7b29-452c-8c3f-bde388d6b69e"
  },
  {
   "cell_type": "code",
   "source": [
    "# Balkendiagramm\n"
   ],
   "metadata": {},
   "execution_count": 13,
   "outputs": [],
   "id": "47431bfa-e6ee-4a72-a054-5448132a6509"
  },
  {
   "cell_type": "markdown",
   "source": [
    "### Aufgabe 2: Zeitreihendaten umwandeln und darstellen. [4P]"
   ],
   "metadata": {},
   "id": "3a7abf67-e1e8-47e2-8147-d62fe7f75c25"
  },
  {
   "cell_type": "markdown",
   "source": [
    "##### Laden Sie das Lastprofil (\"Messwertexport_2015.csv\" im 'input' Ordner) in einen Pandas Dataframe. Nutzen Sie dafür den vorgegebenen Code."
   ],
   "metadata": {
    "tags": []
   },
   "id": "5135c7b1-df6b-4c2f-807e-185b875783eb"
  },
  {
   "cell_type": "code",
   "source": [
    "# Datenimport - nicht abwandeln\n",
    "ts_df = pd.read_csv('input/Messwertexport_2015.csv', sep=';', \n",
    "                      decimal=',',parse_dates={'datetime':['[kW]','Attribut']})\n",
    "ts_df.set_index(pd.DatetimeIndex(ts_df.datetime), inplace=True)\n",
    "ts_df.drop(columns=['datetime'], inplace=True)"
   ],
   "metadata": {
    "trusted": true,
    "tags": []
   },
   "execution_count": 33,
   "outputs": [],
   "id": "5e10b4c9-2ccd-4357-bb53-25d6e1baa816"
  },
  {
   "cell_type": "markdown",
   "source": [
    "##### a) [1P] Die Daten liegen in viertelstündlichen Werten vor. Wandeln Sie sie in stündliche Werte mithilfe der resample Funktion um, wobei Sie die Werte aufsummieren. Speichern sie die neue Zeitreihe in einer Variable."
   ],
   "metadata": {},
   "id": "f36e5259-18e6-4081-9b2d-068c43a05c28"
  },
  {
   "cell_type": "code",
   "source": [
    "ts_dfneu= ts_df.resample"
   ],
   "metadata": {
    "trusted": true,
    "tags": []
   },
   "execution_count": 34,
   "outputs": [
    {
     "execution_count": 34,
     "output_type": "execute_result",
     "data": {
      "text/plain": "                      Wert\ndatetime                  \n2015-01-01 00:15:00  278.0\n2015-01-01 00:30:00  258.0\n2015-01-01 00:45:00  278.0\n2015-01-01 01:00:00  268.0\n2015-01-01 01:15:00  260.0\n...                    ...\n2015-12-31 23:00:00  204.0\n2015-12-31 23:15:00  220.0\n2015-12-31 23:30:00  206.0\n2015-12-31 23:45:00  224.0\n2015-12-31 00:00:00  208.0\n\n[35044 rows x 1 columns]",
      "text/html": "<div>\n<style scoped>\n    .dataframe tbody tr th:only-of-type {\n        vertical-align: middle;\n    }\n\n    .dataframe tbody tr th {\n        vertical-align: top;\n    }\n\n    .dataframe thead th {\n        text-align: right;\n    }\n</style>\n<table border=\"1\" class=\"dataframe\">\n  <thead>\n    <tr style=\"text-align: right;\">\n      <th></th>\n      <th>Wert</th>\n    </tr>\n    <tr>\n      <th>datetime</th>\n      <th></th>\n    </tr>\n  </thead>\n  <tbody>\n    <tr>\n      <th>2015-01-01 00:15:00</th>\n      <td>278.0</td>\n    </tr>\n    <tr>\n      <th>2015-01-01 00:30:00</th>\n      <td>258.0</td>\n    </tr>\n    <tr>\n      <th>2015-01-01 00:45:00</th>\n      <td>278.0</td>\n    </tr>\n    <tr>\n      <th>2015-01-01 01:00:00</th>\n      <td>268.0</td>\n    </tr>\n    <tr>\n      <th>2015-01-01 01:15:00</th>\n      <td>260.0</td>\n    </tr>\n    <tr>\n      <th>...</th>\n      <td>...</td>\n    </tr>\n    <tr>\n      <th>2015-12-31 23:00:00</th>\n      <td>204.0</td>\n    </tr>\n    <tr>\n      <th>2015-12-31 23:15:00</th>\n      <td>220.0</td>\n    </tr>\n    <tr>\n      <th>2015-12-31 23:30:00</th>\n      <td>206.0</td>\n    </tr>\n    <tr>\n      <th>2015-12-31 23:45:00</th>\n      <td>224.0</td>\n    </tr>\n    <tr>\n      <th>2015-12-31 00:00:00</th>\n      <td>208.0</td>\n    </tr>\n  </tbody>\n</table>\n<p>35044 rows × 1 columns</p>\n</div>"
     },
     "metadata": {}
    }
   ],
   "id": "3a2ce07f-f1fa-42b0-ab83-e8d1616c95e1"
  },
  {
   "cell_type": "markdown",
   "source": [
    "##### b) [1P] Stellen Sie die Ergebnisse in einem Diagramm dar. (x-Achse = DatetimeIndex, y-Achse = Messwert in kW)"
   ],
   "metadata": {},
   "id": "e38e4151-66a6-4f20-9c82-f2da23b8226a"
  },
  {
   "cell_type": "code",
   "source": [],
   "metadata": {},
   "execution_count": null,
   "outputs": [],
   "id": "440ecc56-453f-4b3c-8c10-ae09960d354c"
  },
  {
   "cell_type": "markdown",
   "source": [
    "##### c) [1P] Wandeln Sie nun die vorher erzeugten Stundenwerte in Tageswerte um. Verwenden Sie dabei das Maximum."
   ],
   "metadata": {},
   "id": "0e7a4726-13f9-45e1-9884-ffc9c47a64a3"
  },
  {
   "cell_type": "code",
   "source": [],
   "metadata": {},
   "execution_count": null,
   "outputs": [],
   "id": "6f0235db-4076-4edd-8d41-e0abf04b179b"
  },
  {
   "cell_type": "markdown",
   "source": [
    "##### d) [1P] Stellen Sie nun auch die maximalen Tageswerte in einem Diagramm dar."
   ],
   "metadata": {},
   "id": "f9c6d14f-e0a2-4856-930d-5131dd565ea9"
  },
  {
   "cell_type": "code",
   "source": [],
   "metadata": {},
   "execution_count": null,
   "outputs": [],
   "id": "0703b3cc-22a5-4919-8321-fcfe70eec341"
  },
  {
   "cell_type": "markdown",
   "source": [
    "#### Aufgabe 3: Geodaten und Koordinatensysteme [4P]"
   ],
   "metadata": {},
   "id": "74119150-6ecf-4e09-b884-fd3d8cfae326"
  },
  {
   "cell_type": "markdown",
   "source": [
    "##### Laden Sie nun den Geodatensatz mit den NUTS-Regionen Europas ('NUTS_RG_01M_2016_3035_LEVL_3.geojson' im 'input' Ordner)"
   ],
   "metadata": {
    "tags": []
   },
   "id": "070af873-de81-4e9a-a9a8-6d3952d91398"
  },
  {
   "cell_type": "code",
   "source": [
    "# Datenimport - bitte nicht abwandeln\n",
    "gdf = gpd.read_file('input/NUTS_RG_01M_2016_3035_LEVL_3.geojson')"
   ],
   "metadata": {
    "trusted": true,
    "tags": []
   },
   "execution_count": 35,
   "outputs": [],
   "id": "4ae09e4f-7bc1-42e4-8233-694612ba837a"
  },
  {
   "cell_type": "markdown",
   "source": [
    "##### a) [1P] In welchem Korrdinatensystem liegen die Daten vor?"
   ],
   "metadata": {},
   "id": "113e8771-1e84-43e6-9204-c5e4ab103fda"
  },
  {
   "cell_type": "code",
   "source": [
    "gdf.crs"
   ],
   "metadata": {
    "trusted": true,
    "tags": []
   },
   "execution_count": 36,
   "outputs": [
    {
     "execution_count": 36,
     "output_type": "execute_result",
     "data": {
      "text/plain": "<Projected CRS: EPSG:3035>\nName: ETRS89-extended / LAEA Europe\nAxis Info [cartesian]:\n- Y[north]: Northing (metre)\n- X[east]: Easting (metre)\nArea of Use:\n- name: Europe - European Union (EU) countries and candidates. Europe - onshore and offshore: Albania; Andorra; Austria; Belgium; Bosnia and Herzegovina; Bulgaria; Croatia; Cyprus; Czechia; Denmark; Estonia; Faroe Islands; Finland; France; Germany; Gibraltar; Greece; Hungary; Iceland; Ireland; Italy; Kosovo; Latvia; Liechtenstein; Lithuania; Luxembourg; Malta; Monaco; Montenegro; Netherlands; North Macedonia; Norway including Svalbard and Jan Mayen; Poland; Portugal including Madeira and Azores; Romania; San Marino; Serbia; Slovakia; Slovenia; Spain including Canary Islands; Sweden; Switzerland; Türkiye (Turkey); United Kingdom (UK) including Channel Islands and Isle of Man; Vatican City State.\n- bounds: (-35.58, 24.6, 44.83, 84.73)\nCoordinate Operation:\n- name: Europe Equal Area 2001\n- method: Lambert Azimuthal Equal Area\nDatum: European Terrestrial Reference System 1989 ensemble\n- Ellipsoid: GRS 1980\n- Prime Meridian: Greenwich"
     },
     "metadata": {}
    }
   ],
   "id": "3f85f323-070c-4d9a-88a1-b4c6d2eee1a5"
  },
  {
   "cell_type": "markdown",
   "source": [
    "##### b) [1P] Wandeln Sie die Koordinaten in Längen- und Breitengrade um (EPSG:4326) und speichern Sie das Ergebnis in einer Variable. "
   ],
   "metadata": {},
   "id": "8f37a76f-c358-4133-ade7-11924a23875f"
  },
  {
   "cell_type": "code",
   "source": [
    "gdf.to_crs(4326)"
   ],
   "metadata": {
    "trusted": true,
    "tags": []
   },
   "execution_count": 37,
   "outputs": [
    {
     "execution_count": 37,
     "output_type": "execute_result",
     "data": {
      "text/plain": "         id CNTR_CODE                    NUTS_NAME  LEVL_CODE    FID NUTS_ID  \\\n0     HR043        HR  Krapinsko-zagorska županija          3  HR043   HR043   \n1     AT314        AT              Steyr-Kirchdorf          3  AT314   AT314   \n2     AT315        AT                 Traunviertel          3  AT315   AT315   \n3     DE600        DE                      Hamburg          3  DE600   DE600   \n4     DE711        DE  Darmstadt, Kreisfreie Stadt          3  DE711   DE711   \n...     ...       ...                          ...        ...    ...     ...   \n1517  UKN16        UK          Fermanagh and Omagh          3  UKN16   UKN16   \n1518  UKJ44        UK                    East Kent          3  UKJ44   UKJ44   \n1519  UKJ45        UK                     Mid Kent          3  UKJ45   UKJ45   \n1520  UKL15        UK              Central Valleys          3  UKL15   UKL15   \n1521  UKK43        UK                     Devon CC          3  UKK43   UKK43   \n\n                                               geometry  \n0     POLYGON ((16.25128 46.07166, 16.24254 46.06221...  \n1     POLYGON ((14.48276 48.10563, 14.46977 48.10002...  \n2     POLYGON ((13.75402 48.11806, 13.75764 48.11234...  \n3     MULTIPOLYGON (((9.94538 53.65293, 9.95058 53.6...  \n4     POLYGON ((8.72571 49.95421, 8.73452 49.94857, ...  \n...                                                 ...  \n1517  POLYGON ((-6.94001 54.77358, -6.93652 54.76505...  \n1518  POLYGON ((0.85478 50.92371, 0.85869 50.92579, ...  \n1519  POLYGON ((0.60145 51.33329, 0.60614 51.33064, ...  \n1520  POLYGON ((-3.33446 51.79041, -3.32903 51.75866...  \n1521  MULTIPOLYGON (((-3.72078 51.23309, -3.73221 51...  \n\n[1522 rows x 7 columns]",
      "text/html": "<div>\n<style scoped>\n    .dataframe tbody tr th:only-of-type {\n        vertical-align: middle;\n    }\n\n    .dataframe tbody tr th {\n        vertical-align: top;\n    }\n\n    .dataframe thead th {\n        text-align: right;\n    }\n</style>\n<table border=\"1\" class=\"dataframe\">\n  <thead>\n    <tr style=\"text-align: right;\">\n      <th></th>\n      <th>id</th>\n      <th>CNTR_CODE</th>\n      <th>NUTS_NAME</th>\n      <th>LEVL_CODE</th>\n      <th>FID</th>\n      <th>NUTS_ID</th>\n      <th>geometry</th>\n    </tr>\n  </thead>\n  <tbody>\n    <tr>\n      <th>0</th>\n      <td>HR043</td>\n      <td>HR</td>\n      <td>Krapinsko-zagorska županija</td>\n      <td>3</td>\n      <td>HR043</td>\n      <td>HR043</td>\n      <td>POLYGON ((16.25128 46.07166, 16.24254 46.06221...</td>\n    </tr>\n    <tr>\n      <th>1</th>\n      <td>AT314</td>\n      <td>AT</td>\n      <td>Steyr-Kirchdorf</td>\n      <td>3</td>\n      <td>AT314</td>\n      <td>AT314</td>\n      <td>POLYGON ((14.48276 48.10563, 14.46977 48.10002...</td>\n    </tr>\n    <tr>\n      <th>2</th>\n      <td>AT315</td>\n      <td>AT</td>\n      <td>Traunviertel</td>\n      <td>3</td>\n      <td>AT315</td>\n      <td>AT315</td>\n      <td>POLYGON ((13.75402 48.11806, 13.75764 48.11234...</td>\n    </tr>\n    <tr>\n      <th>3</th>\n      <td>DE600</td>\n      <td>DE</td>\n      <td>Hamburg</td>\n      <td>3</td>\n      <td>DE600</td>\n      <td>DE600</td>\n      <td>MULTIPOLYGON (((9.94538 53.65293, 9.95058 53.6...</td>\n    </tr>\n    <tr>\n      <th>4</th>\n      <td>DE711</td>\n      <td>DE</td>\n      <td>Darmstadt, Kreisfreie Stadt</td>\n      <td>3</td>\n      <td>DE711</td>\n      <td>DE711</td>\n      <td>POLYGON ((8.72571 49.95421, 8.73452 49.94857, ...</td>\n    </tr>\n    <tr>\n      <th>...</th>\n      <td>...</td>\n      <td>...</td>\n      <td>...</td>\n      <td>...</td>\n      <td>...</td>\n      <td>...</td>\n      <td>...</td>\n    </tr>\n    <tr>\n      <th>1517</th>\n      <td>UKN16</td>\n      <td>UK</td>\n      <td>Fermanagh and Omagh</td>\n      <td>3</td>\n      <td>UKN16</td>\n      <td>UKN16</td>\n      <td>POLYGON ((-6.94001 54.77358, -6.93652 54.76505...</td>\n    </tr>\n    <tr>\n      <th>1518</th>\n      <td>UKJ44</td>\n      <td>UK</td>\n      <td>East Kent</td>\n      <td>3</td>\n      <td>UKJ44</td>\n      <td>UKJ44</td>\n      <td>POLYGON ((0.85478 50.92371, 0.85869 50.92579, ...</td>\n    </tr>\n    <tr>\n      <th>1519</th>\n      <td>UKJ45</td>\n      <td>UK</td>\n      <td>Mid Kent</td>\n      <td>3</td>\n      <td>UKJ45</td>\n      <td>UKJ45</td>\n      <td>POLYGON ((0.60145 51.33329, 0.60614 51.33064, ...</td>\n    </tr>\n    <tr>\n      <th>1520</th>\n      <td>UKL15</td>\n      <td>UK</td>\n      <td>Central Valleys</td>\n      <td>3</td>\n      <td>UKL15</td>\n      <td>UKL15</td>\n      <td>POLYGON ((-3.33446 51.79041, -3.32903 51.75866...</td>\n    </tr>\n    <tr>\n      <th>1521</th>\n      <td>UKK43</td>\n      <td>UK</td>\n      <td>Devon CC</td>\n      <td>3</td>\n      <td>UKK43</td>\n      <td>UKK43</td>\n      <td>MULTIPOLYGON (((-3.72078 51.23309, -3.73221 51...</td>\n    </tr>\n  </tbody>\n</table>\n<p>1522 rows × 7 columns</p>\n</div>"
     },
     "metadata": {}
    }
   ],
   "id": "24552041-c2a2-4053-be6a-66e2e2391115"
  },
  {
   "cell_type": "markdown",
   "source": [
    "##### c) [1P] Filtern Sie die Daten nach Italien und Österreich (IT, AT)"
   ],
   "metadata": {},
   "id": "80752de6-c397-4469-8703-88afc6d16e9e"
  },
  {
   "cell_type": "code",
   "source": [
    "gdf_itat= gdf[(gdf.CNTR_CODE == 'IT') | (gdf.CNTR_CODE == 'AT')]\n",
    "gdf_itat"
   ],
   "metadata": {
    "trusted": true,
    "tags": []
   },
   "execution_count": 63,
   "outputs": [
    {
     "execution_count": 63,
     "output_type": "execute_result",
     "data": {
      "text/plain": "         id CNTR_CODE              NUTS_NAME  LEVL_CODE    FID NUTS_ID  \\\n1     AT314        AT        Steyr-Kirchdorf          3  AT314   AT314   \n2     AT315        AT           Traunviertel          3  AT315   AT315   \n26    AT321        AT                 Lungau          3  AT321   AT321   \n27    AT322        AT         Pinzgau-Pongau          3  AT322   AT322   \n28    AT323        AT  Salzburg und Umgebung          3  AT323   AT323   \n...     ...       ...                    ...        ...    ...     ...   \n1180  ITG14        IT              Agrigento          3  ITG14   ITG14   \n1181  ITG15        IT          Caltanissetta          3  ITG15   ITG15   \n1183  ITC33        IT                 Genova          3  ITC33   ITC33   \n1184  ITC34        IT              La Spezia          3  ITC34   ITC34   \n1185  ITC41        IT                 Varese          3  ITC41   ITC41   \n\n                                               geometry  \n1     POLYGON ((4654777.000 2787028.000, 4653848.000...  \n2     POLYGON ((4600507.000 2785382.000, 4600808.000...  \n26    POLYGON ((4613599.000 2689645.000, 4613897.000...  \n27    POLYGON ((4523483.000 2733535.000, 4524948.000...  \n28    POLYGON ((4567548.000 2771539.000, 4567555.000...  \n...                                                 ...  \n1180  MULTIPOLYGON (((4652591.000 1630956.000, 46551...  \n1181  MULTIPOLYGON (((4688666.000 1625499.000, 46911...  \n1183  MULTIPOLYGON (((4257616.000 2389496.000, 42580...  \n1184  MULTIPOLYGON (((4295977.000 2361757.000, 42964...  \n1185  POLYGON ((4236365.000 2524806.000, 4236037.000...  \n\n[145 rows x 7 columns]",
      "text/html": "<div>\n<style scoped>\n    .dataframe tbody tr th:only-of-type {\n        vertical-align: middle;\n    }\n\n    .dataframe tbody tr th {\n        vertical-align: top;\n    }\n\n    .dataframe thead th {\n        text-align: right;\n    }\n</style>\n<table border=\"1\" class=\"dataframe\">\n  <thead>\n    <tr style=\"text-align: right;\">\n      <th></th>\n      <th>id</th>\n      <th>CNTR_CODE</th>\n      <th>NUTS_NAME</th>\n      <th>LEVL_CODE</th>\n      <th>FID</th>\n      <th>NUTS_ID</th>\n      <th>geometry</th>\n    </tr>\n  </thead>\n  <tbody>\n    <tr>\n      <th>1</th>\n      <td>AT314</td>\n      <td>AT</td>\n      <td>Steyr-Kirchdorf</td>\n      <td>3</td>\n      <td>AT314</td>\n      <td>AT314</td>\n      <td>POLYGON ((4654777.000 2787028.000, 4653848.000...</td>\n    </tr>\n    <tr>\n      <th>2</th>\n      <td>AT315</td>\n      <td>AT</td>\n      <td>Traunviertel</td>\n      <td>3</td>\n      <td>AT315</td>\n      <td>AT315</td>\n      <td>POLYGON ((4600507.000 2785382.000, 4600808.000...</td>\n    </tr>\n    <tr>\n      <th>26</th>\n      <td>AT321</td>\n      <td>AT</td>\n      <td>Lungau</td>\n      <td>3</td>\n      <td>AT321</td>\n      <td>AT321</td>\n      <td>POLYGON ((4613599.000 2689645.000, 4613897.000...</td>\n    </tr>\n    <tr>\n      <th>27</th>\n      <td>AT322</td>\n      <td>AT</td>\n      <td>Pinzgau-Pongau</td>\n      <td>3</td>\n      <td>AT322</td>\n      <td>AT322</td>\n      <td>POLYGON ((4523483.000 2733535.000, 4524948.000...</td>\n    </tr>\n    <tr>\n      <th>28</th>\n      <td>AT323</td>\n      <td>AT</td>\n      <td>Salzburg und Umgebung</td>\n      <td>3</td>\n      <td>AT323</td>\n      <td>AT323</td>\n      <td>POLYGON ((4567548.000 2771539.000, 4567555.000...</td>\n    </tr>\n    <tr>\n      <th>...</th>\n      <td>...</td>\n      <td>...</td>\n      <td>...</td>\n      <td>...</td>\n      <td>...</td>\n      <td>...</td>\n      <td>...</td>\n    </tr>\n    <tr>\n      <th>1180</th>\n      <td>ITG14</td>\n      <td>IT</td>\n      <td>Agrigento</td>\n      <td>3</td>\n      <td>ITG14</td>\n      <td>ITG14</td>\n      <td>MULTIPOLYGON (((4652591.000 1630956.000, 46551...</td>\n    </tr>\n    <tr>\n      <th>1181</th>\n      <td>ITG15</td>\n      <td>IT</td>\n      <td>Caltanissetta</td>\n      <td>3</td>\n      <td>ITG15</td>\n      <td>ITG15</td>\n      <td>MULTIPOLYGON (((4688666.000 1625499.000, 46911...</td>\n    </tr>\n    <tr>\n      <th>1183</th>\n      <td>ITC33</td>\n      <td>IT</td>\n      <td>Genova</td>\n      <td>3</td>\n      <td>ITC33</td>\n      <td>ITC33</td>\n      <td>MULTIPOLYGON (((4257616.000 2389496.000, 42580...</td>\n    </tr>\n    <tr>\n      <th>1184</th>\n      <td>ITC34</td>\n      <td>IT</td>\n      <td>La Spezia</td>\n      <td>3</td>\n      <td>ITC34</td>\n      <td>ITC34</td>\n      <td>MULTIPOLYGON (((4295977.000 2361757.000, 42964...</td>\n    </tr>\n    <tr>\n      <th>1185</th>\n      <td>ITC41</td>\n      <td>IT</td>\n      <td>Varese</td>\n      <td>3</td>\n      <td>ITC41</td>\n      <td>ITC41</td>\n      <td>POLYGON ((4236365.000 2524806.000, 4236037.000...</td>\n    </tr>\n  </tbody>\n</table>\n<p>145 rows × 7 columns</p>\n</div>"
     },
     "metadata": {}
    }
   ],
   "id": "216e1e89-2947-4396-8072-3cf0fd832274"
  },
  {
   "cell_type": "markdown",
   "source": [
    "##### d) [1P] Zeigen Sie die Geodaten für die beiden Länder als Karte an. "
   ],
   "metadata": {
    "tags": []
   },
   "id": "b885d08b-c856-4c4b-9ead-9e7972feb980"
  },
  {
   "cell_type": "code",
   "source": [
    "gdf_itat.plot()"
   ],
   "metadata": {
    "trusted": true,
    "tags": []
   },
   "execution_count": 68,
   "outputs": [
    {
     "execution_count": 68,
     "output_type": "execute_result",
     "data": {
      "text/plain": "<Axes: >"
     },
     "metadata": {}
    },
    {
     "output_type": "display_data",
     "data": {
      "text/plain": "<Figure size 640x480 with 1 Axes>",
      "image/png": "[encoded data removed]"
     },
     "metadata": {}
    }
   ],
   "id": "1ab73c14-2ecc-4028-a0ac-cdf4d5c8edf2"
  },
  {
   "cell_type": "markdown",
   "source": [
    "### Bitte nutzen Sie den Binder Download Button oben um das Jupyter Notebook (.ipynb Datei) zu speichern und laden Sie es anschließend bei ISIS hoch"
   ],
   "metadata": {},
   "id": "0ef61c52-38c9-4601-916e-e0c9f7fd4583"
  }
 ]
}
