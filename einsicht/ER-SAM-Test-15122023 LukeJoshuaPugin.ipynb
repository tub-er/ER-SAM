{
 "metadata": {
  "kernelspec": {
   "display_name": "Python 3 (ipykernel)",
   "language": "python",
   "name": "python3"
  },
  "language_info": {
   "name": "python",
   "version": "3.10.12",
   "mimetype": "text/x-python",
   "codemirror_mode": {
    "name": "ipython",
    "version": 3
   },
   "pygments_lexer": "ipython3",
   "nbconvert_exporter": "python",
   "file_extension": ".py"
  }
 },
 "nbformat_minor": 5,
 "nbformat": 4,
 "cells": [
  {
   "cell_type": "markdown",
   "source": [
    "# ER-SAM Test vom 15.12.2023"
   ],
   "metadata": {},
   "id": "534d85bb-06da-413e-8cd4-555c1b47fb1c"
  },
  {
   "cell_type": "markdown",
   "source": [
    "#### Bitte schreiben Sie Ihren Namen und Ihre Matrikelnummer in die folgende Zelle:"
   ],
   "metadata": {},
   "id": "1d973bc8-d3d9-43f7-9ff5-61d732490d62"
  },
  {
   "cell_type": "code",
   "source": [
    "# Name:\n",
    "# Matriculation number: "
   ],
   "metadata": {},
   "execution_count": 1,
   "outputs": [],
   "id": "e70a1169-7be7-409f-83ca-f99a042220bd"
  },
  {
   "cell_type": "markdown",
   "source": [
    "#### Durchführung\n",
    "Der Python-Teil des Tests beinhaltet 20 Punkte.\n",
    "\n",
    "Sie erhalten zusätzlich Zeit, um die Excel und Python Aufgaben herunterzuladen, zu öffnen und schließlich wieder bei ISIS hochzuladen. \n",
    "\n",
    "Bitte bearbeiten Sie alle Aufgaben in den dafür vorgesehenen Zellen bzw. fügen Sie wenn nötig zusätzliche Zellen an den entsprechenden Stellen ein. Lassen Sie die Aufgabenstellungen bitte so stehen wie sie sind. \n",
    "\n",
    "In Python und Pandas gibt es häufig unterschiedliche Wege eine Aufgabe zu lösen. Sie sind daher in der Wahl des Lösungswegs frei. \n",
    "\n",
    "Nachdem Sie alle Fragen beantwortet haben, vergewissern Sie sich bitte, dass alle Outputs sichtbar sind bzw. alle Zellen ausgeführt wurden. Dann nutzen Sie bitte den Download Button oben um das Notebook herunterzuladen und laden Sie die .ipynb Datei so wie sie ist auf ISIS hoch. Danach würden wir Sie bitten die Datei von Ihren privaten PCs zu löschen. \n",
    "\n",
    "Viel Erfolg!"
   ],
   "metadata": {},
   "id": "50c3ebe3-8c08-4059-9249-f8de4b7c3819"
  },
  {
   "cell_type": "code",
   "source": [
    "# Gegebenenfalls müssen Sie noch pandas etc. installieren... \n",
    "# !pip install pandas\n",
    "# !pip install geopandas\n",
    "# !pip install matplotlib\n",
    "# !pip install openpyxl\n",
    "# Importieren Sie pandas und matplotlib\n",
    "import pandas as pd\n",
    "import geopandas as gpd\n",
    "import matplotlib.pyplot as plt"
   ],
   "metadata": {
    "tags": [],
    "scrolled": true,
    "trusted": true
   },
   "execution_count": 1,
   "outputs": [],
   "id": "2ed64f0b-e8bf-476c-af6a-d2730c6c5b80"
  },
  {
   "cell_type": "markdown",
   "source": [
    "### Aufgabe 1: Relevante Daten aus einem Datensatz auslesen und darstellen. [12P]"
   ],
   "metadata": {},
   "id": "5de44db6-dbe3-4f7f-b663-f7b198aae78a"
  },
  {
   "cell_type": "markdown",
   "source": [
    "##### Laden Sie das \"Anlagenregister\" (\"2018_09_Veroeff_RegDaten.csv\" im \"input\" Ordner) in einen Pandas Dataframe"
   ],
   "metadata": {},
   "id": "98ea2174-ed77-41ab-9edb-b26ad3e730bc"
  },
  {
   "cell_type": "code",
   "source": [
    "df"
   ],
   "metadata": {
    "trusted": true,
    "tags": []
   },
   "execution_count": 17,
   "outputs": [
    {
     "execution_count": 17,
     "output_type": "execute_result",
     "data": {
      "text/plain": "      Meldedatum                                      Meldegrund  \\\n0     2014-08-07  Erstmalige Inanspruchnahme Flexibilitätsprämie   \n1     2014-08-12  Erstmalige Inanspruchnahme Flexibilitätsprämie   \n2     2014-08-13                                  Inbetriebnahme   \n3     2014-08-13  Erstmalige Inanspruchnahme Flexibilitätsprämie   \n4     2014-08-14                                  Inbetriebnahme   \n...          ...                                             ...   \n22380 2018-11-30               Verlängerung der Anfangsvergütung   \n22381 2018-11-30  Erstmalige Inanspruchnahme Flexibilitätsprämie   \n22382 2018-11-30                                  Inbetriebnahme   \n22383 2018-11-30               Verlängerung der Anfangsvergütung   \n22384 2018-11-30                                  Inbetriebnahme   \n\n        Anlagennummer           1.8 EEG-Anlagenschlüssel  \\\n0      A8717175168023  E2187801S120000000000022166200001   \n1      A7538358802104  E2104101S160000000000037934700001   \n2      A3217442210103  E2104101S000000000000063901400001   \n3      A9393173813098  E21865011000000000100002866200001   \n4      A6528756510139  E2325401HRA0000000SNWDE0000100007   \n...               ...                                ...   \n22380  A8736610240131  E2079303S120000000000020976800002   \n22381  A8758440240259                                NaN   \n22382  A9195160162529                                NaN   \n22383  A9382890240171  E4045001ALTENTREPTOW0126004500000   \n22384  A9429550240161                                NaN   \n\n      3.1 Genehmigungs-datum                  3.2 Genehmigungs-behörde  \\\n0                 2011-06-16                              LK Oldenburg   \n1                        NaT                                       NaN   \n2                 2011-12-20          Landratsamt Berchtesgadener Land   \n3                 2006-01-02                                 RP Kassel   \n4                 2013-03-12                      Landratsamt Bayreuth   \n...                      ...                                       ...   \n22380                    NaT                                       NaN   \n22381                    NaT                                       NaN   \n22382             2017-03-07  Landkreis Osnabrück FD6 Immissionsschutz   \n22383                    NaT                                       NaN   \n22384             2018-09-18                     Landkreis Wesermarsch   \n\n      3.3 Genehmigungs-Aktenzeichen 3.4 Geplantes Inbetriebnahme-datum  \\\n0                         946-11-06                                NaN   \n1                               NaN                                NaN   \n2               322.0/6430.02-40046                2014-08-11 00:00:00   \n3                  DE06 633 0015 11                2014-12-01 00:00:00   \n4                         4/44-1705                2014-08-12 00:00:00   \n...                             ...                                ...   \n22380                           NaN                                NaN   \n22381                           NaN                                NaN   \n22382               FD6-11-03177-16                2018-04-01 00:00:00   \n22383                           NaN                                NaN   \n22384        63-52.10 / 00403-18-01                2018-11-30 00:00:00   \n\n      3.5 Errichtungs-frist 4.1 Energieträger  ...  \\\n0                       NaT          Biomasse  ...   \n1                       NaT          Biomasse  ...   \n2                       NaT       Wasserkraft  ...   \n3                       NaT          Biomasse  ...   \n4                       NaT         Wind Land  ...   \n...                     ...               ...  ...   \n22380                   NaT         Wind Land  ...   \n22381                   NaT          Biomasse  ...   \n22382            2020-04-07         Wind Land  ...   \n22383                   NaT         Wind Land  ...   \n22384                   NaT         Wind Land  ...   \n\n       7.8.3 Küstenentfernung [km]  \\\n0                              NaN   \n1                              NaN   \n2                              NaN   \n3                              NaN   \n4                              NaN   \n...                            ...   \n22380                          NaN   \n22381                          NaN   \n22382                          NaN   \n22383                          NaN   \n22384                          NaN   \n\n       7.9 Pilotwindanlage\\n(neue Spalte seit EEG2017)  \\\n0                                                  NaN   \n1                                                  NaN   \n2                                                  NaN   \n3                                                  NaN   \n4                                                  NaN   \n...                                                ...   \n22380                                             Nein   \n22381                                              NaN   \n22382                                             Nein   \n22383                                             Nein   \n22384                                             Nein   \n\n       8.1 Ertüchtigung Wasserkraftanlage 8.2 Art der Ertüchtigung  \\\n0                                     NaN                      NaN   \n1                                     NaN                      NaN   \n2                                    Nein                      NaN   \n3                                     NaN                      NaN   \n4                                     NaN                      NaN   \n...                                   ...                      ...   \n22380                                 NaN                      NaN   \n22381                                 NaN                      NaN   \n22382                                 NaN                      NaN   \n22383                                 NaN                      NaN   \n22384                                 NaN                      NaN   \n\n      8.3 Zulassungspflichtige Maßnahme 8.4. HöheLeistungs-steigerung [%]  \\\n0                                   NaN                               NaN   \n1                                   NaN                               NaN   \n2                                   NaN                               NaN   \n3                                   NaN                               NaN   \n4                                   NaN                               NaN   \n...                                 ...                               ...   \n22380                               NaN                               NaN   \n22381                               NaN                               NaN   \n22382                               NaN                               NaN   \n22383                               NaN                               NaN   \n22384                               NaN                               NaN   \n\n       8.5 Datum der Ertüchtigung 9.1 Zuschlagnummer PV-Freifläche  \\\n0                             NaT                              NaN   \n1                             NaT                              NaN   \n2                             NaT                              NaN   \n3                             NaT                              NaN   \n4                             NaT                              NaN   \n...                           ...                              ...   \n22380                         NaT                              NaN   \n22381                         NaT                              NaN   \n22382                         NaT                              NaN   \n22383                         NaT                              NaN   \n22384                         NaT                              NaN   \n\n      9.2 Wie viel Fläche wird durch die PV-Freiflächenanlage in Anspruch genommen? [ha]   \\\n0                                                    NaN                                    \n1                                                    NaN                                    \n2                                                    NaN                                    \n3                                                    NaN                                    \n4                                                    NaN                                    \n...                                                  ...                                    \n22380                                                NaN                                    \n22381                                                NaN                                    \n22382                                                NaN                                    \n22383                                                NaN                                    \n22384                                                NaN                                    \n\n      9.3 Wie viel der PV-Freifläche ist davon Ackerland? [ha]   \n0                                                    NaN         \n1                                                    NaN         \n2                                                    NaN         \n3                                                    NaN         \n4                                                    NaN         \n...                                                  ...         \n22380                                                NaN         \n22381                                                NaN         \n22382                                                NaN         \n22383                                                NaN         \n22384                                                NaN         \n\n[22385 rows x 73 columns]",
      "text/html": "<div>\n<style scoped>\n    .dataframe tbody tr th:only-of-type {\n        vertical-align: middle;\n    }\n\n    .dataframe tbody tr th {\n        vertical-align: top;\n    }\n\n    .dataframe thead th {\n        text-align: right;\n    }\n</style>\n<table border=\"1\" class=\"dataframe\">\n  <thead>\n    <tr style=\"text-align: right;\">\n      <th></th>\n      <th>Meldedatum</th>\n      <th>Meldegrund</th>\n      <th>Anlagennummer</th>\n      <th>1.8 EEG-Anlagenschlüssel</th>\n      <th>3.1 Genehmigungs-datum</th>\n      <th>3.2 Genehmigungs-behörde</th>\n      <th>3.3 Genehmigungs-Aktenzeichen</th>\n      <th>3.4 Geplantes Inbetriebnahme-datum</th>\n      <th>3.5 Errichtungs-frist</th>\n      <th>4.1 Energieträger</th>\n      <th>...</th>\n      <th>7.8.3 Küstenentfernung [km]</th>\n      <th>7.9 Pilotwindanlage\\n(neue Spalte seit EEG2017)</th>\n      <th>8.1 Ertüchtigung Wasserkraftanlage</th>\n      <th>8.2 Art der Ertüchtigung</th>\n      <th>8.3 Zulassungspflichtige Maßnahme</th>\n      <th>8.4. HöheLeistungs-steigerung [%]</th>\n      <th>8.5 Datum der Ertüchtigung</th>\n      <th>9.1 Zuschlagnummer PV-Freifläche</th>\n      <th>9.2 Wie viel Fläche wird durch die PV-Freiflächenanlage in Anspruch genommen? [ha]</th>\n      <th>9.3 Wie viel der PV-Freifläche ist davon Ackerland? [ha]</th>\n    </tr>\n  </thead>\n  <tbody>\n    <tr>\n      <th>0</th>\n      <td>2014-08-07</td>\n      <td>Erstmalige Inanspruchnahme Flexibilitätsprämie</td>\n      <td>A8717175168023</td>\n      <td>E2187801S120000000000022166200001</td>\n      <td>2011-06-16</td>\n      <td>LK Oldenburg</td>\n      <td>946-11-06</td>\n      <td>NaN</td>\n      <td>NaT</td>\n      <td>Biomasse</td>\n      <td>...</td>\n      <td>NaN</td>\n      <td>NaN</td>\n      <td>NaN</td>\n      <td>NaN</td>\n      <td>NaN</td>\n      <td>NaN</td>\n      <td>NaT</td>\n      <td>NaN</td>\n      <td>NaN</td>\n      <td>NaN</td>\n    </tr>\n    <tr>\n      <th>1</th>\n      <td>2014-08-12</td>\n      <td>Erstmalige Inanspruchnahme Flexibilitätsprämie</td>\n      <td>A7538358802104</td>\n      <td>E2104101S160000000000037934700001</td>\n      <td>NaT</td>\n      <td>NaN</td>\n      <td>NaN</td>\n      <td>NaN</td>\n      <td>NaT</td>\n      <td>Biomasse</td>\n      <td>...</td>\n      <td>NaN</td>\n      <td>NaN</td>\n      <td>NaN</td>\n      <td>NaN</td>\n      <td>NaN</td>\n      <td>NaN</td>\n      <td>NaT</td>\n      <td>NaN</td>\n      <td>NaN</td>\n      <td>NaN</td>\n    </tr>\n    <tr>\n      <th>2</th>\n      <td>2014-08-13</td>\n      <td>Inbetriebnahme</td>\n      <td>A3217442210103</td>\n      <td>E2104101S000000000000063901400001</td>\n      <td>2011-12-20</td>\n      <td>Landratsamt Berchtesgadener Land</td>\n      <td>322.0/6430.02-40046</td>\n      <td>2014-08-11 00:00:00</td>\n      <td>NaT</td>\n      <td>Wasserkraft</td>\n      <td>...</td>\n      <td>NaN</td>\n      <td>NaN</td>\n      <td>Nein</td>\n      <td>NaN</td>\n      <td>NaN</td>\n      <td>NaN</td>\n      <td>NaT</td>\n      <td>NaN</td>\n      <td>NaN</td>\n      <td>NaN</td>\n    </tr>\n    <tr>\n      <th>3</th>\n      <td>2014-08-13</td>\n      <td>Erstmalige Inanspruchnahme Flexibilitätsprämie</td>\n      <td>A9393173813098</td>\n      <td>E21865011000000000100002866200001</td>\n      <td>2006-01-02</td>\n      <td>RP Kassel</td>\n      <td>DE06 633 0015 11</td>\n      <td>2014-12-01 00:00:00</td>\n      <td>NaT</td>\n      <td>Biomasse</td>\n      <td>...</td>\n      <td>NaN</td>\n      <td>NaN</td>\n      <td>NaN</td>\n      <td>NaN</td>\n      <td>NaN</td>\n      <td>NaN</td>\n      <td>NaT</td>\n      <td>NaN</td>\n      <td>NaN</td>\n      <td>NaN</td>\n    </tr>\n    <tr>\n      <th>4</th>\n      <td>2014-08-14</td>\n      <td>Inbetriebnahme</td>\n      <td>A6528756510139</td>\n      <td>E2325401HRA0000000SNWDE0000100007</td>\n      <td>2013-03-12</td>\n      <td>Landratsamt Bayreuth</td>\n      <td>4/44-1705</td>\n      <td>2014-08-12 00:00:00</td>\n      <td>NaT</td>\n      <td>Wind Land</td>\n      <td>...</td>\n      <td>NaN</td>\n      <td>NaN</td>\n      <td>NaN</td>\n      <td>NaN</td>\n      <td>NaN</td>\n      <td>NaN</td>\n      <td>NaT</td>\n      <td>NaN</td>\n      <td>NaN</td>\n      <td>NaN</td>\n    </tr>\n    <tr>\n      <th>...</th>\n      <td>...</td>\n      <td>...</td>\n      <td>...</td>\n      <td>...</td>\n      <td>...</td>\n      <td>...</td>\n      <td>...</td>\n      <td>...</td>\n      <td>...</td>\n      <td>...</td>\n      <td>...</td>\n      <td>...</td>\n      <td>...</td>\n      <td>...</td>\n      <td>...</td>\n      <td>...</td>\n      <td>...</td>\n      <td>...</td>\n      <td>...</td>\n      <td>...</td>\n      <td>...</td>\n    </tr>\n    <tr>\n      <th>22380</th>\n      <td>2018-11-30</td>\n      <td>Verlängerung der Anfangsvergütung</td>\n      <td>A8736610240131</td>\n      <td>E2079303S120000000000020976800002</td>\n      <td>NaT</td>\n      <td>NaN</td>\n      <td>NaN</td>\n      <td>NaN</td>\n      <td>NaT</td>\n      <td>Wind Land</td>\n      <td>...</td>\n      <td>NaN</td>\n      <td>Nein</td>\n      <td>NaN</td>\n      <td>NaN</td>\n      <td>NaN</td>\n      <td>NaN</td>\n      <td>NaT</td>\n      <td>NaN</td>\n      <td>NaN</td>\n      <td>NaN</td>\n    </tr>\n    <tr>\n      <th>22381</th>\n      <td>2018-11-30</td>\n      <td>Erstmalige Inanspruchnahme Flexibilitätsprämie</td>\n      <td>A8758440240259</td>\n      <td>NaN</td>\n      <td>NaT</td>\n      <td>NaN</td>\n      <td>NaN</td>\n      <td>NaN</td>\n      <td>NaT</td>\n      <td>Biomasse</td>\n      <td>...</td>\n      <td>NaN</td>\n      <td>NaN</td>\n      <td>NaN</td>\n      <td>NaN</td>\n      <td>NaN</td>\n      <td>NaN</td>\n      <td>NaT</td>\n      <td>NaN</td>\n      <td>NaN</td>\n      <td>NaN</td>\n    </tr>\n    <tr>\n      <th>22382</th>\n      <td>2018-11-30</td>\n      <td>Inbetriebnahme</td>\n      <td>A9195160162529</td>\n      <td>NaN</td>\n      <td>2017-03-07</td>\n      <td>Landkreis Osnabrück FD6 Immissionsschutz</td>\n      <td>FD6-11-03177-16</td>\n      <td>2018-04-01 00:00:00</td>\n      <td>2020-04-07</td>\n      <td>Wind Land</td>\n      <td>...</td>\n      <td>NaN</td>\n      <td>Nein</td>\n      <td>NaN</td>\n      <td>NaN</td>\n      <td>NaN</td>\n      <td>NaN</td>\n      <td>NaT</td>\n      <td>NaN</td>\n      <td>NaN</td>\n      <td>NaN</td>\n    </tr>\n    <tr>\n      <th>22383</th>\n      <td>2018-11-30</td>\n      <td>Verlängerung der Anfangsvergütung</td>\n      <td>A9382890240171</td>\n      <td>E4045001ALTENTREPTOW0126004500000</td>\n      <td>NaT</td>\n      <td>NaN</td>\n      <td>NaN</td>\n      <td>NaN</td>\n      <td>NaT</td>\n      <td>Wind Land</td>\n      <td>...</td>\n      <td>NaN</td>\n      <td>Nein</td>\n      <td>NaN</td>\n      <td>NaN</td>\n      <td>NaN</td>\n      <td>NaN</td>\n      <td>NaT</td>\n      <td>NaN</td>\n      <td>NaN</td>\n      <td>NaN</td>\n    </tr>\n    <tr>\n      <th>22384</th>\n      <td>2018-11-30</td>\n      <td>Inbetriebnahme</td>\n      <td>A9429550240161</td>\n      <td>NaN</td>\n      <td>2018-09-18</td>\n      <td>Landkreis Wesermarsch</td>\n      <td>63-52.10 / 00403-18-01</td>\n      <td>2018-11-30 00:00:00</td>\n      <td>NaT</td>\n      <td>Wind Land</td>\n      <td>...</td>\n      <td>NaN</td>\n      <td>Nein</td>\n      <td>NaN</td>\n      <td>NaN</td>\n      <td>NaN</td>\n      <td>NaN</td>\n      <td>NaT</td>\n      <td>NaN</td>\n      <td>NaN</td>\n      <td>NaN</td>\n    </tr>\n  </tbody>\n</table>\n<p>22385 rows × 73 columns</p>\n</div>"
     },
     "metadata": {}
    }
   ],
   "id": "9288982f-2cf0-48d4-9953-be878c024dd5"
  },
  {
   "cell_type": "code",
   "source": [
    "# Datenimport - nicht abwandeln\n",
    "df = pd.read_excel('input/2018_11_Veroeff_RegDaten.xlsx')"
   ],
   "metadata": {
    "trusted": true,
    "tags": []
   },
   "execution_count": 2,
   "outputs": [],
   "id": "234091b6-6ded-4737-9e25-300b7c6c4e52"
  },
  {
   "cell_type": "markdown",
   "source": [
    "##### a) [3P] Ermitteln Sie die Summe, den Mittelwert und das Maximum der installierten Leistung für jeden Energieträger.\n",
    "Spalten: '4.1 Energieträger', '4.2 Installierte Leistung [kW]'"
   ],
   "metadata": {
    "tags": []
   },
   "id": "a07f807f-e125-4585-8c75-10fd77e04e54"
  },
  {
   "cell_type": "code",
   "source": [
    "\n"
   ],
   "metadata": {
    "trusted": true,
    "tags": []
   },
   "execution_count": null,
   "outputs": [],
   "id": "fc8cb9af-c41c-4365-9f5a-764962e580e7"
  },
  {
   "cell_type": "code",
   "source": [
    "# Summe\n",
    "df.groupby('4.1 Energieträger')['4.2 Installierte Leistung [kW]'].sum()"
   ],
   "metadata": {
    "trusted": true,
    "tags": []
   },
   "execution_count": 6,
   "outputs": [
    {
     "execution_count": 6,
     "output_type": "execute_result",
     "data": {
      "text/plain": "4.1 Energieträger\nBiomasse         3.326356e+06\nDeponiegas       2.302803e+04\nFreifläche PV    1.879727e+06\nGeothermie       1.333950e+04\nGrubengas        6.015300e+04\nKlärgas          4.997480e+04\nSpeicher         1.037178e+04\nWasserkraft      2.746664e+05\nWind Land        3.084679e+07\nWind See         6.339068e+06\nName: 4.2 Installierte Leistung [kW], dtype: float64"
     },
     "metadata": {}
    }
   ],
   "id": "eeb5beb3-308f-4e54-9ca6-0a3cb5010d42"
  },
  {
   "cell_type": "code",
   "source": [
    "# Mittelwert\n",
    "df.groupby('4.1 Energieträger')['4.2 Installierte Leistung [kW]'].mean()"
   ],
   "metadata": {
    "trusted": true,
    "tags": []
   },
   "execution_count": 7,
   "outputs": [
    {
     "execution_count": 7,
     "output_type": "execute_result",
     "data": {
      "text/plain": "4.1 Energieträger\nBiomasse          662.225049\nDeponiegas        479.750583\nFreifläche PV    2195.942894\nGeothermie       3334.875000\nGrubengas        2615.347826\nKlärgas           434.563478\nSpeicher            6.568576\nWasserkraft       233.559905\nWind Land        2509.296905\nWind See         4999.264984\nName: 4.2 Installierte Leistung [kW], dtype: float64"
     },
     "metadata": {}
    }
   ],
   "id": "98d66c10-da44-4167-952b-d89e8b81132b"
  },
  {
   "cell_type": "code",
   "source": [
    "# Maximum\n",
    "df.groupby('4.1 Energieträger')['4.2 Installierte Leistung [kW]'].max()"
   ],
   "metadata": {
    "trusted": true,
    "tags": []
   },
   "execution_count": 9,
   "outputs": [
    {
     "execution_count": 9,
     "output_type": "execute_result",
     "data": {
      "text/plain": "4.1 Energieträger\nBiomasse         22000.0\nDeponiegas        3463.0\nFreifläche PV    10000.0\nGeothermie        5500.0\nGrubengas         6790.0\nKlärgas           8877.0\nSpeicher           120.0\nWasserkraft      12600.0\nWind Land         8000.0\nWind See          8300.0\nName: 4.2 Installierte Leistung [kW], dtype: float64"
     },
     "metadata": {}
    }
   ],
   "id": "5c289723-7117-45a0-841e-786747cbda67"
  },
  {
   "cell_type": "markdown",
   "source": [
    "##### b) [3P] Ermitteln Sie die Summe, den Mittelwert und das Maximum der installierten Leistung für jedes Bundesland.\n",
    "Spalten: '4.11 Bundesland', '4.2 Installierte Leistung [kW]'"
   ],
   "metadata": {},
   "id": "8399612a-023f-4fda-84cd-3f816ba04822"
  },
  {
   "cell_type": "code",
   "source": [
    "# Summe\n",
    "df.groupby('4.11 Bundesland')['4.2 Installierte Leistung [kW]'].sum()"
   ],
   "metadata": {
    "trusted": true,
    "tags": []
   },
   "execution_count": 11,
   "outputs": [
    {
     "execution_count": 11,
     "output_type": "execute_result",
     "data": {
      "text/plain": "4.11 Bundesland\nAusschließliche Wirtschaftszone (Wind See)    6125298.000\nBaden-Württemberg                             1699925.706\nBayern                                        3321343.051\nBerlin                                          13922.255\nBrandenburg                                   3968717.880\nBremen                                         120525.540\nHamburg                                         97050.000\nHessen                                        1814921.620\nMecklenburg-Vorpommern                        2304371.420\nNiedersachsen                                 7363749.263\nNordrhein-Westfalen                           3919106.164\nRheinland-Pfalz                               2572833.425\nSaarland                                       385242.615\nSachsen                                        619434.470\nSachsen-Anhalt                                2272294.510\nSchleswig-Holstein                            5105215.010\nThüringen                                     1066390.021\nName: 4.2 Installierte Leistung [kW], dtype: float64"
     },
     "metadata": {}
    }
   ],
   "id": "da60f9c7-7700-4e9c-b7ab-6815b2a55b4f"
  },
  {
   "cell_type": "code",
   "source": [
    "# Mittelwert\n",
    "df.groupby('4.11 Bundesland')['4.2 Installierte Leistung [kW]'].mean()"
   ],
   "metadata": {
    "trusted": true,
    "tags": []
   },
   "execution_count": 12,
   "outputs": [
    {
     "execution_count": 12,
     "output_type": "execute_result",
     "data": {
      "text/plain": "4.11 Bundesland\nAusschließliche Wirtschaftszone (Wind See)    5004.328431\nBaden-Württemberg                             1071.832097\nBayern                                        1041.173370\nBerlin                                         272.985392\nBrandenburg                                   2318.176332\nBremen                                        2739.216818\nHamburg                                       1427.205882\nHessen                                        1753.547459\nMecklenburg-Vorpommern                        2281.555861\nNiedersachsen                                 1860.002340\nNordrhein-Westfalen                           1584.117285\nRheinland-Pfalz                               2152.998682\nSaarland                                      2334.803727\nSachsen                                       1219.359193\nSachsen-Anhalt                                2176.527308\nSchleswig-Holstein                            2001.260294\nThüringen                                     1894.120819\nName: 4.2 Installierte Leistung [kW], dtype: float64"
     },
     "metadata": {}
    }
   ],
   "id": "f0a45d2d-021d-4874-9582-6b36b68b12b8"
  },
  {
   "cell_type": "code",
   "source": [
    "# Maximum\n",
    "df.groupby('4.11 Bundesland')['4.2 Installierte Leistung [kW]'].max()"
   ],
   "metadata": {
    "trusted": true,
    "tags": []
   },
   "execution_count": 13,
   "outputs": [
    {
     "execution_count": 13,
     "output_type": "execute_result",
     "data": {
      "text/plain": "4.11 Bundesland\nAusschließliche Wirtschaftszone (Wind See)     8300.00\nBaden-Württemberg                              8100.00\nBayern                                        12600.00\nBerlin                                         3370.00\nBrandenburg                                   10000.00\nBremen                                         8000.00\nHamburg                                        3370.00\nHessen                                         6233.37\nMecklenburg-Vorpommern                         9999.51\nNiedersachsen                                 22000.00\nNordrhein-Westfalen                            9180.00\nRheinland-Pfalz                                9974.64\nSaarland                                       4998.60\nSachsen                                        9998.00\nSachsen-Anhalt                                20000.00\nSchleswig-Holstein                             9974.64\nThüringen                                      7250.10\nName: 4.2 Installierte Leistung [kW], dtype: float64"
     },
     "metadata": {}
    }
   ],
   "id": "7a469425-e8b7-443f-ba7b-9bb8bd6f024f"
  },
  {
   "cell_type": "markdown",
   "source": [
    "##### c) [6P] Ermitteln Sie den prozentualen Anteil der Fläche für PV-Anlagen, die auf Ackerland stehen. Unterscheiden Sie hierbei nach Bundesländern. Stellen Sie Ihre Ergebnisse (Anteil Ackerfläche PV / Fläche PV pro Bundesland) in einem Balkendiagramm dar (plot.bar()). \n",
    "Die folgenden Spalten sind für die Aufgabe relevant:\n",
    "- '9.2 Wie viel Fläche wird durch die PV-Freiflächenanlage in Anspruch genommen? [ha] '\n",
    "- '9.3 Wie viel der PV-Freifläche ist davon Ackerland? [ha] '\n",
    "- '4.11 Bundesland'"
   ],
   "metadata": {
    "tags": []
   },
   "id": "3934fc2b-81db-43d2-b2fd-970c70491ab3"
  },
  {
   "cell_type": "code",
   "source": [
    "# PV-Fläche pro Bundesland \n",
    "pv_flaeche =df.groupby('4.11 Bundesland')['9.2 Wie viel Fläche wird durch die PV-Freiflächenanlage in Anspruch genommen? [ha]'].sum()"
   ],
   "metadata": {
    "trusted": true,
    "tags": []
   },
   "execution_count": 56,
   "outputs": [
    {
     "traceback": [
      "\u001B[0;31m---------------------------------------------------------------------------\u001B[0m",
      "\u001B[0;31mKeyError\u001B[0m                                  Traceback (most recent call last)",
      "Cell \u001B[0;32mIn[56], line 2\u001B[0m\n\u001B[1;32m      1\u001B[0m \u001B[38;5;66;03m# PV-Fläche pro Bundesland \u001B[39;00m\n\u001B[0;32m----> 2\u001B[0m pv_flaeche \u001B[38;5;241m=\u001B[39m\u001B[43mdf\u001B[49m\u001B[38;5;241;43m.\u001B[39;49m\u001B[43mgroupby\u001B[49m\u001B[43m(\u001B[49m\u001B[38;5;124;43m'\u001B[39;49m\u001B[38;5;124;43m4.11 Bundesland\u001B[39;49m\u001B[38;5;124;43m'\u001B[39;49m\u001B[43m)\u001B[49m\u001B[43m[\u001B[49m\u001B[38;5;124;43m'\u001B[39;49m\u001B[38;5;124;43m9.2 Wie viel Fläche wird durch die PV-Freiflächenanlage in Anspruch genommen? [ha]\u001B[39;49m\u001B[38;5;124;43m'\u001B[39;49m\u001B[43m]\u001B[49m\u001B[38;5;241m.\u001B[39msum()\n",
      "File \u001B[0;32m/srv/conda/envs/notebook/lib/python3.10/site-packages/pandas/core/groupby/generic.py:1964\u001B[0m, in \u001B[0;36mDataFrameGroupBy.__getitem__\u001B[0;34m(self, key)\u001B[0m\n\u001B[1;32m   1957\u001B[0m \u001B[38;5;28;01mif\u001B[39;00m \u001B[38;5;28misinstance\u001B[39m(key, \u001B[38;5;28mtuple\u001B[39m) \u001B[38;5;129;01mand\u001B[39;00m \u001B[38;5;28mlen\u001B[39m(key) \u001B[38;5;241m>\u001B[39m \u001B[38;5;241m1\u001B[39m:\n\u001B[1;32m   1958\u001B[0m     \u001B[38;5;66;03m# if len == 1, then it becomes a SeriesGroupBy and this is actually\u001B[39;00m\n\u001B[1;32m   1959\u001B[0m     \u001B[38;5;66;03m# valid syntax, so don't raise\u001B[39;00m\n\u001B[1;32m   1960\u001B[0m     \u001B[38;5;28;01mraise\u001B[39;00m \u001B[38;5;167;01mValueError\u001B[39;00m(\n\u001B[1;32m   1961\u001B[0m         \u001B[38;5;124m\"\u001B[39m\u001B[38;5;124mCannot subset columns with a tuple with more than one element. \u001B[39m\u001B[38;5;124m\"\u001B[39m\n\u001B[1;32m   1962\u001B[0m         \u001B[38;5;124m\"\u001B[39m\u001B[38;5;124mUse a list instead.\u001B[39m\u001B[38;5;124m\"\u001B[39m\n\u001B[1;32m   1963\u001B[0m     )\n\u001B[0;32m-> 1964\u001B[0m \u001B[38;5;28;01mreturn\u001B[39;00m \u001B[38;5;28;43msuper\u001B[39;49m\u001B[43m(\u001B[49m\u001B[43m)\u001B[49m\u001B[38;5;241;43m.\u001B[39;49m\u001B[38;5;21;43m__getitem__\u001B[39;49m\u001B[43m(\u001B[49m\u001B[43mkey\u001B[49m\u001B[43m)\u001B[49m\n",
      "File \u001B[0;32m/srv/conda/envs/notebook/lib/python3.10/site-packages/pandas/core/base.py:244\u001B[0m, in \u001B[0;36mSelectionMixin.__getitem__\u001B[0;34m(self, key)\u001B[0m\n\u001B[1;32m    242\u001B[0m \u001B[38;5;28;01melse\u001B[39;00m:\n\u001B[1;32m    243\u001B[0m     \u001B[38;5;28;01mif\u001B[39;00m key \u001B[38;5;129;01mnot\u001B[39;00m \u001B[38;5;129;01min\u001B[39;00m \u001B[38;5;28mself\u001B[39m\u001B[38;5;241m.\u001B[39mobj:\n\u001B[0;32m--> 244\u001B[0m         \u001B[38;5;28;01mraise\u001B[39;00m \u001B[38;5;167;01mKeyError\u001B[39;00m(\u001B[38;5;124mf\u001B[39m\u001B[38;5;124m\"\u001B[39m\u001B[38;5;124mColumn not found: \u001B[39m\u001B[38;5;132;01m{\u001B[39;00mkey\u001B[38;5;132;01m}\u001B[39;00m\u001B[38;5;124m\"\u001B[39m)\n\u001B[1;32m    245\u001B[0m     ndim \u001B[38;5;241m=\u001B[39m \u001B[38;5;28mself\u001B[39m\u001B[38;5;241m.\u001B[39mobj[key]\u001B[38;5;241m.\u001B[39mndim\n\u001B[1;32m    246\u001B[0m     \u001B[38;5;28;01mreturn\u001B[39;00m \u001B[38;5;28mself\u001B[39m\u001B[38;5;241m.\u001B[39m_gotitem(key, ndim\u001B[38;5;241m=\u001B[39mndim)\n",
      "\u001B[0;31mKeyError\u001B[0m: 'Column not found: 9.2 Wie viel Fläche wird durch die PV-Freiflächenanlage in Anspruch genommen? [ha]'"
     ],
     "ename": "KeyError",
     "evalue": "'Column not found: 9.2 Wie viel Fläche wird durch die PV-Freiflächenanlage in Anspruch genommen? [ha]'",
     "output_type": "error"
    }
   ],
   "id": "fedac823-ac69-4a34-8443-86bdedda3368"
  },
  {
   "cell_type": "code",
   "source": [
    "# PV-Ackerland pro Bundesland \n",
    "pv_acker = df.groupby('4.11 Bundesland')['9.3 Wie viel der PV-Freifläche ist davon Ackerland? [ha]'].sum()"
   ],
   "metadata": {
    "trusted": true,
    "tags": []
   },
   "execution_count": 57,
   "outputs": [
    {
     "traceback": [
      "\u001B[0;31m---------------------------------------------------------------------------\u001B[0m",
      "\u001B[0;31mKeyError\u001B[0m                                  Traceback (most recent call last)",
      "Cell \u001B[0;32mIn[57], line 2\u001B[0m\n\u001B[1;32m      1\u001B[0m \u001B[38;5;66;03m# PV-Ackerland pro Bundesland \u001B[39;00m\n\u001B[0;32m----> 2\u001B[0m pv_acker \u001B[38;5;241m=\u001B[39m \u001B[43mdf\u001B[49m\u001B[38;5;241;43m.\u001B[39;49m\u001B[43mgroupby\u001B[49m\u001B[43m(\u001B[49m\u001B[38;5;124;43m'\u001B[39;49m\u001B[38;5;124;43m4.11 Bundesland\u001B[39;49m\u001B[38;5;124;43m'\u001B[39;49m\u001B[43m)\u001B[49m\u001B[43m[\u001B[49m\u001B[38;5;124;43m'\u001B[39;49m\u001B[38;5;124;43m9.3 Wie viel der PV-Freifläche ist davon Ackerland? [ha]\u001B[39;49m\u001B[38;5;124;43m'\u001B[39;49m\u001B[43m]\u001B[49m\u001B[38;5;241m.\u001B[39msum()\n",
      "File \u001B[0;32m/srv/conda/envs/notebook/lib/python3.10/site-packages/pandas/core/groupby/generic.py:1964\u001B[0m, in \u001B[0;36mDataFrameGroupBy.__getitem__\u001B[0;34m(self, key)\u001B[0m\n\u001B[1;32m   1957\u001B[0m \u001B[38;5;28;01mif\u001B[39;00m \u001B[38;5;28misinstance\u001B[39m(key, \u001B[38;5;28mtuple\u001B[39m) \u001B[38;5;129;01mand\u001B[39;00m \u001B[38;5;28mlen\u001B[39m(key) \u001B[38;5;241m>\u001B[39m \u001B[38;5;241m1\u001B[39m:\n\u001B[1;32m   1958\u001B[0m     \u001B[38;5;66;03m# if len == 1, then it becomes a SeriesGroupBy and this is actually\u001B[39;00m\n\u001B[1;32m   1959\u001B[0m     \u001B[38;5;66;03m# valid syntax, so don't raise\u001B[39;00m\n\u001B[1;32m   1960\u001B[0m     \u001B[38;5;28;01mraise\u001B[39;00m \u001B[38;5;167;01mValueError\u001B[39;00m(\n\u001B[1;32m   1961\u001B[0m         \u001B[38;5;124m\"\u001B[39m\u001B[38;5;124mCannot subset columns with a tuple with more than one element. \u001B[39m\u001B[38;5;124m\"\u001B[39m\n\u001B[1;32m   1962\u001B[0m         \u001B[38;5;124m\"\u001B[39m\u001B[38;5;124mUse a list instead.\u001B[39m\u001B[38;5;124m\"\u001B[39m\n\u001B[1;32m   1963\u001B[0m     )\n\u001B[0;32m-> 1964\u001B[0m \u001B[38;5;28;01mreturn\u001B[39;00m \u001B[38;5;28;43msuper\u001B[39;49m\u001B[43m(\u001B[49m\u001B[43m)\u001B[49m\u001B[38;5;241;43m.\u001B[39;49m\u001B[38;5;21;43m__getitem__\u001B[39;49m\u001B[43m(\u001B[49m\u001B[43mkey\u001B[49m\u001B[43m)\u001B[49m\n",
      "File \u001B[0;32m/srv/conda/envs/notebook/lib/python3.10/site-packages/pandas/core/base.py:244\u001B[0m, in \u001B[0;36mSelectionMixin.__getitem__\u001B[0;34m(self, key)\u001B[0m\n\u001B[1;32m    242\u001B[0m \u001B[38;5;28;01melse\u001B[39;00m:\n\u001B[1;32m    243\u001B[0m     \u001B[38;5;28;01mif\u001B[39;00m key \u001B[38;5;129;01mnot\u001B[39;00m \u001B[38;5;129;01min\u001B[39;00m \u001B[38;5;28mself\u001B[39m\u001B[38;5;241m.\u001B[39mobj:\n\u001B[0;32m--> 244\u001B[0m         \u001B[38;5;28;01mraise\u001B[39;00m \u001B[38;5;167;01mKeyError\u001B[39;00m(\u001B[38;5;124mf\u001B[39m\u001B[38;5;124m\"\u001B[39m\u001B[38;5;124mColumn not found: \u001B[39m\u001B[38;5;132;01m{\u001B[39;00mkey\u001B[38;5;132;01m}\u001B[39;00m\u001B[38;5;124m\"\u001B[39m)\n\u001B[1;32m    245\u001B[0m     ndim \u001B[38;5;241m=\u001B[39m \u001B[38;5;28mself\u001B[39m\u001B[38;5;241m.\u001B[39mobj[key]\u001B[38;5;241m.\u001B[39mndim\n\u001B[1;32m    246\u001B[0m     \u001B[38;5;28;01mreturn\u001B[39;00m \u001B[38;5;28mself\u001B[39m\u001B[38;5;241m.\u001B[39m_gotitem(key, ndim\u001B[38;5;241m=\u001B[39mndim)\n",
      "\u001B[0;31mKeyError\u001B[0m: 'Column not found: 9.3 Wie viel der PV-Freifläche ist davon Ackerland? [ha]'"
     ],
     "ename": "KeyError",
     "evalue": "'Column not found: 9.3 Wie viel der PV-Freifläche ist davon Ackerland? [ha]'",
     "output_type": "error"
    }
   ],
   "id": "2cbee9c7-1250-4dda-a33b-7de195cbf917"
  },
  {
   "cell_type": "code",
   "source": [
    "# prozentualer Anteil\n",
    "proz = pv_acker/pv_flaeche"
   ],
   "metadata": {},
   "execution_count": 12,
   "outputs": [],
   "id": "9747f6e8-7b29-452c-8c3f-bde388d6b69e"
  },
  {
   "cell_type": "code",
   "source": [
    "# Balkendiagramm\n",
    "proz.plot.bar()"
   ],
   "metadata": {
    "trusted": true,
    "tags": []
   },
   "execution_count": 58,
   "outputs": [
    {
     "traceback": [
      "\u001B[0;31m---------------------------------------------------------------------------\u001B[0m",
      "\u001B[0;31mNameError\u001B[0m                                 Traceback (most recent call last)",
      "Cell \u001B[0;32mIn[58], line 2\u001B[0m\n\u001B[1;32m      1\u001B[0m \u001B[38;5;66;03m# Balkendiagramm\u001B[39;00m\n\u001B[0;32m----> 2\u001B[0m \u001B[43mproz\u001B[49m\u001B[38;5;241m.\u001B[39mplot\u001B[38;5;241m.\u001B[39mbar()\n",
      "\u001B[0;31mNameError\u001B[0m: name 'proz' is not defined"
     ],
     "ename": "NameError",
     "evalue": "name 'proz' is not defined",
     "output_type": "error"
    }
   ],
   "id": "47431bfa-e6ee-4a72-a054-5448132a6509"
  },
  {
   "cell_type": "markdown",
   "source": [
    "### Aufgabe 2: Zeitreihendaten umwandeln und darstellen. [4P]"
   ],
   "metadata": {},
   "id": "3a7abf67-e1e8-47e2-8147-d62fe7f75c25"
  },
  {
   "cell_type": "markdown",
   "source": [
    "##### Laden Sie das Lastprofil (\"Messwertexport_2015.csv\" im 'input' Ordner) in einen Pandas Dataframe. Nutzen Sie dafür den vorgegebenen Code."
   ],
   "metadata": {
    "tags": []
   },
   "id": "5135c7b1-df6b-4c2f-807e-185b875783eb"
  },
  {
   "cell_type": "code",
   "source": [
    "# Datenimport - nicht abwandeln\n",
    "ts_df = pd.read_csv('input/Messwertexport_2015.csv', sep=';', \n",
    "                      decimal=',',parse_dates={'datetime':['[kW]','Attribut']})\n",
    "ts_df.set_index(pd.DatetimeIndex(ts_df.datetime), inplace=True)\n",
    "ts_df.drop(columns=['datetime'], inplace=True)"
   ],
   "metadata": {
    "trusted": true,
    "tags": []
   },
   "execution_count": 22,
   "outputs": [],
   "id": "5e10b4c9-2ccd-4357-bb53-25d6e1baa816"
  },
  {
   "cell_type": "markdown",
   "source": [
    "##### a) [1P] Die Daten liegen in viertelstündlichen Werten vor. Wandeln Sie sie in stündliche Werte mithilfe der resample Funktion um, wobei Sie die Werte aufsummieren. Speichern sie die neue Zeitreihe in einer Variable."
   ],
   "metadata": {},
   "id": "f36e5259-18e6-4081-9b2d-068c43a05c28"
  },
  {
   "cell_type": "code",
   "source": [
    "ts_df"
   ],
   "metadata": {
    "trusted": true,
    "tags": []
   },
   "execution_count": 24,
   "outputs": [
    {
     "execution_count": 24,
     "output_type": "execute_result",
     "data": {
      "text/plain": "                      Wert\ndatetime                  \n2015-01-01 00:15:00  278.0\n2015-01-01 00:30:00  258.0\n2015-01-01 00:45:00  278.0\n2015-01-01 01:00:00  268.0\n2015-01-01 01:15:00  260.0\n...                    ...\n2015-12-31 23:00:00  204.0\n2015-12-31 23:15:00  220.0\n2015-12-31 23:30:00  206.0\n2015-12-31 23:45:00  224.0\n2015-12-31 00:00:00  208.0\n\n[35044 rows x 1 columns]",
      "text/html": "<div>\n<style scoped>\n    .dataframe tbody tr th:only-of-type {\n        vertical-align: middle;\n    }\n\n    .dataframe tbody tr th {\n        vertical-align: top;\n    }\n\n    .dataframe thead th {\n        text-align: right;\n    }\n</style>\n<table border=\"1\" class=\"dataframe\">\n  <thead>\n    <tr style=\"text-align: right;\">\n      <th></th>\n      <th>Wert</th>\n    </tr>\n    <tr>\n      <th>datetime</th>\n      <th></th>\n    </tr>\n  </thead>\n  <tbody>\n    <tr>\n      <th>2015-01-01 00:15:00</th>\n      <td>278.0</td>\n    </tr>\n    <tr>\n      <th>2015-01-01 00:30:00</th>\n      <td>258.0</td>\n    </tr>\n    <tr>\n      <th>2015-01-01 00:45:00</th>\n      <td>278.0</td>\n    </tr>\n    <tr>\n      <th>2015-01-01 01:00:00</th>\n      <td>268.0</td>\n    </tr>\n    <tr>\n      <th>2015-01-01 01:15:00</th>\n      <td>260.0</td>\n    </tr>\n    <tr>\n      <th>...</th>\n      <td>...</td>\n    </tr>\n    <tr>\n      <th>2015-12-31 23:00:00</th>\n      <td>204.0</td>\n    </tr>\n    <tr>\n      <th>2015-12-31 23:15:00</th>\n      <td>220.0</td>\n    </tr>\n    <tr>\n      <th>2015-12-31 23:30:00</th>\n      <td>206.0</td>\n    </tr>\n    <tr>\n      <th>2015-12-31 23:45:00</th>\n      <td>224.0</td>\n    </tr>\n    <tr>\n      <th>2015-12-31 00:00:00</th>\n      <td>208.0</td>\n    </tr>\n  </tbody>\n</table>\n<p>35044 rows × 1 columns</p>\n</div>"
     },
     "metadata": {}
    }
   ],
   "id": "fe721f7a-c6b0-416c-88ec-41653ce9e560"
  },
  {
   "cell_type": "code",
   "source": [
    "hourly_df = ts_df[ts_df['datetime'].resample(hour, axis= ts_df.index)]"
   ],
   "metadata": {
    "trusted": true,
    "tags": []
   },
   "execution_count": 54,
   "outputs": [
    {
     "traceback": [
      "\u001B[0;31m---------------------------------------------------------------------------\u001B[0m",
      "\u001B[0;31mKeyError\u001B[0m                                  Traceback (most recent call last)",
      "File \u001B[0;32m/srv/conda/envs/notebook/lib/python3.10/site-packages/pandas/core/indexes/base.py:3791\u001B[0m, in \u001B[0;36mIndex.get_loc\u001B[0;34m(self, key)\u001B[0m\n\u001B[1;32m   3790\u001B[0m \u001B[38;5;28;01mtry\u001B[39;00m:\n\u001B[0;32m-> 3791\u001B[0m     \u001B[38;5;28;01mreturn\u001B[39;00m \u001B[38;5;28;43mself\u001B[39;49m\u001B[38;5;241;43m.\u001B[39;49m\u001B[43m_engine\u001B[49m\u001B[38;5;241;43m.\u001B[39;49m\u001B[43mget_loc\u001B[49m\u001B[43m(\u001B[49m\u001B[43mcasted_key\u001B[49m\u001B[43m)\u001B[49m\n\u001B[1;32m   3792\u001B[0m \u001B[38;5;28;01mexcept\u001B[39;00m \u001B[38;5;167;01mKeyError\u001B[39;00m \u001B[38;5;28;01mas\u001B[39;00m err:\n",
      "File \u001B[0;32mindex.pyx:152\u001B[0m, in \u001B[0;36mpandas._libs.index.IndexEngine.get_loc\u001B[0;34m()\u001B[0m\n",
      "File \u001B[0;32mindex.pyx:181\u001B[0m, in \u001B[0;36mpandas._libs.index.IndexEngine.get_loc\u001B[0;34m()\u001B[0m\n",
      "File \u001B[0;32mpandas/_libs/hashtable_class_helper.pxi:7080\u001B[0m, in \u001B[0;36mpandas._libs.hashtable.PyObjectHashTable.get_item\u001B[0;34m()\u001B[0m\n",
      "File \u001B[0;32mpandas/_libs/hashtable_class_helper.pxi:7088\u001B[0m, in \u001B[0;36mpandas._libs.hashtable.PyObjectHashTable.get_item\u001B[0;34m()\u001B[0m\n",
      "\u001B[0;31mKeyError\u001B[0m: 'datetime'",
      "\nThe above exception was the direct cause of the following exception:\n",
      "\u001B[0;31mKeyError\u001B[0m                                  Traceback (most recent call last)",
      "Cell \u001B[0;32mIn[54], line 1\u001B[0m\n\u001B[0;32m----> 1\u001B[0m hourly_df \u001B[38;5;241m=\u001B[39m ts_df[\u001B[43mts_df\u001B[49m\u001B[43m[\u001B[49m\u001B[38;5;124;43m'\u001B[39;49m\u001B[38;5;124;43mdatetime\u001B[39;49m\u001B[38;5;124;43m'\u001B[39;49m\u001B[43m]\u001B[49m\u001B[38;5;241m.\u001B[39mresample(hour, axis\u001B[38;5;241m=\u001B[39m ts_df\u001B[38;5;241m.\u001B[39mindex)]\n",
      "File \u001B[0;32m/srv/conda/envs/notebook/lib/python3.10/site-packages/pandas/core/frame.py:3893\u001B[0m, in \u001B[0;36mDataFrame.__getitem__\u001B[0;34m(self, key)\u001B[0m\n\u001B[1;32m   3891\u001B[0m \u001B[38;5;28;01mif\u001B[39;00m \u001B[38;5;28mself\u001B[39m\u001B[38;5;241m.\u001B[39mcolumns\u001B[38;5;241m.\u001B[39mnlevels \u001B[38;5;241m>\u001B[39m \u001B[38;5;241m1\u001B[39m:\n\u001B[1;32m   3892\u001B[0m     \u001B[38;5;28;01mreturn\u001B[39;00m \u001B[38;5;28mself\u001B[39m\u001B[38;5;241m.\u001B[39m_getitem_multilevel(key)\n\u001B[0;32m-> 3893\u001B[0m indexer \u001B[38;5;241m=\u001B[39m \u001B[38;5;28;43mself\u001B[39;49m\u001B[38;5;241;43m.\u001B[39;49m\u001B[43mcolumns\u001B[49m\u001B[38;5;241;43m.\u001B[39;49m\u001B[43mget_loc\u001B[49m\u001B[43m(\u001B[49m\u001B[43mkey\u001B[49m\u001B[43m)\u001B[49m\n\u001B[1;32m   3894\u001B[0m \u001B[38;5;28;01mif\u001B[39;00m is_integer(indexer):\n\u001B[1;32m   3895\u001B[0m     indexer \u001B[38;5;241m=\u001B[39m [indexer]\n",
      "File \u001B[0;32m/srv/conda/envs/notebook/lib/python3.10/site-packages/pandas/core/indexes/base.py:3798\u001B[0m, in \u001B[0;36mIndex.get_loc\u001B[0;34m(self, key)\u001B[0m\n\u001B[1;32m   3793\u001B[0m     \u001B[38;5;28;01mif\u001B[39;00m \u001B[38;5;28misinstance\u001B[39m(casted_key, \u001B[38;5;28mslice\u001B[39m) \u001B[38;5;129;01mor\u001B[39;00m (\n\u001B[1;32m   3794\u001B[0m         \u001B[38;5;28misinstance\u001B[39m(casted_key, abc\u001B[38;5;241m.\u001B[39mIterable)\n\u001B[1;32m   3795\u001B[0m         \u001B[38;5;129;01mand\u001B[39;00m \u001B[38;5;28many\u001B[39m(\u001B[38;5;28misinstance\u001B[39m(x, \u001B[38;5;28mslice\u001B[39m) \u001B[38;5;28;01mfor\u001B[39;00m x \u001B[38;5;129;01min\u001B[39;00m casted_key)\n\u001B[1;32m   3796\u001B[0m     ):\n\u001B[1;32m   3797\u001B[0m         \u001B[38;5;28;01mraise\u001B[39;00m InvalidIndexError(key)\n\u001B[0;32m-> 3798\u001B[0m     \u001B[38;5;28;01mraise\u001B[39;00m \u001B[38;5;167;01mKeyError\u001B[39;00m(key) \u001B[38;5;28;01mfrom\u001B[39;00m \u001B[38;5;21;01merr\u001B[39;00m\n\u001B[1;32m   3799\u001B[0m \u001B[38;5;28;01mexcept\u001B[39;00m \u001B[38;5;167;01mTypeError\u001B[39;00m:\n\u001B[1;32m   3800\u001B[0m     \u001B[38;5;66;03m# If we have a listlike key, _check_indexing_error will raise\u001B[39;00m\n\u001B[1;32m   3801\u001B[0m     \u001B[38;5;66;03m#  InvalidIndexError. Otherwise we fall through and re-raise\u001B[39;00m\n\u001B[1;32m   3802\u001B[0m     \u001B[38;5;66;03m#  the TypeError.\u001B[39;00m\n\u001B[1;32m   3803\u001B[0m     \u001B[38;5;28mself\u001B[39m\u001B[38;5;241m.\u001B[39m_check_indexing_error(key)\n",
      "\u001B[0;31mKeyError\u001B[0m: 'datetime'"
     ],
     "ename": "KeyError",
     "evalue": "'datetime'",
     "output_type": "error"
    }
   ],
   "id": "3a2ce07f-f1fa-42b0-ab83-e8d1616c95e1"
  },
  {
   "cell_type": "markdown",
   "source": [
    "##### b) [1P] Stellen Sie die Ergebnisse in einem Diagramm dar. (x-Achse = DatetimeIndex, y-Achse = Messwert in kW)"
   ],
   "metadata": {},
   "id": "e38e4151-66a6-4f20-9c82-f2da23b8226a"
  },
  {
   "cell_type": "code",
   "source": [
    "hourly_df.plot(x='DateTimeIndex', y='Messwert in kW')"
   ],
   "metadata": {
    "trusted": true,
    "tags": []
   },
   "execution_count": 33,
   "outputs": [],
   "id": "440ecc56-453f-4b3c-8c10-ae09960d354c"
  },
  {
   "cell_type": "markdown",
   "source": [
    "##### c) [1P] Wandeln Sie nun die vorher erzeugten Stundenwerte in Tageswerte um. Verwenden Sie dabei das Maximum."
   ],
   "metadata": {},
   "id": "0e7a4726-13f9-45e1-9884-ffc9c47a64a3"
  },
  {
   "cell_type": "code",
   "source": [
    "tag_df = hourly_df.Wert.max()"
   ],
   "metadata": {},
   "execution_count": null,
   "outputs": [],
   "id": "6f0235db-4076-4edd-8d41-e0abf04b179b"
  },
  {
   "cell_type": "markdown",
   "source": [
    "##### d) [1P] Stellen Sie nun auch die maximalen Tageswerte in einem Diagramm dar."
   ],
   "metadata": {},
   "id": "f9c6d14f-e0a2-4856-930d-5131dd565ea9"
  },
  {
   "cell_type": "code",
   "source": [
    "tag_df.plot(x='datetime', y='Wert')"
   ],
   "metadata": {},
   "execution_count": null,
   "outputs": [],
   "id": "0703b3cc-22a5-4919-8321-fcfe70eec341"
  },
  {
   "cell_type": "markdown",
   "source": [
    "#### Aufgabe 3: Geodaten und Koordinatensysteme [4P]"
   ],
   "metadata": {},
   "id": "74119150-6ecf-4e09-b884-fd3d8cfae326"
  },
  {
   "cell_type": "markdown",
   "source": [
    "##### Laden Sie nun den Geodatensatz mit den NUTS-Regionen Europas ('NUTS_RG_01M_2016_3035_LEVL_3.geojson' im 'input' Ordner)"
   ],
   "metadata": {
    "tags": []
   },
   "id": "070af873-de81-4e9a-a9a8-6d3952d91398"
  },
  {
   "cell_type": "code",
   "source": [
    "# Datenimport - bitte nicht abwandeln\n",
    "gdf = gpd.read_file('input/NUTS_RG_01M_2016_3035_LEVL_3.geojson')"
   ],
   "metadata": {
    "trusted": true,
    "tags": []
   },
   "execution_count": 44,
   "outputs": [],
   "id": "4ae09e4f-7bc1-42e4-8233-694612ba837a"
  },
  {
   "cell_type": "code",
   "source": [],
   "metadata": {
    "trusted": true,
    "tags": []
   },
   "execution_count": null,
   "outputs": [],
   "id": "bb8a0280-91c1-46a5-af65-984a6289b216"
  },
  {
   "cell_type": "markdown",
   "source": [
    "##### a) [1P] In welchem Korrdinatensystem liegen die Daten vor?"
   ],
   "metadata": {},
   "id": "113e8771-1e84-43e6-9204-c5e4ab103fda"
  },
  {
   "cell_type": "code",
   "source": [
    "gdf.crs"
   ],
   "metadata": {
    "trusted": true,
    "tags": []
   },
   "execution_count": 45,
   "outputs": [
    {
     "execution_count": 45,
     "output_type": "execute_result",
     "data": {
      "text/plain": "<Projected CRS: EPSG:3035>\nName: ETRS89-extended / LAEA Europe\nAxis Info [cartesian]:\n- Y[north]: Northing (metre)\n- X[east]: Easting (metre)\nArea of Use:\n- name: Europe - European Union (EU) countries and candidates. Europe - onshore and offshore: Albania; Andorra; Austria; Belgium; Bosnia and Herzegovina; Bulgaria; Croatia; Cyprus; Czechia; Denmark; Estonia; Faroe Islands; Finland; France; Germany; Gibraltar; Greece; Hungary; Iceland; Ireland; Italy; Kosovo; Latvia; Liechtenstein; Lithuania; Luxembourg; Malta; Monaco; Montenegro; Netherlands; North Macedonia; Norway including Svalbard and Jan Mayen; Poland; Portugal including Madeira and Azores; Romania; San Marino; Serbia; Slovakia; Slovenia; Spain including Canary Islands; Sweden; Switzerland; Türkiye (Turkey); United Kingdom (UK) including Channel Islands and Isle of Man; Vatican City State.\n- bounds: (-35.58, 24.6, 44.83, 84.73)\nCoordinate Operation:\n- name: Europe Equal Area 2001\n- method: Lambert Azimuthal Equal Area\nDatum: European Terrestrial Reference System 1989 ensemble\n- Ellipsoid: GRS 1980\n- Prime Meridian: Greenwich"
     },
     "metadata": {}
    }
   ],
   "id": "3f85f323-070c-4d9a-88a1-b4c6d2eee1a5"
  },
  {
   "cell_type": "markdown",
   "source": [
    "##### b) [1P] Wandeln Sie die Koordinaten in Längen- und Breitengrade um (EPSG:4326) und speichern Sie das Ergebnis in einer Variable. "
   ],
   "metadata": {},
   "id": "8f37a76f-c358-4133-ade7-11924a23875f"
  },
  {
   "cell_type": "code",
   "source": [
    "deg_gdf = gdf.to_crs(crs=4326)"
   ],
   "metadata": {
    "trusted": true,
    "tags": []
   },
   "execution_count": 48,
   "outputs": [],
   "id": "24552041-c2a2-4053-be6a-66e2e2391115"
  },
  {
   "cell_type": "markdown",
   "source": [
    "##### c) [1P] Filtern Sie die Daten nach Italien und Österreich (IT, AT)"
   ],
   "metadata": {},
   "id": "80752de6-c397-4469-8703-88afc6d16e9e"
  },
  {
   "cell_type": "code",
   "source": [
    "IT_AT = deg_gdf[(deg_gdf['CNTR_CODE']=='IT') | (deg_gdf['CNTR_CODE']=='AT')]"
   ],
   "metadata": {
    "trusted": true,
    "tags": []
   },
   "execution_count": 51,
   "outputs": [],
   "id": "216e1e89-2947-4396-8072-3cf0fd832274"
  },
  {
   "cell_type": "markdown",
   "source": [
    "##### d) [1P] Zeigen Sie die Geodaten für die beiden Länder als Karte an. "
   ],
   "metadata": {
    "tags": []
   },
   "id": "b885d08b-c856-4c4b-9ead-9e7972feb980"
  },
  {
   "cell_type": "code",
   "source": [
    "IT_AT.plot()"
   ],
   "metadata": {
    "trusted": true,
    "tags": []
   },
   "execution_count": 52,
   "outputs": [
    {
     "execution_count": 52,
     "output_type": "execute_result",
     "data": {
      "text/plain": "<Axes: >"
     },
     "metadata": {}
    },
    {
     "output_type": "display_data",
     "data": {
      "text/plain": "<Figure size 640x480 with 1 Axes>",
      "image/png": "[encoded data removed]"
     },
     "metadata": {}
    }
   ],
   "id": "1ab73c14-2ecc-4028-a0ac-cdf4d5c8edf2"
  },
  {
   "cell_type": "markdown",
   "source": [
    "### Bitte nutzen Sie den Binder Download Button oben um das Jupyter Notebook (.ipynb Datei) zu speichern und laden Sie es anschließend bei ISIS hoch"
   ],
   "metadata": {},
   "id": "0ef61c52-38c9-4601-916e-e0c9f7fd4583"
  }
 ]
}
