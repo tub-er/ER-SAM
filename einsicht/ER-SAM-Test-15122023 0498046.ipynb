{
 "metadata": {
  "kernelspec": {
   "display_name": "Python 3 (ipykernel)",
   "language": "python",
   "name": "python3"
  },
  "language_info": {
   "name": "python",
   "version": "3.10.12",
   "mimetype": "text/x-python",
   "codemirror_mode": {
    "name": "ipython",
    "version": 3
   },
   "pygments_lexer": "ipython3",
   "nbconvert_exporter": "python",
   "file_extension": ".py"
  }
 },
 "nbformat_minor": 5,
 "nbformat": 4,
 "cells": [
  {
   "cell_type": "markdown",
   "source": [
    "# ER-SAM Test vom 15.12.2023"
   ],
   "metadata": {},
   "id": "534d85bb-06da-413e-8cd4-555c1b47fb1c"
  },
  {
   "cell_type": "markdown",
   "source": [
    "#### Bitte schreiben Sie Ihren Namen und Ihre Matrikelnummer in die folgende Zelle:"
   ],
   "metadata": {},
   "id": "1d973bc8-d3d9-43f7-9ff5-61d732490d62"
  },
  {
   "cell_type": "code",
   "source": [
    "# Name: Yosser Jemaa\n",
    "# Matriculation number: 0498046"
   ],
   "metadata": {},
   "execution_count": 1,
   "outputs": [],
   "id": "e70a1169-7be7-409f-83ca-f99a042220bd"
  },
  {
   "cell_type": "markdown",
   "source": [
    "#### Durchführung\n",
    "Der Python-Teil des Tests beinhaltet 20 Punkte.\n",
    "\n",
    "Sie erhalten zusätzlich Zeit, um die Excel und Python Aufgaben herunterzuladen, zu öffnen und schließlich wieder bei ISIS hochzuladen. \n",
    "\n",
    "Bitte bearbeiten Sie alle Aufgaben in den dafür vorgesehenen Zellen bzw. fügen Sie wenn nötig zusätzliche Zellen an den entsprechenden Stellen ein. Lassen Sie die Aufgabenstellungen bitte so stehen wie sie sind. \n",
    "\n",
    "In Python und Pandas gibt es häufig unterschiedliche Wege eine Aufgabe zu lösen. Sie sind daher in der Wahl des Lösungswegs frei. \n",
    "\n",
    "Nachdem Sie alle Fragen beantwortet haben, vergewissern Sie sich bitte, dass alle Outputs sichtbar sind bzw. alle Zellen ausgeführt wurden. Dann nutzen Sie bitte den Download Button oben um das Notebook herunterzuladen und laden Sie die .ipynb Datei so wie sie ist auf ISIS hoch. Danach würden wir Sie bitten die Datei von Ihren privaten PCs zu löschen. \n",
    "\n",
    "Viel Erfolg!"
   ],
   "metadata": {},
   "id": "50c3ebe3-8c08-4059-9249-f8de4b7c3819"
  },
  {
   "cell_type": "code",
   "source": [
    "# Gegebenenfalls müssen Sie noch pandas etc. installieren... \n",
    "!pip install pandas\n",
    "!pip install geopandas\n",
    "!pip install matplotlib\n",
    "!pip install openpyxl\n",
    "# Importieren Sie pandas und matplotlib\n",
    "import pandas as pd\n",
    "import geopandas as gpd\n",
    "import matplotlib.pyplot as plt"
   ],
   "metadata": {
    "tags": [],
    "scrolled": true,
    "trusted": true
   },
   "execution_count": 33,
   "outputs": [
    {
     "name": "stdout",
     "text": "Requirement already satisfied: pandas in /srv/conda/envs/notebook/lib/python3.10/site-packages (2.1.4)\nRequirement already satisfied: numpy<2,>=1.22.4 in /srv/conda/envs/notebook/lib/python3.10/site-packages (from pandas) (1.26.2)\nRequirement already satisfied: python-dateutil>=2.8.2 in /srv/conda/envs/notebook/lib/python3.10/site-packages (from pandas) (2.8.2)\nRequirement already satisfied: pytz>=2020.1 in /srv/conda/envs/notebook/lib/python3.10/site-packages (from pandas) (2023.3.post1)\nRequirement already satisfied: tzdata>=2022.1 in /srv/conda/envs/notebook/lib/python3.10/site-packages (from pandas) (2023.3)\nRequirement already satisfied: six>=1.5 in /srv/conda/envs/notebook/lib/python3.10/site-packages (from python-dateutil>=2.8.2->pandas) (1.16.0)\nRequirement already satisfied: geopandas in /srv/conda/envs/notebook/lib/python3.10/site-packages (0.14.1)\nRequirement already satisfied: fiona>=1.8.21 in /srv/conda/envs/notebook/lib/python3.10/site-packages (from geopandas) (1.9.5)\nRequirement already satisfied: packaging in /srv/conda/envs/notebook/lib/python3.10/site-packages (from geopandas) (23.2)\nRequirement already satisfied: pandas>=1.4.0 in /srv/conda/envs/notebook/lib/python3.10/site-packages (from geopandas) (2.1.4)\nRequirement already satisfied: pyproj>=3.3.0 in /srv/conda/envs/notebook/lib/python3.10/site-packages (from geopandas) (3.6.1)\nRequirement already satisfied: shapely>=1.8.0 in /srv/conda/envs/notebook/lib/python3.10/site-packages (from geopandas) (2.0.2)\nRequirement already satisfied: attrs>=19.2.0 in /srv/conda/envs/notebook/lib/python3.10/site-packages (from fiona>=1.8.21->geopandas) (23.1.0)\nRequirement already satisfied: certifi in /srv/conda/envs/notebook/lib/python3.10/site-packages (from fiona>=1.8.21->geopandas) (2023.7.22)\nRequirement already satisfied: click~=8.0 in /srv/conda/envs/notebook/lib/python3.10/site-packages (from fiona>=1.8.21->geopandas) (8.1.7)\nRequirement already satisfied: click-plugins>=1.0 in /srv/conda/envs/notebook/lib/python3.10/site-packages (from fiona>=1.8.21->geopandas) (1.1.1)\nRequirement already satisfied: cligj>=0.5 in /srv/conda/envs/notebook/lib/python3.10/site-packages (from fiona>=1.8.21->geopandas) (0.7.2)\nRequirement already satisfied: six in /srv/conda/envs/notebook/lib/python3.10/site-packages (from fiona>=1.8.21->geopandas) (1.16.0)\nRequirement already satisfied: setuptools in /srv/conda/envs/notebook/lib/python3.10/site-packages (from fiona>=1.8.21->geopandas) (68.2.2)\nRequirement already satisfied: numpy<2,>=1.22.4 in /srv/conda/envs/notebook/lib/python3.10/site-packages (from pandas>=1.4.0->geopandas) (1.26.2)\nRequirement already satisfied: python-dateutil>=2.8.2 in /srv/conda/envs/notebook/lib/python3.10/site-packages (from pandas>=1.4.0->geopandas) (2.8.2)\nRequirement already satisfied: pytz>=2020.1 in /srv/conda/envs/notebook/lib/python3.10/site-packages (from pandas>=1.4.0->geopandas) (2023.3.post1)\nRequirement already satisfied: tzdata>=2022.1 in /srv/conda/envs/notebook/lib/python3.10/site-packages (from pandas>=1.4.0->geopandas) (2023.3)\nRequirement already satisfied: matplotlib in /srv/conda/envs/notebook/lib/python3.10/site-packages (3.8.2)\nRequirement already satisfied: contourpy>=1.0.1 in /srv/conda/envs/notebook/lib/python3.10/site-packages (from matplotlib) (1.2.0)\nRequirement already satisfied: cycler>=0.10 in /srv/conda/envs/notebook/lib/python3.10/site-packages (from matplotlib) (0.12.1)\nRequirement already satisfied: fonttools>=4.22.0 in /srv/conda/envs/notebook/lib/python3.10/site-packages (from matplotlib) (4.46.0)\nRequirement already satisfied: kiwisolver>=1.3.1 in /srv/conda/envs/notebook/lib/python3.10/site-packages (from matplotlib) (1.4.5)\nRequirement already satisfied: numpy<2,>=1.21 in /srv/conda/envs/notebook/lib/python3.10/site-packages (from matplotlib) (1.26.2)\nRequirement already satisfied: packaging>=20.0 in /srv/conda/envs/notebook/lib/python3.10/site-packages (from matplotlib) (23.2)\nRequirement already satisfied: pillow>=8 in /srv/conda/envs/notebook/lib/python3.10/site-packages (from matplotlib) (10.1.0)\nRequirement already satisfied: pyparsing>=2.3.1 in /srv/conda/envs/notebook/lib/python3.10/site-packages (from matplotlib) (3.1.1)\nRequirement already satisfied: python-dateutil>=2.7 in /srv/conda/envs/notebook/lib/python3.10/site-packages (from matplotlib) (2.8.2)\nRequirement already satisfied: six>=1.5 in /srv/conda/envs/notebook/lib/python3.10/site-packages (from python-dateutil>=2.7->matplotlib) (1.16.0)\nRequirement already satisfied: openpyxl in /srv/conda/envs/notebook/lib/python3.10/site-packages (3.1.2)\nRequirement already satisfied: et-xmlfile in /srv/conda/envs/notebook/lib/python3.10/site-packages (from openpyxl) (1.1.0)\n",
     "output_type": "stream"
    }
   ],
   "id": "2ed64f0b-e8bf-476c-af6a-d2730c6c5b80"
  },
  {
   "cell_type": "markdown",
   "source": [
    "### Aufgabe 1: Relevante Daten aus einem Datensatz auslesen und darstellen. [12P]"
   ],
   "metadata": {},
   "id": "5de44db6-dbe3-4f7f-b663-f7b198aae78a"
  },
  {
   "cell_type": "markdown",
   "source": [
    "##### Laden Sie das \"Anlagenregister\" (\"2018_09_Veroeff_RegDaten.csv\" im \"input\" Ordner) in einen Pandas Dataframe"
   ],
   "metadata": {},
   "id": "98ea2174-ed77-41ab-9edb-b26ad3e730bc"
  },
  {
   "cell_type": "code",
   "source": [
    "# Datenimport - nicht abwandeln\n",
    "df = pd.read_excel('input/2018_11_Veroeff_RegDaten.xlsx')"
   ],
   "metadata": {
    "trusted": true,
    "tags": []
   },
   "execution_count": 34,
   "outputs": [],
   "id": "234091b6-6ded-4737-9e25-300b7c6c4e52"
  },
  {
   "cell_type": "code",
   "source": [
    "df"
   ],
   "metadata": {
    "trusted": true,
    "tags": []
   },
   "execution_count": 35,
   "outputs": [
    {
     "execution_count": 35,
     "output_type": "execute_result",
     "data": {
      "text/plain": "      Meldedatum                                      Meldegrund  \\\n0     2014-08-07  Erstmalige Inanspruchnahme Flexibilitätsprämie   \n1     2014-08-12  Erstmalige Inanspruchnahme Flexibilitätsprämie   \n2     2014-08-13                                  Inbetriebnahme   \n3     2014-08-13  Erstmalige Inanspruchnahme Flexibilitätsprämie   \n4     2014-08-14                                  Inbetriebnahme   \n...          ...                                             ...   \n22380 2018-11-30               Verlängerung der Anfangsvergütung   \n22381 2018-11-30  Erstmalige Inanspruchnahme Flexibilitätsprämie   \n22382 2018-11-30                                  Inbetriebnahme   \n22383 2018-11-30               Verlängerung der Anfangsvergütung   \n22384 2018-11-30                                  Inbetriebnahme   \n\n        Anlagennummer           1.8 EEG-Anlagenschlüssel  \\\n0      A8717175168023  E2187801S120000000000022166200001   \n1      A7538358802104  E2104101S160000000000037934700001   \n2      A3217442210103  E2104101S000000000000063901400001   \n3      A9393173813098  E21865011000000000100002866200001   \n4      A6528756510139  E2325401HRA0000000SNWDE0000100007   \n...               ...                                ...   \n22380  A8736610240131  E2079303S120000000000020976800002   \n22381  A8758440240259                                NaN   \n22382  A9195160162529                                NaN   \n22383  A9382890240171  E4045001ALTENTREPTOW0126004500000   \n22384  A9429550240161                                NaN   \n\n      3.1 Genehmigungs-datum                  3.2 Genehmigungs-behörde  \\\n0                 2011-06-16                              LK Oldenburg   \n1                        NaT                                       NaN   \n2                 2011-12-20          Landratsamt Berchtesgadener Land   \n3                 2006-01-02                                 RP Kassel   \n4                 2013-03-12                      Landratsamt Bayreuth   \n...                      ...                                       ...   \n22380                    NaT                                       NaN   \n22381                    NaT                                       NaN   \n22382             2017-03-07  Landkreis Osnabrück FD6 Immissionsschutz   \n22383                    NaT                                       NaN   \n22384             2018-09-18                     Landkreis Wesermarsch   \n\n      3.3 Genehmigungs-Aktenzeichen 3.4 Geplantes Inbetriebnahme-datum  \\\n0                         946-11-06                                NaN   \n1                               NaN                                NaN   \n2               322.0/6430.02-40046                2014-08-11 00:00:00   \n3                  DE06 633 0015 11                2014-12-01 00:00:00   \n4                         4/44-1705                2014-08-12 00:00:00   \n...                             ...                                ...   \n22380                           NaN                                NaN   \n22381                           NaN                                NaN   \n22382               FD6-11-03177-16                2018-04-01 00:00:00   \n22383                           NaN                                NaN   \n22384        63-52.10 / 00403-18-01                2018-11-30 00:00:00   \n\n      3.5 Errichtungs-frist 4.1 Energieträger  ...  \\\n0                       NaT          Biomasse  ...   \n1                       NaT          Biomasse  ...   \n2                       NaT       Wasserkraft  ...   \n3                       NaT          Biomasse  ...   \n4                       NaT         Wind Land  ...   \n...                     ...               ...  ...   \n22380                   NaT         Wind Land  ...   \n22381                   NaT          Biomasse  ...   \n22382            2020-04-07         Wind Land  ...   \n22383                   NaT         Wind Land  ...   \n22384                   NaT         Wind Land  ...   \n\n       7.8.3 Küstenentfernung [km]  \\\n0                              NaN   \n1                              NaN   \n2                              NaN   \n3                              NaN   \n4                              NaN   \n...                            ...   \n22380                          NaN   \n22381                          NaN   \n22382                          NaN   \n22383                          NaN   \n22384                          NaN   \n\n       7.9 Pilotwindanlage\\n(neue Spalte seit EEG2017)  \\\n0                                                  NaN   \n1                                                  NaN   \n2                                                  NaN   \n3                                                  NaN   \n4                                                  NaN   \n...                                                ...   \n22380                                             Nein   \n22381                                              NaN   \n22382                                             Nein   \n22383                                             Nein   \n22384                                             Nein   \n\n       8.1 Ertüchtigung Wasserkraftanlage 8.2 Art der Ertüchtigung  \\\n0                                     NaN                      NaN   \n1                                     NaN                      NaN   \n2                                    Nein                      NaN   \n3                                     NaN                      NaN   \n4                                     NaN                      NaN   \n...                                   ...                      ...   \n22380                                 NaN                      NaN   \n22381                                 NaN                      NaN   \n22382                                 NaN                      NaN   \n22383                                 NaN                      NaN   \n22384                                 NaN                      NaN   \n\n      8.3 Zulassungspflichtige Maßnahme 8.4. HöheLeistungs-steigerung [%]  \\\n0                                   NaN                               NaN   \n1                                   NaN                               NaN   \n2                                   NaN                               NaN   \n3                                   NaN                               NaN   \n4                                   NaN                               NaN   \n...                                 ...                               ...   \n22380                               NaN                               NaN   \n22381                               NaN                               NaN   \n22382                               NaN                               NaN   \n22383                               NaN                               NaN   \n22384                               NaN                               NaN   \n\n       8.5 Datum der Ertüchtigung 9.1 Zuschlagnummer PV-Freifläche  \\\n0                             NaT                              NaN   \n1                             NaT                              NaN   \n2                             NaT                              NaN   \n3                             NaT                              NaN   \n4                             NaT                              NaN   \n...                           ...                              ...   \n22380                         NaT                              NaN   \n22381                         NaT                              NaN   \n22382                         NaT                              NaN   \n22383                         NaT                              NaN   \n22384                         NaT                              NaN   \n\n      9.2 Wie viel Fläche wird durch die PV-Freiflächenanlage in Anspruch genommen? [ha]   \\\n0                                                    NaN                                    \n1                                                    NaN                                    \n2                                                    NaN                                    \n3                                                    NaN                                    \n4                                                    NaN                                    \n...                                                  ...                                    \n22380                                                NaN                                    \n22381                                                NaN                                    \n22382                                                NaN                                    \n22383                                                NaN                                    \n22384                                                NaN                                    \n\n      9.3 Wie viel der PV-Freifläche ist davon Ackerland? [ha]   \n0                                                    NaN         \n1                                                    NaN         \n2                                                    NaN         \n3                                                    NaN         \n4                                                    NaN         \n...                                                  ...         \n22380                                                NaN         \n22381                                                NaN         \n22382                                                NaN         \n22383                                                NaN         \n22384                                                NaN         \n\n[22385 rows x 73 columns]",
      "text/html": "<div>\n<style scoped>\n    .dataframe tbody tr th:only-of-type {\n        vertical-align: middle;\n    }\n\n    .dataframe tbody tr th {\n        vertical-align: top;\n    }\n\n    .dataframe thead th {\n        text-align: right;\n    }\n</style>\n<table border=\"1\" class=\"dataframe\">\n  <thead>\n    <tr style=\"text-align: right;\">\n      <th></th>\n      <th>Meldedatum</th>\n      <th>Meldegrund</th>\n      <th>Anlagennummer</th>\n      <th>1.8 EEG-Anlagenschlüssel</th>\n      <th>3.1 Genehmigungs-datum</th>\n      <th>3.2 Genehmigungs-behörde</th>\n      <th>3.3 Genehmigungs-Aktenzeichen</th>\n      <th>3.4 Geplantes Inbetriebnahme-datum</th>\n      <th>3.5 Errichtungs-frist</th>\n      <th>4.1 Energieträger</th>\n      <th>...</th>\n      <th>7.8.3 Küstenentfernung [km]</th>\n      <th>7.9 Pilotwindanlage\\n(neue Spalte seit EEG2017)</th>\n      <th>8.1 Ertüchtigung Wasserkraftanlage</th>\n      <th>8.2 Art der Ertüchtigung</th>\n      <th>8.3 Zulassungspflichtige Maßnahme</th>\n      <th>8.4. HöheLeistungs-steigerung [%]</th>\n      <th>8.5 Datum der Ertüchtigung</th>\n      <th>9.1 Zuschlagnummer PV-Freifläche</th>\n      <th>9.2 Wie viel Fläche wird durch die PV-Freiflächenanlage in Anspruch genommen? [ha]</th>\n      <th>9.3 Wie viel der PV-Freifläche ist davon Ackerland? [ha]</th>\n    </tr>\n  </thead>\n  <tbody>\n    <tr>\n      <th>0</th>\n      <td>2014-08-07</td>\n      <td>Erstmalige Inanspruchnahme Flexibilitätsprämie</td>\n      <td>A8717175168023</td>\n      <td>E2187801S120000000000022166200001</td>\n      <td>2011-06-16</td>\n      <td>LK Oldenburg</td>\n      <td>946-11-06</td>\n      <td>NaN</td>\n      <td>NaT</td>\n      <td>Biomasse</td>\n      <td>...</td>\n      <td>NaN</td>\n      <td>NaN</td>\n      <td>NaN</td>\n      <td>NaN</td>\n      <td>NaN</td>\n      <td>NaN</td>\n      <td>NaT</td>\n      <td>NaN</td>\n      <td>NaN</td>\n      <td>NaN</td>\n    </tr>\n    <tr>\n      <th>1</th>\n      <td>2014-08-12</td>\n      <td>Erstmalige Inanspruchnahme Flexibilitätsprämie</td>\n      <td>A7538358802104</td>\n      <td>E2104101S160000000000037934700001</td>\n      <td>NaT</td>\n      <td>NaN</td>\n      <td>NaN</td>\n      <td>NaN</td>\n      <td>NaT</td>\n      <td>Biomasse</td>\n      <td>...</td>\n      <td>NaN</td>\n      <td>NaN</td>\n      <td>NaN</td>\n      <td>NaN</td>\n      <td>NaN</td>\n      <td>NaN</td>\n      <td>NaT</td>\n      <td>NaN</td>\n      <td>NaN</td>\n      <td>NaN</td>\n    </tr>\n    <tr>\n      <th>2</th>\n      <td>2014-08-13</td>\n      <td>Inbetriebnahme</td>\n      <td>A3217442210103</td>\n      <td>E2104101S000000000000063901400001</td>\n      <td>2011-12-20</td>\n      <td>Landratsamt Berchtesgadener Land</td>\n      <td>322.0/6430.02-40046</td>\n      <td>2014-08-11 00:00:00</td>\n      <td>NaT</td>\n      <td>Wasserkraft</td>\n      <td>...</td>\n      <td>NaN</td>\n      <td>NaN</td>\n      <td>Nein</td>\n      <td>NaN</td>\n      <td>NaN</td>\n      <td>NaN</td>\n      <td>NaT</td>\n      <td>NaN</td>\n      <td>NaN</td>\n      <td>NaN</td>\n    </tr>\n    <tr>\n      <th>3</th>\n      <td>2014-08-13</td>\n      <td>Erstmalige Inanspruchnahme Flexibilitätsprämie</td>\n      <td>A9393173813098</td>\n      <td>E21865011000000000100002866200001</td>\n      <td>2006-01-02</td>\n      <td>RP Kassel</td>\n      <td>DE06 633 0015 11</td>\n      <td>2014-12-01 00:00:00</td>\n      <td>NaT</td>\n      <td>Biomasse</td>\n      <td>...</td>\n      <td>NaN</td>\n      <td>NaN</td>\n      <td>NaN</td>\n      <td>NaN</td>\n      <td>NaN</td>\n      <td>NaN</td>\n      <td>NaT</td>\n      <td>NaN</td>\n      <td>NaN</td>\n      <td>NaN</td>\n    </tr>\n    <tr>\n      <th>4</th>\n      <td>2014-08-14</td>\n      <td>Inbetriebnahme</td>\n      <td>A6528756510139</td>\n      <td>E2325401HRA0000000SNWDE0000100007</td>\n      <td>2013-03-12</td>\n      <td>Landratsamt Bayreuth</td>\n      <td>4/44-1705</td>\n      <td>2014-08-12 00:00:00</td>\n      <td>NaT</td>\n      <td>Wind Land</td>\n      <td>...</td>\n      <td>NaN</td>\n      <td>NaN</td>\n      <td>NaN</td>\n      <td>NaN</td>\n      <td>NaN</td>\n      <td>NaN</td>\n      <td>NaT</td>\n      <td>NaN</td>\n      <td>NaN</td>\n      <td>NaN</td>\n    </tr>\n    <tr>\n      <th>...</th>\n      <td>...</td>\n      <td>...</td>\n      <td>...</td>\n      <td>...</td>\n      <td>...</td>\n      <td>...</td>\n      <td>...</td>\n      <td>...</td>\n      <td>...</td>\n      <td>...</td>\n      <td>...</td>\n      <td>...</td>\n      <td>...</td>\n      <td>...</td>\n      <td>...</td>\n      <td>...</td>\n      <td>...</td>\n      <td>...</td>\n      <td>...</td>\n      <td>...</td>\n      <td>...</td>\n    </tr>\n    <tr>\n      <th>22380</th>\n      <td>2018-11-30</td>\n      <td>Verlängerung der Anfangsvergütung</td>\n      <td>A8736610240131</td>\n      <td>E2079303S120000000000020976800002</td>\n      <td>NaT</td>\n      <td>NaN</td>\n      <td>NaN</td>\n      <td>NaN</td>\n      <td>NaT</td>\n      <td>Wind Land</td>\n      <td>...</td>\n      <td>NaN</td>\n      <td>Nein</td>\n      <td>NaN</td>\n      <td>NaN</td>\n      <td>NaN</td>\n      <td>NaN</td>\n      <td>NaT</td>\n      <td>NaN</td>\n      <td>NaN</td>\n      <td>NaN</td>\n    </tr>\n    <tr>\n      <th>22381</th>\n      <td>2018-11-30</td>\n      <td>Erstmalige Inanspruchnahme Flexibilitätsprämie</td>\n      <td>A8758440240259</td>\n      <td>NaN</td>\n      <td>NaT</td>\n      <td>NaN</td>\n      <td>NaN</td>\n      <td>NaN</td>\n      <td>NaT</td>\n      <td>Biomasse</td>\n      <td>...</td>\n      <td>NaN</td>\n      <td>NaN</td>\n      <td>NaN</td>\n      <td>NaN</td>\n      <td>NaN</td>\n      <td>NaN</td>\n      <td>NaT</td>\n      <td>NaN</td>\n      <td>NaN</td>\n      <td>NaN</td>\n    </tr>\n    <tr>\n      <th>22382</th>\n      <td>2018-11-30</td>\n      <td>Inbetriebnahme</td>\n      <td>A9195160162529</td>\n      <td>NaN</td>\n      <td>2017-03-07</td>\n      <td>Landkreis Osnabrück FD6 Immissionsschutz</td>\n      <td>FD6-11-03177-16</td>\n      <td>2018-04-01 00:00:00</td>\n      <td>2020-04-07</td>\n      <td>Wind Land</td>\n      <td>...</td>\n      <td>NaN</td>\n      <td>Nein</td>\n      <td>NaN</td>\n      <td>NaN</td>\n      <td>NaN</td>\n      <td>NaN</td>\n      <td>NaT</td>\n      <td>NaN</td>\n      <td>NaN</td>\n      <td>NaN</td>\n    </tr>\n    <tr>\n      <th>22383</th>\n      <td>2018-11-30</td>\n      <td>Verlängerung der Anfangsvergütung</td>\n      <td>A9382890240171</td>\n      <td>E4045001ALTENTREPTOW0126004500000</td>\n      <td>NaT</td>\n      <td>NaN</td>\n      <td>NaN</td>\n      <td>NaN</td>\n      <td>NaT</td>\n      <td>Wind Land</td>\n      <td>...</td>\n      <td>NaN</td>\n      <td>Nein</td>\n      <td>NaN</td>\n      <td>NaN</td>\n      <td>NaN</td>\n      <td>NaN</td>\n      <td>NaT</td>\n      <td>NaN</td>\n      <td>NaN</td>\n      <td>NaN</td>\n    </tr>\n    <tr>\n      <th>22384</th>\n      <td>2018-11-30</td>\n      <td>Inbetriebnahme</td>\n      <td>A9429550240161</td>\n      <td>NaN</td>\n      <td>2018-09-18</td>\n      <td>Landkreis Wesermarsch</td>\n      <td>63-52.10 / 00403-18-01</td>\n      <td>2018-11-30 00:00:00</td>\n      <td>NaT</td>\n      <td>Wind Land</td>\n      <td>...</td>\n      <td>NaN</td>\n      <td>Nein</td>\n      <td>NaN</td>\n      <td>NaN</td>\n      <td>NaN</td>\n      <td>NaN</td>\n      <td>NaT</td>\n      <td>NaN</td>\n      <td>NaN</td>\n      <td>NaN</td>\n    </tr>\n  </tbody>\n</table>\n<p>22385 rows × 73 columns</p>\n</div>"
     },
     "metadata": {}
    }
   ],
   "id": "a7955e4d-b2ee-4ab5-a5b7-15fec2963251"
  },
  {
   "cell_type": "markdown",
   "source": [
    "#### a) [3P] Ermitteln Sie die Summe, den Mittelwert und das Maximum der installierten Leistung für jeden Energieträger.\n",
    "Spalten: '4.1 Energieträger', '4.2 Installierte Leistung [kW]'"
   ],
   "metadata": {
    "tags": []
   },
   "id": "a07f807f-e125-4585-8c75-10fd77e04e54"
  },
  {
   "cell_type": "code",
   "source": [
    "# Summe\n",
    "df['4.1 Energieträger']."
   ],
   "metadata": {
    "trusted": true,
    "tags": []
   },
   "execution_count": 36,
   "outputs": [
    {
     "execution_count": 36,
     "output_type": "execute_result",
     "data": {
      "text/plain": "array(['Biomasse', 'Wasserkraft', 'Wind Land', 'Wind See', 'Grubengas',\n       'Klärgas', 'Deponiegas', 'Freifläche PV', 'Geothermie', 'Speicher'],\n      dtype=object)"
     },
     "metadata": {}
    }
   ],
   "id": "eeb5beb3-308f-4e54-9ca6-0a3cb5010d42"
  },
  {
   "cell_type": "code",
   "source": [
    "df['4.2 Installierte Leistung [kW]']"
   ],
   "metadata": {
    "trusted": true,
    "tags": []
   },
   "execution_count": 41,
   "outputs": [
    {
     "execution_count": 41,
     "output_type": "execute_result",
     "data": {
      "text/plain": "0         366.0\n1         380.0\n2           6.0\n3         380.0\n4        3050.0\n          ...  \n22380    3000.0\n22381    1050.0\n22382    4200.0\n22383    7580.0\n22384      10.0\nName: 4.2 Installierte Leistung [kW], Length: 22385, dtype: float64"
     },
     "metadata": {}
    }
   ],
   "id": "0c53f92a-e074-4863-8e77-464a1ece6c4e"
  },
  {
   "cell_type": "code",
   "source": [
    "# Mittelwert\n",
    "df['4.2 Installierte Leistung [kW]'].median()"
   ],
   "metadata": {
    "trusted": true,
    "tags": []
   },
   "execution_count": 16,
   "outputs": [
    {
     "execution_count": 16,
     "output_type": "execute_result",
     "data": {
      "text/plain": "2000.0"
     },
     "metadata": {}
    }
   ],
   "id": "98d66c10-da44-4167-952b-d89e8b81132b"
  },
  {
   "cell_type": "code",
   "source": [
    "# Maximum\n",
    "df['4.2 Installierte Leistung [kW]'].max()"
   ],
   "metadata": {
    "trusted": true,
    "tags": []
   },
   "execution_count": 15,
   "outputs": [
    {
     "execution_count": 15,
     "output_type": "execute_result",
     "data": {
      "text/plain": "22000.0"
     },
     "metadata": {}
    }
   ],
   "id": "5c289723-7117-45a0-841e-786747cbda67"
  },
  {
   "cell_type": "markdown",
   "source": [
    "##### b) [3P] Ermitteln Sie die Summe, den Mittelwert und das Maximum der installierten Leistung für jedes Bundesland.\n",
    "Spalten: '4.11 Bundesland', '4.2 Installierte Leistung [kW]'"
   ],
   "metadata": {},
   "id": "8399612a-023f-4fda-84cd-3f816ba04822"
  },
  {
   "cell_type": "code",
   "source": [
    "# Summe\n",
    "df['4.11 Bundesland'].unique()"
   ],
   "metadata": {
    "trusted": true,
    "tags": []
   },
   "execution_count": 44,
   "outputs": [
    {
     "execution_count": 44,
     "output_type": "execute_result",
     "data": {
      "text/plain": "array(['Niedersachsen', 'Bayern', 'Hessen', 'Nordrhein-Westfalen',\n       'Schleswig-Holstein', 'Mecklenburg-Vorpommern', 'Rheinland-Pfalz',\n       'Thüringen', 'Sachsen-Anhalt', 'Sachsen', 'Brandenburg',\n       'Saarland', 'Baden-Württemberg', 'Hamburg',\n       'Ausschließliche Wirtschaftszone (Wind See)', 'Berlin', 'Bremen',\n       nan], dtype=object)"
     },
     "metadata": {}
    }
   ],
   "id": "da60f9c7-7700-4e9c-b7ab-6815b2a55b4f"
  },
  {
   "cell_type": "code",
   "source": [
    "# Mittelwert\n"
   ],
   "metadata": {},
   "execution_count": 8,
   "outputs": [],
   "id": "f0a45d2d-021d-4874-9582-6b36b68b12b8"
  },
  {
   "cell_type": "code",
   "source": [
    "# Maximum\n"
   ],
   "metadata": {},
   "execution_count": 9,
   "outputs": [],
   "id": "7a469425-e8b7-443f-ba7b-9bb8bd6f024f"
  },
  {
   "cell_type": "markdown",
   "source": [
    "##### c) [6P] Ermitteln Sie den prozentualen Anteil der Fläche für PV-Anlagen, die auf Ackerland stehen. Unterscheiden Sie hierbei nach Bundesländern. Stellen Sie Ihre Ergebnisse (Anteil Ackerfläche PV / Fläche PV pro Bundesland) in einem Balkendiagramm dar (plot.bar()). \n",
    "Die folgenden Spalten sind für die Aufgabe relevant:\n",
    "- '9.2 Wie viel Fläche wird durch die PV-Freiflächenanlage in Anspruch genommen? [ha] '\n",
    "- '9.3 Wie viel der PV-Freifläche ist davon Ackerland? [ha] '\n",
    "- '4.11 Bundesland'"
   ],
   "metadata": {
    "tags": []
   },
   "id": "3934fc2b-81db-43d2-b2fd-970c70491ab3"
  },
  {
   "cell_type": "code",
   "source": [
    "# PV-Fläche pro Bundesland \n"
   ],
   "metadata": {},
   "execution_count": 10,
   "outputs": [],
   "id": "fedac823-ac69-4a34-8443-86bdedda3368"
  },
  {
   "cell_type": "code",
   "source": [
    "# PV-Ackerland pro Bundesland \n"
   ],
   "metadata": {},
   "execution_count": 11,
   "outputs": [],
   "id": "2cbee9c7-1250-4dda-a33b-7de195cbf917"
  },
  {
   "cell_type": "code",
   "source": [
    "# prozentualer Anteil\n"
   ],
   "metadata": {},
   "execution_count": 12,
   "outputs": [],
   "id": "9747f6e8-7b29-452c-8c3f-bde388d6b69e"
  },
  {
   "cell_type": "code",
   "source": [
    "# Balkendiagramm\n"
   ],
   "metadata": {},
   "execution_count": 13,
   "outputs": [],
   "id": "47431bfa-e6ee-4a72-a054-5448132a6509"
  },
  {
   "cell_type": "markdown",
   "source": [
    "### Aufgabe 2: Zeitreihendaten umwandeln und darstellen. [4P]"
   ],
   "metadata": {},
   "id": "3a7abf67-e1e8-47e2-8147-d62fe7f75c25"
  },
  {
   "cell_type": "markdown",
   "source": [
    "##### Laden Sie das Lastprofil (\"Messwertexport_2015.csv\" im 'input' Ordner) in einen Pandas Dataframe. Nutzen Sie dafür den vorgegebenen Code."
   ],
   "metadata": {
    "tags": []
   },
   "id": "5135c7b1-df6b-4c2f-807e-185b875783eb"
  },
  {
   "cell_type": "code",
   "source": [
    "# Datenimport - nicht abwandeln\n",
    "ts_df = pd.read_csv('input/Messwertexport_2015.csv', sep=';', \n",
    "                      decimal=',',parse_dates={'datetime':['[kW]','Attribut']})\n",
    "ts_df.set_index(pd.DatetimeIndex(ts_df.datetime), inplace=True)\n",
    "ts_df.drop(columns=['datetime'], inplace=True)"
   ],
   "metadata": {
    "trusted": true,
    "tags": []
   },
   "execution_count": 45,
   "outputs": [],
   "id": "5e10b4c9-2ccd-4357-bb53-25d6e1baa816"
  },
  {
   "cell_type": "markdown",
   "source": [
    "##### a) [1P] Die Daten liegen in viertelstündlichen Werten vor. Wandeln Sie sie in stündliche Werte mithilfe der resample Funktion um, wobei Sie die Werte aufsummieren. Speichern sie die neue Zeitreihe in einer Variable."
   ],
   "metadata": {},
   "id": "f36e5259-18e6-4081-9b2d-068c43a05c28"
  },
  {
   "cell_type": "code",
   "source": [
    "ts_df"
   ],
   "metadata": {
    "trusted": true,
    "tags": []
   },
   "execution_count": 46,
   "outputs": [
    {
     "execution_count": 46,
     "output_type": "execute_result",
     "data": {
      "text/plain": "                      Wert\ndatetime                  \n2015-01-01 00:15:00  278.0\n2015-01-01 00:30:00  258.0\n2015-01-01 00:45:00  278.0\n2015-01-01 01:00:00  268.0\n2015-01-01 01:15:00  260.0\n...                    ...\n2015-12-31 23:00:00  204.0\n2015-12-31 23:15:00  220.0\n2015-12-31 23:30:00  206.0\n2015-12-31 23:45:00  224.0\n2015-12-31 00:00:00  208.0\n\n[35044 rows x 1 columns]",
      "text/html": "<div>\n<style scoped>\n    .dataframe tbody tr th:only-of-type {\n        vertical-align: middle;\n    }\n\n    .dataframe tbody tr th {\n        vertical-align: top;\n    }\n\n    .dataframe thead th {\n        text-align: right;\n    }\n</style>\n<table border=\"1\" class=\"dataframe\">\n  <thead>\n    <tr style=\"text-align: right;\">\n      <th></th>\n      <th>Wert</th>\n    </tr>\n    <tr>\n      <th>datetime</th>\n      <th></th>\n    </tr>\n  </thead>\n  <tbody>\n    <tr>\n      <th>2015-01-01 00:15:00</th>\n      <td>278.0</td>\n    </tr>\n    <tr>\n      <th>2015-01-01 00:30:00</th>\n      <td>258.0</td>\n    </tr>\n    <tr>\n      <th>2015-01-01 00:45:00</th>\n      <td>278.0</td>\n    </tr>\n    <tr>\n      <th>2015-01-01 01:00:00</th>\n      <td>268.0</td>\n    </tr>\n    <tr>\n      <th>2015-01-01 01:15:00</th>\n      <td>260.0</td>\n    </tr>\n    <tr>\n      <th>...</th>\n      <td>...</td>\n    </tr>\n    <tr>\n      <th>2015-12-31 23:00:00</th>\n      <td>204.0</td>\n    </tr>\n    <tr>\n      <th>2015-12-31 23:15:00</th>\n      <td>220.0</td>\n    </tr>\n    <tr>\n      <th>2015-12-31 23:30:00</th>\n      <td>206.0</td>\n    </tr>\n    <tr>\n      <th>2015-12-31 23:45:00</th>\n      <td>224.0</td>\n    </tr>\n    <tr>\n      <th>2015-12-31 00:00:00</th>\n      <td>208.0</td>\n    </tr>\n  </tbody>\n</table>\n<p>35044 rows × 1 columns</p>\n</div>"
     },
     "metadata": {}
    }
   ],
   "id": "3a2ce07f-f1fa-42b0-ab83-e8d1616c95e1"
  },
  {
   "cell_type": "code",
   "source": [
    "hourly_df=ts_df.resample('60min', origin='2015-01-01').sum()\n",
    "hourly_df"
   ],
   "metadata": {
    "trusted": true,
    "tags": []
   },
   "execution_count": 49,
   "outputs": [
    {
     "execution_count": 49,
     "output_type": "execute_result",
     "data": {
      "text/plain": "                       Wert\ndatetime                   \n2015-01-01 00:00:00  1086.0\n2015-01-01 01:00:00  1066.0\n2015-01-01 02:00:00  1054.0\n2015-01-01 03:00:00  1066.0\n2015-01-01 04:00:00  1076.0\n...                     ...\n2015-12-31 19:00:00   950.0\n2015-12-31 20:00:00   864.0\n2015-12-31 21:00:00   866.0\n2015-12-31 22:00:00   850.0\n2015-12-31 23:00:00   854.0\n\n[8760 rows x 1 columns]",
      "text/html": "<div>\n<style scoped>\n    .dataframe tbody tr th:only-of-type {\n        vertical-align: middle;\n    }\n\n    .dataframe tbody tr th {\n        vertical-align: top;\n    }\n\n    .dataframe thead th {\n        text-align: right;\n    }\n</style>\n<table border=\"1\" class=\"dataframe\">\n  <thead>\n    <tr style=\"text-align: right;\">\n      <th></th>\n      <th>Wert</th>\n    </tr>\n    <tr>\n      <th>datetime</th>\n      <th></th>\n    </tr>\n  </thead>\n  <tbody>\n    <tr>\n      <th>2015-01-01 00:00:00</th>\n      <td>1086.0</td>\n    </tr>\n    <tr>\n      <th>2015-01-01 01:00:00</th>\n      <td>1066.0</td>\n    </tr>\n    <tr>\n      <th>2015-01-01 02:00:00</th>\n      <td>1054.0</td>\n    </tr>\n    <tr>\n      <th>2015-01-01 03:00:00</th>\n      <td>1066.0</td>\n    </tr>\n    <tr>\n      <th>2015-01-01 04:00:00</th>\n      <td>1076.0</td>\n    </tr>\n    <tr>\n      <th>...</th>\n      <td>...</td>\n    </tr>\n    <tr>\n      <th>2015-12-31 19:00:00</th>\n      <td>950.0</td>\n    </tr>\n    <tr>\n      <th>2015-12-31 20:00:00</th>\n      <td>864.0</td>\n    </tr>\n    <tr>\n      <th>2015-12-31 21:00:00</th>\n      <td>866.0</td>\n    </tr>\n    <tr>\n      <th>2015-12-31 22:00:00</th>\n      <td>850.0</td>\n    </tr>\n    <tr>\n      <th>2015-12-31 23:00:00</th>\n      <td>854.0</td>\n    </tr>\n  </tbody>\n</table>\n<p>8760 rows × 1 columns</p>\n</div>"
     },
     "metadata": {}
    }
   ],
   "id": "de1eb4b4-56c8-4ab1-93d1-e814f2502286"
  },
  {
   "cell_type": "markdown",
   "source": [
    "##### b) [1P] Stellen Sie die Ergebnisse in einem Diagramm dar. (x-Achse = DatetimeIndex, y-Achse = Messwert in kW)"
   ],
   "metadata": {},
   "id": "e38e4151-66a6-4f20-9c82-f2da23b8226a"
  },
  {
   "cell_type": "code",
   "source": [
    "hourly_df.plot()"
   ],
   "metadata": {
    "trusted": true,
    "tags": []
   },
   "execution_count": 60,
   "outputs": [
    {
     "execution_count": 60,
     "output_type": "execute_result",
     "data": {
      "text/plain": "<Axes: xlabel='datetime'>"
     },
     "metadata": {}
    },
    {
     "output_type": "display_data",
     "data": {
      "text/plain": "<Figure size 640x480 with 1 Axes>",
      "image/png": "[encoded data removed]"
     },
     "metadata": {}
    }
   ],
   "id": "440ecc56-453f-4b3c-8c10-ae09960d354c"
  },
  {
   "cell_type": "markdown",
   "source": [
    "##### c) [1P] Wandeln Sie nun die vorher erzeugten Stundenwerte in Tageswerte um. Verwenden Sie dabei das Maximum."
   ],
   "metadata": {},
   "id": "0e7a4726-13f9-45e1-9884-ffc9c47a64a3"
  },
  {
   "cell_type": "code",
   "source": [
    "hourly_df=ts_df.resample('24H', origin='2015-01-01').sum()\n",
    "hourly_df"
   ],
   "metadata": {
    "trusted": true,
    "tags": []
   },
   "execution_count": 61,
   "outputs": [
    {
     "execution_count": 61,
     "output_type": "execute_result",
     "data": {
      "text/plain": "               Wert\ndatetime           \n2015-01-01  29556.0\n2015-01-02  24972.0\n2015-01-03  25342.0\n2015-01-04  38492.0\n2015-01-05  31162.0\n...             ...\n2015-12-27  24716.0\n2015-12-28  29774.0\n2015-12-29  26476.0\n2015-12-30  26264.0\n2015-12-31  24632.0\n\n[365 rows x 1 columns]",
      "text/html": "<div>\n<style scoped>\n    .dataframe tbody tr th:only-of-type {\n        vertical-align: middle;\n    }\n\n    .dataframe tbody tr th {\n        vertical-align: top;\n    }\n\n    .dataframe thead th {\n        text-align: right;\n    }\n</style>\n<table border=\"1\" class=\"dataframe\">\n  <thead>\n    <tr style=\"text-align: right;\">\n      <th></th>\n      <th>Wert</th>\n    </tr>\n    <tr>\n      <th>datetime</th>\n      <th></th>\n    </tr>\n  </thead>\n  <tbody>\n    <tr>\n      <th>2015-01-01</th>\n      <td>29556.0</td>\n    </tr>\n    <tr>\n      <th>2015-01-02</th>\n      <td>24972.0</td>\n    </tr>\n    <tr>\n      <th>2015-01-03</th>\n      <td>25342.0</td>\n    </tr>\n    <tr>\n      <th>2015-01-04</th>\n      <td>38492.0</td>\n    </tr>\n    <tr>\n      <th>2015-01-05</th>\n      <td>31162.0</td>\n    </tr>\n    <tr>\n      <th>...</th>\n      <td>...</td>\n    </tr>\n    <tr>\n      <th>2015-12-27</th>\n      <td>24716.0</td>\n    </tr>\n    <tr>\n      <th>2015-12-28</th>\n      <td>29774.0</td>\n    </tr>\n    <tr>\n      <th>2015-12-29</th>\n      <td>26476.0</td>\n    </tr>\n    <tr>\n      <th>2015-12-30</th>\n      <td>26264.0</td>\n    </tr>\n    <tr>\n      <th>2015-12-31</th>\n      <td>24632.0</td>\n    </tr>\n  </tbody>\n</table>\n<p>365 rows × 1 columns</p>\n</div>"
     },
     "metadata": {}
    }
   ],
   "id": "6f0235db-4076-4edd-8d41-e0abf04b179b"
  },
  {
   "cell_type": "code",
   "source": [
    "hourly_df.max()"
   ],
   "metadata": {
    "trusted": true,
    "tags": []
   },
   "execution_count": 69,
   "outputs": [
    {
     "execution_count": 69,
     "output_type": "execute_result",
     "data": {
      "text/plain": "Wert    56260.0\ndtype: float64"
     },
     "metadata": {}
    }
   ],
   "id": "5abbe665-05b7-4db1-b92e-3114bd72417a"
  },
  {
   "cell_type": "markdown",
   "source": [
    "##### d) [1P] Stellen Sie nun auch die maximalen Tageswerte in einem Diagramm dar."
   ],
   "metadata": {},
   "id": "f9c6d14f-e0a2-4856-930d-5131dd565ea9"
  },
  {
   "cell_type": "code",
   "source": [],
   "metadata": {},
   "execution_count": null,
   "outputs": [],
   "id": "0703b3cc-22a5-4919-8321-fcfe70eec341"
  },
  {
   "cell_type": "markdown",
   "source": [
    "#### Aufgabe 3: Geodaten und Koordinatensysteme [4P]"
   ],
   "metadata": {},
   "id": "74119150-6ecf-4e09-b884-fd3d8cfae326"
  },
  {
   "cell_type": "markdown",
   "source": [
    "##### Laden Sie nun den Geodatensatz mit den NUTS-Regionen Europas ('NUTS_RG_01M_2016_3035_LEVL_3.geojson' im 'input' Ordner)"
   ],
   "metadata": {
    "tags": []
   },
   "id": "070af873-de81-4e9a-a9a8-6d3952d91398"
  },
  {
   "cell_type": "code",
   "source": [
    "# Datenimport - bitte nicht abwandeln\n",
    "gdf = gpd.read_file('input/NUTS_RG_01M_2016_3035_LEVL_3.geojson')"
   ],
   "metadata": {
    "trusted": true,
    "tags": []
   },
   "execution_count": 68,
   "outputs": [],
   "id": "4ae09e4f-7bc1-42e4-8233-694612ba837a"
  },
  {
   "cell_type": "markdown",
   "source": [
    "##### a) [1P] In welchem Korrdinatensystem liegen die Daten vor?"
   ],
   "metadata": {},
   "id": "113e8771-1e84-43e6-9204-c5e4ab103fda"
  },
  {
   "cell_type": "code",
   "source": [
    "gdf.crs"
   ],
   "metadata": {
    "trusted": true,
    "tags": []
   },
   "execution_count": 70,
   "outputs": [
    {
     "execution_count": 70,
     "output_type": "execute_result",
     "data": {
      "text/plain": "<Projected CRS: EPSG:3035>\nName: ETRS89-extended / LAEA Europe\nAxis Info [cartesian]:\n- Y[north]: Northing (metre)\n- X[east]: Easting (metre)\nArea of Use:\n- name: Europe - European Union (EU) countries and candidates. Europe - onshore and offshore: Albania; Andorra; Austria; Belgium; Bosnia and Herzegovina; Bulgaria; Croatia; Cyprus; Czechia; Denmark; Estonia; Faroe Islands; Finland; France; Germany; Gibraltar; Greece; Hungary; Iceland; Ireland; Italy; Kosovo; Latvia; Liechtenstein; Lithuania; Luxembourg; Malta; Monaco; Montenegro; Netherlands; North Macedonia; Norway including Svalbard and Jan Mayen; Poland; Portugal including Madeira and Azores; Romania; San Marino; Serbia; Slovakia; Slovenia; Spain including Canary Islands; Sweden; Switzerland; Türkiye (Turkey); United Kingdom (UK) including Channel Islands and Isle of Man; Vatican City State.\n- bounds: (-35.58, 24.6, 44.83, 84.73)\nCoordinate Operation:\n- name: Europe Equal Area 2001\n- method: Lambert Azimuthal Equal Area\nDatum: European Terrestrial Reference System 1989 ensemble\n- Ellipsoid: GRS 1980\n- Prime Meridian: Greenwich"
     },
     "metadata": {}
    }
   ],
   "id": "3f85f323-070c-4d9a-88a1-b4c6d2eee1a5"
  },
  {
   "cell_type": "markdown",
   "source": [
    "##### b) [1P] Wandeln Sie die Koordinaten in Längen- und Breitengrade um (EPSG:4326) und speichern Sie das Ergebnis in einer Variable. "
   ],
   "metadata": {},
   "id": "8f37a76f-c358-4133-ade7-11924a23875f"
  },
  {
   "cell_type": "code",
   "source": [
    "gdf= gdf.to_crs(4326 , inplace= True).crs"
   ],
   "metadata": {
    "trusted": true,
    "tags": []
   },
   "execution_count": 89,
   "outputs": [
    {
     "traceback": [
      "\u001B[0;31m---------------------------------------------------------------------------\u001B[0m",
      "\u001B[0;31mAttributeError\u001B[0m                            Traceback (most recent call last)",
      "Cell \u001B[0;32mIn[89], line 1\u001B[0m\n\u001B[0;32m----> 1\u001B[0m gdf\u001B[38;5;241m=\u001B[39m \u001B[43mgdf\u001B[49m\u001B[38;5;241;43m.\u001B[39;49m\u001B[43mto_crs\u001B[49m(\u001B[38;5;241m4326\u001B[39m , inplace\u001B[38;5;241m=\u001B[39m \u001B[38;5;28;01mTrue\u001B[39;00m)\u001B[38;5;241m.\u001B[39mcrs\n",
      "\u001B[0;31mAttributeError\u001B[0m: 'NoneType' object has no attribute 'to_crs'"
     ],
     "ename": "AttributeError",
     "evalue": "'NoneType' object has no attribute 'to_crs'",
     "output_type": "error"
    }
   ],
   "id": "24552041-c2a2-4053-be6a-66e2e2391115"
  },
  {
   "cell_type": "markdown",
   "source": [
    "##### c) [1P] Filtern Sie die Daten nach Italien und Österreich (IT, AT)"
   ],
   "metadata": {},
   "id": "80752de6-c397-4469-8703-88afc6d16e9e"
  },
  {
   "cell_type": "code",
   "source": [],
   "metadata": {},
   "execution_count": null,
   "outputs": [],
   "id": "216e1e89-2947-4396-8072-3cf0fd832274"
  },
  {
   "cell_type": "markdown",
   "source": [
    "##### d) [1P] Zeigen Sie die Geodaten für die beiden Länder als Karte an. "
   ],
   "metadata": {
    "tags": []
   },
   "id": "b885d08b-c856-4c4b-9ead-9e7972feb980"
  },
  {
   "cell_type": "code",
   "source": [],
   "metadata": {},
   "execution_count": null,
   "outputs": [],
   "id": "1ab73c14-2ecc-4028-a0ac-cdf4d5c8edf2"
  },
  {
   "cell_type": "markdown",
   "source": [
    "### Bitte nutzen Sie den Binder Download Button oben um das Jupyter Notebook (.ipynb Datei) zu speichern und laden Sie es anschließend bei ISIS hoch"
   ],
   "metadata": {},
   "id": "0ef61c52-38c9-4601-916e-e0c9f7fd4583"
  }
 ]
}
