{
 "metadata": {
  "kernelspec": {
   "display_name": "Python 3 (ipykernel)",
   "language": "python",
   "name": "python3"
  },
  "language_info": {
   "name": "python",
   "version": "3.10.12",
   "mimetype": "text/x-python",
   "codemirror_mode": {
    "name": "ipython",
    "version": 3
   },
   "pygments_lexer": "ipython3",
   "nbconvert_exporter": "python",
   "file_extension": ".py"
  }
 },
 "nbformat_minor": 5,
 "nbformat": 4,
 "cells": [
  {
   "cell_type": "markdown",
   "source": [
    "# ER-SAM Test vom 15.12.2023"
   ],
   "metadata": {},
   "id": "534d85bb-06da-413e-8cd4-555c1b47fb1c"
  },
  {
   "cell_type": "markdown",
   "source": [
    "#### Bitte schreiben Sie Ihren Namen und Ihre Matrikelnummer in die folgende Zelle:"
   ],
   "metadata": {},
   "id": "1d973bc8-d3d9-43f7-9ff5-61d732490d62"
  },
  {
   "cell_type": "code",
   "source": [
    "# Name: Lisa Nitsche\n",
    "# Matriculation number: 401359"
   ],
   "metadata": {},
   "execution_count": 1,
   "outputs": [],
   "id": "e70a1169-7be7-409f-83ca-f99a042220bd"
  },
  {
   "cell_type": "markdown",
   "source": [
    "#### Durchführung\n",
    "Der Python-Teil des Tests beinhaltet 20 Punkte.\n",
    "\n",
    "Sie erhalten zusätzlich Zeit, um die Excel und Python Aufgaben herunterzuladen, zu öffnen und schließlich wieder bei ISIS hochzuladen. \n",
    "\n",
    "Bitte bearbeiten Sie alle Aufgaben in den dafür vorgesehenen Zellen bzw. fügen Sie wenn nötig zusätzliche Zellen an den entsprechenden Stellen ein. Lassen Sie die Aufgabenstellungen bitte so stehen wie sie sind. \n",
    "\n",
    "In Python und Pandas gibt es häufig unterschiedliche Wege eine Aufgabe zu lösen. Sie sind daher in der Wahl des Lösungswegs frei. \n",
    "\n",
    "Nachdem Sie alle Fragen beantwortet haben, vergewissern Sie sich bitte, dass alle Outputs sichtbar sind bzw. alle Zellen ausgeführt wurden. Dann nutzen Sie bitte den Download Button oben um das Notebook herunterzuladen und laden Sie die .ipynb Datei so wie sie ist auf ISIS hoch. Danach würden wir Sie bitten die Datei von Ihren privaten PCs zu löschen. \n",
    "\n",
    "Viel Erfolg!"
   ],
   "metadata": {},
   "id": "50c3ebe3-8c08-4059-9249-f8de4b7c3819"
  },
  {
   "cell_type": "code",
   "source": [
    "# Gegebenenfalls müssen Sie noch pandas etc. installieren... \n",
    "# !pip install pandas\n",
    "# !pip install geopandas\n",
    "# !pip install matplotlib\n",
    "# !pip install openpyxl\n",
    "# Importieren Sie pandas und matplotlib\n",
    "import pandas as pd\n",
    "import geopandas as gpd\n",
    "import matplotlib.pyplot as plt"
   ],
   "metadata": {
    "tags": [],
    "scrolled": true,
    "trusted": true
   },
   "execution_count": 1,
   "outputs": [],
   "id": "2ed64f0b-e8bf-476c-af6a-d2730c6c5b80"
  },
  {
   "cell_type": "markdown",
   "source": [
    "### Aufgabe 1: Relevante Daten aus einem Datensatz auslesen und darstellen. [12P]"
   ],
   "metadata": {},
   "id": "5de44db6-dbe3-4f7f-b663-f7b198aae78a"
  },
  {
   "cell_type": "markdown",
   "source": [
    "##### Laden Sie das \"Anlagenregister\" (\"2018_09_Veroeff_RegDaten.csv\" im \"input\" Ordner) in einen Pandas Dataframe"
   ],
   "metadata": {},
   "id": "98ea2174-ed77-41ab-9edb-b26ad3e730bc"
  },
  {
   "cell_type": "code",
   "source": [
    "# Datenimport - nicht abwandeln\n",
    "df = pd.read_excel('input/2018_11_Veroeff_RegDaten.xlsx')"
   ],
   "metadata": {
    "trusted": true,
    "tags": []
   },
   "execution_count": 2,
   "outputs": [],
   "id": "234091b6-6ded-4737-9e25-300b7c6c4e52"
  },
  {
   "cell_type": "markdown",
   "source": [
    "##### a) [3P] Ermitteln Sie die Summe, den Mittelwert und das Maximum der installierten Leistung für jeden Energieträger.\n",
    "Spalten: '4.1 Energieträger', '4.2 Installierte Leistung [kW]'"
   ],
   "metadata": {
    "tags": []
   },
   "id": "a07f807f-e125-4585-8c75-10fd77e04e54"
  },
  {
   "cell_type": "code",
   "source": [
    "# Summe\n",
    "df.groupby('4.1 Energieträger')['4.2 Installierte Leistung [kW]'].sum()"
   ],
   "metadata": {
    "trusted": true,
    "tags": []
   },
   "execution_count": 4,
   "outputs": [
    {
     "execution_count": 4,
     "output_type": "execute_result",
     "data": {
      "text/plain": "4.1 Energieträger\nBiomasse         3.326356e+06\nDeponiegas       2.302803e+04\nFreifläche PV    1.879727e+06\nGeothermie       1.333950e+04\nGrubengas        6.015300e+04\nKlärgas          4.997480e+04\nSpeicher         1.037178e+04\nWasserkraft      2.746664e+05\nWind Land        3.084679e+07\nWind See         6.339068e+06\nName: 4.2 Installierte Leistung [kW], dtype: float64"
     },
     "metadata": {}
    }
   ],
   "id": "eeb5beb3-308f-4e54-9ca6-0a3cb5010d42"
  },
  {
   "cell_type": "code",
   "source": [
    "# Mittelwert\n",
    "df.groupby('4.1 Energieträger')['4.2 Installierte Leistung [kW]'].mean()"
   ],
   "metadata": {
    "trusted": true,
    "tags": []
   },
   "execution_count": 5,
   "outputs": [
    {
     "execution_count": 5,
     "output_type": "execute_result",
     "data": {
      "text/plain": "4.1 Energieträger\nBiomasse          662.225049\nDeponiegas        479.750583\nFreifläche PV    2195.942894\nGeothermie       3334.875000\nGrubengas        2615.347826\nKlärgas           434.563478\nSpeicher            6.568576\nWasserkraft       233.559905\nWind Land        2509.296905\nWind See         4999.264984\nName: 4.2 Installierte Leistung [kW], dtype: float64"
     },
     "metadata": {}
    }
   ],
   "id": "98d66c10-da44-4167-952b-d89e8b81132b"
  },
  {
   "cell_type": "code",
   "source": [
    "# Maximum\n",
    "df.groupby('4.1 Energieträger')['4.2 Installierte Leistung [kW]'].max()"
   ],
   "metadata": {
    "trusted": true,
    "tags": []
   },
   "execution_count": 6,
   "outputs": [
    {
     "execution_count": 6,
     "output_type": "execute_result",
     "data": {
      "text/plain": "4.1 Energieträger\nBiomasse         22000.0\nDeponiegas        3463.0\nFreifläche PV    10000.0\nGeothermie        5500.0\nGrubengas         6790.0\nKlärgas           8877.0\nSpeicher           120.0\nWasserkraft      12600.0\nWind Land         8000.0\nWind See          8300.0\nName: 4.2 Installierte Leistung [kW], dtype: float64"
     },
     "metadata": {}
    }
   ],
   "id": "5c289723-7117-45a0-841e-786747cbda67"
  },
  {
   "cell_type": "markdown",
   "source": [
    "##### b) [3P] Ermitteln Sie die Summe, den Mittelwert und das Maximum der installierten Leistung für jedes Bundesland.\n",
    "Spalten: '4.11 Bundesland', '4.2 Installierte Leistung [kW]'"
   ],
   "metadata": {},
   "id": "8399612a-023f-4fda-84cd-3f816ba04822"
  },
  {
   "cell_type": "code",
   "source": [
    "# Summe\n",
    "df.groupby('4.11 Bundesland')['4.2 Installierte Leistung [kW]'].sum()"
   ],
   "metadata": {
    "trusted": true,
    "tags": []
   },
   "execution_count": 7,
   "outputs": [
    {
     "execution_count": 7,
     "output_type": "execute_result",
     "data": {
      "text/plain": "4.11 Bundesland\nAusschließliche Wirtschaftszone (Wind See)    6125298.000\nBaden-Württemberg                             1699925.706\nBayern                                        3321343.051\nBerlin                                          13922.255\nBrandenburg                                   3968717.880\nBremen                                         120525.540\nHamburg                                         97050.000\nHessen                                        1814921.620\nMecklenburg-Vorpommern                        2304371.420\nNiedersachsen                                 7363749.263\nNordrhein-Westfalen                           3919106.164\nRheinland-Pfalz                               2572833.425\nSaarland                                       385242.615\nSachsen                                        619434.470\nSachsen-Anhalt                                2272294.510\nSchleswig-Holstein                            5105215.010\nThüringen                                     1066390.021\nName: 4.2 Installierte Leistung [kW], dtype: float64"
     },
     "metadata": {}
    }
   ],
   "id": "da60f9c7-7700-4e9c-b7ab-6815b2a55b4f"
  },
  {
   "cell_type": "code",
   "source": [
    "# Mittelwert\n",
    "df.groupby('4.11 Bundesland')['4.2 Installierte Leistung [kW]'].mean()"
   ],
   "metadata": {
    "trusted": true,
    "tags": []
   },
   "execution_count": 8,
   "outputs": [
    {
     "execution_count": 8,
     "output_type": "execute_result",
     "data": {
      "text/plain": "4.11 Bundesland\nAusschließliche Wirtschaftszone (Wind See)    5004.328431\nBaden-Württemberg                             1071.832097\nBayern                                        1041.173370\nBerlin                                         272.985392\nBrandenburg                                   2318.176332\nBremen                                        2739.216818\nHamburg                                       1427.205882\nHessen                                        1753.547459\nMecklenburg-Vorpommern                        2281.555861\nNiedersachsen                                 1860.002340\nNordrhein-Westfalen                           1584.117285\nRheinland-Pfalz                               2152.998682\nSaarland                                      2334.803727\nSachsen                                       1219.359193\nSachsen-Anhalt                                2176.527308\nSchleswig-Holstein                            2001.260294\nThüringen                                     1894.120819\nName: 4.2 Installierte Leistung [kW], dtype: float64"
     },
     "metadata": {}
    }
   ],
   "id": "f0a45d2d-021d-4874-9582-6b36b68b12b8"
  },
  {
   "cell_type": "code",
   "source": [
    "# Maximum\n",
    "df.groupby('4.11 Bundesland')['4.2 Installierte Leistung [kW]'].max()"
   ],
   "metadata": {
    "trusted": true,
    "tags": []
   },
   "execution_count": 9,
   "outputs": [
    {
     "execution_count": 9,
     "output_type": "execute_result",
     "data": {
      "text/plain": "4.11 Bundesland\nAusschließliche Wirtschaftszone (Wind See)     8300.00\nBaden-Württemberg                              8100.00\nBayern                                        12600.00\nBerlin                                         3370.00\nBrandenburg                                   10000.00\nBremen                                         8000.00\nHamburg                                        3370.00\nHessen                                         6233.37\nMecklenburg-Vorpommern                         9999.51\nNiedersachsen                                 22000.00\nNordrhein-Westfalen                            9180.00\nRheinland-Pfalz                                9974.64\nSaarland                                       4998.60\nSachsen                                        9998.00\nSachsen-Anhalt                                20000.00\nSchleswig-Holstein                             9974.64\nThüringen                                      7250.10\nName: 4.2 Installierte Leistung [kW], dtype: float64"
     },
     "metadata": {}
    }
   ],
   "id": "7a469425-e8b7-443f-ba7b-9bb8bd6f024f"
  },
  {
   "cell_type": "markdown",
   "source": [
    "##### c) [6P] Ermitteln Sie den prozentualen Anteil der Fläche für PV-Anlagen, die auf Ackerland stehen. Unterscheiden Sie hierbei nach Bundesländern. Stellen Sie Ihre Ergebnisse (Anteil Ackerfläche PV / Fläche PV pro Bundesland) in einem Balkendiagramm dar (plot.bar()). \n",
    "Die folgenden Spalten sind für die Aufgabe relevant:\n",
    "- '9.2 Wie viel Fläche wird durch die PV-Freiflächenanlage in Anspruch genommen? [ha] '\n",
    "- '9.3 Wie viel der PV-Freifläche ist davon Ackerland? [ha] '\n",
    "- '4.11 Bundesland'"
   ],
   "metadata": {
    "tags": []
   },
   "id": "3934fc2b-81db-43d2-b2fd-970c70491ab3"
  },
  {
   "cell_type": "code",
   "source": [
    "# PV-Fläche pro Bundesland \n",
    "df.groupby('4.11 Bundesland')['9.2 Wie viel Fläche wird durch die PV-Freiflächenanlage in Anspruch genommen? [ha] ']"
   ],
   "metadata": {
    "trusted": true,
    "tags": []
   },
   "execution_count": 30,
   "outputs": [
    {
     "execution_count": 30,
     "output_type": "execute_result",
     "data": {
      "text/plain": "<pandas.core.groupby.generic.SeriesGroupBy object at 0x7f2d0d7be770>"
     },
     "metadata": {}
    }
   ],
   "id": "fedac823-ac69-4a34-8443-86bdedda3368"
  },
  {
   "cell_type": "code",
   "source": [
    "# PV-Ackerland pro Bundesland \n",
    "df.groupby('4.11 Bundesland')['9.3 Wie viel der PV-Freifläche ist davon Ackerland? [ha] ']"
   ],
   "metadata": {
    "trusted": true,
    "tags": []
   },
   "execution_count": 32,
   "outputs": [
    {
     "execution_count": 32,
     "output_type": "execute_result",
     "data": {
      "text/plain": "<pandas.core.groupby.generic.SeriesGroupBy object at 0x7f2d0d7be830>"
     },
     "metadata": {}
    }
   ],
   "id": "2cbee9c7-1250-4dda-a33b-7de195cbf917"
  },
  {
   "cell_type": "code",
   "source": [
    "# prozentualer Anteil\n",
    "df_anteilacker = "
   ],
   "metadata": {},
   "execution_count": 12,
   "outputs": [],
   "id": "9747f6e8-7b29-452c-8c3f-bde388d6b69e"
  },
  {
   "cell_type": "code",
   "source": [
    "# Balkendiagramm\n",
    "df_anteilacker.plot.bar()"
   ],
   "metadata": {},
   "execution_count": 13,
   "outputs": [],
   "id": "47431bfa-e6ee-4a72-a054-5448132a6509"
  },
  {
   "cell_type": "markdown",
   "source": [
    "### Aufgabe 2: Zeitreihendaten umwandeln und darstellen. [4P]"
   ],
   "metadata": {},
   "id": "3a7abf67-e1e8-47e2-8147-d62fe7f75c25"
  },
  {
   "cell_type": "markdown",
   "source": [
    "##### Laden Sie das Lastprofil (\"Messwertexport_2015.csv\" im 'input' Ordner) in einen Pandas Dataframe. Nutzen Sie dafür den vorgegebenen Code."
   ],
   "metadata": {
    "tags": []
   },
   "id": "5135c7b1-df6b-4c2f-807e-185b875783eb"
  },
  {
   "cell_type": "code",
   "source": [
    "# Datenimport - nicht abwandeln\n",
    "ts_df = pd.read_csv('input/Messwertexport_2015.csv', sep=';', \n",
    "                      decimal=',',parse_dates={'datetime':['[kW]','Attribut']})\n",
    "ts_df.set_index(pd.DatetimeIndex(ts_df.datetime), inplace=True)\n",
    "ts_df.drop(columns=['datetime'], inplace=True)"
   ],
   "metadata": {
    "trusted": true,
    "tags": []
   },
   "execution_count": 10,
   "outputs": [],
   "id": "5e10b4c9-2ccd-4357-bb53-25d6e1baa816"
  },
  {
   "cell_type": "markdown",
   "source": [
    "##### a) [1P] Die Daten liegen in viertelstündlichen Werten vor. Wandeln Sie sie in stündliche Werte mithilfe der resample Funktion um, wobei Sie die Werte aufsummieren. Speichern sie die neue Zeitreihe in einer Variable."
   ],
   "metadata": {},
   "id": "f36e5259-18e6-4081-9b2d-068c43a05c28"
  },
  {
   "cell_type": "code",
   "source": [
    "ts_df_std = ts_df.resample('H')"
   ],
   "metadata": {
    "trusted": true,
    "tags": []
   },
   "execution_count": 12,
   "outputs": [],
   "id": "3a2ce07f-f1fa-42b0-ab83-e8d1616c95e1"
  },
  {
   "cell_type": "markdown",
   "source": [
    "##### b) [1P] Stellen Sie die Ergebnisse in einem Diagramm dar. (x-Achse = DatetimeIndex, y-Achse = Messwert in kW)"
   ],
   "metadata": {},
   "id": "e38e4151-66a6-4f20-9c82-f2da23b8226a"
  },
  {
   "cell_type": "code",
   "source": [
    "ts_df_std.plot.bar(ylabel='Messwert in kW', xlabel='DatetimeIndex')"
   ],
   "metadata": {
    "trusted": true,
    "tags": []
   },
   "execution_count": 13,
   "outputs": [
    {
     "traceback": [
      "\u001B[0;31m---------------------------------------------------------------------------\u001B[0m",
      "\u001B[0;31mAttributeError\u001B[0m                            Traceback (most recent call last)",
      "Cell \u001B[0;32mIn[13], line 1\u001B[0m\n\u001B[0;32m----> 1\u001B[0m \u001B[43mts_df_std\u001B[49m\u001B[38;5;241;43m.\u001B[39;49m\u001B[43mplot\u001B[49m\u001B[38;5;241m.\u001B[39mbar(ylabel\u001B[38;5;241m=\u001B[39m\u001B[38;5;124m'\u001B[39m\u001B[38;5;124mMesswert in kW\u001B[39m\u001B[38;5;124m'\u001B[39m, xlabel\u001B[38;5;241m=\u001B[39m\u001B[38;5;124m'\u001B[39m\u001B[38;5;124mDatetimeIndex\u001B[39m\u001B[38;5;124m'\u001B[39m)\n",
      "File \u001B[0;32m/srv/conda/envs/notebook/lib/python3.10/site-packages/pandas/core/resample.py:204\u001B[0m, in \u001B[0;36mResampler.__getattr__\u001B[0;34m(self, attr)\u001B[0m\n\u001B[1;32m    201\u001B[0m \u001B[38;5;28;01mif\u001B[39;00m attr \u001B[38;5;129;01min\u001B[39;00m \u001B[38;5;28mself\u001B[39m\u001B[38;5;241m.\u001B[39mobj:\n\u001B[1;32m    202\u001B[0m     \u001B[38;5;28;01mreturn\u001B[39;00m \u001B[38;5;28mself\u001B[39m[attr]\n\u001B[0;32m--> 204\u001B[0m \u001B[38;5;28;01mreturn\u001B[39;00m \u001B[38;5;28;43mobject\u001B[39;49m\u001B[38;5;241;43m.\u001B[39;49m\u001B[38;5;21;43m__getattribute__\u001B[39;49m\u001B[43m(\u001B[49m\u001B[38;5;28;43mself\u001B[39;49m\u001B[43m,\u001B[49m\u001B[43m \u001B[49m\u001B[43mattr\u001B[49m\u001B[43m)\u001B[49m\n",
      "\u001B[0;31mAttributeError\u001B[0m: 'DatetimeIndexResampler' object has no attribute 'plot'"
     ],
     "ename": "AttributeError",
     "evalue": "'DatetimeIndexResampler' object has no attribute 'plot'",
     "output_type": "error"
    }
   ],
   "id": "440ecc56-453f-4b3c-8c10-ae09960d354c"
  },
  {
   "cell_type": "markdown",
   "source": [
    "##### c) [1P] Wandeln Sie nun die vorher erzeugten Stundenwerte in Tageswerte um. Verwenden Sie dabei das Maximum."
   ],
   "metadata": {},
   "id": "0e7a4726-13f9-45e1-9884-ffc9c47a64a3"
  },
  {
   "cell_type": "code",
   "source": [
    "ts_df_std.resample('D')"
   ],
   "metadata": {},
   "execution_count": null,
   "outputs": [],
   "id": "6f0235db-4076-4edd-8d41-e0abf04b179b"
  },
  {
   "cell_type": "markdown",
   "source": [
    "##### d) [1P] Stellen Sie nun auch die maximalen Tageswerte in einem Diagramm dar."
   ],
   "metadata": {},
   "id": "f9c6d14f-e0a2-4856-930d-5131dd565ea9"
  },
  {
   "cell_type": "code",
   "source": [
    "ts_df_std.resample('D').max.plot()"
   ],
   "metadata": {},
   "execution_count": null,
   "outputs": [],
   "id": "0703b3cc-22a5-4919-8321-fcfe70eec341"
  },
  {
   "cell_type": "markdown",
   "source": [
    "#### Aufgabe 3: Geodaten und Koordinatensysteme [4P]"
   ],
   "metadata": {},
   "id": "74119150-6ecf-4e09-b884-fd3d8cfae326"
  },
  {
   "cell_type": "markdown",
   "source": [
    "##### Laden Sie nun den Geodatensatz mit den NUTS-Regionen Europas ('NUTS_RG_01M_2016_3035_LEVL_3.geojson' im 'input' Ordner)"
   ],
   "metadata": {
    "tags": []
   },
   "id": "070af873-de81-4e9a-a9a8-6d3952d91398"
  },
  {
   "cell_type": "code",
   "source": [
    "# Datenimport - bitte nicht abwandeln\n",
    "gdf = gpd.read_file('input/NUTS_RG_01M_2016_3035_LEVL_3.geojson')"
   ],
   "metadata": {
    "trusted": true,
    "tags": []
   },
   "execution_count": 15,
   "outputs": [],
   "id": "4ae09e4f-7bc1-42e4-8233-694612ba837a"
  },
  {
   "cell_type": "markdown",
   "source": [
    "##### a) [1P] In welchem Korrdinatensystem liegen die Daten vor?"
   ],
   "metadata": {},
   "id": "113e8771-1e84-43e6-9204-c5e4ab103fda"
  },
  {
   "cell_type": "code",
   "source": [
    "gdf.crs"
   ],
   "metadata": {
    "trusted": true,
    "tags": []
   },
   "execution_count": 16,
   "outputs": [
    {
     "execution_count": 16,
     "output_type": "execute_result",
     "data": {
      "text/plain": "<Projected CRS: EPSG:3035>\nName: ETRS89-extended / LAEA Europe\nAxis Info [cartesian]:\n- Y[north]: Northing (metre)\n- X[east]: Easting (metre)\nArea of Use:\n- name: Europe - European Union (EU) countries and candidates. Europe - onshore and offshore: Albania; Andorra; Austria; Belgium; Bosnia and Herzegovina; Bulgaria; Croatia; Cyprus; Czechia; Denmark; Estonia; Faroe Islands; Finland; France; Germany; Gibraltar; Greece; Hungary; Iceland; Ireland; Italy; Kosovo; Latvia; Liechtenstein; Lithuania; Luxembourg; Malta; Monaco; Montenegro; Netherlands; North Macedonia; Norway including Svalbard and Jan Mayen; Poland; Portugal including Madeira and Azores; Romania; San Marino; Serbia; Slovakia; Slovenia; Spain including Canary Islands; Sweden; Switzerland; Türkiye (Turkey); United Kingdom (UK) including Channel Islands and Isle of Man; Vatican City State.\n- bounds: (-35.58, 24.6, 44.83, 84.73)\nCoordinate Operation:\n- name: Europe Equal Area 2001\n- method: Lambert Azimuthal Equal Area\nDatum: European Terrestrial Reference System 1989 ensemble\n- Ellipsoid: GRS 1980\n- Prime Meridian: Greenwich"
     },
     "metadata": {}
    }
   ],
   "id": "3f85f323-070c-4d9a-88a1-b4c6d2eee1a5"
  },
  {
   "cell_type": "markdown",
   "source": [
    "##### b) [1P] Wandeln Sie die Koordinaten in Längen- und Breitengrade um (EPSG:4326) und speichern Sie das Ergebnis in einer Variable. "
   ],
   "metadata": {},
   "id": "8f37a76f-c358-4133-ade7-11924a23875f"
  },
  {
   "cell_type": "code",
   "source": [
    "gdf_neu = gdf.to_crs(4326).crs"
   ],
   "metadata": {
    "trusted": true,
    "tags": []
   },
   "execution_count": 17,
   "outputs": [],
   "id": "24552041-c2a2-4053-be6a-66e2e2391115"
  },
  {
   "cell_type": "markdown",
   "source": [
    "##### c) [1P] Filtern Sie die Daten nach Italien und Österreich (IT, AT)"
   ],
   "metadata": {},
   "id": "80752de6-c397-4469-8703-88afc6d16e9e"
  },
  {
   "cell_type": "code",
   "source": [
    "gdf"
   ],
   "metadata": {
    "trusted": true,
    "tags": []
   },
   "execution_count": 23,
   "outputs": [
    {
     "execution_count": 23,
     "output_type": "execute_result",
     "data": {
      "text/plain": "         id CNTR_CODE                    NUTS_NAME  LEVL_CODE    FID NUTS_ID  \\\n0     HR043        HR  Krapinsko-zagorska županija          3  HR043   HR043   \n1     AT314        AT              Steyr-Kirchdorf          3  AT314   AT314   \n2     AT315        AT                 Traunviertel          3  AT315   AT315   \n3     DE600        DE                      Hamburg          3  DE600   DE600   \n4     DE711        DE  Darmstadt, Kreisfreie Stadt          3  DE711   DE711   \n...     ...       ...                          ...        ...    ...     ...   \n1517  UKN16        UK          Fermanagh and Omagh          3  UKN16   UKN16   \n1518  UKJ44        UK                    East Kent          3  UKJ44   UKJ44   \n1519  UKJ45        UK                     Mid Kent          3  UKJ45   UKJ45   \n1520  UKL15        UK              Central Valleys          3  UKL15   UKL15   \n1521  UKK43        UK                     Devon CC          3  UKK43   UKK43   \n\n                                               geometry  \n0     POLYGON ((4804562.000 2571297.000, 4803972.000...  \n1     POLYGON ((4654777.000 2787028.000, 4653848.000...  \n2     POLYGON ((4600507.000 2785382.000, 4600808.000...  \n3     MULTIPOLYGON (((4317388.000 3393935.000, 43177...  \n4     POLYGON ((4229546.000 2983212.000, 4230168.000...  \n...                                                 ...  \n1517  POLYGON ((3242094.000 3646131.000, 3242086.000...  \n1518  POLYGON ((3679891.000 3130408.000, 3680192.000...  \n1519  POLYGON ((3668064.000 3177912.000, 3668350.000...  \n1520  POLYGON ((3406868.000 3270608.000, 3406592.000...  \n1521  MULTIPOLYGON (((3369157.000 3214448.000, 33681...  \n\n[1522 rows x 7 columns]",
      "text/html": "<div>\n<style scoped>\n    .dataframe tbody tr th:only-of-type {\n        vertical-align: middle;\n    }\n\n    .dataframe tbody tr th {\n        vertical-align: top;\n    }\n\n    .dataframe thead th {\n        text-align: right;\n    }\n</style>\n<table border=\"1\" class=\"dataframe\">\n  <thead>\n    <tr style=\"text-align: right;\">\n      <th></th>\n      <th>id</th>\n      <th>CNTR_CODE</th>\n      <th>NUTS_NAME</th>\n      <th>LEVL_CODE</th>\n      <th>FID</th>\n      <th>NUTS_ID</th>\n      <th>geometry</th>\n    </tr>\n  </thead>\n  <tbody>\n    <tr>\n      <th>0</th>\n      <td>HR043</td>\n      <td>HR</td>\n      <td>Krapinsko-zagorska županija</td>\n      <td>3</td>\n      <td>HR043</td>\n      <td>HR043</td>\n      <td>POLYGON ((4804562.000 2571297.000, 4803972.000...</td>\n    </tr>\n    <tr>\n      <th>1</th>\n      <td>AT314</td>\n      <td>AT</td>\n      <td>Steyr-Kirchdorf</td>\n      <td>3</td>\n      <td>AT314</td>\n      <td>AT314</td>\n      <td>POLYGON ((4654777.000 2787028.000, 4653848.000...</td>\n    </tr>\n    <tr>\n      <th>2</th>\n      <td>AT315</td>\n      <td>AT</td>\n      <td>Traunviertel</td>\n      <td>3</td>\n      <td>AT315</td>\n      <td>AT315</td>\n      <td>POLYGON ((4600507.000 2785382.000, 4600808.000...</td>\n    </tr>\n    <tr>\n      <th>3</th>\n      <td>DE600</td>\n      <td>DE</td>\n      <td>Hamburg</td>\n      <td>3</td>\n      <td>DE600</td>\n      <td>DE600</td>\n      <td>MULTIPOLYGON (((4317388.000 3393935.000, 43177...</td>\n    </tr>\n    <tr>\n      <th>4</th>\n      <td>DE711</td>\n      <td>DE</td>\n      <td>Darmstadt, Kreisfreie Stadt</td>\n      <td>3</td>\n      <td>DE711</td>\n      <td>DE711</td>\n      <td>POLYGON ((4229546.000 2983212.000, 4230168.000...</td>\n    </tr>\n    <tr>\n      <th>...</th>\n      <td>...</td>\n      <td>...</td>\n      <td>...</td>\n      <td>...</td>\n      <td>...</td>\n      <td>...</td>\n      <td>...</td>\n    </tr>\n    <tr>\n      <th>1517</th>\n      <td>UKN16</td>\n      <td>UK</td>\n      <td>Fermanagh and Omagh</td>\n      <td>3</td>\n      <td>UKN16</td>\n      <td>UKN16</td>\n      <td>POLYGON ((3242094.000 3646131.000, 3242086.000...</td>\n    </tr>\n    <tr>\n      <th>1518</th>\n      <td>UKJ44</td>\n      <td>UK</td>\n      <td>East Kent</td>\n      <td>3</td>\n      <td>UKJ44</td>\n      <td>UKJ44</td>\n      <td>POLYGON ((3679891.000 3130408.000, 3680192.000...</td>\n    </tr>\n    <tr>\n      <th>1519</th>\n      <td>UKJ45</td>\n      <td>UK</td>\n      <td>Mid Kent</td>\n      <td>3</td>\n      <td>UKJ45</td>\n      <td>UKJ45</td>\n      <td>POLYGON ((3668064.000 3177912.000, 3668350.000...</td>\n    </tr>\n    <tr>\n      <th>1520</th>\n      <td>UKL15</td>\n      <td>UK</td>\n      <td>Central Valleys</td>\n      <td>3</td>\n      <td>UKL15</td>\n      <td>UKL15</td>\n      <td>POLYGON ((3406868.000 3270608.000, 3406592.000...</td>\n    </tr>\n    <tr>\n      <th>1521</th>\n      <td>UKK43</td>\n      <td>UK</td>\n      <td>Devon CC</td>\n      <td>3</td>\n      <td>UKK43</td>\n      <td>UKK43</td>\n      <td>MULTIPOLYGON (((3369157.000 3214448.000, 33681...</td>\n    </tr>\n  </tbody>\n</table>\n<p>1522 rows × 7 columns</p>\n</div>"
     },
     "metadata": {}
    }
   ],
   "id": "e0644fef-9622-48b0-b2fb-a9b15e8a5bc9"
  },
  {
   "cell_type": "code",
   "source": [
    "gdf[gdf.CNTR_CODE == 'IT'] | gdf[gdf.CNTR_CODE == 'AT']"
   ],
   "metadata": {
    "trusted": true,
    "tags": []
   },
   "execution_count": 34,
   "outputs": [
    {
     "name": "stderr",
     "text": "/tmp/ipykernel_78/1240583692.py:1: FutureWarning: '|' operator will be deprecated. Use the 'union' method instead.\n  gdf[gdf.CNTR_CODE == 'IT'] | gdf[gdf.CNTR_CODE == 'AT']\n/srv/conda/envs/notebook/lib/python3.10/site-packages/geopandas/geodataframe.py:2089: UserWarning: The indices of the two GeoSeries are different.\n  return self.geometry.union(other)\n",
     "output_type": "stream"
    },
    {
     "execution_count": 34,
     "output_type": "execute_result",
     "data": {
      "text/plain": "1       None\n2       None\n26      None\n27      None\n28      None\n        ... \n1180    None\n1181    None\n1183    None\n1184    None\n1185    None\nLength: 145, dtype: geometry"
     },
     "metadata": {}
    }
   ],
   "id": "216e1e89-2947-4396-8072-3cf0fd832274"
  },
  {
   "cell_type": "markdown",
   "source": [
    "##### d) [1P] Zeigen Sie die Geodaten für die beiden Länder als Karte an. "
   ],
   "metadata": {
    "tags": []
   },
   "id": "b885d08b-c856-4c4b-9ead-9e7972feb980"
  },
  {
   "cell_type": "code",
   "source": [
    "gdf_IO = gdf[gdf.CNTR_CODE == 'IT'] | gdf[gdf.CNTR_CODE == 'AT']\n",
    "gdf_IO.plot.area()"
   ],
   "metadata": {
    "trusted": true,
    "tags": []
   },
   "execution_count": 25,
   "outputs": [
    {
     "name": "stderr",
     "text": "/tmp/ipykernel_78/2997217925.py:1: FutureWarning: '|' operator will be deprecated. Use the 'union' method instead.\n  gdf_IO = gdf[gdf.CNTR_CODE == 'IT'] | gdf[gdf.CNTR_CODE == 'AT']\n/srv/conda/envs/notebook/lib/python3.10/site-packages/geopandas/geodataframe.py:2089: UserWarning: The indices of the two GeoSeries are different.\n  return self.geometry.union(other)\n",
     "output_type": "stream"
    },
    {
     "traceback": [
      "\u001B[0;31m---------------------------------------------------------------------------\u001B[0m",
      "\u001B[0;31mAttributeError\u001B[0m                            Traceback (most recent call last)",
      "Cell \u001B[0;32mIn[25], line 2\u001B[0m\n\u001B[1;32m      1\u001B[0m gdf_IO \u001B[38;5;241m=\u001B[39m gdf[gdf\u001B[38;5;241m.\u001B[39mCNTR_CODE \u001B[38;5;241m==\u001B[39m \u001B[38;5;124m'\u001B[39m\u001B[38;5;124mIT\u001B[39m\u001B[38;5;124m'\u001B[39m] \u001B[38;5;241m|\u001B[39m gdf[gdf\u001B[38;5;241m.\u001B[39mCNTR_CODE \u001B[38;5;241m==\u001B[39m \u001B[38;5;124m'\u001B[39m\u001B[38;5;124mAT\u001B[39m\u001B[38;5;124m'\u001B[39m]\n\u001B[0;32m----> 2\u001B[0m \u001B[43mgdf_IO\u001B[49m\u001B[38;5;241;43m.\u001B[39;49m\u001B[43mplot\u001B[49m\u001B[38;5;241;43m.\u001B[39;49m\u001B[43marea\u001B[49m\n",
      "\u001B[0;31mAttributeError\u001B[0m: 'function' object has no attribute 'area'"
     ],
     "ename": "AttributeError",
     "evalue": "'function' object has no attribute 'area'",
     "output_type": "error"
    }
   ],
   "id": "1ab73c14-2ecc-4028-a0ac-cdf4d5c8edf2"
  },
  {
   "cell_type": "markdown",
   "source": [
    "### Bitte nutzen Sie den Binder Download Button oben um das Jupyter Notebook (.ipynb Datei) zu speichern und laden Sie es anschließend bei ISIS hoch"
   ],
   "metadata": {},
   "id": "0ef61c52-38c9-4601-916e-e0c9f7fd4583"
  }
 ]
}
